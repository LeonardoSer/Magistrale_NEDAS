{
  "nbformat": 4,
  "nbformat_minor": 0,
  "metadata": {
    "kernelspec": {
      "display_name": "Python 3",
      "language": "python",
      "name": "python3"
    },
    "language_info": {
      "codemirror_mode": {
        "name": "ipython",
        "version": 3
      },
      "file_extension": ".py",
      "mimetype": "text/x-python",
      "name": "python",
      "nbconvert_exporter": "python",
      "pygments_lexer": "ipython3",
      "version": "3.9.1"
    },
    "colab": {
      "name": "Set Covering-gurobi.ipynb",
      "provenance": [],
      "include_colab_link": true
    }
  },
  "cells": [
    {
      "cell_type": "markdown",
      "metadata": {
        "id": "view-in-github",
        "colab_type": "text"
      },
      "source": [
        "<a href=\"https://colab.research.google.com/github/hackazzo/Univ/blob/main/NetOpt/jupyter_notebooks/Set%20Covering-gurobi.ipynb\" target=\"_parent\"><img src=\"https://colab.research.google.com/assets/colab-badge.svg\" alt=\"Open In Colab\"/></a>"
      ]
    },
    {
      "cell_type": "markdown",
      "metadata": {
        "id": "P9WWzonruWCb"
      },
      "source": [
        "## Set Covering\n",
        "Quanti bar dobbiamo aprire e dove per coprire tutti gli edifici dell'università a coppito??"
      ]
    },
    {
      "cell_type": "code",
      "metadata": {
        "colab": {
          "base_uri": "https://localhost:8080/"
        },
        "id": "Wvg7VH8CuWCe",
        "outputId": "3bf63bdb-6fa7-486c-bf31-afa45ca5a933"
      },
      "source": [
        "## Modules to be installed \n",
        "!pip install -i https://pypi.gurobi.com gurobipy \n",
        "\n",
        "import networkx as nx\n",
        "import gurobipy as gb\n",
        "import matplotlib.pyplot as plt"
      ],
      "execution_count": 3,
      "outputs": [
        {
          "output_type": "stream",
          "text": [
            "Looking in indexes: https://pypi.gurobi.com\n",
            "Collecting gurobipy\n",
            "\u001b[?25l  Downloading https://pypi.gurobi.com/gurobipy/gurobipy-9.1.1-cp37-cp37m-manylinux1_x86_64.whl (11.1MB)\n",
            "\u001b[K     |████████████████████████████████| 11.1MB 2.7MB/s \n",
            "\u001b[?25hInstalling collected packages: gurobipy\n",
            "Successfully installed gurobipy-9.1.1\n"
          ],
          "name": "stdout"
        }
      ]
    },
    {
      "cell_type": "code",
      "metadata": {
        "colab": {
          "base_uri": "https://localhost:8080/",
          "height": 17
        },
        "id": "XaL-nbnIuWCe",
        "outputId": "47dc88bc-c187-4ec2-a8bd-6ad8cf8866f3"
      },
      "source": [
        "from IPython.core.display import display, HTML\n",
        "display(HTML(\"<style>.container { width:95% !important; }</style>\"))"
      ],
      "execution_count": 4,
      "outputs": [
        {
          "output_type": "display_data",
          "data": {
            "text/html": [
              "<style>.container { width:95% !important; }</style>"
            ],
            "text/plain": [
              "<IPython.core.display.HTML object>"
            ]
          },
          "metadata": {
            "tags": []
          }
        }
      ]
    },
    {
      "cell_type": "markdown",
      "metadata": {
        "id": "knptX1j2uWCh"
      },
      "source": [
        "## Campus map graph"
      ]
    },
    {
      "cell_type": "code",
      "metadata": {
        "id": "mE2mXDxguWCi",
        "outputId": "a7216c96-03a3-4b9d-fca0-51cc60bbc8fd"
      },
      "source": [
        "buildings = ['Delta6',\n",
        "             'Hospital',\n",
        "             'Block11A',\n",
        "             'Block11E',\n",
        "             'Coppito2',\n",
        "             'Coppito1',\n",
        "             'Block0',\n",
        "             'StudentCenter',\n",
        "             'Lab',\n",
        "             'ComputerCenter']\n",
        "\n",
        "G = nx.Graph() # creo il grafo\n",
        "\n",
        "G.add_nodes_from(buildings) # aggiungo i nodi\n",
        "\n",
        "# aggiungo gli archi\n",
        "G.add_edge('Delta6','Hospital')\n",
        "G.add_edge('Delta6','Block11A')\n",
        "G.add_edge('Block11A','Hospital')\n",
        "G.add_edge('Block11E','Hospital')\n",
        "G.add_edge('Block11E','Coppito2')\n",
        "G.add_edge('Coppito1','Coppito2')\n",
        "G.add_edge('StudentCenter','Coppito2')\n",
        "G.add_edge('Coppito1','StudentCenter')\n",
        "G.add_edge('StudentCenter','Lab')\n",
        "G.add_edge('StudentCenter','Block0')\n",
        "G.add_edge('Lab','ComputerCenter')\n",
        "G.add_edge('ComputerCenter','StudentCenter')\n",
        "G.add_edge('Coppito1','Block0')\n",
        "G.add_edge('Block0','Lab')\n",
        "G.add_edge('Lab','ComputerCenter')\n",
        "G.add_edge('ComputerCenter','Block0')\n",
        "\n",
        "print(\"#nodes \", G.number_of_nodes(), \"\\n\")\n",
        "print(G.nodes, \"\\n\")\n",
        "print(\"#edges \", G.number_of_edges(), \"\\n\")\n",
        "print(G.edges)"
      ],
      "execution_count": null,
      "outputs": [
        {
          "output_type": "stream",
          "text": [
            "#nodes  10 \n",
            "\n",
            "['Delta6', 'Hospital', 'Block11A', 'Block11E', 'Coppito2', 'Coppito1', 'Block0', 'StudentCenter', 'Lab', 'ComputerCenter'] \n",
            "\n",
            "#edges  15 \n",
            "\n",
            "[('Delta6', 'Hospital'), ('Delta6', 'Block11A'), ('Hospital', 'Block11A'), ('Hospital', 'Block11E'), ('Block11E', 'Coppito2'), ('Coppito2', 'Coppito1'), ('Coppito2', 'StudentCenter'), ('Coppito1', 'StudentCenter'), ('Coppito1', 'Block0'), ('Block0', 'StudentCenter'), ('Block0', 'Lab'), ('Block0', 'ComputerCenter'), ('StudentCenter', 'Lab'), ('StudentCenter', 'ComputerCenter'), ('Lab', 'ComputerCenter')]\n"
          ],
          "name": "stdout"
        }
      ]
    },
    {
      "cell_type": "code",
      "metadata": {
        "id": "hSTR5AqwuWCj"
      },
      "source": [
        "%matplotlib inline"
      ],
      "execution_count": null,
      "outputs": []
    },
    {
      "cell_type": "code",
      "metadata": {
        "id": "vFIM2hx-uWCk"
      },
      "source": [
        "pos = nx.spring_layout(G, k=1, seed=10) # tiene le posizioni dei nodi sul disegno"
      ],
      "execution_count": null,
      "outputs": []
    },
    {
      "cell_type": "code",
      "metadata": {
        "id": "2H_SBSMguWCk",
        "outputId": "2cf2041e-be51-4d2e-bf1f-7352e580ae98"
      },
      "source": [
        "pos"
      ],
      "execution_count": null,
      "outputs": [
        {
          "output_type": "execute_result",
          "data": {
            "text/plain": [
              "{'Delta6': array([-0.07509172, -1.        ]),\n",
              " 'Hospital': array([-0.28234298, -0.52647204]),\n",
              " 'Block11A': array([-0.35528857, -0.94072138]),\n",
              " 'Block11E': array([-0.58986166, -0.11435901]),\n",
              " 'Coppito2': array([-0.32836244,  0.34275659]),\n",
              " 'Coppito1': array([-0.08210325,  0.65035294]),\n",
              " 'Block0': array([0.27248336, 0.29336027]),\n",
              " 'StudentCenter': array([0.2187272 , 0.53530193]),\n",
              " 'Lab': array([0.58779835, 0.20640544]),\n",
              " 'ComputerCenter': array([0.63404172, 0.55337525])}"
            ]
          },
          "metadata": {
            "tags": []
          },
          "execution_count": 41
        }
      ]
    },
    {
      "cell_type": "code",
      "metadata": {
        "id": "Puw3EkrQuWCl",
        "outputId": "6dc3123d-46c8-4384-f116-2d1d28807579"
      },
      "source": [
        "fig, ax = plt.subplots(1, 1, figsize=(10,10))\n",
        "\n",
        "nx.draw(G,\n",
        "        pos,\n",
        "        ax,\n",
        "        node_color='#A0CBE2',\n",
        "        width=1,\n",
        "        node_size=1500,\n",
        "        with_labels=True,\n",
        "        font_size=9,\n",
        "        font_color='k')"
      ],
      "execution_count": null,
      "outputs": [
        {
          "output_type": "display_data",
          "data": {
            "image/png": "[encoded data removed]",
            "text/plain": [
              "<Figure size 720x720 with 1 Axes>"
            ]
          },
          "metadata": {
            "tags": []
          }
        }
      ]
    },
    {
      "cell_type": "code",
      "metadata": {
        "id": "JdHdc5UIuWCm",
        "outputId": "b9f0a01c-dfd2-4a0c-dbe0-faa1ce94ae0f"
      },
      "source": [
        "G.neighbors('Delta6') # ritorna un iteratore"
      ],
      "execution_count": null,
      "outputs": [
        {
          "output_type": "execute_result",
          "data": {
            "text/plain": [
              "<dict_keyiterator at 0x7fa20ab734f0>"
            ]
          },
          "metadata": {
            "tags": []
          },
          "execution_count": 17
        }
      ]
    },
    {
      "cell_type": "code",
      "metadata": {
        "id": "j4XZR7CIuWCn",
        "outputId": "65c924a0-4d5d-40ef-821c-7c7b279a6fd0"
      },
      "source": [
        "# creo un dizionario con tutti i vicini dei nodi\n",
        "subsets = dict()\n",
        "\n",
        "# il ''+i' aggiunge il nodo stess oalla lista dei suoi vicini\n",
        "subsets = {i : list(G.neighbors(i)) + [i] for i in G.nodes()} \n",
        "subsets"
      ],
      "execution_count": null,
      "outputs": [
        {
          "output_type": "execute_result",
          "data": {
            "text/plain": [
              "{'Delta6': ['Hospital', 'Block11A', 'Delta6'],\n",
              " 'Hospital': ['Delta6', 'Block11A', 'Block11E', 'Hospital'],\n",
              " 'Block11A': ['Delta6', 'Hospital', 'Block11A'],\n",
              " 'Block11E': ['Hospital', 'Coppito2', 'Block11E'],\n",
              " 'Coppito2': ['Block11E', 'Coppito1', 'StudentCenter', 'Coppito2'],\n",
              " 'Coppito1': ['Coppito2', 'StudentCenter', 'Block0', 'Coppito1'],\n",
              " 'Block0': ['StudentCenter', 'Coppito1', 'Lab', 'ComputerCenter', 'Block0'],\n",
              " 'StudentCenter': ['Coppito2',\n",
              "  'Coppito1',\n",
              "  'Lab',\n",
              "  'Block0',\n",
              "  'ComputerCenter',\n",
              "  'StudentCenter'],\n",
              " 'Lab': ['StudentCenter', 'ComputerCenter', 'Block0', 'Lab'],\n",
              " 'ComputerCenter': ['Lab', 'StudentCenter', 'Block0', 'ComputerCenter']}"
            ]
          },
          "metadata": {
            "tags": []
          },
          "execution_count": 44
        }
      ]
    },
    {
      "cell_type": "markdown",
      "metadata": {
        "id": "DW0xNha4uWCp"
      },
      "source": [
        "## Matrice di Incidenza A mxn\n",
        "Sulle righe abbiamo gli n edifici e sulle colonne gli m vicini\n",
        "\n",
        "\\begin{array}{c|ccccccccc}\n",
        "  & \\texttt{Delta6} & \\texttt{Hospital} & \\texttt{Block11A} & \\texttt{Block11E} & \\texttt{Coppito2} \n",
        "  & \\texttt{Coppito1} & \\texttt{Block0} & \\texttt{Lab} & \\texttt{ComputerCenter} & \\texttt{StudentCenter}\\\\\n",
        "  \\hline\n",
        "\\texttt{Delta6}   & 1 & 1 & 1 & 0 & 0 & 0 & 0 & 0 & 0 & 0 \\\\\n",
        "\\texttt{Hospital} & 1 & 1 & 1 & 1 & 0 & 0 & 0 & 0 & 0 & 0 \\\\\n",
        "\\texttt{Block11A} & 1 & 1 & 1 & 0 & 0 & 0 & 0 & 0 & 0 & 0 \\\\\n",
        "\\texttt{Block11E} & 0 & 1 & 1 & 1 & 0 & 0 & 0 & 0 & 0 & 0 \\\\ \n",
        "\\texttt{Coppito2} & 0 & 0 & 0 & 1 & 1 & 1 & 1 & 0 & 0 & 1\\\\\n",
        "\\texttt{Coppito1} & 0 & 0 & 0 & 0 & 1 & 1 & 1 & 0 & 0 & 1\\\\\n",
        "\\texttt{Block0}   & 0 & 0 & 0 & 0 & 1 & 1 & 1 & 1 & 1 & 1\\\\\n",
        "\\texttt{Lab}      & 0 & 0 & 0 & 0 & 0 & 0 & 1 & 1 & 1 & 1\\\\\n",
        "\\texttt{ComputerCenter} & 0 & 0 & 0 & 0 & 0 & 0 & 1 & 1 & 1 & 1\\\\\n",
        "\\texttt{StudentCenter} & 0 & 0 & 0 & 0 & 1 & 1 & 1 & 1 & 1 & 1\\\\\n",
        "\\end{array}"
      ]
    },
    {
      "cell_type": "markdown",
      "metadata": {
        "id": "SjLttqCduWCp"
      },
      "source": [
        "## Decision variables\n",
        "\n",
        "\n",
        "\n",
        "$$x_i = \\begin{cases} 1 \\text{ if subset } i \\text { is selected (if the facility is opened on building $i$) }\\\\ 0 \\text{ otherwise.}  \\end{cases}$$"
      ]
    },
    {
      "cell_type": "code",
      "metadata": {
        "id": "cJH3MgkDuWCp",
        "outputId": "62f5cef3-8c39-4209-c64f-4050d85a5b6b"
      },
      "source": [
        "setcovering = gb.Model()\n",
        "\n",
        "x = setcovering.addVars(buildings, \n",
        "                        vtype = gb.GRB.BINARY,\n",
        "                        name = 'x')\n",
        "\n",
        "setcovering.update()\n",
        "x"
      ],
      "execution_count": null,
      "outputs": [
        {
          "output_type": "execute_result",
          "data": {
            "text/plain": [
              "{'Delta6': <gurobi.Var x[Delta6]>,\n",
              " 'Hospital': <gurobi.Var x[Hospital]>,\n",
              " 'Block11A': <gurobi.Var x[Block11A]>,\n",
              " 'Block11E': <gurobi.Var x[Block11E]>,\n",
              " 'Coppito2': <gurobi.Var x[Coppito2]>,\n",
              " 'Coppito1': <gurobi.Var x[Coppito1]>,\n",
              " 'Block0': <gurobi.Var x[Block0]>,\n",
              " 'StudentCenter': <gurobi.Var x[StudentCenter]>,\n",
              " 'Lab': <gurobi.Var x[Lab]>,\n",
              " 'ComputerCenter': <gurobi.Var x[ComputerCenter]>}"
            ]
          },
          "metadata": {
            "tags": []
          },
          "execution_count": 50
        }
      ]
    },
    {
      "cell_type": "markdown",
      "metadata": {
        "id": "KiBHCwFCuWCp"
      },
      "source": [
        "## Objective function"
      ]
    },
    {
      "cell_type": "code",
      "metadata": {
        "id": "H_qXhpVPuWCq"
      },
      "source": [
        "setcovering.setObjective(x.sum(), gb.GRB.MINIMIZE)\n",
        "\n",
        "setcovering.write('setcov.lp')"
      ],
      "execution_count": null,
      "outputs": []
    },
    {
      "cell_type": "markdown",
      "metadata": {
        "id": "8fB8ejWVuWCq"
      },
      "source": [
        "## Constraints \n",
        "Constrain di copertura => ogni struttura deve essere copera da un Bar\n",
        "\n",
        "$$\n",
        "\\sum_{i \\in S(j)} x_i \\ge 1 \\;\\;\\; j \\in V\n",
        "$$"
      ]
    },
    {
      "cell_type": "code",
      "metadata": {
        "id": "8kEpoTj-uWCr",
        "outputId": "64e41f77-8367-41f6-fabd-7eb31516f6ab"
      },
      "source": [
        "setcovering.addConstrs((x.sum(subsets[j]) >=1 for j in subsets),\\\n",
        "                       name='Cover')"
      ],
      "execution_count": null,
      "outputs": [
        {
          "output_type": "execute_result",
          "data": {
            "text/plain": [
              "{'Delta6': <gurobi.Constr *Awaiting Model Update*>,\n",
              " 'Hospital': <gurobi.Constr *Awaiting Model Update*>,\n",
              " 'Block11A': <gurobi.Constr *Awaiting Model Update*>,\n",
              " 'Block11E': <gurobi.Constr *Awaiting Model Update*>,\n",
              " 'Coppito2': <gurobi.Constr *Awaiting Model Update*>,\n",
              " 'Coppito1': <gurobi.Constr *Awaiting Model Update*>,\n",
              " 'Block0': <gurobi.Constr *Awaiting Model Update*>,\n",
              " 'StudentCenter': <gurobi.Constr *Awaiting Model Update*>,\n",
              " 'Lab': <gurobi.Constr *Awaiting Model Update*>,\n",
              " 'ComputerCenter': <gurobi.Constr *Awaiting Model Update*>}"
            ]
          },
          "metadata": {
            "tags": []
          },
          "execution_count": 52
        }
      ]
    },
    {
      "cell_type": "code",
      "metadata": {
        "id": "mmoN2vr5uWCr"
      },
      "source": [
        "setcovering.update()\n",
        "setcovering.write('setcov.lp')"
      ],
      "execution_count": null,
      "outputs": []
    },
    {
      "cell_type": "code",
      "metadata": {
        "id": "29ZiAW91uWCr",
        "outputId": "26153393-7ea2-441c-d376-852deebff03e"
      },
      "source": [
        "setcovering.optimize()"
      ],
      "execution_count": null,
      "outputs": [
        {
          "output_type": "stream",
          "text": [
            "Gurobi Optimizer version 9.1.1 build v9.1.1rc0 (linux64)\n",
            "Thread count: 6 physical cores, 12 logical processors, using up to 12 threads\n",
            "Optimize a model with 10 rows, 10 columns and 40 nonzeros\n",
            "Model fingerprint: 0xb7ebd306\n",
            "Variable types: 0 continuous, 10 integer (10 binary)\n",
            "Coefficient statistics:\n",
            "  Matrix range     [1e+00, 1e+00]\n",
            "  Objective range  [1e+00, 1e+00]\n",
            "  Bounds range     [1e+00, 1e+00]\n",
            "  RHS range        [1e+00, 1e+00]\n",
            "Found heuristic solution: objective 3.0000000\n",
            "Presolve removed 10 rows and 10 columns\n",
            "Presolve time: 0.00s\n",
            "Presolve: All rows and columns removed\n",
            "\n",
            "Explored 0 nodes (0 simplex iterations) in 0.02 seconds\n",
            "Thread count was 1 (of 12 available processors)\n",
            "\n",
            "Solution count 2: 2 \n",
            "\n",
            "Optimal solution found (tolerance 1.00e-04)\n",
            "Best objective 2.000000000000e+00, best bound 2.000000000000e+00, gap 0.0000%\n"
          ],
          "name": "stdout"
        }
      ]
    },
    {
      "cell_type": "code",
      "metadata": {
        "id": "-hQQW7etuWCs",
        "outputId": "2e484886-637e-49f6-d9c9-3655636cd475"
      },
      "source": [
        "# Stampiamo la soluzione\n",
        "print('Number of activated facilities: %g' % setcovering.objVal)\n",
        "print('Activated facilities:')\n",
        "\n",
        "activated = list()\n",
        "\n",
        "for name, var in x.items():\n",
        "    if var.x > 0.1:\n",
        "        activated.append(name)\n",
        "        print (name)"
      ],
      "execution_count": null,
      "outputs": [
        {
          "output_type": "stream",
          "text": [
            "Number of activated facilities: 2\n",
            "Activated facilities:\n",
            "Hospital\n",
            "StudentCenter\n"
          ],
          "name": "stdout"
        }
      ]
    },
    {
      "cell_type": "code",
      "metadata": {
        "id": "22fjkr-guWCs",
        "outputId": "3607da75-2099-41c3-b985-d0de9041b7e3"
      },
      "source": [
        "# disegnamo la soluzione sul grafo\n",
        "fig, ax = plt.subplots(1, 1, figsize=(10,10))\n",
        "\n",
        "\n",
        "# disegno il grafo \n",
        "nx.draw(G, pos, node_color='#A0CBE2',width=1,node_size=1500,\n",
        "        with_labels=True, font_size=8)\n",
        "\n",
        "# ridisegno i nodi attivati colorati di rosso, sopra al grafo\n",
        "nx.draw_networkx_nodes(G, pos, nodelist=activated, node_size=1500, node_color ='r')"
      ],
      "execution_count": null,
      "outputs": [
        {
          "output_type": "execute_result",
          "data": {
            "text/plain": [
              "<matplotlib.collections.PathCollection at 0x7fa20ad63ac0>"
            ]
          },
          "metadata": {
            "tags": []
          },
          "execution_count": 26
        },
        {
          "output_type": "display_data",
          "data": {
            "image/png": "[encoded data removed]",
            "text/plain": [
              "<Figure size 720x720 with 1 Axes>"
            ]
          },
          "metadata": {
            "tags": []
          }
        }
      ]
    }
  ]
}