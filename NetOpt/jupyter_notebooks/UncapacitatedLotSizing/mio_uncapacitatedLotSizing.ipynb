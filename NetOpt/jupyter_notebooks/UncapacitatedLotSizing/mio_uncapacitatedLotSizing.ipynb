{
  "nbformat": 4,
  "nbformat_minor": 0,
  "metadata": {
    "colab": {
      "name": "Untitled1.ipynb",
      "provenance": [],
      "collapsed_sections": [],
      "include_colab_link": true
    },
    "kernelspec": {
      "name": "python3",
      "display_name": "Python 3"
    },
    "language_info": {
      "name": "python"
    }
  },
  "cells": [
    {
      "cell_type": "markdown",
      "metadata": {
        "id": "view-in-github",
        "colab_type": "text"
      },
      "source": [
        "<a href=\"https://colab.research.google.com/github/LeonardoSer/Univ/blob/main/NetOpt/jupyter_notebooks/uncapacitatedLotSizing.ipynb\" target=\"_parent\"><img src=\"https://colab.research.google.com/assets/colab-badge.svg\" alt=\"Open In Colab\"/></a>"
      ]
    },
    {
      "cell_type": "code",
      "metadata": {
        "colab": {
          "base_uri": "https://localhost:8080/"
        },
        "id": "uuXLCgs6fpLZ",
        "outputId": "4a60e1b6-0e32-442e-c87a-06d3d95ab0ee"
      },
      "source": [
        "!python -m pip install -i https://pypi.gurobi.com gurobipy\n",
        "\n",
        "import networkx as nx\n",
        "import matplotlib.pyplot as plt\n",
        "import gurobipy as gb\n",
        "import random\n",
        "\n",
        "%matplotlib inline"
      ],
      "execution_count": null,
      "outputs": [
        {
          "output_type": "stream",
          "text": [
            "Looking in indexes: https://pypi.gurobi.com\n",
            "Requirement already satisfied: gurobipy in /usr/local/lib/python3.7/dist-packages (9.1.1)\n"
          ],
          "name": "stdout"
        }
      ]
    },
    {
      "cell_type": "code",
      "metadata": {
        "id": "ZWkZjpEufrd_"
      },
      "source": [
        "model = gb.Model('uncapacitated lot sizing')\n",
        "\n",
        "T = [i for i in range(1, 11)]\n",
        "fix_cost = {i:random.randint(0, 40) for i in T}\n",
        "unit_cost = {i: random.randint(0,10) for i in T}\n",
        "unit_storage_cost = {i:random.randint(0,5) for i in T}\n",
        "demand = {i:random.randint(0, 100) for i in T}"
      ],
      "execution_count": null,
      "outputs": []
    },
    {
      "cell_type": "code",
      "metadata": {
        "colab": {
          "base_uri": "https://localhost:8080/"
        },
        "id": "K4bs-3-Mm6ZE",
        "outputId": "532770ac-6d54-4f31-c820-94a1e3bac33e"
      },
      "source": [
        "print(T, \"\\n\", fix_cost, \"\\n\", unit_cost, \"\\n\", unit_storage_cost, \"\\n\", demand)"
      ],
      "execution_count": null,
      "outputs": [
        {
          "output_type": "stream",
          "text": [
            "[1, 2, 3, 4, 5, 6, 7, 8, 9, 10] \n",
            " {1: 28, 2: 13, 3: 11, 4: 29, 5: 17, 6: 6, 7: 31, 8: 19, 9: 19, 10: 14} \n",
            " {1: 7, 2: 3, 3: 6, 4: 8, 5: 1, 6: 9, 7: 8, 8: 7, 9: 5, 10: 2} \n",
            " {1: 1, 2: 5, 3: 0, 4: 4, 5: 1, 6: 2, 7: 4, 8: 0, 9: 0, 10: 3} \n",
            " {1: 77, 2: 77, 3: 3, 4: 27, 5: 89, 6: 0, 7: 98, 8: 25, 9: 82, 10: 87}\n"
          ],
          "name": "stdout"
        }
      ]
    },
    {
      "cell_type": "code",
      "metadata": {
        "id": "XLft3Ji3gLso"
      },
      "source": [
        "x = model.addVars(T, vtype=gb.GRB.CONTINUOUS, name='x')\n",
        "y = model.addVars(T, vtype=gb.GRB.BINARY, name='y')\n",
        "s = model.addVars(T, vtype=gb.GRB.CONTINUOUS, name='s')\n",
        "model.update()\n",
        "model.write(\"uncapacitated_lot_sizing.lp\")"
      ],
      "execution_count": null,
      "outputs": []
    },
    {
      "cell_type": "code",
      "metadata": {
        "id": "zLSH6Ne4jSeT"
      },
      "source": [
        "model.setObjective(x.prod(unit_cost) + y.prod(fix_cost) + s.prod(unit_storage_cost))\n",
        "model.update()\n",
        "model.write(\"uncapacitated_lot_sizing.lp\")"
      ],
      "execution_count": null,
      "outputs": []
    },
    {
      "cell_type": "code",
      "metadata": {
        "id": "lXUvz6H_k0tZ"
      },
      "source": [
        "model.addConstrs(((s[t-1]+x[t] == demand[t] + s[t]) for t in range(2, len(T))), name=\"balance\")\n",
        "model.update()\n",
        "model.write(\"uncapacitated_lot_sizing.lp\")"
      ],
      "execution_count": null,
      "outputs": []
    },
    {
      "cell_type": "code",
      "metadata": {
        "id": "oGj_C5RGl0Ej"
      },
      "source": [
        "bigM = 10000\n",
        "model.addConstrs(((x[t] <= bigM*y[t]) for t in T), name=\"setup\")\n",
        "model.update()\n",
        "model.write(\"uncapacitated_lot_sizing.lp\")"
      ],
      "execution_count": null,
      "outputs": []
    },
    {
      "cell_type": "code",
      "metadata": {
        "colab": {
          "base_uri": "https://localhost:8080/"
        },
        "id": "2FeJNxa1oDXH",
        "outputId": "f921db92-c806-4f05-d01c-126604e99efc"
      },
      "source": [
        "model.optimize()"
      ],
      "execution_count": null,
      "outputs": [
        {
          "output_type": "stream",
          "text": [
            "Gurobi Optimizer version 9.1.1 build v9.1.1rc0 (linux64)\n",
            "Thread count: 1 physical cores, 2 logical processors, using up to 2 threads\n",
            "Optimize a model with 18 rows, 30 columns and 44 nonzeros\n",
            "Model fingerprint: 0x35e9d3ab\n",
            "Variable types: 20 continuous, 10 integer (10 binary)\n",
            "Coefficient statistics:\n",
            "  Matrix range     [1e+00, 1e+04]\n",
            "  Objective range  [1e+00, 3e+01]\n",
            "  Bounds range     [1e+00, 1e+00]\n",
            "  RHS range        [3e+00, 1e+02]\n",
            "Presolve removed 10 rows and 18 columns\n",
            "Presolve time: 0.00s\n",
            "Presolved: 8 rows, 12 columns, 20 nonzeros\n",
            "Variable types: 7 continuous, 5 integer (5 binary)\n",
            "\n",
            "Root relaxation: objective 1.363439e+03, 6 iterations, 0.00 seconds\n",
            "\n",
            "    Nodes    |    Current Node    |     Objective Bounds      |     Work\n",
            " Expl Unexpl |  Obj  Depth IntInf | Incumbent    BestBd   Gap | It/Node Time\n",
            "\n",
            "     0     0 1363.43925    0    1          - 1363.43925      -     -    0s\n",
            "H    0     0                    1378.0000000 1363.43925  1.06%     -    0s\n",
            "\n",
            "Explored 1 nodes (6 simplex iterations) in 0.05 seconds\n",
            "Thread count was 2 (of 2 available processors)\n",
            "\n",
            "Solution count 1: 1378 \n",
            "\n",
            "Optimal solution found (tolerance 1.00e-04)\n",
            "Best objective 1.378000000000e+03, best bound 1.378000000000e+03, gap 0.0000%\n"
          ],
          "name": "stdout"
        }
      ]
    },
    {
      "cell_type": "code",
      "metadata": {
        "colab": {
          "base_uri": "https://localhost:8080/"
        },
        "id": "uUSZrezXoRf_",
        "outputId": "e4dd89cf-c6a5-4af3-b74e-12237589aaad"
      },
      "source": [
        "print('Obj: %g' % model.objVal)\n",
        "\n",
        "print ()\n",
        "\n",
        "for v in model.getVars():\n",
        "    if v.x > 0.1:\n",
        "        print ('%s=%g' % (v.varName, v.x), end = ' ')"
      ],
      "execution_count": null,
      "outputs": [
        {
          "output_type": "stream",
          "text": [
            "Obj: 1378\n",
            "\n",
            "x[5]=187 x[8]=25 x[9]=82 y[5]=1 y[8]=1 y[9]=1 s[1]=107 s[2]=30 s[3]=27 s[5]=98 s[6]=98 "
          ],
          "name": "stdout"
        }
      ]
    },
    {
      "cell_type": "code",
      "metadata": {
        "id": "FA5vlYWLokQm"
      },
      "source": [
        ""
      ],
      "execution_count": null,
      "outputs": []
    }
  ]
}