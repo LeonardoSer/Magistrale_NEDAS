{
 "cells": [
  {
   "cell_type": "markdown",
   "metadata": {},
   "source": [
    "## Exam 08/06/2021\n",
    "### Plan 2\n",
    "Alessandro Lodi<br>\n",
    "Matricola 274425\n",
    "\n",
    "This problems can be formulated as mTSP"
   ]
  },
  {
   "cell_type": "markdown",
   "metadata": {},
   "source": [
    "### Notebook Init"
   ]
  },
  {
   "cell_type": "code",
   "execution_count": 1,
   "metadata": {},
   "outputs": [],
   "source": [
    "import networkx as nx\n",
    "import gurobipy as gb\n",
    "import matplotlib.pyplot as plt\n",
    "from itertools import combinations, chain\n",
    "import pygraphviz as pygv\n",
    "import os\n",
    "from IPython.display import SVG, display"
   ]
  },
  {
   "cell_type": "code",
   "execution_count": 2,
   "metadata": {},
   "outputs": [
    {
     "data": {
      "text/html": [
       "<style>.container { width:100% !important; }</style>"
      ],
      "text/plain": [
       "<IPython.core.display.HTML object>"
      ]
     },
     "metadata": {},
     "output_type": "display_data"
    }
   ],
   "source": [
    "from IPython.core.display import display, HTML\n",
    "display(HTML(\"<style>.container { width:100% !important; }</style>\"))"
   ]
  },
  {
   "cell_type": "code",
   "execution_count": 3,
   "metadata": {},
   "outputs": [],
   "source": [
    "class args:\n",
    "    filename = \"2_distnet08062021.gml\"\n",
    "    scale = 40\n",
    "    figsize = 5,5"
   ]
  },
  {
   "cell_type": "markdown",
   "metadata": {},
   "source": [
    "### Drawing functions"
   ]
  },
  {
   "cell_type": "code",
   "execution_count": 4,
   "metadata": {},
   "outputs": [],
   "source": [
    "def DrawSol(G, x):\n",
    "    \n",
    "    plt.figure(figsize=args.figsize)\n",
    "    \n",
    "    pos = {i:(G.nodes[i]['x'], G.nodes[i]['y']) for i in G.nodes()}\n",
    "\n",
    "    \n",
    "    nx.draw_networkx_nodes(G, \n",
    "                           pos=pos, \n",
    "                           node_shape='o', \n",
    "                           node_size=600,\n",
    "                           node_color='red',\n",
    "                           label=[G.nodes()])\n",
    "    \n",
    "    nx.draw_networkx_labels(G, pos=pos, font_color='w', font_size=12)\n",
    "    \n",
    "    for u,v in G.edges():\n",
    "        if x[u,v].x > 0.01 and x[u,v].x < 0.9:\n",
    "            nx.draw_networkx_edges(G, pos=pos,\n",
    "                                   edgelist=[(u,v)],\n",
    "                                   edge_color='r')\n",
    "            \n",
    "            nx.draw_networkx_edge_labels(G, pos=pos,\n",
    "                                         edge_labels={(u,v):'{:.2f}'.format(x[u,v].x)})\n",
    "        \n",
    "        if x[u,v].x > 0.9:\n",
    "            nx.draw_networkx_edges(G, pos=pos,\n",
    "                                   edgelist=[(u,v)],\n",
    "                                   edge_color='k')\n",
    "        \n",
    "    plt.axis('off')\n",
    "    plt.show()"
   ]
  },
  {
   "cell_type": "code",
   "execution_count": 5,
   "metadata": {},
   "outputs": [
    {
     "name": "stdout",
     "output_type": "stream",
     "text": [
      "G has 27 nodes and 702 edges\n"
     ]
    }
   ],
   "source": [
    "# Graph reading\n",
    "basename = os.path.splitext(args.filename)[0]\n",
    "G = nx.read_graphml (args.filename, node_type=int)\n",
    "print (\"G has\", G.number_of_nodes(), \"nodes and\", G.number_of_edges(), \"edges\")"
   ]
  },
  {
   "cell_type": "markdown",
   "metadata": {},
   "source": [
    "## mTSP MTZ constraints"
   ]
  },
  {
   "cell_type": "markdown",
   "metadata": {},
   "source": [
    "### Formulation\n",
    "\n",
    "Decision variables:\n",
    "$$\n",
    "x_{ij} = \\begin{cases}1 \\text{ if arc $(i, j)$ is in the tour} \\\\\n",
    "0 \\text{ otherwise}\n",
    "\\end{cases}\n",
    "$$\n",
    "\n",
    "Formulation:\n",
    "$$\n",
    "\\begin{alignat}{3}\n",
    "& \\min \\sum_{(i,j) \\in A} x_{ij} &\\\\\n",
    "\\text{s.t.} \\;\\;\\;\\;\\;&\\\\\n",
    "\\sum_{j = 2}^{j=n} x_{1j} &= m  \\;\\; \\text{(OUT-R)}\\\\\n",
    "\\sum_{i = 2}^{i=n} x_{i1} &= m \\;\\; \\text{(IN-R)}\\\\\n",
    "\\sum_{j \\in \\delta^+(i)} x_{ij} &= 1 \\;\\; \\forall i \\in N, i\\not=1 \\;\\; \\text{(FS)}\\\\\n",
    "\\sum_{j \\in \\delta^-(i)} x_{ji} &= 1 \\;\\; \\forall i \\in N, i\\not=1 \\;\\; \\text{(RS)}\\\\\n",
    "u_i - u_j + p x_{ij} &\\le p-1 \\;\\; \\forall (i,j) \\in A, i,j \\not = 1\\\\\n",
    "x & \\in \\{0,1\\}^{|A|}\n",
    "\\end{alignat}\n",
    "$$\n",
    "\n",
    "## Plan 2"
   ]
  },
  {
   "cell_type": "code",
   "execution_count": 6,
   "metadata": {},
   "outputs": [
    {
     "name": "stdout",
     "output_type": "stream",
     "text": [
      "Academic license - for non-commercial use only - expires 2021-08-02\n",
      "Using license file /opt/gurobi/gurobi.lic\n"
     ]
    }
   ],
   "source": [
    "root = 1\n",
    "\n",
    "m = 2\n",
    "p = 20\n",
    "\n",
    "mtsp_mtz = gb.Model()\n",
    "\n",
    "x = mtsp_mtz.addVars(G.edges(),\n",
    "                 obj=[G[i][j]['dist'] for i,j in G.edges()],\n",
    "                 vtype=gb.GRB.BINARY, name='x')\n",
    "\n",
    "u = mtsp_mtz.addVars(G.nodes(), obj=0.0, vtype=gb.GRB.CONTINUOUS, lb=1.0, ub=p, name='u')\n",
    "\n",
    "mtsp_mtz.addConstr(x.sum(root,'*') == m, name = 'OUT-R')\n",
    "mtsp_mtz.addConstr(x.sum('*',root) == m, name = 'IN-R')\n",
    "\n",
    "mtsp_mtz.addConstrs((x.sum(i,'*') == 1 for i in G.nodes() if i != root), name='FS')\n",
    "mtsp_mtz.addConstrs((x.sum('*',i) == 1 for i in G.nodes() if i != root), name='RS')\n",
    "\n",
    "mtsp_mtz.addConstrs((x[i,j] + x[j,i] <= 1 \n",
    "                     for i,j in G.edges()\n",
    "                     if j > i and i != root and j != root ),\n",
    "                    name='SUB2')\n",
    "\n",
    "u[root].lb = 0\n",
    "u[root].ub = 0\n",
    "\n",
    "mtsp_mtz.addConstrs((u[i] - u[j] + p * x[i,j] <= p - 1 \\\n",
    "                     for i in G.nodes() for j in G.nodes()\\\n",
    "                    if i != j and i != root and j != root and G.has_edge(i,j)), name='MTZ')\n",
    "\n",
    "mtsp_mtz.update()\n",
    "mtsp_mtz.write('mtsp_mtz.lp')"
   ]
  },
  {
   "cell_type": "code",
   "execution_count": 7,
   "metadata": {},
   "outputs": [
    {
     "name": "stdout",
     "output_type": "stream",
     "text": [
      "Gurobi Optimizer version 9.1.2 build v9.1.2rc0 (linux64)\n",
      "Thread count: 6 physical cores, 12 logical processors, using up to 12 threads\n",
      "Optimize a model with 1029 rows, 729 columns and 4004 nonzeros\n",
      "Model fingerprint: 0x28c89a6e\n",
      "Variable types: 27 continuous, 702 integer (702 binary)\n",
      "Coefficient statistics:\n",
      "  Matrix range     [1e+00, 2e+01]\n",
      "  Objective range  [1e+02, 4e+03]\n",
      "  Bounds range     [1e+00, 2e+01]\n",
      "  RHS range        [1e+00, 2e+01]\n",
      "Presolve removed 0 rows and 1 columns\n",
      "Presolve time: 0.00s\n",
      "Presolved: 1029 rows, 728 columns, 4004 nonzeros\n",
      "Variable types: 26 continuous, 702 integer (702 binary)\n",
      "\n",
      "Root relaxation: objective 1.432850e+04, 130 iterations, 0.00 seconds\n",
      "\n",
      "    Nodes    |    Current Node    |     Objective Bounds      |     Work\n",
      " Expl Unexpl |  Obj  Depth IntInf | Incumbent    BestBd   Gap | It/Node Time\n",
      "\n",
      "     0     0 14328.5000    0   34          - 14328.5000      -     -    0s\n",
      "H    0     0                    43257.000000 14328.5000  66.9%     -    0s\n",
      "H    0     0                    42748.000000 14328.5000  66.5%     -    0s\n",
      "H    0     0                    17267.000000 14328.5000  17.0%     -    0s\n",
      "     0     0 14427.6833    0   53 17267.0000 14427.6833  16.4%     -    0s\n",
      "     0     0 14568.4750    0   46 17267.0000 14568.4750  15.6%     -    0s\n",
      "     0     0 14581.1625    0   46 17267.0000 14581.1625  15.6%     -    0s\n",
      "H    0     0                    17025.000000 14581.1625  14.4%     -    0s\n",
      "H    0     0                    17009.000000 14656.4406  13.8%     -    0s\n",
      "     0     0 14665.5594    0   52 17009.0000 14665.5594  13.8%     -    0s\n",
      "     0     0 14668.6000    0   52 17009.0000 14668.6000  13.8%     -    0s\n",
      "H    0     0                    16974.000000 14725.3000  13.2%     -    0s\n",
      "H    0     0                    16789.000000 14725.3000  12.3%     -    0s\n",
      "     0     0 14725.3000    0   53 16789.0000 14725.3000  12.3%     -    0s\n",
      "     0     0 14727.9833    0   53 16789.0000 14727.9833  12.3%     -    0s\n",
      "     0     0 14727.9833    0   34 16789.0000 14727.9833  12.3%     -    0s\n",
      "     0     0 14727.9833    0   57 16789.0000 14727.9833  12.3%     -    0s\n",
      "     0     0 14727.9833    0   53 16789.0000 14727.9833  12.3%     -    0s\n",
      "     0     0 14727.9833    0   53 16789.0000 14727.9833  12.3%     -    0s\n",
      "     0     0 14727.9833    0   64 16789.0000 14727.9833  12.3%     -    0s\n",
      "     0     0 14727.9833    0   65 16789.0000 14727.9833  12.3%     -    0s\n",
      "     0     0 14727.9833    0   65 16789.0000 14727.9833  12.3%     -    0s\n",
      "     0     0 14727.9833    0   66 16789.0000 14727.9833  12.3%     -    0s\n",
      "H    0     0                    16616.000000 14727.9833  11.4%     -    0s\n",
      "     0     0 14728.5167    0   66 16616.0000 14728.5167  11.4%     -    0s\n",
      "     0     0 14729.3500    0   66 16616.0000 14729.3500  11.4%     -    0s\n",
      "     0     2 14769.0256    0   66 16616.0000 14769.0256  11.1%     -    0s\n",
      "H   68    74                    16239.000000 14769.0256  9.05%   9.2    0s\n",
      "H  379   270                    16167.000000 14820.9444  8.33%   6.8    0s\n",
      "H 2827  1198                    16139.000000 15295.3556  5.23%   7.8    1s\n",
      "* 3085  1121              45    16119.000000 15446.1754  4.17%   8.0    1s\n",
      "* 3462  1035              46    15989.000000 15519.8514  2.93%   8.0    1s\n",
      "\n",
      "Cutting planes:\n",
      "  Gomory: 10\n",
      "  Cover: 2\n",
      "  Implied bound: 7\n",
      "  MIR: 4\n",
      "  StrongCG: 1\n",
      "  Flow cover: 17\n",
      "  Inf proof: 3\n",
      "  Zero half: 8\n",
      "  RLT: 1\n",
      "\n",
      "Explored 4512 nodes (37072 simplex iterations) in 1.33 seconds\n",
      "Thread count was 12 (of 12 available processors)\n",
      "\n",
      "Solution count 10: 15989 16119 16139 ... 17025\n",
      "\n",
      "Optimal solution found (tolerance 1.00e-04)\n",
      "Best objective 1.598900000000e+04, best bound 1.598900000000e+04, gap 0.0000%\n"
     ]
    }
   ],
   "source": [
    "mtsp_mtz.optimize()"
   ]
  },
  {
   "cell_type": "code",
   "execution_count": 8,
   "metadata": {},
   "outputs": [
    {
     "data": {
      "image/png": "[encoded data removed]",
      "text/plain": [
       "<Figure size 360x360 with 1 Axes>"
      ]
     },
     "metadata": {},
     "output_type": "display_data"
    }
   ],
   "source": [
    "DrawSol(G, x)"
   ]
  },
  {
   "cell_type": "code",
   "execution_count": 9,
   "metadata": {
    "scrolled": true
   },
   "outputs": [
    {
     "name": "stdout",
     "output_type": "stream",
     "text": [
      "The total cost is 19289.0\n"
     ]
    }
   ],
   "source": [
    "print(\"The total cost is\", mtsp_mtz.objVal +1650 +1650)"
   ]
  },
  {
   "cell_type": "markdown",
   "metadata": {},
   "source": [
    "- Optimal solution: 1.598900000000e+04\n",
    "- Value of the linear relaxation: 1.432850e+04\n",
    "- Number of enumerated nodes: 4512   "
   ]
  }
 ],
 "metadata": {
  "anaconda-cloud": {},
  "kernelspec": {
   "display_name": "Python 3",
   "language": "python",
   "name": "python3"
  },
  "language_info": {
   "codemirror_mode": {
    "name": "ipython",
    "version": 3
   },
   "file_extension": ".py",
   "mimetype": "text/x-python",
   "name": "python",
   "nbconvert_exporter": "python",
   "pygments_lexer": "ipython3",
   "version": "3.8.5"
  }
 },
 "nbformat": 4,
 "nbformat_minor": 1
}
