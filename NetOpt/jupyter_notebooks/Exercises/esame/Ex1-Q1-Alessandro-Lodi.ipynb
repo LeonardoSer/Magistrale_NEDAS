{
 "cells": [
  {
   "cell_type": "markdown",
   "metadata": {},
   "source": [
    "## Exam 08/06/2021\n",
    "### Exercise 1 Network 1\n",
    "Alessandro Lodi<br>\n",
    "Matricola 274425\n",
    "\n",
    "This problem can be formulated as a PCST with limited number of hops"
   ]
  },
  {
   "cell_type": "markdown",
   "metadata": {},
   "source": [
    "### Notebook Init"
   ]
  },
  {
   "cell_type": "code",
   "execution_count": 1,
   "metadata": {},
   "outputs": [],
   "source": [
    "import networkx as nx\n",
    "import gurobipy as gb\n",
    "import matplotlib.pyplot as plt\n",
    "from itertools import combinations, chain\n",
    "import pygraphviz as pygv\n",
    "import os\n",
    "from IPython.display import SVG, display"
   ]
  },
  {
   "cell_type": "code",
   "execution_count": 2,
   "metadata": {},
   "outputs": [
    {
     "data": {
      "text/html": [
       "<style>.container { width:100% !important; }</style>"
      ],
      "text/plain": [
       "<IPython.core.display.HTML object>"
      ]
     },
     "metadata": {},
     "output_type": "display_data"
    }
   ],
   "source": [
    "from IPython.core.display import display, HTML\n",
    "display(HTML(\"<style>.container { width:100% !important; }</style>\"))"
   ]
  },
  {
   "cell_type": "code",
   "execution_count": 3,
   "metadata": {},
   "outputs": [],
   "source": [
    "class args:\n",
    "    filename = \"2_net08062021.gml\"\n",
    "    scale = 40\n",
    "    figsize = 20,20"
   ]
  },
  {
   "cell_type": "markdown",
   "metadata": {},
   "source": [
    "### Drawing functions"
   ]
  },
  {
   "cell_type": "code",
   "execution_count": 4,
   "metadata": {},
   "outputs": [],
   "source": [
    "def DrawSol(G, x):\n",
    "    \n",
    "    plt.figure(figsize=args.figsize)\n",
    "    \n",
    "    pos = {i:(G.nodes[i]['x'], G.nodes[i]['y']) for i in G.nodes()}\n",
    "\n",
    "    \n",
    "    nx.draw_networkx_nodes(G, \n",
    "                           pos=pos, \n",
    "                           node_shape='o', \n",
    "                           node_size=600,\n",
    "                           node_color='red',\n",
    "                           label=[G.nodes()])\n",
    "    \n",
    "    nx.draw_networkx_labels(G, pos=pos, font_color='w', font_size=12)\n",
    "    \n",
    "    for u,v in G.edges():\n",
    "        if x[u,v].x > 0.01 and x[u,v].x < 0.9:\n",
    "            nx.draw_networkx_edges(G, pos=pos,\n",
    "                                   edgelist=[(u,v)],\n",
    "                                   edge_color='r')\n",
    "            \n",
    "            nx.draw_networkx_edge_labels(G, pos=pos,\n",
    "                                         edge_labels={(u,v):'{:.2f}'.format(x[u,v].x)})\n",
    "        \n",
    "        if x[u,v].x > 0.9:\n",
    "            nx.draw_networkx_edges(G, pos=pos,\n",
    "                                   edgelist=[(u,v)],\n",
    "                                   edge_color='k')\n",
    "        \n",
    "    plt.axis('off')\n",
    "    plt.show()"
   ]
  },
  {
   "cell_type": "code",
   "execution_count": 5,
   "metadata": {},
   "outputs": [
    {
     "name": "stdout",
     "output_type": "stream",
     "text": [
      "G has 30 nodes and 435 edges\n"
     ]
    }
   ],
   "source": [
    "# Graph reading\n",
    "basename = os.path.splitext(args.filename)[0]\n",
    "G = nx.read_graphml (args.filename, node_type=int)\n",
    "print (\"G has\", G.number_of_nodes(), \"nodes and\", G.number_of_edges(), \"edges\")"
   ]
  },
  {
   "cell_type": "markdown",
   "metadata": {},
   "source": [
    "## Prize Collecting Steiner Tree (PCST) with limited number of hops  \n",
    "\n",
    "### Problem definition\n",
    "\n",
    ">**Given**\n",
    ">A symmetric graph $G=(V,E)$ and a cost $c_e > 0$ for each edge in $E$.\n",
    ">A root node $\\{0\\}$.\n",
    ">A revenue $p_j > 0$ for each node $j \\in V \\setminus \\{0\\}$.\n",
    ">\n",
    ">**Find**\n",
    ">A subtree 𝑇 rooted in {0} that maximizes the sum of the revenues of the nodes in 𝑇 minus the sum of the cost of the edges in 𝑇 such that the distance between {0} and any node in 𝑇 does not exceed H.\n",
    "\n",
    "### Directed formulation\n",
    "\n",
    "Consider the bidirected graph $B=(V,A)$ that is obtained from $G$ by replacing each edge $e = \\{i, j\\}$ in $E$ with two directed arcs $(i, j)$ and\n",
    "$(j, i)$ (with corresponding weights $c_{ij} = c_{ji} = c_e )$ and a cost $c_e > 0$ for each edge in $E$\n",
    "\n",
    "\n",
    "\n",
    "> **PCST-H** is equivalent to find an optimal arborescence in B rooted in $\\{0\\}$\n",
    "\n",
    "\n",
    "#### Variables\n",
    "$$\n",
    "x_{ij} = \\begin{cases}1 \\text{ if arc $(i, j)$ is in the arborescence} \\\\\n",
    "0 \\text{ otherwise}\n",
    "\\end{cases}\n",
    "$$\n",
    "\n",
    "$$\n",
    "y_j = \\begin{cases} 1 \\text{ if node j is in the arborescence}\\\\\n",
    "0 \\text{ otherwise}\n",
    "\\end{cases}\n",
    "$$\n",
    "\n",
    "$$ \n",
    "u_j = \\{\\text{number of arcs in the dipath (if any) induced by $x$ from \\{0\\} to $j$}\\}\n",
    "$$\n",
    "\n",
    "#### MTZ formulation\n",
    "\n",
    "$$\n",
    "\\begin{align}\n",
    "\\min & \\sum_{(i,j) \\in A} c_{ij} x_{ij} - \\sum_{j \\in V \\{0\\}} p_j y_j \\\\\n",
    "\\text{subject}& \\text{ to} \\\\\n",
    "y_0 & = 1 \\\\\n",
    "\\sum_{i \\in \\delta^-(j)} x_{ij} & = y_j \\;\\; \\forall j \\in V \\setminus \\{0\\}\\\\\n",
    "(h+1)x_{ij} + u_i - u_j &\\le h \\;\\; \\forall (i,j) \\in A \\\\\n",
    "y_i \\le u_i &\\le h y_i \\;\\; \\forall i \\in V\\setminus \\{0\\}\\\\ \n",
    "x_{jk} &\\le y_j \\;\\; \\forall k \\in \\delta^+(j), \\;\\; \\forall j \\in V \\setminus\\{0\\}\\\\\n",
    "0 \\le u_j & \\le n \\;\\; \\forall j \\in V \\\\ \n",
    "x_{ij} & \\in \\{0,1\\} \\;\\; \\forall(i,j) \\in A \\\\\n",
    "y_j & \\in \\{0,1\\} \\;\\; \\forall j \\in V\n",
    "\\end{align}\n",
    "$$\n",
    "\n",
    "## Network 1"
   ]
  },
  {
   "cell_type": "code",
   "execution_count": 6,
   "metadata": {},
   "outputs": [
    {
     "data": {
      "text/plain": [
       "NodeDataView({1: {'y': 45, 'customer': 7754, 'revenue': 182, 'x': 22}, 2: {'y': 24, 'customer': 10038, 'revenue': 729, 'x': 32}, 3: {'y': 9, 'customer': 6173, 'revenue': 810, 'x': 32}, 4: {'y': 25, 'customer': 40966, 'revenue': 459, 'x': 4}, 5: {'y': 30, 'customer': 2900, 'revenue': 313, 'x': 37}, 6: {'y': 42, 'customer': 4500, 'revenue': 296, 'x': 24}, 7: {'y': 20, 'customer': 11020, 'revenue': 664, 'x': 11}, 8: {'y': 9, 'customer': 4806, 'revenue': 569, 'x': 27}, 9: {'y': 3, 'customer': 3564, 'revenue': 828, 'x': 20}, 10: {'y': 29, 'customer': 7384, 'revenue': 870, 'x': 15}, 11: {'y': 39, 'customer': 9694, 'revenue': 663, 'x': 16}, 12: {'y': 5, 'customer': 6783, 'revenue': 753, 'x': 17}, 13: {'y': 45, 'customer': 6087, 'revenue': 602, 'x': 19}, 14: {'y': 45, 'customer': 3590, 'revenue': 265, 'x': 15}, 15: {'y': 36, 'customer': 9959, 'revenue': 1004, 'x': 4}, 16: {'y': 32, 'customer': 12252, 'revenue': 376, 'x': 8}, 17: {'y': 22, 'customer': 7939, 'revenue': 686, 'x': 40}, 18: {'y': 26, 'customer': 11281, 'revenue': 323, 'x': 14}, 19: {'y': 3, 'customer': 35996, 'revenue': 415, 'x': 3}, 20: {'y': 13, 'customer': 4178, 'revenue': 819, 'x': 14}, 21: {'y': 27, 'customer': 10451, 'revenue': 603, 'x': 25}, 22: {'y': 24, 'customer': 4309, 'revenue': 598, 'x': 27}, 23: {'y': 25, 'customer': 4200, 'revenue': 443, 'x': 25}, 24: {'y': 42, 'customer': 11461, 'revenue': 629, 'x': 5}, 25: {'y': 2, 'customer': 11498, 'revenue': 653, 'x': 16}, 26: {'y': 34, 'customer': 10789, 'revenue': 712, 'x': 23}, 27: {'y': 41, 'customer': 9894, 'revenue': 367, 'x': 15}, 28: {'y': 13, 'customer': 8330, 'revenue': 773, 'x': 30}, 29: {'y': 36, 'customer': 10309, 'revenue': 348, 'x': 32}, 30: {'y': 5, 'customer': 2864, 'revenue': 836, 'x': 23}})"
      ]
     },
     "execution_count": 6,
     "metadata": {},
     "output_type": "execute_result"
    }
   ],
   "source": [
    "D = G.to_directed()\n",
    "G.nodes(data=True)"
   ]
  },
  {
   "cell_type": "code",
   "execution_count": 7,
   "metadata": {},
   "outputs": [
    {
     "name": "stdout",
     "output_type": "stream",
     "text": [
      "Academic license - for non-commercial use only - expires 2021-08-02\n",
      "Using license file /opt/gurobi/gurobi.lic\n"
     ]
    }
   ],
   "source": [
    "root = 1\n",
    "pcst = gb.Model()\n",
    "\n",
    "# H represents the maximum number of hops\n",
    "H = 4\n",
    "\n",
    "# Objective function\n",
    "pcst.ModelSense = gb.GRB.MAXIMIZE\n",
    "\n",
    "\n",
    "# Decision Variables\n",
    "x = pcst.addVars(D.edges(), vtype=gb.GRB.BINARY, \n",
    "                 obj = [- D[i][j]['cost'] for i,j in D.edges()], \n",
    "                 name = 'x')\n",
    "\n",
    "y = pcst.addVars (G.nodes(), vtype = gb.GRB.BINARY, \n",
    "                  obj = [G.nodes[i]['revenue'] for i in G.nodes()],\n",
    "                 name = 'y')\n",
    "\n",
    "u = pcst.addVars (G.nodes(), vtype = gb.GRB.CONTINUOUS, \n",
    "                  lb = 0.0, ub = G.number_of_nodes(),\n",
    "                 name = 'u')\n",
    "\n",
    "\n",
    "# Root is in the solution\n",
    "pcst.addConstr(y[root] == 1, name = 'Fix_root')\n",
    "\n",
    "\n",
    "# Each node has exactly one incoming arc\n",
    "pcst.addConstrs((x.sum('*',j) == y[j] for j in G.nodes() if j != root), name='Node_in_deg')\n",
    "\n",
    "\n",
    "# Precedence constraints (MTZ constraints)\n",
    "pcst.addConstrs(((G.number_of_nodes() +  1) * x[i,j] + u[i] - u[j] <= G.number_of_nodes() for i,j in D.edges()),\n",
    "                name = 'MTZ')\n",
    "\n",
    "\n",
    "# Connectivity constraints\n",
    "pcst.addConstrs((x[j,k] <= y[j] for j in G.nodes()\n",
    "                 if j != root for k in D.neighbors(j)), name = 'Connect')\n",
    "\n",
    "# Hop Constraints\n",
    "pcst.addConstrs ((u[i] >= y[i] for i in G.nodes()\n",
    "                  if i != root), name='VLB')\n",
    "\n",
    "pcst.addConstrs ((u[i] <= H * y[i] for i in G.nodes()\n",
    "                  if i != root), name='VUB')\n",
    "\n",
    "pcst.update()\n",
    "pcst.write('pcst.lp')"
   ]
  },
  {
   "cell_type": "markdown",
   "metadata": {},
   "source": [
    "### Customer >= 80% costraint"
   ]
  },
  {
   "cell_type": "code",
   "execution_count": 8,
   "metadata": {},
   "outputs": [
    {
     "data": {
      "text/plain": [
       "290969"
      ]
     },
     "execution_count": 8,
     "metadata": {},
     "output_type": "execute_result"
    }
   ],
   "source": [
    "total_customers = sum([G.nodes[node]['customer'] for node in G.nodes()])\n",
    "total_customers"
   ]
  },
  {
   "cell_type": "code",
   "execution_count": 9,
   "metadata": {},
   "outputs": [],
   "source": [
    "espr = sum([y[i]*G.nodes[i]['customer'] for i in G.nodes])\n",
    "pcst.addConstr(espr >= total_customers*0.80, name='Num_of_customers')\n",
    "\n",
    "pcst.update()"
   ]
  },
  {
   "cell_type": "code",
   "execution_count": 10,
   "metadata": {
    "scrolled": true
   },
   "outputs": [
    {
     "name": "stdout",
     "output_type": "stream",
     "text": [
      "Gurobi Optimizer version 9.1.2 build v9.1.2rc0 (linux64)\n",
      "Thread count: 6 physical cores, 12 logical processors, using up to 12 threads\n",
      "Optimize a model with 1800 rows, 930 columns and 5309 nonzeros\n",
      "Model fingerprint: 0x9d8596b6\n",
      "Variable types: 30 continuous, 900 integer (900 binary)\n",
      "Coefficient statistics:\n",
      "  Matrix range     [1e+00, 4e+04]\n",
      "  Objective range  [2e+02, 5e+03]\n",
      "  Bounds range     [1e+00, 3e+01]\n",
      "  RHS range        [1e+00, 2e+05]\n",
      "Found heuristic solution: objective -29512.00000\n",
      "Presolve removed 59 rows and 31 columns\n",
      "Presolve time: 0.01s\n",
      "Presolved: 1741 rows, 899 columns, 5135 nonzeros\n",
      "Variable types: 29 continuous, 870 integer (870 binary)\n",
      "\n",
      "Root relaxation: objective 4.870192e+03, 85 iterations, 0.00 seconds\n",
      "\n",
      "    Nodes    |    Current Node    |     Objective Bounds      |     Work\n",
      " Expl Unexpl |  Obj  Depth IntInf | Incumbent    BestBd   Gap | It/Node Time\n",
      "\n",
      "     0     0 4870.19229    0   16 -29512.000 4870.19229   117%     -    0s\n",
      "H    0     0                    -7969.000000 4870.19229   161%     -    0s\n",
      "H    0     0                    -7805.000000 4870.19229   162%     -    0s\n",
      "H    0     0                    -4408.000000 4870.19229   210%     -    0s\n",
      "     0     0 4107.27100    0   30 -4408.0000 4107.27100   193%     -    0s\n",
      "H    0     0                    -4124.000000 4107.27100   200%     -    0s\n",
      "H    0     0                    -2685.000000 4107.27100   253%     -    0s\n",
      "     0     0 4045.07100    0   36 -2685.0000 4045.07100   251%     -    0s\n",
      "     0     0 3916.65735    0   32 -2685.0000 3916.65735   246%     -    0s\n",
      "H    0     0                    -1549.000000 3916.65735   353%     -    0s\n",
      "     0     0 3873.69436    0   32 -1549.0000 3873.69436   350%     -    0s\n",
      "     0     0 3870.48260    0   39 -1549.0000 3870.48260   350%     -    0s\n",
      "     0     0 3812.81911    0   39 -1549.0000 3812.81911   346%     -    0s\n",
      "     0     0 3669.48124    0   19 -1549.0000 3669.48124   337%     -    0s\n",
      "     0     0 3634.00000    0   18 -1549.0000 3634.00000   335%     -    0s\n",
      "     0     0 3634.00000    0   22 -1549.0000 3634.00000   335%     -    0s\n",
      "     0     0 3611.80000    0   26 -1549.0000 3611.80000   333%     -    0s\n",
      "     0     0 3607.28916    0   26 -1549.0000 3607.28916   333%     -    0s\n",
      "     0     0 3607.22222    0   26 -1549.0000 3607.22222   333%     -    0s\n",
      "     0     0 3596.78485    0   38 -1549.0000 3596.78485   332%     -    0s\n",
      "     0     0 3576.10000    0   34 -1549.0000 3576.10000   331%     -    0s\n",
      "     0     0 3576.10000    0   34 -1549.0000 3576.10000   331%     -    0s\n",
      "     0     0 3563.75000    0   34 -1549.0000 3563.75000   330%     -    0s\n",
      "     0     0 3563.75000    0   34 -1549.0000 3563.75000   330%     -    0s\n",
      "     0     0 3563.75000    0   34 -1549.0000 3563.75000   330%     -    0s\n",
      "     0     0 3563.75000    0   30 -1549.0000 3563.75000   330%     -    0s\n",
      "     0     2 3402.57500    0   30 -1549.0000 3402.57500   320%     -    0s\n",
      "H  157   175                    -1223.000000 3305.80000   370%   6.8    0s\n",
      "H  162   175                    -1032.000000 3305.80000   420%   6.7    0s\n",
      "H  312   337                    -603.0000000 3305.80000   648%   6.1    0s\n",
      "H  792   587                    -382.0000000 3185.51579   934%   7.1    0s\n",
      "* 4551  1561              35    -327.0000000 1752.99894   636%  11.6    2s\n",
      "H 7237  2508                    -223.0000000 1502.66045   774%  12.4    2s\n",
      "H 7239  2407                    -107.0000000 1502.66045  1504%  12.4    2s\n",
      "* 8819  2771              28     -62.0000000 1409.79731  2374%  12.8    3s\n",
      " 20627  3174     cutoff   22       -62.00000  667.39825  1176%  14.7    5s\n",
      "H22306  2857                     -28.0000000  573.10960  2147%  14.7    5s\n",
      "\n",
      "Cutting planes:\n",
      "  Learned: 16\n",
      "  Gomory: 30\n",
      "  Cover: 12\n",
      "  Implied bound: 13\n",
      "  Projected implied bound: 1\n",
      "  Clique: 6\n",
      "  MIR: 47\n",
      "  StrongCG: 8\n",
      "  Flow cover: 81\n",
      "  GUB cover: 4\n",
      "  Inf proof: 10\n",
      "  Zero half: 10\n",
      "  RLT: 3\n",
      "  Relax-and-lift: 18\n",
      "\n",
      "Explored 28021 nodes (407053 simplex iterations) in 5.94 seconds\n",
      "Thread count was 12 (of 12 available processors)\n",
      "\n",
      "Solution count 10: -28 -62 -107 ... -1549\n",
      "No other solutions better than -28\n",
      "\n",
      "Optimal solution found (tolerance 1.00e-04)\n",
      "Best objective -2.800000000000e+01, best bound -2.800000000000e+01, gap 0.0000%\n"
     ]
    }
   ],
   "source": [
    "pcst.optimize()"
   ]
  },
  {
   "cell_type": "code",
   "execution_count": 11,
   "metadata": {
    "scrolled": false
   },
   "outputs": [
    {
     "data": {
      "image/png": "[encoded data removed]",
      "text/plain": [
       "<Figure size 1440x1440 with 1 Axes>"
      ]
     },
     "metadata": {},
     "output_type": "display_data"
    }
   ],
   "source": [
    "DrawSol(D,x)"
   ]
  },
  {
   "cell_type": "code",
   "execution_count": 12,
   "metadata": {},
   "outputs": [
    {
     "name": "stdout",
     "output_type": "stream",
     "text": [
      "The maximum profit is -28.0\n"
     ]
    }
   ],
   "source": [
    "print(\"The maximum profit is\", pcst.objVal)"
   ]
  },
  {
   "cell_type": "code",
   "execution_count": null,
   "metadata": {},
   "outputs": [],
   "source": []
  }
 ],
 "metadata": {
  "anaconda-cloud": {},
  "kernelspec": {
   "display_name": "Python 3",
   "language": "python",
   "name": "python3"
  },
  "language_info": {
   "codemirror_mode": {
    "name": "ipython",
    "version": 3
   },
   "file_extension": ".py",
   "mimetype": "text/x-python",
   "name": "python",
   "nbconvert_exporter": "python",
   "pygments_lexer": "ipython3",
   "version": "3.8.5"
  }
 },
 "nbformat": 4,
 "nbformat_minor": 1
}
