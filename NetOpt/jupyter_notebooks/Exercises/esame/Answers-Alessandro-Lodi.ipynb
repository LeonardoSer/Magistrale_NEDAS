{
 "cells": [
  {
   "cell_type": "markdown",
   "id": "8927a7a5",
   "metadata": {},
   "source": [
    "## Network Optimization June 8 2021\n",
    "\n",
    "### 274425\tLodi\tAlessandro\n",
    "\n",
    "### Answer to Exercise 1\n",
    "\n",
    "- **Network 1**: -28.0\n",
    "- **Network 2**: 2158.0\n",
    "- **Network 3**: 2841.0\n",
    "\n",
    "Most convenient: **Network 3**\n",
    "\n",
    "### Answer to Exercise 2\n",
    "\n",
    "- **Plan 1**: 19631.0\n",
    "- **Plan 2**: 19289.0\n",
    "- **Plan 3**: 18994.0\n",
    "\n",
    "Most convenient: **Plan 3**"
   ]
  },
  {
   "cell_type": "code",
   "execution_count": null,
   "id": "9d1e9d4e",
   "metadata": {},
   "outputs": [],
   "source": []
  }
 ],
 "metadata": {
  "kernelspec": {
   "display_name": "Python 3",
   "language": "python",
   "name": "python3"
  },
  "language_info": {
   "codemirror_mode": {
    "name": "ipython",
    "version": 3
   },
   "file_extension": ".py",
   "mimetype": "text/x-python",
   "name": "python",
   "nbconvert_exporter": "python",
   "pygments_lexer": "ipython3",
   "version": "3.8.5"
  }
 },
 "nbformat": 4,
 "nbformat_minor": 5
}
