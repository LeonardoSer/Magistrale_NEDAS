{
 "cells": [
  {
   "cell_type": "markdown",
   "id": "oriental-license",
   "metadata": {},
   "source": [
    "## Network Optimization June 8 2021\n",
    "\n",
    "### 274425\tLodi\tAlessandro\n",
    "\n",
    "\n",
    "### Exercise 1\n",
    "\n",
    "The graph ``2_net08062021.gml`` contains a set of potential locations that a telecom company can connect with a network rooted in node 1.\n",
    "\n",
    "Each location (node) $u$ has associated a revenue \\[``revenue`` attribute in the graph\\], a number of customers \\[``customer`` attribute in the graph\\] and each edge $uv$ has a connection cost \\[``cost`` attribute in the graph\\].\n",
    "\n",
    "Calculate the maximum profit achievable by implementing three different networks that  connect at least $80\\%$ of the customers.\n",
    "\n",
    "- **Network 1**. The maximum number of hops from the root node cannot exceed 4.\n",
    "- **Network 2**. The company  install in the root a router device (cost 1400 Euro) that halves the connection costs to any node connected to the root but can accept up to 8 connections. \n",
    "- **Network 3**. The number of connections outgoing from all nodes but the root cannot exceed 3\n",
    "\n",
    "### Exercise 2\n",
    "\n",
    "The graph ``2_distnet08062021.gml`` represents a logistic distribution network. A company must deliver daily one unit of a certain product from node 1 to customers located in the other nodes. The delivering cost for each arc is the ``dist`` attribute in the graph. The company can implement the following delivering plans:\n",
    "\n",
    "- **Plan 1** .\tRent a vehicle with capacity $C > 30$ at a cost of 4550 Euro/day\n",
    "- **Plan 2**.\tRent two vehicles with capacity $C=20$   at a cost of 1650 Euro/day per vehicle\n",
    "- **Plan 3**.\tRent one vehicle with capacity $C=15$ at a cost of 1400 Euro/day and rent a warehouse in node 20 able to store products at a cost of 2300 Euro/day\n",
    "\n",
    "Find the most convenient delivering plan. \n",
    "For each alternative report the optimal solution, the value of the linear relaxation and the number of enumerated nodes.\n",
    "\n"
   ]
  },
  {
   "cell_type": "code",
   "execution_count": null,
   "id": "personal-rental",
   "metadata": {},
   "outputs": [],
   "source": []
  }
 ],
 "metadata": {
  "kernelspec": {
   "display_name": "Python 3",
   "language": "python",
   "name": "python3"
  },
  "language_info": {
   "codemirror_mode": {
    "name": "ipython",
    "version": 3
   },
   "file_extension": ".py",
   "mimetype": "text/x-python",
   "name": "python",
   "nbconvert_exporter": "python",
   "pygments_lexer": "ipython3",
   "version": "3.8.5"
  }
 },
 "nbformat": 4,
 "nbformat_minor": 5
}
