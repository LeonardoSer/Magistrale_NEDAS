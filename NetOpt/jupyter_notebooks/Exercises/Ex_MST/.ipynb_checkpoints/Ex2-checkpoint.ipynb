{
 "cells": [
  {
   "cell_type": "code",
   "execution_count": 14,
   "metadata": {},
   "outputs": [],
   "source": [
    "import networkx as nx\n",
    "import gurobipy as gb\n",
    "from itertools import combinations, chain\n",
    "import pygraphviz as pygv\n",
    "import os\n",
    "from IPython.display import SVG, display\n",
    "import matplotlib.pyplot as plt"
   ]
  },
  {
   "cell_type": "code",
   "execution_count": 15,
   "metadata": {},
   "outputs": [],
   "source": [
    "class args:\n",
    "    filename = None\n",
    "    scale = 40\n",
    "    figsize = (6,6)\n",
    "    \n",
    "def DrawInitG(G, withedges=False):\n",
    "    \n",
    "    plt.figure(figsize=args.figsize)\n",
    "    \n",
    "    pos = {i:(G.nodes[i]['x'], G.nodes[i]['y']) for i in G.nodes()}\n",
    "    \n",
    "    nx.draw_networkx_nodes(G, \n",
    "                           pos=pos, \n",
    "                           node_shape='o', \n",
    "                           node_size=600,\n",
    "                           node_color='red')\n",
    "    \n",
    "    nx.draw_networkx_labels(G, pos=pos, font_color='w', font_size=12)\n",
    "    \n",
    "    if withedges:\n",
    "        nx.draw_networkx_edges(G,pos=pos, alpha=1.0)\n",
    "        labels = {(i,j):G.get_edge_data(i,j,'cost').get('cost') for i,j in G.edges()}\n",
    "        nx.draw_networkx_edge_labels(G, pos=pos, edge_labels=labels)\n",
    "    \n",
    "    plt.axis('off')\n",
    "    plt.show()\n",
    "    \n",
    "def DrawSol(G, x):\n",
    "    \n",
    "    plt.figure(figsize=args.figsize)\n",
    "    \n",
    "    pos = {i:(G.nodes[i]['x'], G.nodes[i]['y']) for i in G.nodes()}\n",
    "\n",
    "    \n",
    "    nx.draw_networkx_nodes(G, \n",
    "                           pos=pos, \n",
    "                           node_shape='o', \n",
    "                           node_size=600,\n",
    "                           node_color='red',\n",
    "                           label=[G.nodes()])\n",
    "    \n",
    "    nx.draw_networkx_labels(G, pos=pos, font_color='w', font_size=12)\n",
    "    \n",
    "    for u,v in G.edges():\n",
    "        if x[u,v].x > 0.01 and x[u,v].x < 0.9:\n",
    "            nx.draw_networkx_edges(G, pos=pos,\n",
    "                                   edgelist=[(u,v)],\n",
    "                                   edge_color='r')\n",
    "            \n",
    "            nx.draw_networkx_edge_labels(G, pos=pos,\n",
    "                                         edge_labels={(u,v):'{:.2f}'.format(x[u,v].x)})\n",
    "        \n",
    "        if x[u,v].x > 0.9:\n",
    "            nx.draw_networkx_edges(G, pos=pos,\n",
    "                                   edgelist=[(u,v)],\n",
    "                                   edge_color='k')\n",
    "        \n",
    "\n",
    "    \n",
    "    #edges_in_sol = [(u,v)  for u,v in G.edges() if x[u,v].x > 0.1]\n",
    "\n",
    "    \n",
    "    plt.axis('off')\n",
    "    plt.show()"
   ]
  },
  {
   "cell_type": "markdown",
   "metadata": {},
   "source": [
    "#  Minimum Spanning Tree Problem \n",
    "## Multicommodity flow formulation\n"
   ]
  },
  {
   "cell_type": "markdown",
   "metadata": {},
   "source": [
    "### Decision variables\n",
    "\n",
    "$$\n",
    "x_e = \\begin{cases}\n",
    "1 \\text{ if edge $e$ is in the tree} \\\\\n",
    "0 \\text { otherwise}\n",
    "\\end{cases}\n",
    "$$\n",
    "\n",
    "Associate to each edge $e$ two directed arcs $(i,j)$ and $(j,i)$ and let \n",
    "\n",
    "\n",
    "$$\n",
    "y_{ij}= \\{\\text{capacity for the flow of each commodity $k$ in arc } (i,j)\\}\n",
    "$$\n",
    "\n",
    "$$\n",
    "f^k_{ij} = \\{\\text{flow of commodity $k$ carried by the arc } (i,j)\\}\n",
    "$$\n",
    "\n",
    "\n",
    "$$\n",
    "z^h_{i} = \\begin{cases}\n",
    "1 \\text{ if hub of type $h$ is installed in node $i$} \\\\\n",
    "0 \\text { otherwise}\n",
    "\\end{cases}\n",
    "$$"
   ]
  },
  {
   "cell_type": "markdown",
   "metadata": {},
   "source": [
    "### Constraints\n",
    "\\begin{alignat}{3}\n",
    "\\min cx + \\sum_{i \\in V} \\sum_{h \\in HT} c_h z_i^h&&\\\\\n",
    "\\sum_{j \\in \\delta^+(0)} f^k_{0j} - \\sum_{j \\in \\delta^-(0)} f^k_{j0} = 1 &&\\;\\; \\forall k \\not = \\{0\\}\\\\\n",
    "\\sum_{j \\in \\delta^-(v)} f^k_{jv} - \\sum_{j \\in \\delta^+(v)} f^k_{vj} = 0 &&\\;\\; \\forall k \\not = \\{0\\}, \\forall v \\in V, v \\not = \\{0\\}, v \\not = k \\\\\n",
    "\\sum_{j \\in \\delta^-(k)} f^k_{jk} - \\sum_{j \\in \\delta^+(k)} f^k_{kj} = 1 && \\;\\; \\forall k \\not = \\{0\\} \\\\\n",
    "f^k_{ij} \\le y_{ij} && \\;\\; \\forall (i,j) \\text{ and } \\forall k \\not = \\{0\\}\\\\\n",
    "\\sum_{\\{i,j\\} \\in E} (y_{ij} + y_{ji}) = n-1\\\\\n",
    "y_{ij} + y_{ji} = x_e && \\\\\n",
    "f \\ge 0, \\; x_e \\in \\{0,1\\}\\; \n",
    "\\forall e \\in E \\\\y_{ij} \\in \\{0,1\\} \\; \\forall (i,j) \\in A\n",
    "\\end{alignat}"
   ]
  },
  {
   "cell_type": "code",
   "execution_count": 16,
   "metadata": {},
   "outputs": [
    {
     "name": "stdout",
     "output_type": "stream",
     "text": [
      "G has 15 nodes and 105 edges\n"
     ]
    }
   ],
   "source": [
    "args.filename = \"network2.gml\"\n",
    "args.figsize = 10,12\n",
    "\n",
    "basename = os.path.splitext(args.filename)[0]\n",
    "G = nx.read_graphml (args.filename, node_type=int)\n",
    "\n",
    "print (\"G has\", G.number_of_nodes(), \"nodes and\", G.number_of_edges(), \"edges\")"
   ]
  },
  {
   "cell_type": "code",
   "execution_count": 17,
   "metadata": {},
   "outputs": [],
   "source": [
    "root = 0\n",
    "G = nx.convert_node_labels_to_integers(G, first_label=root,label_attribute='old' )\n",
    "D = G.to_directed()"
   ]
  },
  {
   "cell_type": "code",
   "execution_count": 18,
   "metadata": {},
   "outputs": [],
   "source": [
    "mstmulti = gb.Model()"
   ]
  },
  {
   "cell_type": "code",
   "execution_count": 19,
   "metadata": {},
   "outputs": [],
   "source": [
    "## variables definitions \n",
    "x = mstmulti.addVars(G.edges(), obj=[G[u][v]['cost'] for u,v in G.edges()], ub = 1.0, vtype=gb.GRB.BINARY, name='x')\n",
    "\n",
    "y = mstmulti.addVars(D.edges(), ub=1.0, vtype=gb.GRB.BINARY, name='y')\n",
    "\n",
    "commodities = list(G.nodes())[1:]\n",
    "f = mstmulti.addVars(D.edges(), commodities, ub=G.number_of_nodes(), vtype=gb.GRB.CONTINUOUS, name='f')\n",
    "\n",
    "# ROOT CONSTRAINTS: there is one constraint for each commodity\n",
    "\n",
    "for k in commodities:\n",
    "    name = \"Root_Com_\"+str(k)\n",
    "    mstmulti.addConstr(f.sum(root, '*', k) - f.sum('*',root,k) == 1, name)\n",
    "\n",
    "# BALANCE CONSTRAINTS: written for all nodes different from root and for nodes different\n",
    "# from the terminal of each commodity\n",
    "\n",
    "for v in commodities:\n",
    "    for k in commodities:\n",
    "        if (v != k):\n",
    "            name = \"Balance_\"+str(v)+\"_Com_\"+str(k)\n",
    "            mstmulti.addConstr(f.sum('*',v,k) - f.sum(v,'*',k) == 0, name)\n",
    "            \n",
    "# TERMINAL CONSTRAINTS: there is one constraint for each commodity\n",
    "\n",
    "for k in commodities:\n",
    "    name = \"Term_Com_\"+str(k)\n",
    "    mstmulti.addConstr(f.sum('*',k,k) - f.sum(k,'*',k) == 1, name)\n",
    "\n",
    "# VARIABLE CAPACITY constraints\n",
    "\n",
    "for k in commodities:\n",
    "    for i,j in D.edges():\n",
    "        name = \"Cap_(%d,%d)\" % (i,j) + \"_Com_\" + str(k)\n",
    "        mstmulti.addConstr (f [i,j,k] - y[i,j] <= 0, name)\n",
    "        \n",
    "# CARDINALITY constraint\n",
    "\n",
    "mstmulti.addConstr(y.sum() == G.number_of_nodes() - 1, \"Cardinality\")\n",
    "        \n",
    "# EQUALITY constraints\n",
    "\n",
    "for i,j in G.edges():\n",
    "    name = \"Equality_x_(%d,%d)\"%(i,j)\n",
    "    mstmulti.addConstr(y[i,j] + y[j,i] -  x[i,j] == 0, name)\n",
    "    \n",
    "\n",
    "mstmulti.write('multi.lp')\n",
    "mstmulti.update()"
   ]
  },
  {
   "cell_type": "markdown",
   "metadata": {},
   "source": [
    "## **Ex ->** To realize the network, in each node a hub must be installed among different available types. Each hubtype is characterized by a cost (in Euro)and by a maximum number of connections that it can accommodate \n",
    "- Hint: Starting from the multicommodity flow formulation in the notebook MST-multi.ipynb add extra an extra binary variable ${z^i}_k$ equal to 1 if a hub of type k is installedin node i"
   ]
  },
  {
   "cell_type": "code",
   "execution_count": 20,
   "metadata": {},
   "outputs": [],
   "source": [
    "hub_types = [1,2,3]\n",
    "hub_cost = {1:15, 2:20, 3:50}\n",
    "obj = [hub_cost[i] for j in G.nodes() for i in hub_types]\n",
    "\n",
    "z = mstmulti.addVars(G.nodes(), hub_types, obj=obj, vtype=gb.GRB.BINARY, name='z')\n",
    "\n",
    "mstmulti.write('multi.lp')\n",
    "mstmulti.update()"
   ]
  },
  {
   "cell_type": "markdown",
   "metadata": {},
   "source": [
    "## Constraints on z variables\n",
    "\n",
    "\\begin{alignat}{3}\n",
    "\\sum_{h \\in HT} z_i^h = 1 \\; \\forall i  \\in V\\\\\n",
    "\\sum_{e \\in \\delta(i)} x_e \\le 2z_i^1 + 4 z_i^2 + 8 z_i^3 \\;\\; \\forall i \\in V\\\\\n",
    "\\\\ z_i^k \\in \\{0,1\\} \\; \\forall i \\in V\n",
    "\\end{alignat}"
   ]
  },
  {
   "cell_type": "code",
   "execution_count": 26,
   "metadata": {},
   "outputs": [
    {
     "name": "stdout",
     "output_type": "stream",
     "text": [
      "Warning: linear constraint 3256 and linear constraint 3286 have the same name \"Hub_0\"\n"
     ]
    }
   ],
   "source": [
    "# In each node a hub must be installed \n",
    "for i in G.nodes():\n",
    "    name = \"Hub_%d\" % i \n",
    "    mstmulti.addConstr (z.sum(i) == 1, name)\n",
    "\n",
    "# max hub's connections constraint\n",
    "for i in G.nodes():\n",
    "    name = \"Variable_Degree%d\" % i\n",
    "    mstmulti.addConstr(gb.quicksum([x[u,v] if (u,v) \\\n",
    "                                    in x else x[v,u] for u,v in G.edges(i)]) -  2*z[i, 1] - 4 * z[i, 2] - 8 * z[i, 3], \\\n",
    "                  sense='<=', rhs=0, name=name)\n",
    "    \n",
    "mstmulti.update()\n",
    "mstmulti.write('multi.lp')"
   ]
  },
  {
   "cell_type": "code",
   "execution_count": 27,
   "metadata": {},
   "outputs": [
    {
     "name": "stdout",
     "output_type": "stream",
     "text": [
      "Gurobi Optimizer version 9.1.2 build v9.1.2rc0 (linux64)\n",
      "Thread count: 6 physical cores, 12 logical processors, using up to 12 threads\n",
      "Optimize a model with 3346 rows, 3300 columns and 13185 nonzeros\n",
      "Model fingerprint: 0x33f6d3f5\n",
      "Variable types: 2940 continuous, 360 integer (360 binary)\n",
      "Coefficient statistics:\n",
      "  Matrix range     [1e+00, 8e+00]\n",
      "  Objective range  [2e+01, 5e+03]\n",
      "  Bounds range     [1e+00, 2e+01]\n",
      "  RHS range        [1e+00, 1e+01]\n",
      "\n",
      "MIP start from previous solve produced solution with objective 10832 (0.01s)\n",
      "Loaded MIP start from previous solve with objective 10832\n",
      "\n",
      "Presolve removed 60 rows and 15 columns\n",
      "Presolve time: 0.02s\n",
      "Presolved: 3286 rows, 3285 columns, 12555 nonzeros\n",
      "Variable types: 2940 continuous, 345 integer (345 binary)\n",
      "\n",
      "Root relaxation: objective 1.082700e+04, 1461 iterations, 0.06 seconds\n",
      "\n",
      "    Nodes    |    Current Node    |     Objective Bounds      |     Work\n",
      " Expl Unexpl |  Obj  Depth IntInf | Incumbent    BestBd   Gap | It/Node Time\n",
      "\n",
      "     0     0     cutoff    0      10832.0000 10832.0000  0.00%     -    0s\n",
      "\n",
      "Explored 0 nodes (1462 simplex iterations) in 0.11 seconds\n",
      "Thread count was 12 (of 12 available processors)\n",
      "\n",
      "Solution count 1: 10832 \n",
      "\n",
      "Optimal solution found (tolerance 1.00e-04)\n",
      "Best objective 1.083200000000e+04, best bound 1.083200000000e+04, gap 0.0000%\n",
      "\n",
      "------------------------------------------------------------------------------------------------------------------------------------------------\n",
      "\n",
      "Optimal solution: 10832.0\n",
      "\n",
      "------------------------------------------------------------------------------------------------------------------------------------------------\n",
      "\n"
     ]
    },
    {
     "data": {
      "image/png": "[encoded data removed]",
      "text/plain": [
       "<Figure size 720x864 with 1 Axes>"
      ]
     },
     "metadata": {},
     "output_type": "display_data"
    }
   ],
   "source": [
    "mstmulti.optimize()\n",
    "\n",
    "print(\"\\n------------------------------------------------------------------------------------------------------------------------------------------------\\n\")\n",
    "print (\"Optimal solution:\", mstmulti.objVal)\n",
    "print(\"\\n------------------------------------------------------------------------------------------------------------------------------------------------\\n\")\n",
    "\n",
    "DrawSol(G,x)"
   ]
  },
  {
   "cell_type": "code",
   "execution_count": null,
   "metadata": {},
   "outputs": [],
   "source": []
  }
 ],
 "metadata": {
  "anaconda-cloud": {},
  "kernelspec": {
   "display_name": "Python 3",
   "language": "python",
   "name": "python3"
  },
  "language_info": {
   "codemirror_mode": {
    "name": "ipython",
    "version": 3
   },
   "file_extension": ".py",
   "mimetype": "text/x-python",
   "name": "python",
   "nbconvert_exporter": "python",
   "pygments_lexer": "ipython3",
   "version": "3.8.5"
  }
 },
 "nbformat": 4,
 "nbformat_minor": 4
}
