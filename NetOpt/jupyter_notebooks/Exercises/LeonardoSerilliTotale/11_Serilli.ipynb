{
 "cells": [
  {
   "cell_type": "markdown",
   "id": "oriental-license",
   "metadata": {},
   "source": [
    "## Network Optimization June 8 2021\n",
    "\n",
    "### 274426\tSerilli\tLeonardo\n",
    "\n",
    "### Exercise 1\n",
    "\n",
    "The graph ``11_net08062021.gml``  contains a set of potential customers that a telecom company can connect with a network rooted in node 1. The number of customers in each node is stored in the node attribute ``customer``.\n",
    "Each edge $uv$ has an activation cost \\[``cost`` attribute in the graph\\].\n",
    "\n",
    "#### Questions\n",
    "\n",
    "1.\tFind the set of links that connects all nodes at minimum cost. \n",
    "2.\tFind the set of links that connects at least $95\\%$ of the customers at minimum cost with the constraint that each node in the network can accept up to 2 connections. \n",
    "3.\tFrom network 1, suppose that you can install one hub in one of the nodes \\[6,11,14\\] with the following features:\n",
    "    a.\tIf the hub is installed in node $k$, the cost of a link from node $k$ to any other node is zero;\n",
    "    b.\tThe hub can accept up to 6 connections.\n",
    "\n",
    "\n",
    "### Exercise 2\n",
    "\n",
    "The graph ``11_distnet08062021.gml`` represents a logistic distribution network. \n",
    "Each arc has a cost \\[``dist`` attribute in the graph\\]. Suppose that each node represents a customer that demands exactly one unit of a good and that the company owns a vehicle with capacity $C=14$. Compare the following distribution strategies: \n",
    "\n",
    "1.\tGoods are stored only in node 1 (cost: 15 Euro per unit) and delivers are split in two different tours. \n",
    "2.\tGoods are stored in nodes 1 (cost: 15 Euro per unit) and node 15 (cost: 200 Euro per unit).\n",
    "3.\tModel the following constraints and discuss the effect on the optimal network configuration: \n",
    "    a.\tIf arc (12,19) is used then arc (19,21) must be used.\n",
    "    b.\tThe tour must contain the sequence of nodes: \n",
    "    $$ 20 \\rightarrow 21 \\rightarrow 5 \\rightarrow 12 \\rightarrow 1 $$\n",
    "\n"
   ]
  },
  {
   "cell_type": "code",
   "execution_count": null,
   "id": "personal-rental",
   "metadata": {},
   "outputs": [],
   "source": []
  }
 ],
 "metadata": {
  "kernelspec": {
   "display_name": "Python 3",
   "language": "python",
   "name": "python3"
  },
  "language_info": {
   "codemirror_mode": {
    "name": "ipython",
    "version": 3
   },
   "file_extension": ".py",
   "mimetype": "text/x-python",
   "name": "python",
   "nbconvert_exporter": "python",
   "pygments_lexer": "ipython3",
   "version": "3.8.5"
  }
 },
 "nbformat": 4,
 "nbformat_minor": 5
}
