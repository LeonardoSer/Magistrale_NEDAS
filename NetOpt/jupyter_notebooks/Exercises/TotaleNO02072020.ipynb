{
  "nbformat": 4,
  "nbformat_minor": 0,
  "metadata": {
    "kernelspec": {
      "display_name": "Python 3",
      "language": "python",
      "name": "python3"
    },
    "language_info": {
      "codemirror_mode": {
        "name": "ipython",
        "version": 3
      },
      "file_extension": ".py",
      "mimetype": "text/x-python",
      "name": "python",
      "nbconvert_exporter": "python",
      "pygments_lexer": "ipython3",
      "version": "3.7.10"
    },
    "colab": {
      "name": "PCST_Exercise.ipynb",
      "provenance": [],
      "include_colab_link": true
    }
  },
  "cells": [
    {
      "cell_type": "markdown",
      "metadata": {
        "id": "view-in-github",
        "colab_type": "text"
      },
      "source": [
        "<a href=\"https://colab.research.google.com/github/LeonardoSer/Univ/blob/main/NetOpt/jupyter_notebooks/Exercises/PCST_Exercise.ipynb\" target=\"_parent\"><img src=\"https://colab.research.google.com/assets/colab-badge.svg\" alt=\"Open In Colab\"/></a>"
      ]
    },
    {
      "cell_type": "code",
      "metadata": {
        "id": "FUNl40ouwk9s"
      },
      "source": [
        "!python -m pip install -i https://pypi.gurobi.com gurobipy\n",
        "!sudo apt-get install graphviz libgraphviz-dev pkg-config\n",
        "!pip install pygraphviz\n",
        "\n",
        "import networkx as nx\n",
        "import gurobipy as gb\n",
        "import os\n",
        "import matplotlib.pyplot as plt"
      ],
      "execution_count": null,
      "outputs": []
    },
    {
      "cell_type": "code",
      "metadata": {
        "id": "x4_BHpCfxfGw"
      },
      "source": [
        "# Drawing functions\n",
        "\n",
        "def DrawInitG(G, withedges=False):\n",
        "    \n",
        "    plt.figure(figsize=args.figsize)\n",
        "    \n",
        "    pos = {i:(G.nodes[i]['x'], G.nodes[i]['y']) for i in G.nodes()}\n",
        "    \n",
        "    nx.draw_networkx_nodes(G, \n",
        "                           pos=pos, \n",
        "                           node_shape='o', \n",
        "                           node_size=600,\n",
        "                           node_color='red')\n",
        "    \n",
        "    nx.draw_networkx_labels(G, pos=pos, font_color='w', font_size=12)\n",
        "    \n",
        "    if withedges:\n",
        "        nx.draw_networkx_edges(G,pos=pos, alpha=1.0)\n",
        "        labels = {(i,j):G.get_edge_data(i,j,'cost').get('cost') for i,j in G.edges()}\n",
        "        nx.draw_networkx_edge_labels(G, pos=pos, edge_labels=labels)\n",
        "    \n",
        "    plt.axis('off')\n",
        "    plt.show()\n",
        "    \n",
        "def DrawSol(G, x):\n",
        "    \n",
        "    plt.figure(figsize=args.figsize)\n",
        "    \n",
        "    pos = {i:(G.nodes[i]['x'], G.nodes[i]['y']) for i in G.nodes()}\n",
        "\n",
        "    \n",
        "    nx.draw_networkx_nodes(G, \n",
        "                           pos=pos, \n",
        "                           node_shape='o', \n",
        "                           node_size=600,\n",
        "                           node_color='red',\n",
        "                           label=[G.nodes()])\n",
        "    \n",
        "    nx.draw_networkx_labels(G, pos=pos, font_color='w', font_size=12)\n",
        "    \n",
        "    for u,v in G.edges():\n",
        "        if x[u,v].x > 0.01 and x[u,v].x < 0.9:\n",
        "            nx.draw_networkx_edges(G, pos=pos,\n",
        "                                   edgelist=[(u,v)],\n",
        "                                   edge_color='r')\n",
        "            \n",
        "            nx.draw_networkx_edge_labels(G, pos=pos,\n",
        "                                         edge_labels={(u,v):'{:.2f}'.format(x[u,v].x)})\n",
        "        \n",
        "        if x[u,v].x > 0.9:\n",
        "            nx.draw_networkx_edges(G, pos=pos,\n",
        "                                   edgelist=[(u,v)],\n",
        "                                   edge_color='k')\n",
        "        \n",
        "\n",
        "    \n",
        "    #edges_in_sol = [(u,v)  for u,v in G.edges() if x[u,v].x > 0.1]\n",
        "\n",
        "    \n",
        "    plt.axis('off')\n",
        "    plt.show()\n",
        "    \n",
        "class args:\n",
        "    filename = None\n",
        "    figsize = 30,60\n",
        "    scale = 40"
      ],
      "execution_count": 96,
      "outputs": []
    },
    {
      "cell_type": "code",
      "metadata": {
        "colab": {
          "base_uri": "https://localhost:8080/"
        },
        "id": "GWP_YMZDwk9u",
        "outputId": "fcb18235-e54f-40ce-9581-42fae3408020"
      },
      "source": [
        "# Read the graph in the graphML format\n",
        "\n",
        "args.filename = 'ExPCST_2021.gml'\n",
        "\n",
        "basename = os.path.splitext(args.filename)[0]\n",
        "\n",
        "G = nx.read_graphml(args.filename, node_type=int)\n",
        "print (\"G has\", G.number_of_nodes(), \"nodes and\", G.number_of_edges(), \"edges\")"
      ],
      "execution_count": 97,
      "outputs": [
        {
          "output_type": "stream",
          "text": [
            "G has 30 nodes and 435 edges\n"
          ],
          "name": "stdout"
        }
      ]
    },
    {
      "cell_type": "code",
      "metadata": {
        "scrolled": false,
        "id": "jyidA_dhwk9x"
      },
      "source": [
        "# rendiamo il grafo G diretto\n",
        "D = G.to_directed()\n",
        "root = 1\n",
        "pos = {i:(G.nodes[i]['x'] * args.scale,G.nodes[i]['y'] * args.scale) for i in G.nodes()}\n",
        "# DrawInitG(G, withedges=True)"
      ],
      "execution_count": 98,
      "outputs": []
    },
    {
      "cell_type": "code",
      "metadata": {
        "colab": {
          "base_uri": "https://localhost:8080/"
        },
        "id": "qxybnvq67K4V",
        "outputId": "420e9b9e-89ca-4598-8839-1ad4a5f8474e"
      },
      "source": [
        "G.nodes(data=True)"
      ],
      "execution_count": 99,
      "outputs": [
        {
          "output_type": "execute_result",
          "data": {
            "text/plain": [
              "NodeDataView({1: {'y': 45, 'customer': 4739, 'revenue': 156, 'x': 22}, 2: {'y': 24, 'customer': 2607, 'revenue': 702, 'x': 32}, 3: {'y': 9, 'customer': 2269, 'revenue': 785, 'x': 32}, 4: {'y': 25, 'customer': 16100, 'revenue': 435, 'x': 4}, 5: {'y': 30, 'customer': 4608, 'revenue': 304, 'x': 37}, 6: {'y': 42, 'customer': 2954, 'revenue': 305, 'x': 24}, 7: {'y': 20, 'customer': 4062, 'revenue': 658, 'x': 11}, 8: {'y': 9, 'customer': 2045, 'revenue': 546, 'x': 27}, 9: {'y': 3, 'customer': 2517, 'revenue': 856, 'x': 20}, 10: {'y': 29, 'customer': 3013, 'revenue': 871, 'x': 15}, 11: {'y': 39, 'customer': 3983, 'revenue': 639, 'x': 16}, 12: {'y': 5, 'customer': 1109, 'revenue': 758, 'x': 17}, 13: {'y': 45, 'customer': 3217, 'revenue': 578, 'x': 19}, 14: {'y': 45, 'customer': 1434, 'revenue': 266, 'x': 15}, 15: {'y': 36, 'customer': 4616, 'revenue': 1000, 'x': 4}, 16: {'y': 32, 'customer': 3201, 'revenue': 369, 'x': 8}, 17: {'y': 22, 'customer': 4913, 'revenue': 708, 'x': 40}, 18: {'y': 26, 'customer': 4047, 'revenue': 323, 'x': 14}, 19: {'y': 3, 'customer': 12500, 'revenue': 400, 'x': 3}, 20: {'y': 13, 'customer': 2749, 'revenue': 806, 'x': 14}, 21: {'y': 27, 'customer': 2624, 'revenue': 570, 'x': 25}, 22: {'y': 24, 'customer': 4311, 'revenue': 587, 'x': 27}, 23: {'y': 25, 'customer': 4219, 'revenue': 439, 'x': 25}, 24: {'y': 42, 'customer': 2570, 'revenue': 625, 'x': 5}, 25: {'y': 2, 'customer': 3314, 'revenue': 636, 'x': 16}, 26: {'y': 34, 'customer': 1331, 'revenue': 680, 'x': 23}, 27: {'y': 41, 'customer': 4261, 'revenue': 379, 'x': 15}, 28: {'y': 13, 'customer': 3742, 'revenue': 766, 'x': 30}, 29: {'y': 36, 'customer': 4836, 'revenue': 347, 'x': 32}, 30: {'y': 5, 'customer': 1908, 'revenue': 840, 'x': 23}})"
            ]
          },
          "metadata": {
            "tags": []
          },
          "execution_count": 99
        }
      ]
    },
    {
      "cell_type": "code",
      "metadata": {
        "colab": {
          "base_uri": "https://localhost:8080/"
        },
        "id": "i_doM98i7L_N",
        "outputId": "bfe837b8-aa8c-442b-94d5-25317802d31f"
      },
      "source": [
        "G.edges(data=True)"
      ],
      "execution_count": 100,
      "outputs": [
        {
          "output_type": "execute_result",
          "data": {
            "text/plain": [
              "EdgeDataView([(1, 2, {'cost': 2325}), (1, 3, {'cost': 3736}), (1, 4, {'cost': 2690}), (1, 5, {'cost': 2121}), (1, 6, {'cost': 360}), (1, 7, {'cost': 2731}), (1, 8, {'cost': 3634}), (1, 9, {'cost': 4204}), (1, 10, {'cost': 1746}), (1, 11, {'cost': 848}), (1, 12, {'cost': 4031}), (1, 13, {'cost': 300}), (1, 14, {'cost': 700}), (1, 15, {'cost': 2012}), (1, 16, {'cost': 1910}), (1, 17, {'cost': 2920}), (1, 18, {'cost': 2061}), (1, 19, {'cost': 4609}), (1, 20, {'cost': 3298}), (1, 21, {'cost': 1824}), (1, 22, {'cost': 2158}), (1, 23, {'cost': 2022}), (1, 24, {'cost': 1726}), (1, 25, {'cost': 4341}), (1, 26, {'cost': 1104}), (1, 27, {'cost': 806}), (1, 28, {'cost': 3298}), (1, 29, {'cost': 1345}), (1, 30, {'cost': 4001}), (2, 3, {'cost': 1500}), (2, 4, {'cost': 2801}), (2, 5, {'cost': 781}), (2, 6, {'cost': 1969}), (2, 7, {'cost': 2137}), (2, 8, {'cost': 1581}), (2, 9, {'cost': 2418}), (2, 10, {'cost': 1772}), (2, 11, {'cost': 2193}), (2, 12, {'cost': 2420}), (2, 13, {'cost': 2469}), (2, 14, {'cost': 2701}), (2, 15, {'cost': 3046}), (2, 16, {'cost': 2529}), (2, 17, {'cost': 824}), (2, 18, {'cost': 1811}), (2, 19, {'cost': 3580}), (2, 20, {'cost': 2109}), (2, 21, {'cost': 761}), (2, 22, {'cost': 500}), (2, 23, {'cost': 707}), (2, 24, {'cost': 3244}), (2, 25, {'cost': 2720}), (2, 26, {'cost': 1345}), (2, 27, {'cost': 2404}), (2, 28, {'cost': 1118}), (2, 29, {'cost': 1200}), (2, 30, {'cost': 2102}), (3, 4, {'cost': 3224}), (3, 5, {'cost': 2158}), (3, 6, {'cost': 3395}), (3, 7, {'cost': 2370}), (3, 8, {'cost': 500}), (3, 9, {'cost': 1341}), (3, 10, {'cost': 2624}), (3, 11, {'cost': 3400}), (3, 12, {'cost': 1552}), (3, 13, {'cost': 3827}), (3, 14, {'cost': 3981}), (3, 15, {'cost': 3889}), (3, 16, {'cost': 3324}), (3, 17, {'cost': 1526}), (3, 18, {'cost': 2475}), (3, 19, {'cost': 2961}), (3, 20, {'cost': 1843}), (3, 21, {'cost': 1931}), (3, 22, {'cost': 1581}), (3, 23, {'cost': 1746}), (3, 24, {'cost': 4263}), (3, 25, {'cost': 1746}), (3, 26, {'cost': 2657}), (3, 27, {'cost': 3623}), (3, 28, {'cost': 447}), (3, 29, {'cost': 2700}), (3, 30, {'cost': 984}), (4, 5, {'cost': 3337}), (4, 6, {'cost': 2624}), (4, 7, {'cost': 860}), (4, 8, {'cost': 2801}), (4, 9, {'cost': 2720}), (4, 10, {'cost': 1170}), (4, 11, {'cost': 1843}), (4, 12, {'cost': 2385}), (4, 13, {'cost': 2500}), (4, 14, {'cost': 2282}), (4, 15, {'cost': 1100}), (4, 16, {'cost': 806}), (4, 17, {'cost': 3612}), (4, 18, {'cost': 1004}), (4, 19, {'cost': 2202}), (4, 20, {'cost': 1562}), (4, 21, {'cost': 2109}), (4, 22, {'cost': 2302}), (4, 23, {'cost': 2100}), (4, 24, {'cost': 1702}), (4, 25, {'cost': 2594}), (4, 26, {'cost': 2102}), (4, 27, {'cost': 1941}), (4, 28, {'cost': 2863}), (4, 29, {'cost': 3008}), (4, 30, {'cost': 2758}), (5, 6, {'cost': 1769}), (5, 7, {'cost': 2785}), (5, 8, {'cost': 2325}), (5, 9, {'cost': 3190}), (5, 10, {'cost': 2202}), (5, 11, {'cost': 2284}), (5, 12, {'cost': 3201}), (5, 13, {'cost': 2343}), (5, 14, {'cost': 2662}), (5, 15, {'cost': 3354}), (5, 16, {'cost': 2906}), (5, 17, {'cost': 854}), (5, 18, {'cost': 2334}), (5, 19, {'cost': 4341}), (5, 20, {'cost': 2860}), (5, 21, {'cost': 1236}), (5, 22, {'cost': 1166}), (5, 23, {'cost': 1300}), (5, 24, {'cost': 3417}), (5, 25, {'cost': 3500}), (5, 26, {'cost': 1456}), (5, 27, {'cost': 2459}), (5, 28, {'cost': 1838}), (5, 29, {'cost': 781}), (5, 30, {'cost': 2865}), (6, 7, {'cost': 2555}), (6, 8, {'cost': 3313}), (6, 9, {'cost': 3920}), (6, 10, {'cost': 1581}), (6, 11, {'cost': 854}), (6, 12, {'cost': 3765}), (6, 13, {'cost': 583}), (6, 14, {'cost': 948}), (6, 15, {'cost': 2088}), (6, 16, {'cost': 1886}), (6, 17, {'cost': 2561}), (6, 18, {'cost': 1886}), (6, 19, {'cost': 4429}), (6, 20, {'cost': 3067}), (6, 21, {'cost': 1503}), (6, 22, {'cost': 1824}), (6, 23, {'cost': 1702}), (6, 24, {'cost': 1900}), (6, 25, {'cost': 4079}), (6, 26, {'cost': 806}), (6, 27, {'cost': 905}), (6, 28, {'cost': 2961}), (6, 29, {'cost': 1000}), (6, 30, {'cost': 3701}), (7, 8, {'cost': 1941}), (7, 9, {'cost': 1923}), (7, 10, {'cost': 984}), (7, 11, {'cost': 1964}), (7, 12, {'cost': 1615}), (7, 13, {'cost': 2624}), (7, 14, {'cost': 2531}), (7, 15, {'cost': 1746}), (7, 16, {'cost': 1236}), (7, 17, {'cost': 2906}), (7, 18, {'cost': 670}), (7, 19, {'cost': 1878}), (7, 20, {'cost': 761}), (7, 21, {'cost': 1565}), (7, 22, {'cost': 1649}), (7, 23, {'cost': 1486}), (7, 24, {'cost': 2280}), (7, 25, {'cost': 1868}), (7, 26, {'cost': 1843}), (7, 27, {'cost': 2137}), (7, 28, {'cost': 2024}), (7, 29, {'cost': 2640}), (7, 30, {'cost': 1920}), (8, 9, {'cost': 921}), (8, 10, {'cost': 2332}), (8, 11, {'cost': 3195}), (8, 12, {'cost': 1077}), (8, 13, {'cost': 3687}), (8, 14, {'cost': 3794}), (8, 15, {'cost': 3546}), (8, 16, {'cost': 2983}), (8, 17, {'cost': 1838}), (8, 18, {'cost': 2140}), (8, 19, {'cost': 2473}), (8, 20, {'cost': 1360}), (8, 21, {'cost': 1811}), (8, 22, {'cost': 1500}), (8, 23, {'cost': 1612}), (8, 24, {'cost': 3966}), (8, 25, {'cost': 1303}), (8, 26, {'cost': 2531}), (8, 27, {'cost': 3417}), (8, 28, {'cost': 500}), (8, 29, {'cost': 2745}), (8, 30, {'cost': 565}), (9, 10, {'cost': 2647}), (9, 11, {'cost': 3622}), (9, 12, {'cost': 360}), (9, 13, {'cost': 4201}), (9, 14, {'cost': 4229}), (9, 15, {'cost': 3667}), (9, 16, {'cost': 3138}), (9, 17, {'cost': 2758}), (9, 18, {'cost': 2376}), (9, 19, {'cost': 1700}), (9, 20, {'cost': 1166}), (9, 21, {'cost': 2451}), (9, 22, {'cost': 2213}), (9, 23, {'cost': 2256}), (9, 24, {'cost': 4178}), (9, 25, {'cost': 412}), (9, 26, {'cost': 3114}), (9, 27, {'cost': 3832}), (9, 28, {'cost': 1414}), (9, 29, {'cost': 3511}), (9, 30, {'cost': 360}), (10, 11, {'cost': 1004}), (10, 12, {'cost': 2408}), (10, 13, {'cost': 1649}), (10, 14, {'cost': 1600}), (10, 15, {'cost': 1303}), (10, 16, {'cost': 761}), (10, 17, {'cost': 2596}), (10, 18, {'cost': 316}), (10, 19, {'cost': 2863}), (10, 20, {'cost': 1603}), (10, 21, {'cost': 1019}), (10, 22, {'cost': 1300}), (10, 23, {'cost': 1077}), (10, 24, {'cost': 1640}), (10, 25, {'cost': 2701}), (10, 26, {'cost': 943}), (10, 27, {'cost': 1200}), (10, 28, {'cost': 2193}), (10, 29, {'cost': 1838}), (10, 30, {'cost': 2529}), (11, 12, {'cost': 3401}), (11, 13, {'cost': 670}), (11, 14, {'cost': 608}), (11, 15, {'cost': 1236}), (11, 16, {'cost': 1063}), (11, 17, {'cost': 2941}), (11, 18, {'cost': 1315}), (11, 19, {'cost': 3827}), (11, 20, {'cost': 2607}), (11, 21, {'cost': 1500}), (11, 22, {'cost': 1860}), (11, 23, {'cost': 1664}), (11, 24, {'cost': 1140}), (11, 25, {'cost': 3700}), (11, 26, {'cost': 860}), (11, 27, {'cost': 223}), (11, 28, {'cost': 2952}), (11, 29, {'cost': 1627}), (11, 30, {'cost': 3471}), (12, 13, {'cost': 4004}), (12, 14, {'cost': 4004}), (12, 15, {'cost': 3361}), (12, 16, {'cost': 2846}), (12, 17, {'cost': 2860}), (12, 18, {'cost': 2121}), (12, 19, {'cost': 1414}), (12, 20, {'cost': 854}), (12, 21, {'cost': 2340}), (12, 22, {'cost': 2147}), (12, 23, {'cost': 2154}), (12, 24, {'cost': 3889}), (12, 25, {'cost': 316}), (12, 26, {'cost': 2961}), (12, 27, {'cost': 3605}), (12, 28, {'cost': 1526}), (12, 29, {'cost': 3443}), (12, 30, {'cost': 600}), (13, 14, {'cost': 400}), (13, 15, {'cost': 1749}), (13, 16, {'cost': 1702}), (13, 17, {'cost': 3114}), (13, 18, {'cost': 1964}), (13, 19, {'cost': 4494}), (13, 20, {'cost': 3238}), (13, 21, {'cost': 1897}), (13, 22, {'cost': 2247}), (13, 23, {'cost': 2088}), (13, 24, {'cost': 1431}), (13, 25, {'cost': 4310}), (13, 26, {'cost': 1170}), (13, 27, {'cost': 565}), (13, 28, {'cost': 3383}), (13, 29, {'cost': 1581}), (13, 30, {'cost': 4019}), (14, 15, {'cost': 1421}), (14, 16, {'cost': 1476}), (14, 17, {'cost': 3397}), (14, 18, {'cost': 1902}), (14, 19, {'cost': 4368}), (14, 20, {'cost': 3201}), (14, 21, {'cost': 2059}), (14, 22, {'cost': 2418}), (14, 23, {'cost': 2236}), (14, 24, {'cost': 1044}), (14, 25, {'cost': 4301}), (14, 26, {'cost': 1360}), (14, 27, {'cost': 400}), (14, 28, {'cost': 3534}), (14, 29, {'cost': 1923}), (14, 30, {'cost': 4079}), (15, 16, {'cost': 565}), (15, 17, {'cost': 3862}), (15, 18, {'cost': 1414}), (15, 19, {'cost': 3301}), (15, 20, {'cost': 2507}), (15, 21, {'cost': 2284}), (15, 22, {'cost': 2594}), (15, 23, {'cost': 2370}), (15, 24, {'cost': 608}), (15, 25, {'cost': 3605}), (15, 26, {'cost': 1910}), (15, 27, {'cost': 1208}), (15, 28, {'cost': 3471}), (15, 29, {'cost': 2800}), (15, 30, {'cost': 3635}), (16, 17, {'cost': 3352}), (16, 18, {'cost': 848}), (16, 19, {'cost': 2942}), (16, 20, {'cost': 1992}), (16, 21, {'cost': 1772}), (16, 22, {'cost': 2061}), (16, 23, {'cost': 1838}), (16, 24, {'cost': 1044}), (16, 25, {'cost': 3104}), (16, 26, {'cost': 1513}), (16, 27, {'cost': 1140}), (16, 28, {'cost': 2906}), (16, 29, {'cost': 2433}), (16, 30, {'cost': 3088}), (17, 18, {'cost': 2630}), (17, 19, {'cost': 4159}), (17, 20, {'cost': 2751}), (17, 21, {'cost': 1581}), (17, 22, {'cost': 1315}), (17, 23, {'cost': 1529}), (17, 24, {'cost': 4031}), (17, 25, {'cost': 3124}), (17, 26, {'cost': 2080}), (17, 27, {'cost': 3140}), (17, 28, {'cost': 1345}), (17, 29, {'cost': 1612}), (17, 30, {'cost': 2404}), (18, 19, {'cost': 2549}), (18, 20, {'cost': 1300}), (18, 21, {'cost': 1104}), (18, 22, {'cost': 1315}), (18, 23, {'cost': 1104}), (18, 24, {'cost': 1835}), (18, 25, {'cost': 2408}), (18, 26, {'cost': 1204}), (18, 27, {'cost': 1503}), (18, 28, {'cost': 2061}), (18, 29, {'cost': 2059}), (18, 30, {'cost': 2284}), (19, 20, {'cost': 1486}), (19, 21, {'cost': 3255}), (19, 22, {'cost': 3189}), (19, 23, {'cost': 3111}), (19, 24, {'cost': 3905}), (19, 25, {'cost': 1303}), (19, 26, {'cost': 3689}), (19, 27, {'cost': 3984}), (19, 28, {'cost': 2879}), (19, 29, {'cost': 4393}), (19, 30, {'cost': 2009}), (20, 21, {'cost': 1780}), (20, 22, {'cost': 1702}), (20, 23, {'cost': 1627}), (20, 24, {'cost': 3036}), (20, 25, {'cost': 1118}), (20, 26, {'cost': 2284}), (20, 27, {'cost': 2801}), (20, 28, {'cost': 1600}), (20, 29, {'cost': 2920}), (20, 30, {'cost': 1204}), (21, 22, {'cost': 360}), (21, 23, {'cost': 200}), (21, 24, {'cost': 2500}), (21, 25, {'cost': 2657}), (21, 26, {'cost': 728}), (21, 27, {'cost': 1720}), (21, 28, {'cost': 1486}), (21, 29, {'cost': 1140}), (21, 30, {'cost': 2209}), (22, 23, {'cost': 223}), (22, 24, {'cost': 2842}), (22, 25, {'cost': 2459}), (22, 26, {'cost': 1077}), (22, 27, {'cost': 2080}), (22, 28, {'cost': 1140}), (22, 29, {'cost': 1300}), (22, 30, {'cost': 1941}), (23, 24, {'cost': 2624}), (23, 25, {'cost': 2469}), (23, 26, {'cost': 921}), (23, 27, {'cost': 1886}), (23, 28, {'cost': 1300}), (23, 29, {'cost': 1303}), (23, 30, {'cost': 2009}), (24, 25, {'cost': 4148}), (24, 26, {'cost': 1969}), (24, 27, {'cost': 1004}), (24, 28, {'cost': 3828}), (24, 29, {'cost': 2765}), (24, 30, {'cost': 4114}), (25, 26, {'cost': 3275}), (25, 27, {'cost': 3901}), (25, 28, {'cost': 1780}), (25, 29, {'cost': 3757}), (25, 30, {'cost': 761}), (26, 27, {'cost': 1063}), (26, 28, {'cost': 2213}), (26, 29, {'cost': 921}), (26, 30, {'cost': 2900}), (27, 28, {'cost': 3176}), (27, 29, {'cost': 1772}), (27, 30, {'cost': 3687}), (28, 29, {'cost': 2308}), (28, 30, {'cost': 1063}), (29, 30, {'cost': 3228})])"
            ]
          },
          "metadata": {
            "tags": []
          },
          "execution_count": 100
        }
      ]
    },
    {
      "cell_type": "code",
      "metadata": {
        "id": "nE8iRcmvwk9y"
      },
      "source": [
        "pcst = gb.Model()\n",
        "pcst.ModelSense = gb.GRB.MAXIMIZE\n",
        "\n",
        "# Variables definition\n",
        "\n",
        "x = pcst.addVars(D.edges(), vtype=gb.GRB.BINARY, \\\n",
        "                 obj = [- D[i][j]['cost'] for i,j in D.edges()], \\\n",
        "                 name = 'x')\n",
        "\n",
        "y = pcst.addVars (G.nodes(), vtype = gb.GRB.BINARY, \\\n",
        "                  obj = [G.nodes[i]['revenue'] for i in G.nodes()],\\\n",
        "                 name = 'y')\n",
        "\n",
        "u = pcst.addVars (G.nodes(), vtype = gb.GRB.CONTINUOUS, \n",
        "                  lb = 0.0, ub = G.number_of_nodes(),\\\n",
        "                 name = 'u')\n",
        "\n",
        "pcst.write('pcst.lp')\n"
      ],
      "execution_count": 101,
      "outputs": []
    },
    {
      "cell_type": "code",
      "metadata": {
        "id": "_YUpTch1wk90"
      },
      "source": [
        "# Root is in the solution\n",
        "pcst.addConstr(y[root] == 1, name = 'Fix')\n",
        "\n",
        "pcst.update()\n",
        "\n",
        "# Each node has exactly one incoming arc\n",
        "\n",
        "pcst.addConstrs((x.sum('*',j) == y[j] for j in G.nodes() if j != root), name='Node')\n",
        "\n",
        "# Precedence constraints (MTZ constraints)\n",
        "\n",
        "pcst.addConstrs(((G.number_of_nodes() +  1) * x[i,j] + u[i] - u[j] <= G.number_of_nodes() for i,j in D.edges()), name = 'MTZ')\n",
        "\n",
        "# Connectivity constraints\n",
        "\n",
        "pcst.addConstrs((x[j,k] <= y[j] for j in G.nodes() \\\n",
        "                 if j != root for k in D.neighbors(j)), name = 'Connect')\n",
        "pcst.update() \n",
        "\n",
        "pcst.write('pcst.lp')"
      ],
      "execution_count": 102,
      "outputs": []
    },
    {
      "cell_type": "code",
      "metadata": {
        "id": "RCk5OLRUwk91",
        "colab": {
          "base_uri": "https://localhost:8080/"
        },
        "outputId": "2ed1b5d2-d2e0-4d23-a6da-2b987b2e1b7e"
      },
      "source": [
        "pcst.optimize()"
      ],
      "execution_count": 103,
      "outputs": [
        {
          "output_type": "stream",
          "text": [
            "Gurobi Optimizer version 9.1.2 build v9.1.2rc0 (linux64)\n",
            "Thread count: 1 physical cores, 2 logical processors, using up to 2 threads\n",
            "Optimize a model with 1741 rows, 930 columns and 5163 nonzeros\n",
            "Model fingerprint: 0x56c69178\n",
            "Variable types: 30 continuous, 900 integer (900 binary)\n",
            "Coefficient statistics:\n",
            "  Matrix range     [1e+00, 3e+01]\n",
            "  Objective range  [2e+02, 5e+03]\n",
            "  Bounds range     [1e+00, 3e+01]\n",
            "  RHS range        [1e+00, 3e+01]\n",
            "Found heuristic solution: objective 156.0000000\n",
            "Presolve removed 59 rows and 31 columns\n",
            "Presolve time: 0.02s\n",
            "Presolved: 1682 rows, 899 columns, 4988 nonzeros\n",
            "Variable types: 29 continuous, 870 integer (870 binary)\n",
            "\n",
            "Root relaxation: objective 5.578806e+03, 61 iterations, 0.00 seconds\n",
            "\n",
            "    Nodes    |    Current Node    |     Objective Bounds      |     Work\n",
            " Expl Unexpl |  Obj  Depth IntInf | Incumbent    BestBd   Gap | It/Node Time\n",
            "\n",
            "     0     0 5578.80645    0   27  156.00000 5578.80645  3476%     -    0s\n",
            "     0     0 4754.14516    0   35  156.00000 4754.14516  2948%     -    0s\n",
            "H    0     0                     983.0000000 4754.14516   384%     -    0s\n",
            "H    0     0                    1391.0000000 4754.14516   242%     -    0s\n",
            "     0     0 4487.16129    0   32 1391.00000 4487.16129   223%     -    0s\n",
            "     0     0 4286.50000    0   30 1391.00000 4286.50000   208%     -    0s\n",
            "     0     0 4264.00000    0   32 1391.00000 4264.00000   207%     -    0s\n",
            "     0     0 4209.09677    0   26 1391.00000 4209.09677   203%     -    0s\n",
            "     0     0 4166.00000    0   32 1391.00000 4166.00000   199%     -    0s\n",
            "     0     0 4166.00000    0   32 1391.00000 4166.00000   199%     -    0s\n",
            "     0     0 4125.00000    0   24 1391.00000 4125.00000   197%     -    0s\n",
            "     0     0 4125.00000    0   24 1391.00000 4125.00000   197%     -    0s\n",
            "     0     0 4125.00000    0   24 1391.00000 4125.00000   197%     -    0s\n",
            "     0     0 4125.00000    0   24 1391.00000 4125.00000   197%     -    0s\n",
            "     0     0 4125.00000    0   20 1391.00000 4125.00000   197%     -    0s\n",
            "     0     0 4125.00000    0   24 1391.00000 4125.00000   197%     -    0s\n",
            "     0     0 4125.00000    0   20 1391.00000 4125.00000   197%     -    0s\n",
            "     0     0 4125.00000    0   24 1391.00000 4125.00000   197%     -    0s\n",
            "     0     0 4125.00000    0   20 1391.00000 4125.00000   197%     -    0s\n",
            "     0     0 4125.00000    0   20 1391.00000 4125.00000   197%     -    0s\n",
            "     0     0 3923.00000    0   27 1391.00000 3923.00000   182%     -    0s\n",
            "     0     0 3923.00000    0   24 1391.00000 3923.00000   182%     -    0s\n",
            "     0     0 3923.00000    0   25 1391.00000 3923.00000   182%     -    0s\n",
            "     0     0 3923.00000    0   25 1391.00000 3923.00000   182%     -    0s\n",
            "     0     0 3923.00000    0   25 1391.00000 3923.00000   182%     -    0s\n",
            "     0     0 3923.00000    0   25 1391.00000 3923.00000   182%     -    0s\n",
            "     0     0 3923.00000    0   25 1391.00000 3923.00000   182%     -    0s\n",
            "H    0     0                    1810.0000000 3923.00000   117%     -    0s\n",
            "     0     0 3923.00000    0   25 1810.00000 3923.00000   117%     -    0s\n",
            "     0     0 3923.00000    0   25 1810.00000 3923.00000   117%     -    0s\n",
            "     0     0 3923.00000    0   25 1810.00000 3923.00000   117%     -    0s\n",
            "     0     0 3901.33333    0   27 1810.00000 3901.33333   116%     -    0s\n",
            "     0     0 3901.33333    0   29 1810.00000 3901.33333   116%     -    0s\n",
            "     0     0 3901.33333    0   25 1810.00000 3901.33333   116%     -    0s\n",
            "     0     0 3901.33333    0   25 1810.00000 3901.33333   116%     -    0s\n",
            "     0     0 3901.33333    0   25 1810.00000 3901.33333   116%     -    0s\n",
            "     0     0 3901.33333    0   25 1810.00000 3901.33333   116%     -    0s\n",
            "     0     0 3901.33333    0   25 1810.00000 3901.33333   116%     -    0s\n",
            "     0     0 3901.33333    0   25 1810.00000 3901.33333   116%     -    0s\n",
            "     0     0 3901.33333    0   25 1810.00000 3901.33333   116%     -    0s\n",
            "     0     0 3901.33333    0   25 1810.00000 3901.33333   116%     -    0s\n",
            "     0     0 3901.33333    0   25 1810.00000 3901.33333   116%     -    0s\n",
            "     0     2 3901.33333    0   25 1810.00000 3901.33333   116%     -    0s\n",
            "H   54    41                    2358.0000000 3901.33333  65.5%   3.8    0s\n",
            "H   81    40                    2914.0000000 3901.33333  33.9%   4.0    0s\n",
            "H  453   107                    2928.0000000 3487.04342  19.1%   4.7    1s\n",
            "*  759    24              14    2975.0000000 3056.13333  2.73%   5.4    1s\n",
            "\n",
            "Cutting planes:\n",
            "  Learned: 20\n",
            "  Gomory: 1\n",
            "  Implied bound: 18\n",
            "  Clique: 4\n",
            "  MIR: 13\n",
            "  StrongCG: 1\n",
            "  Inf proof: 16\n",
            "  Mod-K: 2\n",
            "  RLT: 4\n",
            "  Relax-and-lift: 12\n",
            "\n",
            "Explored 784 nodes (4934 simplex iterations) in 1.40 seconds\n",
            "Thread count was 2 (of 2 available processors)\n",
            "\n",
            "Solution count 8: 2975 2928 2914 ... 156\n",
            "\n",
            "Optimal solution found (tolerance 1.00e-04)\n",
            "Best objective 2.975000000000e+03, best bound 2.975000000000e+03, gap 0.0000%\n"
          ],
          "name": "stdout"
        }
      ]
    },
    {
      "cell_type": "code",
      "metadata": {
        "id": "BJrPCTXAwk93",
        "colab": {
          "base_uri": "https://localhost:8080/"
        },
        "outputId": "bd7b87f5-31f3-405d-a462-70f6610a8af2"
      },
      "source": [
        "totalcost = 0\n",
        "\n",
        "for i,j in D.edges():\n",
        "        if x[i,j].x > 0.1:\n",
        "            totalcost += D[i][j]['cost']\n",
        "\n",
        "print (\"Total cost\", totalcost)"
      ],
      "execution_count": 104,
      "outputs": [
        {
          "output_type": "stream",
          "text": [
            "Total cost 11860\n"
          ],
          "name": "stdout"
        }
      ]
    },
    {
      "cell_type": "code",
      "metadata": {
        "scrolled": false,
        "id": "1SjM5tn7wk93",
        "colab": {
          "base_uri": "https://localhost:8080/",
          "height": 1000
        },
        "outputId": "2772140a-fa89-4b2b-eb1d-2429d8a880fc"
      },
      "source": [
        "args.figsize = (15,25)\n",
        "DrawSol(D,x)"
      ],
      "execution_count": 105,
      "outputs": [
        {
          "output_type": "display_data",
          "data": {
            "image/png": "[encoded data removed]",
            "text/plain": [
              "<Figure size 1080x1800 with 1 Axes>"
            ]
          },
          "metadata": {
            "tags": []
          }
        }
      ]
    },
    {
      "cell_type": "code",
      "metadata": {
        "id": "tPg1QtU2wk93",
        "colab": {
          "base_uri": "https://localhost:8080/"
        },
        "outputId": "b047c08e-7ba3-42b0-b8a5-9d8a50c9e0d9"
      },
      "source": [
        "pcst.addConstr(y.prod([G.nodes[i][\"customer\"] for i in G.nodes()]) >= 0.82*sum([G.nodes[i][\"customer\"] for i in G.nodes()]), name = 'Incentivo')\n",
        "pcst.update() \n",
        "pcst.write('pcst.lp')\n",
        "pcst.optimize()"
      ],
      "execution_count": 106,
      "outputs": [
        {
          "output_type": "stream",
          "text": [
            "Gurobi Optimizer version 9.1.2 build v9.1.2rc0 (linux64)\n",
            "Thread count: 1 physical cores, 2 logical processors, using up to 2 threads\n",
            "Optimize a model with 1742 rows, 930 columns and 5192 nonzeros\n",
            "Model fingerprint: 0xe2912a61\n",
            "Variable types: 30 continuous, 900 integer (900 binary)\n",
            "Coefficient statistics:\n",
            "  Matrix range     [1e+00, 2e+04]\n",
            "  Objective range  [2e+02, 5e+03]\n",
            "  Bounds range     [1e+00, 3e+01]\n",
            "  RHS range        [1e+00, 1e+05]\n",
            "\n",
            "MIP start from previous solve did not produce a new incumbent solution\n",
            "MIP start from previous solve violates constraint Incentivo by 3503.180000000\n",
            "\n",
            "Presolve removed 59 rows and 31 columns\n",
            "Presolve time: 0.03s\n",
            "Presolved: 1683 rows, 899 columns, 5078 nonzeros\n",
            "Variable types: 29 continuous, 870 integer (870 binary)\n",
            "Found heuristic solution: objective -40543.00000\n",
            "\n",
            "Root relaxation: objective 5.221413e+03, 61 iterations, 0.00 seconds\n",
            "\n",
            "    Nodes    |    Current Node    |     Objective Bounds      |     Work\n",
            " Expl Unexpl |  Obj  Depth IntInf | Incumbent    BestBd   Gap | It/Node Time\n",
            "\n",
            "     0     0 5221.41317    0   16 -40543.000 5221.41317   113%     -    0s\n",
            "H    0     0                    -8866.000000 5221.41317   159%     -    0s\n",
            "     0     0 4354.44572    0   28 -8866.0000 4354.44572   149%     -    0s\n",
            "H    0     0                    -7715.000000 4354.44572   156%     -    0s\n",
            "H    0     0                    -1436.000000 4354.44572   403%     -    0s\n",
            "     0     0 4119.00000    0   26 -1436.0000 4119.00000   387%     -    0s\n",
            "     0     0 4102.50000    0   33 -1436.0000 4102.50000   386%     -    0s\n",
            "     0     0 4102.50000    0   33 -1436.0000 4102.50000   386%     -    0s\n",
            "     0     0 4022.00000    0   24 -1436.0000 4022.00000   380%     -    0s\n",
            "H    0     0                    -134.0000000 4022.00000  3101%     -    0s\n",
            "     0     0 4022.00000    0   24 -134.00000 4022.00000  3101%     -    0s\n",
            "     0     0 4022.00000    0   24 -134.00000 4022.00000  3101%     -    0s\n",
            "H    0     0                     559.0000000 4022.00000   619%     -    0s\n",
            "     0     0 4022.00000    0   24  559.00000 4022.00000   619%     -    0s\n",
            "     0     0 4022.00000    0   22  559.00000 4022.00000   619%     -    0s\n",
            "H    0     0                     887.0000000 4022.00000   353%     -    0s\n",
            "     0     0 4022.00000    0   24  887.00000 4022.00000   353%     -    0s\n",
            "     0     0 4022.00000    0   24  887.00000 4022.00000   353%     -    0s\n",
            "     0     0 4022.00000    0   22  887.00000 4022.00000   353%     -    0s\n",
            "H    0     0                    1129.0000000 4022.00000   256%     -    0s\n",
            "H    0     0                    1279.0000000 3868.64516   202%     -    0s\n",
            "     0     0 3868.64516    0   16 1279.00000 3868.64516   202%     -    0s\n",
            "     0     0 3868.64516    0   26 1279.00000 3868.64516   202%     -    0s\n",
            "     0     0 3868.64516    0   24 1279.00000 3868.64516   202%     -    0s\n",
            "     0     0 3868.64516    0   24 1279.00000 3868.64516   202%     -    0s\n",
            "     0     0 3868.64516    0   24 1279.00000 3868.64516   202%     -    0s\n",
            "     0     0 3868.64516    0   24 1279.00000 3868.64516   202%     -    0s\n",
            "     0     0 3868.64516    0   24 1279.00000 3868.64516   202%     -    0s\n",
            "     0     0 3868.64516    0   24 1279.00000 3868.64516   202%     -    0s\n",
            "     0     0 3868.64516    0   24 1279.00000 3868.64516   202%     -    0s\n",
            "H    0     0                    1282.0000000 3868.64516   202%     -    0s\n",
            "     0     0 3868.64516    0   24 1282.00000 3868.64516   202%     -    0s\n",
            "     0     0 3868.64516    0   24 1282.00000 3868.64516   202%     -    0s\n",
            "     0     0 3868.64516    0   24 1282.00000 3868.64516   202%     -    0s\n",
            "     0     2 3812.90323    0   24 1282.00000 3812.90323   197%     -    0s\n",
            "H   27    24                    1783.0000000 3812.90323   114%   3.0    0s\n",
            "H   62    39                    1976.0000000 3788.15463  91.7%   3.7    0s\n",
            "H  192   104                    2413.0000000 3491.90323  44.7%   4.2    0s\n",
            "H  284   107                    2620.0000000 3454.39656  31.8%   4.1    0s\n",
            "*  408   133              12    2777.0000000 3426.36431  23.4%   4.2    1s\n",
            "H  538   100                    2974.0000000 3389.76774  14.0%   4.3    1s\n",
            "\n",
            "Cutting planes:\n",
            "  Learned: 19\n",
            "  Gomory: 6\n",
            "  Implied bound: 27\n",
            "  MIR: 13\n",
            "  StrongCG: 1\n",
            "  GUB cover: 1\n",
            "  Inf proof: 12\n",
            "  Mod-K: 2\n",
            "  RLT: 1\n",
            "  Relax-and-lift: 15\n",
            "\n",
            "Explored 848 nodes (4842 simplex iterations) in 1.30 seconds\n",
            "Thread count was 2 (of 2 available processors)\n",
            "\n",
            "Solution count 10: 2974 2777 2620 ... 887\n",
            "\n",
            "Optimal solution found (tolerance 1.00e-04)\n",
            "Best objective 2.974000000000e+03, best bound 2.974000000000e+03, gap 0.0000%\n"
          ],
          "name": "stdout"
        }
      ]
    },
    {
      "cell_type": "code",
      "metadata": {
        "colab": {
          "base_uri": "https://localhost:8080/"
        },
        "id": "aW-TG8ZC66TF",
        "outputId": "3f26ad61-ab71-4607-8de3-de673b06b5de"
      },
      "source": [
        "# l'incentivo toglie 1000$ al costo totale\n",
        "\n",
        "totalcost = -1000\n",
        "\n",
        "for i,j in D.edges():\n",
        "        if x[i,j].x > 0.1:\n",
        "            print (x[i,j])\n",
        "            totalcost += D[i][j]['cost']\n",
        "\n",
        "print (\"Total cost\", totalcost)"
      ],
      "execution_count": 107,
      "outputs": [
        {
          "output_type": "stream",
          "text": [
            "<gurobi.Var x[1,6] (value 1.0)>\n",
            "<gurobi.Var x[1,13] (value 1.0)>\n",
            "<gurobi.Var x[3,28] (value 1.0)>\n",
            "<gurobi.Var x[6,26] (value 1.0)>\n",
            "<gurobi.Var x[7,20] (value 1.0)>\n",
            "<gurobi.Var x[8,3] (value 1.0)>\n",
            "<gurobi.Var x[9,30] (value 1.0)>\n",
            "<gurobi.Var x[10,16] (value 1.0)>\n",
            "<gurobi.Var x[10,18] (value 1.0)>\n",
            "<gurobi.Var x[12,9] (value 1.0)>\n",
            "<gurobi.Var x[12,25] (value 1.0)>\n",
            "<gurobi.Var x[13,14] (value 1.0)>\n",
            "<gurobi.Var x[14,27] (value 1.0)>\n",
            "<gurobi.Var x[15,24] (value 1.0)>\n",
            "<gurobi.Var x[16,15] (value 1.0)>\n",
            "<gurobi.Var x[18,7] (value 1.0)>\n",
            "<gurobi.Var x[20,12] (value 1.0)>\n",
            "<gurobi.Var x[21,23] (value 1.0)>\n",
            "<gurobi.Var x[22,2] (value 1.0)>\n",
            "<gurobi.Var x[23,22] (value 1.0)>\n",
            "<gurobi.Var x[26,10] (value 1.0)>\n",
            "<gurobi.Var x[26,21] (value 1.0)>\n",
            "<gurobi.Var x[27,11] (value 1.0)>\n",
            "<gurobi.Var x[30,8] (value 1.0)>\n",
            "Total cost 11166\n"
          ],
          "name": "stdout"
        }
      ]
    },
    {
      "cell_type": "code",
      "metadata": {
        "id": "bgbQ4Ash7nF7"
      },
      "source": [
        "args.figsize = (15,25)\n",
        "#DrawSol(D,x)"
      ],
      "execution_count": 108,
      "outputs": []
    },
    {
      "cell_type": "code",
      "metadata": {
        "id": "K3Xo8Dfd-MVN"
      },
      "source": [
        "for e in D.out_edges(root, data=True):\n",
        "    e[2][\"cost\"] = e[2][\"cost\"]/2"
      ],
      "execution_count": 109,
      "outputs": []
    },
    {
      "cell_type": "code",
      "metadata": {
        "id": "FXNZOQXzDEJD",
        "outputId": "4c88ed13-f870-49b5-c1ec-9906825ec289",
        "colab": {
          "base_uri": "https://localhost:8080/"
        }
      },
      "source": [
        "sum(x[root,i] for i in G.neighbors(root)) <= 8"
      ],
      "execution_count": 110,
      "outputs": [
        {
          "output_type": "execute_result",
          "data": {
            "text/plain": [
              "<gurobi.TempConstr: <gurobi.LinExpr: x[1,2] + x[1,3] + x[1,4] + x[1,5] + x[1,6] + x[1,7] + x[1,8] + x[1,9] + x[1,10] + x[1,11] + x[1,12] + x[1,13] + x[1,14] + x[1,15] + x[1,16] + x[1,17] + x[1,18] + x[1,19] + x[1,20] + x[1,21] + x[1,22] + x[1,23] + x[1,24] + x[1,25] + x[1,26] + x[1,27] + x[1,28] + x[1,29] + x[1,30]> <= 8>"
            ]
          },
          "metadata": {
            "tags": []
          },
          "execution_count": 110
        }
      ]
    },
    {
      "cell_type": "code",
      "metadata": {
        "colab": {
          "base_uri": "https://localhost:8080/"
        },
        "id": "R2C29Fl47n1O",
        "outputId": "f7bbe586-42ac-4a6a-ea6a-8f4f153e7256"
      },
      "source": [
        "pcst.addConstr(sum(x[root,i] for i in G.neighbors(root)) <= 8, name=\"router\")\n",
        "# pcst.addConstr(sum(y[i] for i in G.neighbors(root)) <= 8, name=\"router\") # questo da infeasible\n",
        "pcst.update() \n",
        "pcst.write('pcst.lp')\n",
        "pcst.optimize()"
      ],
      "execution_count": 111,
      "outputs": [
        {
          "output_type": "stream",
          "text": [
            "Gurobi Optimizer version 9.1.2 build v9.1.2rc0 (linux64)\n",
            "Thread count: 1 physical cores, 2 logical processors, using up to 2 threads\n",
            "Optimize a model with 1743 rows, 930 columns and 5221 nonzeros\n",
            "Model fingerprint: 0x6999e700\n",
            "Variable types: 30 continuous, 900 integer (900 binary)\n",
            "Coefficient statistics:\n",
            "  Matrix range     [1e+00, 2e+04]\n",
            "  Objective range  [2e+02, 5e+03]\n",
            "  Bounds range     [1e+00, 3e+01]\n",
            "  RHS range        [1e+00, 1e+05]\n",
            "\n",
            "MIP start from previous solve produced solution with objective 2974 (0.03s)\n",
            "Loaded MIP start from previous solve with objective 2974\n",
            "\n",
            "Presolve removed 59 rows and 31 columns\n",
            "Presolve time: 0.03s\n",
            "Presolved: 1684 rows, 899 columns, 5107 nonzeros\n",
            "Variable types: 29 continuous, 870 integer (870 binary)\n",
            "\n",
            "Root relaxation: objective 5.221413e+03, 61 iterations, 0.00 seconds\n",
            "\n",
            "    Nodes    |    Current Node    |     Objective Bounds      |     Work\n",
            " Expl Unexpl |  Obj  Depth IntInf | Incumbent    BestBd   Gap | It/Node Time\n",
            "\n",
            "     0     0 5221.41317    0   16 2974.00000 5221.41317  75.6%     -    0s\n",
            "     0     0 4354.44572    0   22 2974.00000 4354.44572  46.4%     -    0s\n",
            "     0     0 4354.44572    0   16 2974.00000 4354.44572  46.4%     -    0s\n",
            "     0     0 4194.16780    0   32 2974.00000 4194.16780  41.0%     -    0s\n",
            "     0     0 4119.00000    0   26 2974.00000 4119.00000  38.5%     -    0s\n",
            "     0     0 4075.50000    0   26 2974.00000 4075.50000  37.0%     -    0s\n",
            "     0     0 4022.00000    0   24 2974.00000 4022.00000  35.2%     -    0s\n",
            "     0     0 4022.00000    0   24 2974.00000 4022.00000  35.2%     -    0s\n",
            "     0     0 4022.00000    0   24 2974.00000 4022.00000  35.2%     -    0s\n",
            "     0     0 4022.00000    0   24 2974.00000 4022.00000  35.2%     -    0s\n",
            "     0     0 4022.00000    0   24 2974.00000 4022.00000  35.2%     -    0s\n",
            "     0     0 4022.00000    0   24 2974.00000 4022.00000  35.2%     -    0s\n",
            "     0     0 4022.00000    0   20 2974.00000 4022.00000  35.2%     -    0s\n",
            "     0     0 3815.00000    0   16 2974.00000 3815.00000  28.3%     -    0s\n",
            "     0     0 3815.00000    0   24 2974.00000 3815.00000  28.3%     -    0s\n",
            "     0     0 3815.00000    0   24 2974.00000 3815.00000  28.3%     -    0s\n",
            "     0     0 3815.00000    0   24 2974.00000 3815.00000  28.3%     -    0s\n",
            "     0     0 3815.00000    0   22 2974.00000 3815.00000  28.3%     -    0s\n",
            "     0     0 3815.00000    0   24 2974.00000 3815.00000  28.3%     -    0s\n",
            "     0     0 3815.00000    0   24 2974.00000 3815.00000  28.3%     -    0s\n",
            "     0     0 3815.00000    0   24 2974.00000 3815.00000  28.3%     -    0s\n",
            "     0     0 3815.00000    0   24 2974.00000 3815.00000  28.3%     -    0s\n",
            "     0     0 3815.00000    0   24 2974.00000 3815.00000  28.3%     -    0s\n",
            "     0     2 3812.83333    0   24 2974.00000 3812.83333  28.2%     -    0s\n",
            "\n",
            "Cutting planes:\n",
            "  Learned: 17\n",
            "  Gomory: 6\n",
            "  Cover: 1\n",
            "  Implied bound: 9\n",
            "  MIR: 16\n",
            "  StrongCG: 2\n",
            "  GUB cover: 1\n",
            "  Inf proof: 11\n",
            "  Mod-K: 1\n",
            "  RLT: 2\n",
            "  Relax-and-lift: 9\n",
            "\n",
            "Explored 239 nodes (1792 simplex iterations) in 0.72 seconds\n",
            "Thread count was 2 (of 2 available processors)\n",
            "\n",
            "Solution count 1: 2974 \n",
            "\n",
            "Optimal solution found (tolerance 1.00e-04)\n",
            "Best objective 2.974000000000e+03, best bound 2.974000000000e+03, gap 0.0000%\n"
          ],
          "name": "stdout"
        }
      ]
    },
    {
      "cell_type": "code",
      "metadata": {
        "id": "CsokX7-JBOMG",
        "outputId": "48bda092-bc59-4686-9b1b-a3d6f13bdb5c",
        "colab": {
          "base_uri": "https://localhost:8080/"
        }
      },
      "source": [
        "# l'incentivo toglie 1000$ al costo totale e il router aggiunge 1500\n",
        "\n",
        "totalcost = -1000 + 1500\n",
        "\n",
        "for i,j in D.edges():\n",
        "        if x[i,j].x > 0.1:\n",
        "            print (x[i,j])\n",
        "            totalcost += D[i][j]['cost']\n",
        "\n",
        "print (\"Total cost\", totalcost)"
      ],
      "execution_count": 112,
      "outputs": [
        {
          "output_type": "stream",
          "text": [
            "<gurobi.Var x[1,6] (value 1.0)>\n",
            "<gurobi.Var x[1,13] (value 1.0)>\n",
            "<gurobi.Var x[3,28] (value 1.0)>\n",
            "<gurobi.Var x[6,26] (value 1.0)>\n",
            "<gurobi.Var x[7,20] (value 1.0)>\n",
            "<gurobi.Var x[8,3] (value 1.0)>\n",
            "<gurobi.Var x[9,30] (value 1.0)>\n",
            "<gurobi.Var x[10,16] (value 1.0)>\n",
            "<gurobi.Var x[10,18] (value 1.0)>\n",
            "<gurobi.Var x[12,9] (value 1.0)>\n",
            "<gurobi.Var x[12,25] (value 1.0)>\n",
            "<gurobi.Var x[13,14] (value 1.0)>\n",
            "<gurobi.Var x[14,27] (value 1.0)>\n",
            "<gurobi.Var x[15,24] (value 1.0)>\n",
            "<gurobi.Var x[16,15] (value 1.0)>\n",
            "<gurobi.Var x[18,7] (value 1.0)>\n",
            "<gurobi.Var x[20,12] (value 1.0)>\n",
            "<gurobi.Var x[21,23] (value 1.0)>\n",
            "<gurobi.Var x[22,2] (value 1.0)>\n",
            "<gurobi.Var x[23,22] (value 1.0)>\n",
            "<gurobi.Var x[26,10] (value 1.0)>\n",
            "<gurobi.Var x[26,21] (value 1.0)>\n",
            "<gurobi.Var x[27,11] (value 1.0)>\n",
            "<gurobi.Var x[30,8] (value 1.0)>\n",
            "Total cost 12336.0\n"
          ],
          "name": "stdout"
        }
      ]
    },
    {
      "cell_type": "code",
      "metadata": {
        "id": "C7fbS7MxBTj3",
        "outputId": "2aa0e05a-b669-4b5b-fc5c-2a54162e0c55",
        "colab": {
          "base_uri": "https://localhost:8080/",
          "height": 1000
        }
      },
      "source": [
        "args.figsize = (15,25)\n",
        "DrawSol(D,x)"
      ],
      "execution_count": 113,
      "outputs": [
        {
          "output_type": "display_data",
          "data": {
            "image/png": "[encoded data removed]",
            "text/plain": [
              "<Figure size 1080x1800 with 1 Axes>"
            ]
          },
          "metadata": {
            "tags": []
          }
        }
      ]
    },
    {
      "cell_type": "code",
      "metadata": {
        "id": "__8GRbkmCJ1b"
      },
      "source": [
        ""
      ],
      "execution_count": 94,
      "outputs": []
    }
  ]
}