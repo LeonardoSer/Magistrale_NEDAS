{
  "nbformat": 4,
  "nbformat_minor": 0,
  "metadata": {
    "colab": {
      "name": "Untitled2.ipynb",
      "provenance": [],
      "include_colab_link": true
    },
    "kernelspec": {
      "name": "python3",
      "display_name": "Python 3"
    },
    "language_info": {
      "name": "python"
    }
  },
  "cells": [
    {
      "cell_type": "markdown",
      "metadata": {
        "id": "view-in-github",
        "colab_type": "text"
      },
      "source": [
        "<a href=\"https://colab.research.google.com/github/LeonardoSer/Univ/blob/main/NetOpt/jupyter_notebooks/mio_MST.ipynb\" target=\"_parent\"><img src=\"https://colab.research.google.com/assets/colab-badge.svg\" alt=\"Open In Colab\"/></a>"
      ]
    },
    {
      "cell_type": "code",
      "metadata": {
        "id": "BT8lAXpW1Jn7"
      },
      "source": [
        "!python -m pip install -i https://pypi.gurobi.com gurobipy\n",
        "!sudo apt-get install graphviz libgraphviz-dev pkg-config\n",
        "!pip install pygraphviz\n",
        "\n",
        "import random\n",
        "import networkx as nx\n",
        "import gurobipy as gb\n",
        "import matplotlib.pyplot as plt\n",
        "from itertools import combinations, chain\n",
        "import pygraphviz as pygv\n",
        "import os\n",
        "from IPython.display import SVG, display\n",
        "from itertools import combinations, groupby"
      ],
      "execution_count": null,
      "outputs": []
    },
    {
      "cell_type": "code",
      "metadata": {
        "id": "VoL8kofU1Qtp"
      },
      "source": [
        "def gnp_random_connected_graph(n, p):\n",
        "    edges = combinations(range(n), 2)\n",
        "    G = nx.Graph()\n",
        "    G.add_nodes_from(range(n))\n",
        "    if p <= 0:\n",
        "        return G\n",
        "    if p >= 1:\n",
        "        return nx.complete_graph(n, create_using=G)\n",
        "    for _, node_edges in groupby(edges, key=lambda x: x[0]):\n",
        "        node_edges = list(node_edges)\n",
        "        random_edge = random.choice(node_edges)\n",
        "        G.add_edge(*random_edge)\n",
        "        for e in node_edges:\n",
        "            if random.random() < p:\n",
        "                G.add_edge(*e)\n",
        "    return G"
      ],
      "execution_count": 2,
      "outputs": []
    },
    {
      "cell_type": "code",
      "metadata": {
        "id": "dh2238Q11Soi"
      },
      "source": [
        "def draw(G, node_color, edge_color):\n",
        "    pos = nx.shell_layout(G)\n",
        "    edge_lab = {(u,v):G[u][v]['cost'] for u,v in G.edges()}\n",
        "    node_lab = {i for i in G.nodes()}\n",
        "    plt.figure(figsize=(6,6))\n",
        "    nx.draw_networkx_edge_labels (G, pos, edge_labels=edge_lab)\n",
        "    nx.draw(G, pos, with_labels=True, node_color=node_color, edge_color=edge_color, node_size=500)"
      ],
      "execution_count": 31,
      "outputs": []
    },
    {
      "cell_type": "code",
      "metadata": {
        "id": "dQBH1ndE1UaC"
      },
      "source": [
        "def powerset(iterable):\n",
        "    \"powerset([1,2,3]) --> () (1,) (2,) (3,) (1,2) (1,3) (2,3) (1,2,3)\"\n",
        "    s = list(iterable)\n",
        "    return chain.from_iterable(combinations(s, r) for r in range(len(s)+1))"
      ],
      "execution_count": 7,
      "outputs": []
    },
    {
      "cell_type": "code",
      "metadata": {
        "id": "R2iTdLNb24A1"
      },
      "source": [
        "class args:\n",
        "    filename = None\n",
        "    scale = 40\n",
        "    figsize = (6,6)\n",
        "\n",
        "def drawSol(G, x):\n",
        "    \n",
        "    plt.figure(figsize=args.figsize)\n",
        "    \n",
        "    pos = nx.shell_layout(G)\n",
        "\n",
        "    \n",
        "    nx.draw_networkx_nodes(G, \n",
        "                           pos=pos, \n",
        "                           node_shape='o', \n",
        "                           node_size=600,\n",
        "                           node_color='red',\n",
        "                           label=[G.nodes()])\n",
        "    \n",
        "    nx.draw_networkx_labels(G, pos=pos, font_color='w', font_size=12)\n",
        "    \n",
        "    for u,v in G.edges():\n",
        "        if x[u,v].x > 0.01 and x[u,v].x < 0.9:\n",
        "            nx.draw_networkx_edges(G, pos=pos,\n",
        "                                   edgelist=[(u,v)],\n",
        "                                   edge_color='r')\n",
        "            \n",
        "            nx.draw_networkx_edge_labels(G, pos=pos,\n",
        "                                         edge_labels={(u,v):'{:.2f}'.format(x[u,v].x)})\n",
        "        \n",
        "        if x[u,v].x > 0.9:\n",
        "            nx.draw_networkx_edges(G, pos=pos,\n",
        "                                   edgelist=[(u,v)],\n",
        "                                   edge_color='k')\n",
        "        "
      ],
      "execution_count": 29,
      "outputs": []
    },
    {
      "cell_type": "code",
      "metadata": {
        "colab": {
          "base_uri": "https://localhost:8080/",
          "height": 697
        },
        "id": "zNc60kcF1WuE",
        "outputId": "a7df6932-c428-4059-ea82-79018fb0031e"
      },
      "source": [
        "nodes = 5\n",
        "probability = 0.4\n",
        "G = gnp_random_connected_graph(nodes,probability)\n",
        "\n",
        "for u,v in G.edges():\n",
        "    G[u][v][\"cost\"] = random.randint(1,20)\n",
        "\n",
        "draw(G, \"lightblue\", \"black\")\n",
        "mst = nx.minimum_spanning_tree(G, weight='cost')\n",
        "draw(mst, \"lightblue\", \"red\")"
      ],
      "execution_count": 32,
      "outputs": [
        {
          "output_type": "display_data",
          "data": {
            "image/png": "[encoded data removed]",
            "text/plain": [
              "<Figure size 432x432 with 1 Axes>"
            ]
          },
          "metadata": {
            "tags": []
          }
        },
        {
          "output_type": "display_data",
          "data": {
            "image/png": "[encoded data removed]",
            "text/plain": [
              "<Figure size 432x432 with 1 Axes>"
            ]
          },
          "metadata": {
            "tags": []
          }
        }
      ]
    },
    {
      "cell_type": "markdown",
      "metadata": {
        "id": "xRog-kVt1aEw"
      },
      "source": [
        "## Implemented manually\n",
        "\n",
        "### Decision variables:\n",
        "\n",
        "$$\n",
        "x_{ij} = \\begin{cases} 1 \\text{ if edge } e=\\{i,j\\} \\text{ is selected} \\\\\n",
        "0 \\text{ otherwise.}\\end{cases}\n",
        "$$\n",
        "\n",
        "### Formulation\n",
        "\n",
        "$$\n",
        "\\min \\sum_{e=\\{i,j\\} \\in E} c_{ij} x_{ij} \\\\\n",
        "\\sum_{e=\\{i,j\\} \\in E} x_{ij} = |V| - 1 \\\\\n",
        "\\sum_{e=\\{i,j\\} \\in E(S)} x_{ij} \\le |S| - 1, \\;\\; \\forall S \\subset V, 2 < |S| \\le |V| - 1  \\\\\n",
        "x \\le 1 \\\\ \n",
        "x \\ge 0\n",
        "$$"
      ]
    },
    {
      "cell_type": "code",
      "metadata": {
        "id": "mDQ07GNF1YRU"
      },
      "source": [
        "mst_model = gb.Model()\n",
        "\n",
        "x = mst_model.addVars(G.edges(), ub = 1.0, vtype=gb.GRB.CONTINUOUS, name='x') # Decision Variables\n",
        "\n",
        "mst_model.setObjective(x.prod(nx.get_edge_attributes(G, \"cost\"))) # Objective function\n",
        "\n",
        "mst_model.addConstr(x.sum() == G.number_of_nodes() - 1, 'Cardinality') # Cardinality constraint\n",
        "\n",
        "sec=0\n",
        "for i in powerset(G.nodes()):\n",
        "    if len(i) > 2 and len(i) <= G.number_of_nodes() - 1:\n",
        "        sec = sec+1\n",
        "        S = G.subgraph(i)\n",
        "\n",
        "        if S.number_of_edges() > S.number_of_nodes() - 1:    \n",
        "            mst_model.addConstr(gb.quicksum(x[i,j] if (i,j) in x else x[j,i] for i,j in S.edges()) <= S.number_of_nodes() - 1, 'Sec' + str(sec))\n",
        "\n",
        "mst_model.update()\n",
        "mst_model.write('mst.lp')"
      ],
      "execution_count": 33,
      "outputs": []
    },
    {
      "cell_type": "code",
      "metadata": {
        "colab": {
          "base_uri": "https://localhost:8080/",
          "height": 687
        },
        "id": "3cgNx0di1jG9",
        "outputId": "28d976e6-5d25-44e3-dffa-6b762ac337ca"
      },
      "source": [
        "mst_model.optimize()\n",
        "print (\"Optimal solution:\", mst_model.objVal)\n",
        "drawSol(G,x)"
      ],
      "execution_count": 34,
      "outputs": [
        {
          "output_type": "stream",
          "text": [
            "Gurobi Optimizer version 9.1.1 build v9.1.1rc0 (linux64)\n",
            "Thread count: 1 physical cores, 2 logical processors, using up to 2 threads\n",
            "Optimize a model with 6 rows, 6 columns and 25 nonzeros\n",
            "Model fingerprint: 0x0fb43070\n",
            "Coefficient statistics:\n",
            "  Matrix range     [1e+00, 1e+00]\n",
            "  Objective range  [5e+00, 2e+01]\n",
            "  Bounds range     [1e+00, 1e+00]\n",
            "  RHS range        [2e+00, 4e+00]\n",
            "Presolve time: 0.01s\n",
            "Presolved: 6 rows, 6 columns, 25 nonzeros\n",
            "\n",
            "Iteration    Objective       Primal Inf.    Dual Inf.      Time\n",
            "       0    2.0000000e+01   7.000000e+00   0.000000e+00      0s\n",
            "       1    3.0000000e+01   0.000000e+00   0.000000e+00      0s\n",
            "\n",
            "Solved in 1 iterations and 0.02 seconds\n",
            "Optimal objective  3.000000000e+01\n",
            "Optimal solution: 30.0\n"
          ],
          "name": "stdout"
        },
        {
          "output_type": "display_data",
          "data": {
            "image/png": "[encoded data removed]",
            "text/plain": [
              "<Figure size 432x432 with 1 Axes>"
            ]
          },
          "metadata": {
            "tags": []
          }
        }
      ]
    },
    {
      "cell_type": "code",
      "metadata": {
        "id": "yuAlvdOj4AW2"
      },
      "source": [
        ""
      ],
      "execution_count": null,
      "outputs": []
    }
  ]
}