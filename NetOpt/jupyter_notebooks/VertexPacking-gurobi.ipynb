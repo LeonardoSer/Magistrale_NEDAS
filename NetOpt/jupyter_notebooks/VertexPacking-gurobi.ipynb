{
  "nbformat": 4,
  "nbformat_minor": 0,
  "metadata": {
    "kernelspec": {
      "display_name": "Python 3",
      "language": "python",
      "name": "python3"
    },
    "language_info": {
      "codemirror_mode": {
        "name": "ipython",
        "version": 3
      },
      "file_extension": ".py",
      "mimetype": "text/x-python",
      "name": "python",
      "nbconvert_exporter": "python",
      "pygments_lexer": "ipython3",
      "version": "3.7.6"
    },
    "colab": {
      "name": "VertexPacking-gurobi.ipynb",
      "provenance": [],
      "include_colab_link": true
    }
  },
  "cells": [
    {
      "cell_type": "markdown",
      "metadata": {
        "id": "view-in-github",
        "colab_type": "text"
      },
      "source": [
        "<a href=\"https://colab.research.google.com/github/LeonardoSer/Univ/blob/main/NetOpt/jupyter_notebooks/VertexPacking-gurobi.ipynb\" target=\"_parent\"><img src=\"https://colab.research.google.com/assets/colab-badge.svg\" alt=\"Open In Colab\"/></a>"
      ]
    },
    {
      "cell_type": "code",
      "metadata": {
        "id": "GDtLtaHS1xuT",
        "outputId": "bd05033c-5f5a-4fdf-be57-3f6888ceeedf",
        "colab": {
          "base_uri": "https://localhost:8080/"
        }
      },
      "source": [
        "!pip install -i https://pypi.gurobi.com gurobipy \n",
        "\n",
        "import networkx as nx\n",
        "import gurobipy as gb\n"
      ],
      "execution_count": 5,
      "outputs": [
        {
          "output_type": "stream",
          "text": [
            "Looking in indexes: https://pypi.gurobi.com\n",
            "Collecting gurobipy\n",
            "\u001b[?25l  Downloading https://pypi.gurobi.com/gurobipy/gurobipy-9.1.1-cp37-cp37m-manylinux1_x86_64.whl (11.1MB)\n",
            "\u001b[K     |████████████████████████████████| 11.1MB 520kB/s \n",
            "\u001b[?25hInstalling collected packages: gurobipy\n",
            "Successfully installed gurobipy-9.1.1\n"
          ],
          "name": "stdout"
        }
      ]
    },
    {
      "cell_type": "code",
      "metadata": {
        "id": "KK-ReJtP1xuc",
        "outputId": "8b619636-e3fc-4b77-a420-2a5419ea82cc",
        "colab": {
          "base_uri": "https://localhost:8080/"
        }
      },
      "source": [
        "G = nx.gnp_random_graph(12,0.2, seed=10) # 0.2 indica la probabilità che un arco sia spawnato\n",
        "\n",
        "print(G.number_of_nodes())\n",
        "print(G.number_of_edges())\n",
        "print(nx.density(G))\n",
        "\n",
        "print(G.degree(1))\n"
      ],
      "execution_count": 9,
      "outputs": [
        {
          "output_type": "stream",
          "text": [
            "12\n",
            "15\n",
            "0.22727272727272727\n",
            "1\n"
          ],
          "name": "stdout"
        }
      ]
    },
    {
      "cell_type": "code",
      "metadata": {
        "id": "uZ1pfb2T1xue"
      },
      "source": [
        "%matplotlib inline"
      ],
      "execution_count": 10,
      "outputs": []
    },
    {
      "cell_type": "code",
      "metadata": {
        "id": "glfV-02O1xug",
        "outputId": "3738919f-0567-41c0-d239-19c20d96308e",
        "colab": {
          "base_uri": "https://localhost:8080/",
          "height": 319
        }
      },
      "source": [
        "pos = nx.spring_layout(G)\n",
        "\n",
        "nx.draw(G, pos, with_labels=True, node_size=500, font_size=10, font_color='w')"
      ],
      "execution_count": 11,
      "outputs": [
        {
          "output_type": "display_data",
          "data": {
            "image/png": "[encoded data removed]",
            "text/plain": [
              "<Figure size 432x288 with 1 Axes>"
            ]
          },
          "metadata": {
            "tags": []
          }
        }
      ]
    },
    {
      "cell_type": "code",
      "metadata": {
        "id": "aqGN3nyy1xuh",
        "outputId": "7188dd38-1126-4d4f-c5f0-614fb78d748d"
      },
      "source": [
        "stableset = gb.Model()\n",
        "x = stableset.addVars(G.number_of_nodes(), vtype=gb.GRB.BINARY, name='x')\n",
        "stableset.setObjective(x.sum(),sense=gb.GRB.MAXIMIZE)\n"
      ],
      "execution_count": null,
      "outputs": [
        {
          "output_type": "stream",
          "text": [
            "Academic license - for non-commercial use only\n"
          ],
          "name": "stdout"
        }
      ]
    },
    {
      "cell_type": "code",
      "metadata": {
        "scrolled": false,
        "id": "HcWMZFqO1xuh"
      },
      "source": [
        "stableset.addConstrs((x[i] + x[j] <= 1 for i,j in G.edges()), name='edge')\n",
        "stableset.update()\n"
      ],
      "execution_count": null,
      "outputs": []
    },
    {
      "cell_type": "code",
      "metadata": {
        "scrolled": false,
        "id": "yLGp42Sf1xui",
        "outputId": "c6058ce7-7522-4cb9-da28-f2a06d18a57c"
      },
      "source": [
        "stableset.optimize()"
      ],
      "execution_count": null,
      "outputs": [
        {
          "output_type": "stream",
          "text": [
            "Optimize a model with 15 rows, 12 columns and 30 nonzeros\n",
            "Variable types: 0 continuous, 12 integer (12 binary)\n",
            "Coefficient statistics:\n",
            "  Matrix range     [1e+00, 1e+00]\n",
            "  Objective range  [1e+00, 1e+00]\n",
            "  Bounds range     [1e+00, 1e+00]\n",
            "  RHS range        [1e+00, 1e+00]\n",
            "Found heuristic solution: objective 7.0000000\n",
            "Presolve removed 15 rows and 12 columns\n",
            "Presolve time: 0.00s\n",
            "Presolve: All rows and columns removed\n",
            "\n",
            "Explored 0 nodes (0 simplex iterations) in 0.01 seconds\n",
            "Thread count was 1 (of 8 available processors)\n",
            "\n",
            "Solution count 1: 7 \n",
            "\n",
            "Optimal solution found (tolerance 1.00e-04)\n",
            "Best objective 7.000000000000e+00, best bound 7.000000000000e+00, gap 0.0000%\n"
          ],
          "name": "stdout"
        }
      ]
    },
    {
      "cell_type": "code",
      "metadata": {
        "id": "YlBn9W-r1xuj",
        "outputId": "6e04f50e-4773-40f7-9096-2e5d62ec3dec"
      },
      "source": [
        "print('Obj: %g' % stableset.objVal)\n",
        "\n",
        "print ()\n",
        "\n",
        "stablenodes = list()\n",
        "\n",
        "for i in G.nodes():\n",
        "    if (x[i].x > 1e-6):\n",
        "        stablenodes.append(i)\n",
        "\n"
      ],
      "execution_count": null,
      "outputs": [
        {
          "output_type": "stream",
          "text": [
            "Obj: 7\n",
            "\n"
          ],
          "name": "stdout"
        }
      ]
    },
    {
      "cell_type": "code",
      "metadata": {
        "id": "TeK2JydT1xuk",
        "outputId": "35414207-62cd-444a-d890-291ccaf5d909"
      },
      "source": [
        "pos = nx.spring_layout(G)\n",
        "nx.draw(G, pos, with_labels=True, node_size=500, font_size=10, font_color='w')\n",
        "\n",
        "nx.draw_networkx_nodes(G, pos, with_labels=True, nodelist = stablenodes, node_color ='r')"
      ],
      "execution_count": null,
      "outputs": [
        {
          "output_type": "execute_result",
          "data": {
            "text/plain": [
              "<matplotlib.collections.PathCollection at 0x11644f1d0>"
            ]
          },
          "metadata": {
            "tags": []
          },
          "execution_count": 9
        },
        {
          "output_type": "display_data",
          "data": {
            "image/png": "[encoded data removed]",
            "text/plain": [
              "<Figure size 432x288 with 1 Axes>"
            ]
          },
          "metadata": {
            "tags": []
          }
        }
      ]
    },
    {
      "cell_type": "code",
      "metadata": {
        "id": "D5Wre3731xuk"
      },
      "source": [
        ""
      ],
      "execution_count": null,
      "outputs": []
    }
  ]
}