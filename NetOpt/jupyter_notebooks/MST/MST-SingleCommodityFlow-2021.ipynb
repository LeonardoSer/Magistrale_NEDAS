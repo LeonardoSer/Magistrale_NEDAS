{
 "cells": [
  {
   "cell_type": "markdown",
   "metadata": {},
   "source": [
    "#  Minimum Spanning Tree Problem \n",
    "## Single commodity flow formulation\n",
    "\n"
   ]
  },
  {
   "cell_type": "code",
   "execution_count": 1,
   "metadata": {},
   "outputs": [],
   "source": [
    "import networkx as nx\n",
    "import gurobipy as gb\n",
    "import matplotlib.pyplot as plt\n",
    "import os"
   ]
  },
  {
   "cell_type": "markdown",
   "metadata": {},
   "source": [
    "## Drawing functions"
   ]
  },
  {
   "cell_type": "code",
   "execution_count": 4,
   "metadata": {},
   "outputs": [],
   "source": [
    "def DrawInitG(G, withedges=False):\n",
    "    \n",
    "    plt.figure(figsize=args.figsize)\n",
    "    \n",
    "    pos = {i:(G.nodes[i]['x'], G.nodes[i]['y']) for i in G.nodes()}\n",
    "    \n",
    "    nx.draw_networkx_nodes(G, \n",
    "                           pos=pos, \n",
    "                           node_shape='o', \n",
    "                           node_size=600,\n",
    "                           node_color='red')\n",
    "    \n",
    "    nx.draw_networkx_labels(G, pos=pos, font_color='w', font_size=12)\n",
    "    \n",
    "    if withedges:\n",
    "        nx.draw_networkx_edges(G,pos=pos, alpha=1.0)\n",
    "        labels = {(i,j):G.get_edge_data(i,j,'cost').get('cost') for i,j in G.edges()}\n",
    "        nx.draw_networkx_edge_labels(G, pos=pos, edge_labels=labels)\n",
    "    \n",
    "    plt.axis('off')\n",
    "    plt.show()\n",
    "    \n",
    "def DrawSol(G, x):\n",
    "    \n",
    "    plt.figure(figsize=args.figsize)\n",
    "    \n",
    "    pos = {i:(G.nodes[i]['x'], G.nodes[i]['y']) for i in G.nodes()}\n",
    "\n",
    "    \n",
    "    nx.draw_networkx_nodes(G, \n",
    "                           pos=pos, \n",
    "                           node_shape='o', \n",
    "                           node_size=600,\n",
    "                           node_color='red',\n",
    "                           label=[G.nodes()])\n",
    "    \n",
    "    nx.draw_networkx_labels(G, pos=pos, font_color='w', font_size=12)\n",
    "    \n",
    "    for u,v in G.edges():\n",
    "        if x[u,v].x > 0.01 and x[u,v].x < 0.9:\n",
    "            nx.draw_networkx_edges(G, pos=pos,\n",
    "                                   edgelist=[(u,v)],\n",
    "                                   edge_color='r')\n",
    "            \n",
    "            nx.draw_networkx_edge_labels(G, pos=pos,\n",
    "                                         edge_labels={(u,v):'{:.2f}'.format(x[u,v].x)})\n",
    "        \n",
    "        if x[u,v].x > 0.9:\n",
    "            nx.draw_networkx_edges(G, pos=pos,\n",
    "                                   edgelist=[(u,v)],\n",
    "                                   edge_color='k')\n",
    "        \n",
    "\n",
    "    \n",
    "    #edges_in_sol = [(u,v)  for u,v in G.edges() if x[u,v].x > 0.1]\n",
    "\n",
    "    \n",
    "    plt.axis('off')\n",
    "    plt.show()\n",
    "    \n",
    "def DrawSolFlow (G,x,f):\n",
    "    \n",
    "    plt.figure(figsize=args.figsize)\n",
    "    \n",
    "    pos = {i:(G.nodes[i]['x'], G.nodes[i]['y']) for i in G.nodes()}\n",
    "    \n",
    "    nx.draw_networkx_nodes(G, \n",
    "                           pos=pos,  \n",
    "                           node_shape='o', \n",
    "                           node_size=600,\n",
    "                           node_color='r', \n",
    "                           label=[G.nodes()])\n",
    "    \n",
    "    nx.draw_networkx_nodes(G, \n",
    "                           pos=pos, \n",
    "                           nodelist = [root], \n",
    "                           node_shape='o',\n",
    "                           node_size=600,\n",
    "                           node_color='k', \n",
    "                           label=[G.nodes()])\n",
    "    \n",
    "    nx.draw_networkx_labels(G, pos=pos, font_color='w')\n",
    "    \n",
    "    for h,k in G.edges():\n",
    "        \n",
    "        flow = abs(f[h,k].x - f[k,h].x)\n",
    "        \n",
    "        \n",
    "\n",
    "        G[h][k]['capacity'] = x[h,k].x\n",
    "        if x[h,k].x > 0.00001:\n",
    "            if x[h,k].x > 0.999999:\n",
    "                nx.draw_networkx_edges(G, \n",
    "                                       pos=pos, \n",
    "                                       edgelist=[(h,k)],\n",
    "                                       edge_color='k')\n",
    "                \n",
    "                nx.draw_networkx_edge_labels(G, \n",
    "                                             pos=pos,\n",
    "                                             edge_labels={(h,k):'{:.2f}'.format(flow)})\n",
    "            else:\n",
    "                nx.draw_networkx_edges(G, \n",
    "                                       pos=pos, \n",
    "                                       edgelist=[(h,k)],\n",
    "                                       edge_color='r')\n",
    "\n",
    "    plt.axis('off')\n",
    "    plt.show()\n",
    "    \n",
    "class args:\n",
    "    filename = None\n",
    "    figsize = 30,60\n",
    "    scale = 40"
   ]
  },
  {
   "cell_type": "code",
   "execution_count": 5,
   "metadata": {},
   "outputs": [
    {
     "name": "stdout",
     "output_type": "stream",
     "text": [
      "G has 10 nodes and 45 edges\n"
     ]
    }
   ],
   "source": [
    "args.filename = \"graph.gml\"\n",
    "args.scale = 20\n",
    "args.figsize = (10,10)\n",
    "\n",
    "basename = os.path.splitext(args.filename)[0]\n",
    "G = nx.read_graphml (args.filename, node_type=int)\n",
    "\n",
    "print (\"G has\", G.number_of_nodes(), \"nodes and\", G.number_of_edges(), \"edges\")"
   ]
  },
  {
   "cell_type": "markdown",
   "metadata": {},
   "source": [
    "## Single commodity flow formulation\n",
    "\n",
    "$$\n",
    "x_e = \\begin{cases}\n",
    "1 \\text{ if edge $e$ is in the tree} \\\\\n",
    "0 \\text { otherwise}\n",
    "\\end{cases}\n",
    "$$\n",
    "\n",
    "Associate to each edge $e$ two directed arcs $(i,j)$ and $(j,i)$ and let \n",
    "\n",
    "$$\n",
    "f_{ij} = \\{\\text{flow carried by the arc} (i,j)\\}\n",
    "$$\n",
    "\n",
    "\\begin{alignat}{3}\n",
    "\\min cx &&\\\\\n",
    "\\sum_{e \\in E} x_e = n - 1 && \\\\\n",
    "\\sum_{j \\in \\delta^+(0)} f_{0j} - \\sum_{j \\in \\delta^-(0)} f_{j0} = n - 1 &&\\\\\n",
    "\\sum_{j \\in \\delta^-(v)} f_{jv} - \\sum_{j \\in \\delta^+(v)} f_{vj} = 1 &&\\;\\; \\forall v \\in V, v \\not = \\{0\\} \\\\\n",
    "f_{ij} \\le (n-1)x_e &&\\;\\; \\forall e \\in E, e=\\{i,j\\}\\\\\n",
    "f_{ji} \\le (n-1)x_e &&\\;\\; \\forall e \\in E, e=\\{i,j\\}\\\\\n",
    "f \\ge 0, \\; x_e \\in \\{0,1\\}\n",
    "\\end{alignat}"
   ]
  },
  {
   "cell_type": "code",
   "execution_count": 6,
   "metadata": {},
   "outputs": [
    {
     "data": {
      "text/plain": [
       "NodeDataView({1: {'y': 33, 'x': 1}, 2: {'y': 16, 'x': 26}, 3: {'y': 25, 'x': 19}, 4: {'y': 30, 'x': 27}, 5: {'y': 17, 'x': 28}, 6: {'y': 5, 'x': 23}, 7: {'y': 28, 'x': 23}, 8: {'y': 25, 'x': 24}, 9: {'y': 39, 'x': 3}, 10: {'y': 20, 'x': 11}})"
      ]
     },
     "execution_count": 6,
     "metadata": {},
     "output_type": "execute_result"
    }
   ],
   "source": [
    "G.nodes(data=True)"
   ]
  },
  {
   "cell_type": "code",
   "execution_count": 7,
   "metadata": {},
   "outputs": [],
   "source": [
    "G = nx.convert_node_labels_to_integers(G, first_label=0,label_attribute='old' )"
   ]
  },
  {
   "cell_type": "code",
   "execution_count": 8,
   "metadata": {},
   "outputs": [
    {
     "data": {
      "text/plain": [
       "NodeDataView({0: {'y': 33, 'x': 1, 'old': 1}, 1: {'y': 16, 'x': 26, 'old': 2}, 2: {'y': 25, 'x': 19, 'old': 3}, 3: {'y': 30, 'x': 27, 'old': 4}, 4: {'y': 17, 'x': 28, 'old': 5}, 5: {'y': 5, 'x': 23, 'old': 6}, 6: {'y': 28, 'x': 23, 'old': 7}, 7: {'y': 25, 'x': 24, 'old': 8}, 8: {'y': 39, 'x': 3, 'old': 9}, 9: {'y': 20, 'x': 11, 'old': 10}})"
      ]
     },
     "execution_count": 8,
     "metadata": {},
     "output_type": "execute_result"
    }
   ],
   "source": [
    "G.nodes(data=True)"
   ]
  },
  {
   "cell_type": "markdown",
   "metadata": {},
   "source": [
    "## Solve the MST with the combinatorial algorithm"
   ]
  },
  {
   "cell_type": "code",
   "execution_count": 9,
   "metadata": {},
   "outputs": [],
   "source": [
    "T = nx.minimum_spanning_tree(G, weight='cost')"
   ]
  },
  {
   "cell_type": "code",
   "execution_count": 10,
   "metadata": {},
   "outputs": [
    {
     "data": {
      "image/png": "[encoded data removed]",
      "text/plain": [
       "<Figure size 720x720 with 1 Axes>"
      ]
     },
     "metadata": {},
     "output_type": "display_data"
    }
   ],
   "source": [
    "plt.figure(figsize=args.figsize)\n",
    "\n",
    "\n",
    "pos = {i:(G.nodes[i]['x'], G.nodes[i]['y']) for i in G.nodes()}\n",
    "\n",
    "nx.draw_networkx(T, \n",
    "                 pos=pos, \n",
    "                 width=0.5, \n",
    "                 node_shape='o', \n",
    "                 node_size=600,\n",
    "                 node_color='blue')\n",
    "\n",
    "nx.draw_networkx_labels(T, pos=pos, font_color='w', font_size=12);\n",
    "\n",
    "  \n",
    "plt.axis('off')\n",
    "plt.show()"
   ]
  },
  {
   "cell_type": "code",
   "execution_count": 11,
   "metadata": {},
   "outputs": [],
   "source": [
    "root = 0\n",
    "\n",
    "args.figsize=(10,10)"
   ]
  },
  {
   "cell_type": "code",
   "execution_count": 12,
   "metadata": {},
   "outputs": [
    {
     "data": {
      "image/png": "[encoded data removed]",
      "text/plain": [
       "<Figure size 720x720 with 1 Axes>"
      ]
     },
     "metadata": {},
     "output_type": "display_data"
    }
   ],
   "source": [
    "DrawInitG(G)\n",
    "\n",
    "# Define a Directed Graph by doubling the edges of G\n",
    "\n",
    "D = G.to_directed()"
   ]
  },
  {
   "cell_type": "code",
   "execution_count": 13,
   "metadata": {},
   "outputs": [
    {
     "name": "stdout",
     "output_type": "stream",
     "text": [
      "Academic license - for non-commercial use only - expires 2021-07-16\n",
      "Using license file /home/leonardo/gurobi.lic\n"
     ]
    }
   ],
   "source": [
    "mstflow = gb.Model()"
   ]
  },
  {
   "cell_type": "code",
   "execution_count": 14,
   "metadata": {},
   "outputs": [],
   "source": [
    "x = mstflow.addVars(G.edges(), obj=[G[u][v]['cost'] for u,v in G.edges()],\n",
    "                    ub = 1.0,\n",
    "                    vtype=gb.GRB.BINARY,\n",
    "                    name='x')\n",
    "\n",
    "f = mstflow.addVars(D.edges(), ub=G.number_of_nodes(), vtype=gb.GRB.CONTINUOUS, name='f')\n",
    "\n"
   ]
  },
  {
   "cell_type": "code",
   "execution_count": 15,
   "metadata": {},
   "outputs": [],
   "source": [
    "mstflow.addConstr(x.sum() == G.number_of_nodes() - 1, 'Cardinality')\n",
    "\n",
    "mstflow.update()"
   ]
  },
  {
   "cell_type": "code",
   "execution_count": 16,
   "metadata": {},
   "outputs": [],
   "source": [
    "mstflow.addConstr(f.sum(root, '*') - f.sum('*', root) == G.number_of_nodes() - 1, \\\n",
    "                  'Flow_at_root')\n",
    "\n",
    "mstflow.update()"
   ]
  },
  {
   "cell_type": "code",
   "execution_count": 17,
   "metadata": {},
   "outputs": [],
   "source": [
    "#\n",
    "# Root is the first nodes\n",
    "# The iterator moves one step ahead\n",
    "#\n",
    "\n",
    "\n",
    "for v in G.nodes():\n",
    "    if v != root:\n",
    "        name = 'Balance_' + str(v)\n",
    "        mstflow.addConstr(f.sum('*',v) - f.sum(v,'*') == 1, name=name)\n",
    "    \n",
    "mstflow.update()\n",
    "\n"
   ]
  },
  {
   "cell_type": "code",
   "execution_count": 18,
   "metadata": {},
   "outputs": [],
   "source": [
    "for e in G.edges():\n",
    "    \n",
    "    h = e[0]\n",
    "    k = e[1]\n",
    "        \n",
    "    name = \"Force_f(%d,%d)_x(%d,%d)\" % (h, k, e[0], e[1])\n",
    "    mstflow.addConstr(f[h,k] <= (G.number_of_nodes() - 1) * x[e], name=name)\n",
    "\n",
    "    name = \"Force_f(%d,%d)_x(%d,%d)\" % (k, h, e[0], e[1])\n",
    "    mstflow.addConstr(f[k,h] <= (G.number_of_nodes() - 1) * x[e], name=name)\n",
    "\n",
    "mstflow.update()\n",
    "mstflow.write('mstflow.lp')"
   ]
  },
  {
   "cell_type": "code",
   "execution_count": 19,
   "metadata": {},
   "outputs": [
    {
     "name": "stdout",
     "output_type": "stream",
     "text": [
      "Gurobi Optimizer version 9.1.2 build v9.1.2rc0 (linux64)\n",
      "Thread count: 6 physical cores, 12 logical processors, using up to 12 threads\n",
      "Optimize a model with 101 rows, 135 columns and 405 nonzeros\n",
      "Model fingerprint: 0x6d097c73\n",
      "Variable types: 90 continuous, 45 integer (45 binary)\n",
      "Coefficient statistics:\n",
      "  Matrix range     [1e+00, 9e+00]\n",
      "  Objective range  [2e+02, 4e+03]\n",
      "  Bounds range     [1e+00, 1e+01]\n",
      "  RHS range        [1e+00, 9e+00]\n",
      "Found heuristic solution: objective 14550.000000\n",
      "Presolve time: 0.00s\n",
      "Presolved: 101 rows, 135 columns, 405 nonzeros\n",
      "Variable types: 90 continuous, 45 integer (45 binary)\n",
      "\n",
      "Root relaxation: objective 5.746667e+03, 57 iterations, 0.00 seconds\n",
      "\n",
      "    Nodes    |    Current Node    |     Objective Bounds      |     Work\n",
      " Expl Unexpl |  Obj  Depth IntInf | Incumbent    BestBd   Gap | It/Node Time\n",
      "\n",
      "     0     0 5746.66667    0    5 14550.0000 5746.66667  60.5%     -    0s\n",
      "H    0     0                    7002.0000000 5746.66667  17.9%     -    0s\n",
      "     0     0 6507.00000    0    2 7002.00000 6507.00000  7.07%     -    0s\n",
      "     0     0 6629.55000    0    6 7002.00000 6629.55000  5.32%     -    0s\n",
      "     0     0 6630.47368    0    7 7002.00000 6630.47368  5.31%     -    0s\n",
      "H    0     0                    6895.0000000 6630.47368  3.84%     -    0s\n",
      "     0     0 6677.08333    0    7 6895.00000 6677.08333  3.16%     -    0s\n",
      "     0     0 6677.08333    0    5 6895.00000 6677.08333  3.16%     -    0s\n",
      "     0     0 6677.08333    0    6 6895.00000 6677.08333  3.16%     -    0s\n",
      "H    0     0                    6762.0000000 6677.08333  1.26%     -    0s\n",
      "     0     0 6719.50000    0    4 6762.00000 6719.50000  0.63%     -    0s\n",
      "H    0     0                    6735.0000000 6719.50000  0.23%     -    0s\n",
      "\n",
      "Cutting planes:\n",
      "  Gomory: 2\n",
      "  Cover: 2\n",
      "  Implied bound: 1\n",
      "  MIR: 1\n",
      "  Flow cover: 7\n",
      "  Network: 3\n",
      "  Relax-and-lift: 2\n",
      "\n",
      "Explored 1 nodes (153 simplex iterations) in 0.04 seconds\n",
      "Thread count was 12 (of 12 available processors)\n",
      "\n",
      "Solution count 5: 6735 6762 6895 ... 14550\n",
      "\n",
      "Optimal solution found (tolerance 1.00e-04)\n",
      "Best objective 6.735000000000e+03, best bound 6.735000000000e+03, gap 0.0000%\n"
     ]
    }
   ],
   "source": [
    "mstflow.optimize()"
   ]
  },
  {
   "cell_type": "code",
   "execution_count": 20,
   "metadata": {},
   "outputs": [
    {
     "data": {
      "image/png": "[encoded data removed]",
      "text/plain": [
       "<Figure size 720x720 with 1 Axes>"
      ]
     },
     "metadata": {},
     "output_type": "display_data"
    }
   ],
   "source": [
    "DrawSolFlow(G, x, f)\n",
    "\n"
   ]
  },
  {
   "cell_type": "markdown",
   "metadata": {},
   "source": [
    "## Degree constrained spanning tree"
   ]
  },
  {
   "cell_type": "markdown",
   "metadata": {},
   "source": [
    "$$ \\sum_{e \\in \\delta(0)} x_e \\le \\Delta$$ "
   ]
  },
  {
   "cell_type": "code",
   "execution_count": 21,
   "metadata": {},
   "outputs": [],
   "source": [
    "rootdeg = 5\n",
    "\n",
    "mstflow.addConstr(gb.quicksum([x[e] for e in G.edges(root)]), \\\n",
    "                  sense='<=', rhs=rootdeg, name='RootDegree')\n",
    "\n",
    "mstflow.update()\n",
    "\n",
    "\n",
    "mstflow.write('mst_deg.lp')"
   ]
  },
  {
   "cell_type": "code",
   "execution_count": 22,
   "metadata": {},
   "outputs": [
    {
     "name": "stdout",
     "output_type": "stream",
     "text": [
      "Gurobi Optimizer version 9.1.2 build v9.1.2rc0 (linux64)\n",
      "Thread count: 6 physical cores, 12 logical processors, using up to 12 threads\n",
      "Optimize a model with 102 rows, 135 columns and 414 nonzeros\n",
      "Model fingerprint: 0x689ea2b7\n",
      "Variable types: 90 continuous, 45 integer (45 binary)\n",
      "Coefficient statistics:\n",
      "  Matrix range     [1e+00, 9e+00]\n",
      "  Objective range  [2e+02, 4e+03]\n",
      "  Bounds range     [1e+00, 1e+01]\n",
      "  RHS range        [1e+00, 9e+00]\n",
      "\n",
      "MIP start from previous solve produced solution with objective 6735 (0.01s)\n",
      "Loaded MIP start from previous solve with objective 6735\n",
      "\n",
      "Presolve time: 0.00s\n",
      "Presolved: 102 rows, 135 columns, 414 nonzeros\n",
      "Variable types: 90 continuous, 45 integer (45 binary)\n",
      "\n",
      "Root relaxation: objective 5.746667e+03, 72 iterations, 0.00 seconds\n",
      "\n",
      "    Nodes    |    Current Node    |     Objective Bounds      |     Work\n",
      " Expl Unexpl |  Obj  Depth IntInf | Incumbent    BestBd   Gap | It/Node Time\n",
      "\n",
      "     0     0 5746.66667    0    5 6735.00000 5746.66667  14.7%     -    0s\n",
      "     0     0 6629.55000    0    6 6735.00000 6629.55000  1.57%     -    0s\n",
      "     0     0 6630.77959    0    7 6735.00000 6630.77959  1.55%     -    0s\n",
      "     0     0 6719.50000    0    4 6735.00000 6719.50000  0.23%     -    0s\n",
      "     0     0     cutoff    0      6735.00000 6735.00000  0.00%     -    0s\n",
      "\n",
      "Explored 1 nodes (124 simplex iterations) in 0.03 seconds\n",
      "Thread count was 12 (of 12 available processors)\n",
      "\n",
      "Solution count 1: 6735 \n",
      "\n",
      "Optimal solution found (tolerance 1.00e-04)\n",
      "Best objective 6.735000000000e+03, best bound 6.735000000000e+03, gap 0.0000%\n"
     ]
    }
   ],
   "source": [
    "mstflow.optimize()"
   ]
  },
  {
   "cell_type": "code",
   "execution_count": 23,
   "metadata": {},
   "outputs": [
    {
     "data": {
      "image/png": "[encoded data removed]",
      "text/plain": [
       "<Figure size 720x720 with 1 Axes>"
      ]
     },
     "metadata": {},
     "output_type": "display_data"
    }
   ],
   "source": [
    "DrawSolFlow(G, x, f)\n"
   ]
  },
  {
   "cell_type": "markdown",
   "metadata": {},
   "source": [
    "The next statement remove the ``RootDegree`` constraint"
   ]
  },
  {
   "cell_type": "code",
   "execution_count": 24,
   "metadata": {},
   "outputs": [],
   "source": [
    "mstflow.remove(mstflow.getConstrByName('RootDegree'))\n",
    "\n",
    "mstflow.update()\n",
    "\n",
    "mstflow.write('mst_deg.lp')"
   ]
  },
  {
   "cell_type": "markdown",
   "metadata": {},
   "source": [
    "## Capacitated spanning tree"
   ]
  },
  {
   "cell_type": "code",
   "execution_count": 25,
   "metadata": {},
   "outputs": [],
   "source": [
    "subtreecap = 7\n",
    "\n",
    "for i in f:\n",
    "    f[i].ub = subtreecap"
   ]
  },
  {
   "cell_type": "code",
   "execution_count": 26,
   "metadata": {},
   "outputs": [
    {
     "name": "stdout",
     "output_type": "stream",
     "text": [
      "Gurobi Optimizer version 9.1.2 build v9.1.2rc0 (linux64)\n",
      "Thread count: 6 physical cores, 12 logical processors, using up to 12 threads\n",
      "Optimize a model with 101 rows, 135 columns and 405 nonzeros\n",
      "Model fingerprint: 0x08ab1a9a\n",
      "Variable types: 90 continuous, 45 integer (45 binary)\n",
      "Coefficient statistics:\n",
      "  Matrix range     [1e+00, 9e+00]\n",
      "  Objective range  [2e+02, 4e+03]\n",
      "  Bounds range     [1e+00, 7e+00]\n",
      "  RHS range        [1e+00, 9e+00]\n",
      "\n",
      "MIP start from previous solve did not produce a new incumbent solution\n",
      "\n",
      "Presolve time: 0.00s\n",
      "Presolved: 101 rows, 135 columns, 405 nonzeros\n",
      "Variable types: 90 continuous, 45 integer (45 binary)\n",
      "Found heuristic solution: objective 21270.000000\n",
      "\n",
      "Root relaxation: objective 6.115429e+03, 62 iterations, 0.00 seconds\n",
      "\n",
      "    Nodes    |    Current Node    |     Objective Bounds      |     Work\n",
      " Expl Unexpl |  Obj  Depth IntInf | Incumbent    BestBd   Gap | It/Node Time\n",
      "\n",
      "     0     0 6115.42857    0    5 21270.0000 6115.42857  71.2%     -    0s\n",
      "H    0     0                    8837.0000000 6115.42857  30.8%     -    0s\n",
      "H    0     0                    8406.0000000 6115.42857  27.2%     -    0s\n",
      "     0     0 6657.28571    0    4 8406.00000 6657.28571  20.8%     -    0s\n",
      "H    0     0                    8270.0000000 6657.28571  19.5%     -    0s\n",
      "     0     0 6677.50000    0    6 8270.00000 6677.50000  19.3%     -    0s\n",
      "     0     0 6696.07143    0    6 8270.00000 6696.07143  19.0%     -    0s\n",
      "H    0     0                    8227.0000000 6696.07143  18.6%     -    0s\n",
      "     0     0 7518.23469    0    6 8227.00000 7518.23469  8.62%     -    0s\n",
      "H    0     0                    7761.0000000 7518.23469  3.13%     -    0s\n",
      "     0     0     cutoff    0      7761.00000 7761.00000  0.00%     -    0s\n",
      "\n",
      "Cutting planes:\n",
      "  Gomory: 3\n",
      "  Cover: 1\n",
      "  MIR: 8\n",
      "  Flow cover: 10\n",
      "  Network: 1\n",
      "  Relax-and-lift: 1\n",
      "\n",
      "Explored 1 nodes (101 simplex iterations) in 0.03 seconds\n",
      "Thread count was 12 (of 12 available processors)\n",
      "\n",
      "Solution count 6: 7761 8227 8270 ... 21270\n",
      "\n",
      "Optimal solution found (tolerance 1.00e-04)\n",
      "Best objective 7.761000000000e+03, best bound 7.761000000000e+03, gap 0.0000%\n"
     ]
    }
   ],
   "source": [
    "mstflow.optimize()"
   ]
  },
  {
   "cell_type": "code",
   "execution_count": 27,
   "metadata": {},
   "outputs": [],
   "source": [
    "mstflow.write('mst_deg.lp')"
   ]
  },
  {
   "cell_type": "code",
   "execution_count": 28,
   "metadata": {},
   "outputs": [
    {
     "data": {
      "image/png": "[encoded data removed]",
      "text/plain": [
       "<Figure size 720x720 with 1 Axes>"
      ]
     },
     "metadata": {},
     "output_type": "display_data"
    }
   ],
   "source": [
    "DrawSolFlow(G, x, f)\n"
   ]
  },
  {
   "cell_type": "code",
   "execution_count": null,
   "metadata": {
    "collapsed": true,
    "jupyter": {
     "outputs_hidden": true
    }
   },
   "outputs": [],
   "source": []
  },
  {
   "cell_type": "code",
   "execution_count": null,
   "metadata": {},
   "outputs": [],
   "source": []
  },
  {
   "cell_type": "code",
   "execution_count": null,
   "metadata": {},
   "outputs": [],
   "source": []
  }
 ],
 "metadata": {
  "anaconda-cloud": {},
  "kernelspec": {
   "display_name": "Python 3",
   "language": "python",
   "name": "python3"
  },
  "language_info": {
   "codemirror_mode": {
    "name": "ipython",
    "version": 3
   },
   "file_extension": ".py",
   "mimetype": "text/x-python",
   "name": "python",
   "nbconvert_exporter": "python",
   "pygments_lexer": "ipython3",
   "version": "3.8.5"
  }
 },
 "nbformat": 4,
 "nbformat_minor": 4
}
