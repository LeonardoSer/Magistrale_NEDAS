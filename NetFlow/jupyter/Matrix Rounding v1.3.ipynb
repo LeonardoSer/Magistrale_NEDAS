{
  "nbformat": 4,
  "nbformat_minor": 0,
  "metadata": {
    "kernelspec": {
      "display_name": "Python 3",
      "language": "python",
      "name": "python3"
    },
    "language_info": {
      "codemirror_mode": {
        "name": "ipython",
        "version": 3
      },
      "file_extension": ".py",
      "mimetype": "text/x-python",
      "name": "python",
      "nbconvert_exporter": "python",
      "pygments_lexer": "ipython3",
      "version": "3.7.10"
    },
    "colab": {
      "name": "Matrix Rounding v1.3.ipynb",
      "provenance": [],
      "include_colab_link": true
    }
  },
  "cells": [
    {
      "cell_type": "markdown",
      "metadata": {
        "id": "view-in-github",
        "colab_type": "text"
      },
      "source": [
        "<a href=\"https://colab.research.google.com/github/LeonardoSer/Univ/blob/main/NetFlow/jupyter/Matrix%20Rounding%20v1.3.ipynb\" target=\"_parent\"><img src=\"https://colab.research.google.com/assets/colab-badge.svg\" alt=\"Open In Colab\"/></a>"
      ]
    },
    {
      "cell_type": "code",
      "metadata": {
        "id": "baCJmiBe_qM_"
      },
      "source": [
        "import networkx as nx\n",
        "import random as rnd\n",
        "from tabulate import tabulate\n",
        "import math\n"
      ],
      "execution_count": 1,
      "outputs": []
    },
    {
      "cell_type": "code",
      "metadata": {
        "id": "cqTVJnMw_qNO"
      },
      "source": [
        "# Import modules for graph drawing\n",
        "!sudo apt-get install graphviz libgraphviz-dev pkg-config\n",
        "!pip install pygraphviz\n",
        "\n",
        "from IPython.display import SVG\n",
        "import pygraphviz as pgv\n",
        "import matplotlib.pyplot as plt\n"
      ],
      "execution_count": null,
      "outputs": []
    },
    {
      "cell_type": "markdown",
      "metadata": {
        "id": "7eDH4TBB_qNQ"
      },
      "source": [
        "## Matrix Rounding"
      ]
    },
    {
      "cell_type": "markdown",
      "metadata": {
        "id": "u2PfFwVI_qNR"
      },
      "source": [
        "**Definition** _Feasible matrix rounding_\n",
        "* Given a $m \\times n$ matrix $M = \\{a_{ij} \\}$ of rational numbers.\n",
        "* $r_i = \\sum_{j=1}^n a_{ij}$,for $i \\in 1, \\ldots,m $\n",
        "* $c_j=\\sum_{i=1}^m a_{ij}$, for $j \\in 1, \\ldots,n $,\n",
        "* Round each element $a_{ij}$, $r_i$ and $c_j$ **up** or **down** to integer so that sum of rounded elements in each row (column) equal row (column) sum.\n",
        "\n",
        "### Example\n",
        "\n",
        "**Original matrix**\n",
        "$$\\begin{array}{c|ccc}     \n",
        "&17.91 &    16.79  &  22.32\\\\\n",
        "\\hline\n",
        "23.61  &   9.13   &  9.75   &  4.73\\\\\n",
        "14.74  &   0.42  &   5.23   &  9.09\\\\\n",
        "18.67   &  8.36 &    1.81   &  8.5\\\\\n",
        "\\end{array}$$\n",
        "\n",
        "**Rounded matrix**\n",
        "$$\\begin{array}{c|ccc}  \n",
        "&      17 &   16 &   22\\\\\n",
        "\\hline\n",
        "23 &    9 &   10  &   4\\\\\n",
        "14 &    0 &    5  &   9\\\\\n",
        "18 &    8 &    1  &   9 \\\\\n",
        "\\end{array}$$\n",
        "### Theorem  \n",
        "For any matrix $M$ there exists a feasible rounding\n",
        "\n",
        "## Max flow formulation"
      ]
    },
    {
      "cell_type": "markdown",
      "metadata": {
        "id": "igiBqe4i_qNS"
      },
      "source": [
        "### Instance generation\n",
        "\n",
        "The <code>random</code> package is used to generate a random matrix"
      ]
    },
    {
      "cell_type": "code",
      "metadata": {
        "id": "v1TRycmA_qNT",
        "outputId": "2577377e-8eeb-43d6-e73b-0ad480f013bf"
      },
      "source": [
        "rnd.seed(10)\n",
        "\n",
        "numrows = 3\n",
        "numcols = 3\n",
        "\n",
        "matrix = [[round(rnd.random()*10, 2)\\\n",
        "           for x in range(numcols)] for x in range(numrows)] \n",
        "\n",
        "sumcol = [0 for j in range(numcols)]\n",
        "\n",
        "for j in range(numcols):\n",
        "    for i in range(numrows):\n",
        "        sumcol [j] += matrix [i][j]\n",
        "\n",
        "sumrow = [0 for i in range(numrows)]\n",
        "\n",
        "for i in range(numrows):\n",
        "    for j in range(numcols):\n",
        "        sumrow [i] += matrix[i][j]\n",
        "\n",
        "print (\"Original matrix\")\n",
        "print (tabulate(matrix, tablefmt='grid'))\n",
        "        \n",
        "print\n",
        "print (\"Matrix with columns and rows sum\")\n",
        "table = []\n",
        "for i in range(numrows):\n",
        "    newrow = matrix[i][:]\n",
        "    newrow.insert(0,sumrow[i])\n",
        "    table.append(newrow)\n",
        "\n",
        "print (tabulate(table, headers = sumcol, tablefmt='grid'))\n"
      ],
      "execution_count": null,
      "outputs": [
        {
          "output_type": "stream",
          "text": [
            "Original matrix\n",
            "+------+------+------+\n",
            "| 5.71 | 4.29 | 5.78 |\n",
            "+------+------+------+\n",
            "| 2.06 | 8.13 | 8.24 |\n",
            "+------+------+------+\n",
            "| 6.53 | 1.6  | 5.21 |\n",
            "+------+------+------+\n",
            "Matrix with columns and rows sum\n",
            "+-------+--------+----------------------+---------+\n",
            "|       |   14.3 |   14.020000000000001 |   19.23 |\n",
            "+=======+========+======================+=========+\n",
            "| 15.78 |   5.71 |                 4.29 |    5.78 |\n",
            "+-------+--------+----------------------+---------+\n",
            "| 18.43 |   2.06 |                 8.13 |    8.24 |\n",
            "+-------+--------+----------------------+---------+\n",
            "| 13.34 |   6.53 |                 1.6  |    5.21 |\n",
            "+-------+--------+----------------------+---------+\n"
          ],
          "name": "stdout"
        }
      ]
    },
    {
      "cell_type": "code",
      "metadata": {
        "id": "ZvYtuKhD_qNW"
      },
      "source": [
        "G = nx.DiGraph()\n",
        "\n",
        "G.add_node('s')\n",
        "G.add_node('t')\n",
        "\n",
        "nodecol = ['c'+ str(i) for i in range(numcols)]\n",
        "noderow = ['r'+ str(i) for i in range(numrows)]\n"
      ],
      "execution_count": null,
      "outputs": []
    },
    {
      "cell_type": "code",
      "metadata": {
        "id": "r9vSORxD_qNX",
        "outputId": "e4c5a242-685b-4f9d-964d-711c7dc56711"
      },
      "source": [
        "nodecol"
      ],
      "execution_count": null,
      "outputs": [
        {
          "output_type": "execute_result",
          "data": {
            "text/plain": [
              "['c0', 'c1', 'c2']"
            ]
          },
          "metadata": {
            "tags": []
          },
          "execution_count": 81
        }
      ]
    },
    {
      "cell_type": "code",
      "metadata": {
        "id": "I-b97ksq_qNY",
        "outputId": "db4d8a18-7ede-45c4-9447-cae724c72dd8"
      },
      "source": [
        "noderow"
      ],
      "execution_count": null,
      "outputs": [
        {
          "output_type": "execute_result",
          "data": {
            "text/plain": [
              "['r0', 'r1', 'r2']"
            ]
          },
          "metadata": {
            "tags": []
          },
          "execution_count": 82
        }
      ]
    },
    {
      "cell_type": "code",
      "metadata": {
        "id": "XH9aBaQR_qNZ"
      },
      "source": [
        "G.add_nodes_from(nodecol)\n",
        "G.add_nodes_from(noderow)\n"
      ],
      "execution_count": null,
      "outputs": []
    },
    {
      "cell_type": "code",
      "metadata": {
        "id": "GUOq5P94_qNa"
      },
      "source": [
        "for i in range(numrows):\n",
        "    G.add_edge ('s',noderow[i],\\\n",
        "                lb=int (math.floor(sumrow[i])),\\\n",
        "                ub= int(math.ceil(sumrow[i])))\n",
        "    "
      ],
      "execution_count": null,
      "outputs": []
    },
    {
      "cell_type": "code",
      "metadata": {
        "id": "KKEfYglU_qNc",
        "outputId": "0d70cc29-40ed-4d09-b6fe-bddf9e53413d"
      },
      "source": [
        "G.edges(data=True)"
      ],
      "execution_count": null,
      "outputs": [
        {
          "output_type": "execute_result",
          "data": {
            "text/plain": [
              "OutEdgeDataView([('s', 'r0', {'lb': 15, 'ub': 16}), ('s', 'r1', {'lb': 18, 'ub': 19}), ('s', 'r2', {'lb': 13, 'ub': 14})])"
            ]
          },
          "metadata": {
            "tags": []
          },
          "execution_count": 85
        }
      ]
    },
    {
      "cell_type": "code",
      "metadata": {
        "id": "EUOp_2v1_qNc"
      },
      "source": [
        "for j in range(numcols):\n",
        "        G.add_edge (nodecol[j],'t',\\\n",
        "                    lb=int (math.floor(sumcol[j])),\\\n",
        "                    ub= int(math.ceil(sumcol[j])))\n",
        "        "
      ],
      "execution_count": null,
      "outputs": []
    },
    {
      "cell_type": "code",
      "metadata": {
        "id": "0cWEqALH_qNd",
        "outputId": "c8154159-43ca-4214-fbeb-cdc841355ffa"
      },
      "source": [
        "G.edges(data=True)"
      ],
      "execution_count": null,
      "outputs": [
        {
          "output_type": "execute_result",
          "data": {
            "text/plain": [
              "OutEdgeDataView([('s', 'r0', {'lb': 15, 'ub': 16}), ('s', 'r1', {'lb': 18, 'ub': 19}), ('s', 'r2', {'lb': 13, 'ub': 14}), ('c0', 't', {'lb': 14, 'ub': 15}), ('c1', 't', {'lb': 14, 'ub': 15}), ('c2', 't', {'lb': 19, 'ub': 20})])"
            ]
          },
          "metadata": {
            "tags": []
          },
          "execution_count": 87
        }
      ]
    },
    {
      "cell_type": "code",
      "metadata": {
        "id": "lNA3TveX_qNd"
      },
      "source": [
        "for i in range(numrows):\n",
        "    for j in range(numcols):\n",
        "        G.add_edge (noderow[i],nodecol[j],\\\n",
        "                    lb=int (math.floor(matrix[i][j])),\\\n",
        "                    ub= int(math.ceil(matrix[i][j])))\n",
        "        "
      ],
      "execution_count": null,
      "outputs": []
    },
    {
      "cell_type": "code",
      "metadata": {
        "id": "C_R_1DMW_qNd",
        "outputId": "7f050cb4-5ce9-460b-c863-cf7388ed3615"
      },
      "source": [
        "G.edges(data=True)"
      ],
      "execution_count": null,
      "outputs": [
        {
          "output_type": "execute_result",
          "data": {
            "text/plain": [
              "OutEdgeDataView([('s', 'r0', {'lb': 15, 'ub': 16}), ('s', 'r1', {'lb': 18, 'ub': 19}), ('s', 'r2', {'lb': 13, 'ub': 14}), ('c0', 't', {'lb': 14, 'ub': 15}), ('c1', 't', {'lb': 14, 'ub': 15}), ('c2', 't', {'lb': 19, 'ub': 20}), ('r0', 'c0', {'lb': 5, 'ub': 6}), ('r0', 'c1', {'lb': 4, 'ub': 5}), ('r0', 'c2', {'lb': 5, 'ub': 6}), ('r1', 'c0', {'lb': 2, 'ub': 3}), ('r1', 'c1', {'lb': 8, 'ub': 9}), ('r1', 'c2', {'lb': 8, 'ub': 9}), ('r2', 'c0', {'lb': 6, 'ub': 7}), ('r2', 'c1', {'lb': 1, 'ub': 2}), ('r2', 'c2', {'lb': 5, 'ub': 6})])"
            ]
          },
          "metadata": {
            "tags": []
          },
          "execution_count": 89
        }
      ]
    },
    {
      "cell_type": "code",
      "metadata": {
        "id": "0p8v9CMl_qNe"
      },
      "source": [
        "#\n",
        "# Cell for graph drawing\n",
        "#\n",
        "\n",
        "offset = 0.45\n",
        "count = 0\n",
        "\n",
        "lenghtcol = 135.0 * float(len(nodecol))\n",
        "lenghtrow = 135.0 * float(len(noderow))\n",
        "lenght = max (lenghtcol, lenghtrow)\n",
        "\n",
        "offsetcol = lenght / len(nodecol)\n",
        "offsetrow = lenght / len(noderow)\n",
        "\n",
        "for i in noderow:\n",
        "    G.nodes[i]['pos'] = \"%f,%f\"%(200, offsetrow * count)\n",
        "    count += 1\n",
        "\n",
        "count = 0\n",
        "\n",
        "for j in nodecol:\n",
        "    G.nodes[j]['pos'] = \"%f,%f\"%(500, offsetcol * count)\n",
        "    count += 1\n",
        "    \n",
        "G.nodes['s']['pos'] = \"%f,%f\"%(0.0, offset * count * 300 / 2.0)\n",
        "G.nodes['t']['pos'] = \"%f,%f\"%(700, offset * count * 300 /2.0)\n",
        "\n",
        "for i in G.edges():\n",
        "    G[i[0]][i[1]]['xlabel'] = '%d,%d'%(G[i[0]][i[1]]['lb'],G[i[0]][i[1]]['ub'])\n"
      ],
      "execution_count": null,
      "outputs": []
    },
    {
      "cell_type": "code",
      "metadata": {
        "id": "9uqsgcka_qNf",
        "outputId": "5f5aa609-a869-4a7a-ee9a-f6f51f599699"
      },
      "source": [
        "d = nx.nx_agraph.to_agraph(G)\n",
        "\n",
        "d.node_attr.update (fontsize='10', width=0.4, shape='circle')\n",
        "\n",
        "d.edge_attr.update(fontsize='10', arrowhead='vee', penwidth=0.5)\n",
        "#d.node_attr['shape']='circle\n",
        "\n",
        "d.draw ('img.svg', prog='neato', args='-n2')\n",
        "\n",
        "SVG(filename='img.svg')\n",
        "#Image ('img.png')\n"
      ],
      "execution_count": null,
      "outputs": [
        {
          "output_type": "execute_result",
          "data": {
            "image/svg+xml": "<svg height=\"310pt\" viewBox=\"0.00 0.00 737.00 310.44\" width=\"737pt\" xmlns=\"http://www.w3.org/2000/svg\" xmlns:xlink=\"http://www.w3.org/1999/xlink\">\n<g class=\"graph\" id=\"graph0\" transform=\"scale(1 1) rotate(0) translate(4 306.44)\">\n<polygon fill=\"white\" points=\"-4,4 -4,-306.44 733,-306.44 733,4 -4,4\" stroke=\"transparent\"/>\n<!-- s -->\n<g class=\"node\" id=\"node1\">\n<title>s</title>\n<ellipse cx=\"14.5\" cy=\"-218.72\" fill=\"none\" rx=\"14.5\" ry=\"14.5\" stroke=\"black\"/>\n<text font-family=\"Times,serif\" font-size=\"10.00\" text-anchor=\"middle\" x=\"14.5\" y=\"-215.72\">s</text>\n</g>\n<!-- r0 -->\n<g class=\"node\" id=\"node2\">\n<title>r0</title>\n<ellipse cx=\"214.5\" cy=\"-16.22\" fill=\"none\" rx=\"15.53\" ry=\"15.53\" stroke=\"black\"/>\n<text font-family=\"Times,serif\" font-size=\"10.00\" text-anchor=\"middle\" x=\"214.5\" y=\"-13.22\">r0</text>\n</g>\n<!-- s&#45;&gt;r0 -->\n<g class=\"edge\" id=\"edge1\">\n<title>s-&gt;r0</title>\n<path d=\"M24.69,-208.4C56.62,-176.07 155.03,-76.43 196.15,-34.8\" fill=\"none\" stroke=\"black\" stroke-width=\"0.5\"/>\n<polygon fill=\"black\" points=\"203.35,-27.51 199.53,-37.79 199.84,-31.07 196.33,-34.62 196.33,-34.62 196.33,-34.62 199.84,-31.07 193.12,-31.46 203.35,-27.51 203.35,-27.51\" stroke=\"black\" stroke-width=\"0.5\"/>\n<text font-family=\"Times,serif\" font-size=\"10.00\" text-anchor=\"middle\" x=\"99.17\" y=\"-123.6\">15,16</text>\n</g>\n<!-- r1 -->\n<g class=\"node\" id=\"node3\">\n<title>r1</title>\n<ellipse cx=\"214.5\" cy=\"-151.22\" fill=\"none\" rx=\"15.53\" ry=\"15.53\" stroke=\"black\"/>\n<text font-family=\"Times,serif\" font-size=\"10.00\" text-anchor=\"middle\" x=\"214.5\" y=\"-148.22\">r1</text>\n</g>\n<!-- s&#45;&gt;r1 -->\n<g class=\"edge\" id=\"edge2\">\n<title>s-&gt;r1</title>\n<path d=\"M28.25,-214.08C61.67,-202.8 147.58,-173.81 190.02,-159.48\" fill=\"none\" stroke=\"black\" stroke-width=\"0.5\"/>\n<polygon fill=\"black\" points=\"199.58,-156.26 191.54,-163.72 194.84,-157.86 190.1,-159.46 190.1,-159.46 190.1,-159.46 194.84,-157.86 188.66,-155.19 199.58,-156.26 199.58,-156.26\" stroke=\"black\" stroke-width=\"0.5\"/>\n<text font-family=\"Times,serif\" font-size=\"10.00\" text-anchor=\"middle\" x=\"97.88\" y=\"-188.78\">18,19</text>\n</g>\n<!-- r2 -->\n<g class=\"node\" id=\"node4\">\n<title>r2</title>\n<ellipse cx=\"214.5\" cy=\"-286.22\" fill=\"none\" rx=\"15.53\" ry=\"15.53\" stroke=\"black\"/>\n<text font-family=\"Times,serif\" font-size=\"10.00\" text-anchor=\"middle\" x=\"214.5\" y=\"-283.22\">r2</text>\n</g>\n<!-- s&#45;&gt;r2 -->\n<g class=\"edge\" id=\"edge3\">\n<title>s-&gt;r2</title>\n<path d=\"M28.25,-223.36C61.67,-234.64 147.58,-263.64 190.02,-277.96\" fill=\"none\" stroke=\"black\" stroke-width=\"0.5\"/>\n<polygon fill=\"black\" points=\"199.58,-281.19 188.66,-282.25 194.84,-279.59 190.1,-277.99 190.1,-277.99 190.1,-277.99 194.84,-279.59 191.54,-273.72 199.58,-281.19 199.58,-281.19\" stroke=\"black\" stroke-width=\"0.5\"/>\n<text font-family=\"Times,serif\" font-size=\"10.00\" text-anchor=\"middle\" x=\"97.88\" y=\"-252.66\">13,14</text>\n</g>\n<!-- c0 -->\n<g class=\"node\" id=\"node6\">\n<title>c0</title>\n<ellipse cx=\"514.5\" cy=\"-16.22\" fill=\"none\" rx=\"16.45\" ry=\"16.45\" stroke=\"black\"/>\n<text font-family=\"Times,serif\" font-size=\"10.00\" text-anchor=\"middle\" x=\"514.5\" y=\"-13.22\">c0</text>\n</g>\n<!-- r0&#45;&gt;c0 -->\n<g class=\"edge\" id=\"edge7\">\n<title>r0-&gt;c0</title>\n<path d=\"M230.21,-16.22C278.78,-16.22 426.97,-16.22 487.9,-16.22\" fill=\"none\" stroke=\"black\" stroke-width=\"0.5\"/>\n<polygon fill=\"black\" points=\"498.22,-16.22 488.22,-20.72 493.22,-16.22 488.22,-16.22 488.22,-16.22 488.22,-16.22 493.22,-16.22 488.22,-11.72 498.22,-16.22 498.22,-16.22\" stroke=\"black\" stroke-width=\"0.5\"/>\n<text font-family=\"Times,serif\" font-size=\"10.00\" text-anchor=\"middle\" x=\"352.8\" y=\"-18.22\">5,6</text>\n</g>\n<!-- c1 -->\n<g class=\"node\" id=\"node7\">\n<title>c1</title>\n<ellipse cx=\"514.5\" cy=\"-151.22\" fill=\"none\" rx=\"16.45\" ry=\"16.45\" stroke=\"black\"/>\n<text font-family=\"Times,serif\" font-size=\"10.00\" text-anchor=\"middle\" x=\"514.5\" y=\"-148.22\">c1</text>\n</g>\n<!-- r0&#45;&gt;c1 -->\n<g class=\"edge\" id=\"edge8\">\n<title>r0-&gt;c1</title>\n<path d=\"M228.97,-22.73C276.77,-44.24 429.97,-113.18 490.02,-140.21\" fill=\"none\" stroke=\"black\" stroke-width=\"0.5\"/>\n<polygon fill=\"black\" points=\"499.47,-144.46 488.5,-144.46 494.91,-142.41 490.35,-140.35 490.35,-140.35 490.35,-140.35 494.91,-142.41 492.2,-136.25 499.47,-144.46 499.47,-144.46\" stroke=\"black\" stroke-width=\"0.5\"/>\n<text font-family=\"Times,serif\" font-size=\"10.00\" text-anchor=\"middle\" x=\"353.24\" y=\"-83.47\">4,5</text>\n</g>\n<!-- c2 -->\n<g class=\"node\" id=\"node8\">\n<title>c2</title>\n<ellipse cx=\"514.5\" cy=\"-286.22\" fill=\"none\" rx=\"16.45\" ry=\"16.45\" stroke=\"black\"/>\n<text font-family=\"Times,serif\" font-size=\"10.00\" text-anchor=\"middle\" x=\"514.5\" y=\"-283.22\">c2</text>\n</g>\n<!-- r0&#45;&gt;c2 -->\n<g class=\"edge\" id=\"edge9\">\n<title>r0-&gt;c2</title>\n<path d=\"M226.26,-26.81C271.8,-67.79 436.83,-216.32 494.47,-268.19\" fill=\"none\" stroke=\"black\" stroke-width=\"0.5\"/>\n<polygon fill=\"black\" points=\"502.16,-275.12 491.72,-271.78 498.45,-271.78 494.73,-268.43 494.73,-268.43 494.73,-268.43 498.45,-271.78 497.74,-265.09 502.16,-275.12 502.16,-275.12\" stroke=\"black\" stroke-width=\"0.5\"/>\n<text font-family=\"Times,serif\" font-size=\"10.00\" text-anchor=\"middle\" x=\"354.11\" y=\"-139.5\">5,6</text>\n</g>\n<!-- r1&#45;&gt;c0 -->\n<g class=\"edge\" id=\"edge10\">\n<title>r1-&gt;c0</title>\n<path d=\"M228.97,-144.71C276.77,-123.2 429.97,-54.26 490.02,-27.24\" fill=\"none\" stroke=\"black\" stroke-width=\"0.5\"/>\n<polygon fill=\"black\" points=\"499.47,-22.99 492.2,-31.19 494.91,-25.04 490.35,-27.09 490.35,-27.09 490.35,-27.09 494.91,-25.04 488.5,-22.99 499.47,-22.99 499.47,-22.99\" stroke=\"black\" stroke-width=\"0.5\"/>\n<text font-family=\"Times,serif\" font-size=\"10.00\" text-anchor=\"middle\" x=\"365.74\" y=\"-87.97\">2,3</text>\n</g>\n<!-- r1&#45;&gt;c1 -->\n<g class=\"edge\" id=\"edge11\">\n<title>r1-&gt;c1</title>\n<path d=\"M230.21,-151.22C278.78,-151.22 426.97,-151.22 487.9,-151.22\" fill=\"none\" stroke=\"black\" stroke-width=\"0.5\"/>\n<polygon fill=\"black\" points=\"498.22,-151.22 488.22,-155.72 493.22,-151.22 488.22,-151.22 488.22,-151.22 488.22,-151.22 493.22,-151.22 488.22,-146.72 498.22,-151.22 498.22,-151.22\" stroke=\"black\" stroke-width=\"0.5\"/>\n<text font-family=\"Times,serif\" font-size=\"10.00\" text-anchor=\"middle\" x=\"352.8\" y=\"-153.22\">8,9</text>\n</g>\n<!-- r1&#45;&gt;c2 -->\n<g class=\"edge\" id=\"edge12\">\n<title>r1-&gt;c2</title>\n<path d=\"M228.97,-157.73C276.77,-179.24 429.97,-248.18 490.02,-275.21\" fill=\"none\" stroke=\"black\" stroke-width=\"0.5\"/>\n<polygon fill=\"black\" points=\"499.47,-279.46 488.5,-279.46 494.91,-277.41 490.35,-275.35 490.35,-275.35 490.35,-275.35 494.91,-277.41 492.2,-271.25 499.47,-279.46 499.47,-279.46\" stroke=\"black\" stroke-width=\"0.5\"/>\n<text font-family=\"Times,serif\" font-size=\"10.00\" text-anchor=\"middle\" x=\"353.24\" y=\"-218.47\">8,9</text>\n</g>\n<!-- r2&#45;&gt;c0 -->\n<g class=\"edge\" id=\"edge13\">\n<title>r2-&gt;c0</title>\n<path d=\"M226.26,-275.64C271.8,-234.66 436.83,-86.13 494.47,-34.25\" fill=\"none\" stroke=\"black\" stroke-width=\"0.5\"/>\n<polygon fill=\"black\" points=\"502.16,-27.32 497.74,-37.36 498.45,-30.67 494.73,-34.01 494.73,-34.01 494.73,-34.01 498.45,-30.67 491.72,-30.67 502.16,-27.32 502.16,-27.32\" stroke=\"black\" stroke-width=\"0.5\"/>\n<text font-family=\"Times,serif\" font-size=\"10.00\" text-anchor=\"middle\" x=\"366.61\" y=\"-156.94\">6,7</text>\n</g>\n<!-- r2&#45;&gt;c1 -->\n<g class=\"edge\" id=\"edge14\">\n<title>r2-&gt;c1</title>\n<path d=\"M228.97,-279.71C276.77,-258.2 429.97,-189.26 490.02,-162.24\" fill=\"none\" stroke=\"black\" stroke-width=\"0.5\"/>\n<polygon fill=\"black\" points=\"499.47,-157.99 492.2,-166.19 494.91,-160.04 490.35,-162.09 490.35,-162.09 490.35,-162.09 494.91,-160.04 488.5,-157.99 499.47,-157.99 499.47,-157.99\" stroke=\"black\" stroke-width=\"0.5\"/>\n<text font-family=\"Times,serif\" font-size=\"10.00\" text-anchor=\"middle\" x=\"365.74\" y=\"-222.97\">1,2</text>\n</g>\n<!-- r2&#45;&gt;c2 -->\n<g class=\"edge\" id=\"edge15\">\n<title>r2-&gt;c2</title>\n<path d=\"M230.21,-286.22C278.78,-286.22 426.97,-286.22 487.9,-286.22\" fill=\"none\" stroke=\"black\" stroke-width=\"0.5\"/>\n<polygon fill=\"black\" points=\"498.22,-286.22 488.22,-290.72 493.22,-286.22 488.22,-286.22 488.22,-286.22 488.22,-286.22 493.22,-286.22 488.22,-281.72 498.22,-286.22 498.22,-286.22\" stroke=\"black\" stroke-width=\"0.5\"/>\n<text font-family=\"Times,serif\" font-size=\"10.00\" text-anchor=\"middle\" x=\"352.8\" y=\"-288.22\">5,6</text>\n</g>\n<!-- t -->\n<g class=\"node\" id=\"node5\">\n<title>t</title>\n<ellipse cx=\"714.5\" cy=\"-218.72\" fill=\"none\" rx=\"14.5\" ry=\"14.5\" stroke=\"black\"/>\n<text font-family=\"Times,serif\" font-size=\"10.00\" text-anchor=\"middle\" x=\"714.5\" y=\"-215.72\">t</text>\n</g>\n<!-- c0&#45;&gt;t -->\n<g class=\"edge\" id=\"edge4\">\n<title>c0-&gt;t</title>\n<path d=\"M526.12,-27.98C559.73,-62.01 657.19,-160.7 697.13,-201.13\" fill=\"none\" stroke=\"black\" stroke-width=\"0.5\"/>\n<polygon fill=\"black\" points=\"704.31,-208.41 694.08,-204.45 700.8,-204.85 697.28,-201.29 697.28,-201.29 697.28,-201.29 700.8,-204.85 700.48,-198.13 704.31,-208.41 704.31,-208.41\" stroke=\"black\" stroke-width=\"0.5\"/>\n<text font-family=\"Times,serif\" font-size=\"10.00\" text-anchor=\"middle\" x=\"600.37\" y=\"-116.56\">14,15</text>\n</g>\n<!-- c1&#45;&gt;t -->\n<g class=\"edge\" id=\"edge5\">\n<title>c1-&gt;t</title>\n<path d=\"M530.19,-156.52C565.25,-168.35 650.09,-196.98 691.28,-210.89\" fill=\"none\" stroke=\"black\" stroke-width=\"0.5\"/>\n<polygon fill=\"black\" points=\"700.76,-214.08 689.84,-215.15 696.02,-212.49 691.28,-210.89 691.28,-210.89 691.28,-210.89 696.02,-212.49 692.72,-206.62 700.76,-214.08 700.76,-214.08\" stroke=\"black\" stroke-width=\"0.5\"/>\n<text font-family=\"Times,serif\" font-size=\"10.00\" text-anchor=\"middle\" x=\"599.49\" y=\"-185.7\">14,15</text>\n</g>\n<!-- c2&#45;&gt;t -->\n<g class=\"edge\" id=\"edge6\">\n<title>c2-&gt;t</title>\n<path d=\"M530.19,-280.93C565.25,-269.09 650.09,-240.46 691.28,-226.56\" fill=\"none\" stroke=\"black\" stroke-width=\"0.5\"/>\n<polygon fill=\"black\" points=\"700.76,-223.36 692.72,-230.82 696.02,-224.96 691.28,-226.56 691.28,-226.56 691.28,-226.56 696.02,-224.96 689.84,-222.29 700.76,-223.36 700.76,-223.36\" stroke=\"black\" stroke-width=\"0.5\"/>\n<text font-family=\"Times,serif\" font-size=\"10.00\" text-anchor=\"middle\" x=\"599.49\" y=\"-255.74\">19,20</text>\n</g>\n</g>\n</svg>",
            "text/plain": [
              "<IPython.core.display.SVG object>"
            ]
          },
          "metadata": {
            "tags": []
          },
          "execution_count": 91
        }
      ]
    },
    {
      "cell_type": "markdown",
      "metadata": {
        "id": "iewZYIsp_qNf"
      },
      "source": [
        "### Finding a feasible rounding\n",
        "\n",
        "**Step 1.** Generate a copy $H$ of the graph $G$\n",
        "\n",
        "**Remember** The <code>copy()</code> method  makes a complete copy of the graph including all of the node or edge attributes."
      ]
    },
    {
      "cell_type": "code",
      "metadata": {
        "id": "SIhCmmHz_qNg"
      },
      "source": [
        "H = G.copy()"
      ],
      "execution_count": null,
      "outputs": []
    },
    {
      "cell_type": "markdown",
      "metadata": {
        "id": "XTy2q8zb_qNg"
      },
      "source": [
        "**Step 2.** Capacity scaling: capacity of each arc of $H$ is scaled  to $u_{ij} - l_{ij}$ "
      ]
    },
    {
      "cell_type": "code",
      "metadata": {
        "id": "Hn6QG4lH_qNg"
      },
      "source": [
        "for i,j in H.edges():\n",
        "    H[i][j]['capacity'] = \\\n",
        "    H[i][j]['ub'] -  H[i][j]['lb']"
      ],
      "execution_count": null,
      "outputs": []
    },
    {
      "cell_type": "code",
      "metadata": {
        "id": "Bc5Rkzqv_qNg",
        "outputId": "1545b03d-d5dd-463e-d7e4-61c7e6e32929"
      },
      "source": [
        "print(H.edges(data=True))"
      ],
      "execution_count": null,
      "outputs": [
        {
          "output_type": "stream",
          "text": [
            "[('s', 'r0', {'lb': 15, 'ub': 16, 'xlabel': '15,16', 'capacity': 1}), ('s', 'r1', {'lb': 18, 'ub': 19, 'xlabel': '18,19', 'capacity': 1}), ('s', 'r2', {'lb': 13, 'ub': 14, 'xlabel': '13,14', 'capacity': 1}), ('c0', 't', {'lb': 14, 'ub': 15, 'xlabel': '14,15', 'capacity': 1}), ('c1', 't', {'lb': 14, 'ub': 15, 'xlabel': '14,15', 'capacity': 1}), ('c2', 't', {'lb': 19, 'ub': 20, 'xlabel': '19,20', 'capacity': 1}), ('r0', 'c0', {'lb': 5, 'ub': 6, 'xlabel': '5,6', 'capacity': 1}), ('r0', 'c1', {'lb': 4, 'ub': 5, 'xlabel': '4,5', 'capacity': 1}), ('r0', 'c2', {'lb': 5, 'ub': 6, 'xlabel': '5,6', 'capacity': 1}), ('r1', 'c0', {'lb': 2, 'ub': 3, 'xlabel': '2,3', 'capacity': 1}), ('r1', 'c1', {'lb': 8, 'ub': 9, 'xlabel': '8,9', 'capacity': 1}), ('r1', 'c2', {'lb': 8, 'ub': 9, 'xlabel': '8,9', 'capacity': 1}), ('r2', 'c0', {'lb': 6, 'ub': 7, 'xlabel': '6,7', 'capacity': 1}), ('r2', 'c1', {'lb': 1, 'ub': 2, 'xlabel': '1,2', 'capacity': 1}), ('r2', 'c2', {'lb': 5, 'ub': 6, 'xlabel': '5,6', 'capacity': 1})]\n"
          ],
          "name": "stdout"
        }
      ]
    },
    {
      "cell_type": "markdown",
      "metadata": {
        "id": "pjw48ymf_qNh"
      },
      "source": [
        "**Step 3.** Add an arc between $t$ and $s$ with infinite capacity (i.e., a capacity large enough)\n",
        "\n",
        "**Remark** In this case you can assign to the arc $(t,s)$ a capacity equal to the maximum between $u(\\delta^+(s))$ and $u(\\delta^-(t))$\n"
      ]
    },
    {
      "cell_type": "code",
      "metadata": {
        "id": "A4vkXf_u_qNi"
      },
      "source": [
        "row_cap = 0\n",
        "for i in noderow:\n",
        "    row_cap +=  H['s'][i]['ub'] \n",
        "\n",
        "col_cap = 0\n",
        "for i in nodecol:\n",
        "    col_cap +=  H[i]['t']['ub']\n",
        "\n",
        "H.add_edge ('t','s',capacity=max(row_cap,col_cap))"
      ],
      "execution_count": null,
      "outputs": []
    },
    {
      "cell_type": "markdown",
      "metadata": {
        "id": "hZI6E5Sq_qNi"
      },
      "source": [
        "**Step 4.** Two extra nodes $s_1$ and $t_1$ are added to $H$"
      ]
    },
    {
      "cell_type": "code",
      "metadata": {
        "id": "PSJVEZI6_qNj"
      },
      "source": [
        "H.add_node('s1')\n",
        "H.add_node('t1')"
      ],
      "execution_count": null,
      "outputs": []
    },
    {
      "cell_type": "markdown",
      "metadata": {
        "id": "IlzIlIZn_qNj"
      },
      "source": [
        "**Step 5.** For each node, the flow unbalance is evaluated\n",
        "\n",
        "**Remark** Flow unbalance is stored in a dictionary and is evaluated on graph $G$. By constructions, the sum of flow unbalance is equal to 0"
      ]
    },
    {
      "cell_type": "code",
      "metadata": {
        "id": "jSYO4Jzp_qNj",
        "outputId": "a097ceed-923e-4b45-c02d-6d26f01e6ff3"
      },
      "source": [
        "unbalance = {}\n",
        "\n",
        "for i in G.nodes():\n",
        "        auxunb = 0\n",
        "        for j in G.in_edges(i):\n",
        "            auxunb += G[j[0]][j[1]]['lb']\n",
        "        \n",
        "        for j in G.out_edges(i):\n",
        "            auxunb -= G[j[0]][j[1]]['lb']\n",
        "        \n",
        "        unbalance[i] = auxunb\n",
        "        \n",
        "\n",
        "print(unbalance)\n"
      ],
      "execution_count": null,
      "outputs": [
        {
          "output_type": "stream",
          "text": [
            "{'s': -46, 't': 47, 'c0': -1, 'c1': -1, 'c2': -1, 'r0': 1, 'r1': 0, 'r2': 1}\n"
          ],
          "name": "stdout"
        }
      ]
    },
    {
      "cell_type": "markdown",
      "metadata": {
        "id": "T0YBiBFe_qNk"
      },
      "source": [
        "**Step 6.** Two set of arcs are added to $H$:\n",
        "1. Arcs $(s_1, i)$ if flow unbalance of $i>0$\n",
        "2. Arcs $(i, t_1)$ if flow unbalance of $i<0$"
      ]
    },
    {
      "cell_type": "code",
      "metadata": {
        "id": "GHsB4b9L_qNk"
      },
      "source": [
        "for i in unbalance:\n",
        "\n",
        "    if unbalance[i] > 0:\n",
        "        H.add_edge ('s1',i,capacity = unbalance[i])\n",
        "    if unbalance[i] < 0:\n",
        "        H.add_edge (i,'t1',capacity =- unbalance[i])\n",
        "        "
      ],
      "execution_count": null,
      "outputs": []
    },
    {
      "cell_type": "markdown",
      "metadata": {
        "id": "R_h59Mvf_qNl"
      },
      "source": [
        "**Step 7.** Evaluate the maximum $s_1-t_1$ flow\n",
        "\n",
        "A valid circulation always exists\n",
        "\n"
      ]
    },
    {
      "cell_type": "code",
      "metadata": {
        "id": "4IQQIv_X_qNl",
        "outputId": "f3607c69-88c1-4501-9c80-73b190139452"
      },
      "source": [
        "value, flow = nx.maximum_flow(H,'s1','t1', 'capacity')\n",
        "\n",
        "print (value)\n",
        "\n",
        "for i in H.out_edges('s1'):\n",
        "    print (\"Flow and capacity of arc (%s,%s):\" % (i[0],i[1]), H[i[0]][i[1]]['capacity'], flow[i[0]][i[1]])\n",
        "    if H[i[0]][i[1]]['capacity'] != flow[i[0]][i[1]]:\n",
        "        print (\"Valid circulation not found\")\n",
        "        break\n",
        "\n",
        "flow"
      ],
      "execution_count": null,
      "outputs": [
        {
          "output_type": "stream",
          "text": [
            "49\n",
            "Flow and capacity of arc (s1,t): 47 47\n",
            "Flow and capacity of arc (s1,r0): 1 1\n",
            "Flow and capacity of arc (s1,r2): 1 1\n"
          ],
          "name": "stdout"
        },
        {
          "output_type": "execute_result",
          "data": {
            "text/plain": [
              "{'s': {'r0': 1, 'r1': 1, 'r2': 0, 't1': 46},\n",
              " 't': {'s': 48},\n",
              " 'c0': {'t': 1, 't1': 1},\n",
              " 'c1': {'t': 0, 't1': 1},\n",
              " 'c2': {'t': 0, 't1': 1},\n",
              " 'r0': {'c0': 1, 'c1': 0, 'c2': 1},\n",
              " 'r1': {'c0': 0, 'c1': 1, 'c2': 0},\n",
              " 'r2': {'c0': 1, 'c1': 0, 'c2': 0},\n",
              " 's1': {'t': 47, 'r0': 1, 'r2': 1},\n",
              " 't1': {}}"
            ]
          },
          "metadata": {
            "tags": []
          },
          "execution_count": 99
        }
      ]
    },
    {
      "cell_type": "markdown",
      "metadata": {
        "id": "rFO1KA13_qNm"
      },
      "source": [
        "**Step 8.** Print the rounded matrix\n"
      ]
    },
    {
      "cell_type": "code",
      "metadata": {
        "id": "vCvS3YkU_qNm",
        "outputId": "c0317912-fa6e-4272-d784-2466716d9144"
      },
      "source": [
        "rounded_matrix = []\n",
        "\n",
        "for i in range(numrows):\n",
        "    rounded_matrix.append([])\n",
        "    for j in range(numcols):\n",
        "        rounded_matrix[i].append(int(math.floor(matrix[i][j])) + \\\n",
        "        flow[noderow[i]][nodecol[j]])\n",
        "\n",
        "sumroundedcol = [0 for j in range(numcols)]\n",
        "\n",
        "for j in range(numcols):\n",
        "    for i in range(numrows):\n",
        "        sumroundedcol [j] += rounded_matrix [i][j]\n",
        "\n",
        "sumroundedrow = [0 for i in range(numrows)]\n",
        "\n",
        "for i in range(numrows):\n",
        "    for j in range(numcols):\n",
        "        sumroundedrow [i] += rounded_matrix[i][j]\n",
        "\n",
        "print (\"Original matrix\")\n",
        "table = []\n",
        "for i in range(numrows):\n",
        "    newrow = matrix[i][:]\n",
        "    newrow.insert(0,sumrow[i])\n",
        "    table.append(newrow)\n",
        "\n",
        "print (tabulate(table, headers = sumcol, tablefmt=\"grid\"))\n",
        "\n",
        "print()\n",
        "print()\n",
        "\n",
        "print (\"Rounded matrix\")\n",
        "table = []\n",
        "for i in range(numrows):\n",
        "    newrow = rounded_matrix[i][:]\n",
        "    newrow.insert(0,sumroundedrow[i])\n",
        "    table.append(newrow)\n",
        "\n",
        "print (tabulate(table, headers = sumroundedcol, tablefmt=\"grid\"))"
      ],
      "execution_count": null,
      "outputs": [
        {
          "output_type": "stream",
          "text": [
            "Original matrix\n",
            "+-------+--------+----------------------+---------+\n",
            "|       |   14.3 |   14.020000000000001 |   19.23 |\n",
            "+=======+========+======================+=========+\n",
            "| 15.78 |   5.71 |                 4.29 |    5.78 |\n",
            "+-------+--------+----------------------+---------+\n",
            "| 18.43 |   2.06 |                 8.13 |    8.24 |\n",
            "+-------+--------+----------------------+---------+\n",
            "| 13.34 |   6.53 |                 1.6  |    5.21 |\n",
            "+-------+--------+----------------------+---------+\n",
            "\n",
            "\n",
            "Rounded matrix\n",
            "+----+------+------+------+\n",
            "|    |   15 |   14 |   19 |\n",
            "+====+======+======+======+\n",
            "| 16 |    6 |    4 |    6 |\n",
            "+----+------+------+------+\n",
            "| 19 |    2 |    9 |    8 |\n",
            "+----+------+------+------+\n",
            "| 13 |    7 |    1 |    5 |\n",
            "+----+------+------+------+\n"
          ],
          "name": "stdout"
        }
      ]
    },
    {
      "cell_type": "code",
      "metadata": {
        "id": "eMlgWvHK_qNn"
      },
      "source": [
        ""
      ],
      "execution_count": null,
      "outputs": []
    },
    {
      "cell_type": "code",
      "metadata": {
        "collapsed": true,
        "id": "DOmhaIN3_qNn"
      },
      "source": [
        ""
      ],
      "execution_count": null,
      "outputs": []
    }
  ]
}