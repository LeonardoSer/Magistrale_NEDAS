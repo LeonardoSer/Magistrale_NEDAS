{
 "cells": [
  {
   "cell_type": "code",
   "execution_count": 32,
   "metadata": {},
   "outputs": [],
   "source": [
    "import networkx as nx"
   ]
  },
  {
   "cell_type": "markdown",
   "metadata": {},
   "source": [
    "### Implementation of feasibility check for max-flow problem with lower bounds"
   ]
  },
  {
   "cell_type": "code",
   "execution_count": 57,
   "metadata": {},
   "outputs": [],
   "source": [
    "G = nx.DiGraph()"
   ]
  },
  {
   "cell_type": "code",
   "execution_count": 58,
   "metadata": {},
   "outputs": [],
   "source": [
    "nodes = ['s', 'a', 'b', 't']"
   ]
  },
  {
   "cell_type": "code",
   "execution_count": 59,
   "metadata": {},
   "outputs": [],
   "source": [
    "G.add_nodes_from(nodes)"
   ]
  },
  {
   "cell_type": "code",
   "execution_count": 60,
   "metadata": {},
   "outputs": [
    {
     "data": {
      "text/plain": [
       "NodeView(('s', 'a', 'b', 't'))"
      ]
     },
     "execution_count": 60,
     "metadata": {},
     "output_type": "execute_result"
    }
   ],
   "source": [
    "G.nodes()"
   ]
  },
  {
   "cell_type": "code",
   "execution_count": 61,
   "metadata": {},
   "outputs": [
    {
     "data": {
      "text/plain": [
       "OutEdgeView([])"
      ]
     },
     "execution_count": 61,
     "metadata": {},
     "output_type": "execute_result"
    }
   ],
   "source": [
    "G.edges()"
   ]
  },
  {
   "cell_type": "code",
   "execution_count": 62,
   "metadata": {},
   "outputs": [],
   "source": [
    "G.add_edge('s', 'a', lb=3, ub=15)"
   ]
  },
  {
   "cell_type": "code",
   "execution_count": 63,
   "metadata": {},
   "outputs": [],
   "source": [
    "G.add_edge('a','b', lb=4, ub=5)\n",
    "G.add_edge('s','b', lb=4, ub=9)\n",
    "G.add_edge('b','t', lb=7, ub=12)\n",
    "G.add_edge('a','t', lb=8, ub=20)"
   ]
  },
  {
   "cell_type": "code",
   "execution_count": 64,
   "metadata": {},
   "outputs": [],
   "source": [
    "\n",
    "pos=nx.nx_agraph.graphviz_layout(G,prog='neato')"
   ]
  },
  {
   "cell_type": "code",
   "execution_count": 65,
   "metadata": {},
   "outputs": [
    {
     "data": {
      "image/png": "[encoded data removed]",
      "text/plain": [
       "<Figure size 432x288 with 1 Axes>"
      ]
     },
     "metadata": {},
     "output_type": "display_data"
    }
   ],
   "source": [
    "nx.draw(G, pos)\n",
    "nx.draw_networkx_labels(G,pos);"
   ]
  },
  {
   "cell_type": "code",
   "execution_count": 66,
   "metadata": {},
   "outputs": [
    {
     "data": {
      "text/plain": [
       "OutEdgeDataView([('s', 'a', {'lb': 3, 'ub': 15}), ('s', 'b', {'lb': 4, 'ub': 9}), ('a', 'b', {'lb': 4, 'ub': 5}), ('a', 't', {'lb': 8, 'ub': 20}), ('b', 't', {'lb': 7, 'ub': 12})])"
      ]
     },
     "execution_count": 66,
     "metadata": {},
     "output_type": "execute_result"
    }
   ],
   "source": [
    "G.edges(data=True)"
   ]
  },
  {
   "cell_type": "code",
   "execution_count": 67,
   "metadata": {},
   "outputs": [],
   "source": [
    "H = G.copy()"
   ]
  },
  {
   "cell_type": "markdown",
   "metadata": {},
   "source": [
    "In this step I scale the capacities"
   ]
  },
  {
   "cell_type": "code",
   "execution_count": 68,
   "metadata": {},
   "outputs": [],
   "source": [
    "for i,j in H.edges():\n",
    "    capacity = G[i][j]['ub'] - G[i][j]['lb']\n",
    "    H[i][j]['capacity'] = capacity\n",
    " "
   ]
  },
  {
   "cell_type": "code",
   "execution_count": 69,
   "metadata": {},
   "outputs": [],
   "source": [
    "H.add_edge('t','s')"
   ]
  },
  {
   "cell_type": "code",
   "execution_count": 70,
   "metadata": {},
   "outputs": [
    {
     "data": {
      "text/plain": [
       "OutEdgeDataView([('s', 'a', {'lb': 3, 'ub': 15, 'capacity': 12}), ('s', 'b', {'lb': 4, 'ub': 9, 'capacity': 5}), ('a', 'b', {'lb': 4, 'ub': 5, 'capacity': 1}), ('a', 't', {'lb': 8, 'ub': 20, 'capacity': 12}), ('b', 't', {'lb': 7, 'ub': 12, 'capacity': 5}), ('t', 's', {})])"
      ]
     },
     "execution_count": 70,
     "metadata": {},
     "output_type": "execute_result"
    }
   ],
   "source": [
    "H.edges(data=True)"
   ]
  },
  {
   "cell_type": "code",
   "execution_count": 71,
   "metadata": {},
   "outputs": [],
   "source": [
    "b = dict()"
   ]
  },
  {
   "cell_type": "code",
   "execution_count": 72,
   "metadata": {},
   "outputs": [],
   "source": [
    "for i in G.nodes():\n",
    "    aux = 0\n",
    "    \n",
    "    for h,k in G.in_edges(i):\n",
    "        aux += G[h][k]['lb']\n",
    "        \n",
    "    for h,k in G.out_edges(i):\n",
    "        aux -= G[h][k]['lb']\n",
    "        \n",
    "    \n",
    "    b[i] = aux\n",
    "    "
   ]
  },
  {
   "cell_type": "code",
   "execution_count": 73,
   "metadata": {},
   "outputs": [
    {
     "data": {
      "text/plain": [
       "{'s': -7, 'a': -9, 'b': 1, 't': 15}"
      ]
     },
     "execution_count": 73,
     "metadata": {},
     "output_type": "execute_result"
    }
   ],
   "source": [
    "b"
   ]
  },
  {
   "cell_type": "code",
   "execution_count": 21,
   "metadata": {},
   "outputs": [],
   "source": [
    "H.add_node('s1')\n",
    "H.add_node('t1')"
   ]
  },
  {
   "cell_type": "code",
   "execution_count": 74,
   "metadata": {},
   "outputs": [],
   "source": [
    "for n, cap in b.items():\n",
    "    if cap < 0:\n",
    "        H.add_edge(n, 't1', capacity=-cap)\n",
    "    if cap > 0:\n",
    "        H.add_edge ('s1', n, capacity=cap)\n"
   ]
  },
  {
   "cell_type": "code",
   "execution_count": 75,
   "metadata": {},
   "outputs": [
    {
     "data": {
      "image/png": "[encoded data removed]",
      "text/plain": [
       "<Figure size 432x288 with 1 Axes>"
      ]
     },
     "metadata": {},
     "output_type": "display_data"
    }
   ],
   "source": [
    "labels = nx.get_edge_attributes(H, 'capacity')\n",
    "\n",
    "pos=nx.nx_agraph.graphviz_layout(H,prog='neato')\n",
    "\n",
    "nx.draw(H, pos, with_labels=True)\n",
    "nx.draw_networkx_edge_labels(H, pos, labels);\n",
    "\n"
   ]
  },
  {
   "cell_type": "code",
   "execution_count": 76,
   "metadata": {},
   "outputs": [
    {
     "data": {
      "text/plain": [
       "OutEdgeDataView([('s', 'a', {'lb': 3, 'ub': 15, 'capacity': 12}), ('s', 'b', {'lb': 4, 'ub': 9, 'capacity': 5}), ('s', 't1', {'capacity': 7}), ('a', 'b', {'lb': 4, 'ub': 5, 'capacity': 1}), ('a', 't', {'lb': 8, 'ub': 20, 'capacity': 12}), ('a', 't1', {'capacity': 9}), ('b', 't', {'lb': 7, 'ub': 12, 'capacity': 5}), ('t', 's', {}), ('s1', 'b', {'capacity': 1}), ('s1', 't', {'capacity': 15})])"
      ]
     },
     "execution_count": 76,
     "metadata": {},
     "output_type": "execute_result"
    }
   ],
   "source": [
    "H.edges(data=True)"
   ]
  },
  {
   "cell_type": "code",
   "execution_count": 77,
   "metadata": {},
   "outputs": [],
   "source": [
    "value, flow = nx.maximum_flow(H, 's1', 't1')"
   ]
  },
  {
   "cell_type": "code",
   "execution_count": 78,
   "metadata": {},
   "outputs": [
    {
     "data": {
      "text/plain": [
       "16"
      ]
     },
     "execution_count": 78,
     "metadata": {},
     "output_type": "execute_result"
    }
   ],
   "source": [
    "value"
   ]
  },
  {
   "cell_type": "code",
   "execution_count": 79,
   "metadata": {},
   "outputs": [
    {
     "data": {
      "text/plain": [
       "{'s': {'a': 9, 'b': 0, 't1': 7},\n",
       " 'a': {'b': 0, 't': 0, 't1': 9},\n",
       " 'b': {'t': 1},\n",
       " 't': {'s': 16},\n",
       " 't1': {},\n",
       " 's1': {'b': 1, 't': 15}}"
      ]
     },
     "execution_count": 79,
     "metadata": {},
     "output_type": "execute_result"
    }
   ],
   "source": [
    "flow"
   ]
  },
  {
   "cell_type": "code",
   "execution_count": 80,
   "metadata": {},
   "outputs": [],
   "source": [
    "mincut, cut = nx.minimum_cut(H, 's1','t1')"
   ]
  },
  {
   "cell_type": "code",
   "execution_count": 81,
   "metadata": {},
   "outputs": [
    {
     "data": {
      "text/plain": [
       "16"
      ]
     },
     "execution_count": 81,
     "metadata": {},
     "output_type": "execute_result"
    }
   ],
   "source": [
    "mincut"
   ]
  },
  {
   "cell_type": "code",
   "execution_count": 82,
   "metadata": {},
   "outputs": [
    {
     "data": {
      "text/plain": [
       "{'a', 'b', 's', 's1', 't'}"
      ]
     },
     "execution_count": 82,
     "metadata": {},
     "output_type": "execute_result"
    }
   ],
   "source": [
    "cut[0]"
   ]
  },
  {
   "cell_type": "code",
   "execution_count": 83,
   "metadata": {},
   "outputs": [
    {
     "data": {
      "text/plain": [
       "<matplotlib.collections.PathCollection at 0x7f8521b88c50>"
      ]
     },
     "execution_count": 83,
     "metadata": {},
     "output_type": "execute_result"
    },
    {
     "data": {
      "image/png": "[encoded data removed]",
      "text/plain": [
       "<Figure size 432x288 with 1 Axes>"
      ]
     },
     "metadata": {},
     "output_type": "display_data"
    }
   ],
   "source": [
    "nx.draw_networkx_edge_labels(H, pos, labels);\n",
    "nx.draw(H, pos, with_labels=True)\n",
    "nx.draw_networkx_nodes(H, pos, cut[0], node_color='red')\n",
    "\n",
    "\n"
   ]
  },
  {
   "cell_type": "code",
   "execution_count": null,
   "metadata": {},
   "outputs": [],
   "source": []
  }
 ],
 "metadata": {
  "kernelspec": {
   "display_name": "Python 3",
   "language": "python",
   "name": "python3"
  },
  "language_info": {
   "codemirror_mode": {
    "name": "ipython",
    "version": 3
   },
   "file_extension": ".py",
   "mimetype": "text/x-python",
   "name": "python",
   "nbconvert_exporter": "python",
   "pygments_lexer": "ipython3",
   "version": "3.7.10"
  }
 },
 "nbformat": 4,
 "nbformat_minor": 4
}
