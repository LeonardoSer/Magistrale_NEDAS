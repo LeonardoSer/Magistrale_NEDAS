{
  "nbformat": 4,
  "nbformat_minor": 0,
  "metadata": {
    "kernelspec": {
      "display_name": "Python 3",
      "language": "python",
      "name": "python3"
    },
    "language_info": {
      "codemirror_mode": {
        "name": "ipython",
        "version": 3
      },
      "file_extension": ".py",
      "mimetype": "text/x-python",
      "name": "python",
      "nbconvert_exporter": "python",
      "pygments_lexer": "ipython3",
      "version": "3.7.10"
    },
    "colab": {
      "name": "Airline scheduling v1.3.ipynb",
      "provenance": [],
      "include_colab_link": true
    }
  },
  "cells": [
    {
      "cell_type": "markdown",
      "metadata": {
        "id": "view-in-github",
        "colab_type": "text"
      },
      "source": [
        "<a href=\"https://colab.research.google.com/github/LeonardoSer/Univ/blob/main/NetFlow/jupyter/Airline%20scheduling%20v1.3.ipynb\" target=\"_parent\"><img src=\"https://colab.research.google.com/assets/colab-badge.svg\" alt=\"Open In Colab\"/></a>"
      ]
    },
    {
      "cell_type": "code",
      "metadata": {
        "id": "xNFDW5hgTXTl"
      },
      "source": [
        "import networkx as nx\n",
        "import matplotlib.pyplot as plt\n"
      ],
      "execution_count": null,
      "outputs": []
    },
    {
      "cell_type": "markdown",
      "metadata": {
        "id": "y13GcnHuTXTw"
      },
      "source": [
        "## Airline scheduling"
      ]
    },
    {
      "cell_type": "markdown",
      "metadata": {
        "id": "ApsQM6kWTXTx"
      },
      "source": [
        "**Definition** _Airline scheduling problem_\n",
        "* Given a set $\\cal F$ of $n$ flights and a _flights schedule_ $\\cal S$, i.e., origin $o_i$, destination $d_i$, departure $s_i$ and arrival time $a_i$ of each flight in $F$\n",
        "* **Find** the minimum number of aircrafts needed to realize the schedule\n",
        "\n",
        "**Observation**\n",
        "$|\\cal S|$ aircrafts is always a feasible (trivial) solution"
      ]
    },
    {
      "cell_type": "markdown",
      "metadata": {
        "id": "yy9ageZ3TXTy"
      },
      "source": [
        "### Example\n",
        "\n",
        "Flight  | Origin | Destination | Departure | Arrival\n",
        "--------|--------|-------------|-----------|--------\n",
        "  1     | Roma   | Milano      | 6:00 a.m.   | 7:00 a.m.\n",
        "  2     | Venezia| Palermo     | 7:00 a.m.  | 8:35 a.m.\n",
        "  3     | Milano | Napoli      |  8:00 a.m.  | 9:15 a.m.\n",
        "4       |Venezia | Catania     |  9:30 a.m. | 11:15 p.m.  \n",
        "5       | Catania| Firenze     |  1:15 p.m.  | 3:00 p.m.\n",
        "6       | Torino | Bari        |  5:00 p.m.  | 6:30 p.m.\n",
        "\n",
        "The sequence of flights $1 \\rightarrow 3 \\rightarrow 5$ can be realized with the same aircraft. In fact, between \n",
        "arrival time of flight $1$ and departure time of flight $3$ there is enough slack for aircraft maintaince. Then, \n",
        "from Napoli airport the aircraft can flight to Catania on time for the flight $5$\n"
      ]
    },
    {
      "cell_type": "markdown",
      "metadata": {
        "id": "JGCxX4luTXTz"
      },
      "source": [
        "### The graph model\n",
        "\n",
        "Define a graph $G$ with the following structure:\n",
        "\n",
        "Each flight  $i$ is represented by a pair of nodes $u_i, v_i$ and an arc directed from $u_i$ to $v_i$ with capacity $1$ and minimum flow requirement $1$\n"
      ]
    },
    {
      "cell_type": "code",
      "metadata": {
        "id": "eKLdLMC2TXT0"
      },
      "source": [
        "flights = [1,2,3,4,5,6]\n",
        "\n",
        "m = 3\n",
        "\n",
        "G = nx.DiGraph()\n",
        "\n",
        "G.add_nodes_from (['u'+str(i) for i in flights])\n",
        "G.add_nodes_from (['v'+str(i) for i in flights])\n",
        "\n",
        "for i in flights:\n",
        "    G.add_edge ('u'+str(i), 'v'+str(i), lb=1, ub=1)"
      ],
      "execution_count": null,
      "outputs": []
    },
    {
      "cell_type": "markdown",
      "metadata": {
        "id": "NgsLWPYSTXT1"
      },
      "source": [
        "An arc from node $v_h$ and node $u_k$ with capacity $1$ is added to $G$ if  an aircraft can perform flight $k$ after flight $h$\n",
        "\n",
        "**In our example:**\n",
        "\n",
        "1. An aircraft performing flight $1$ may perform flight $3$, flights $5$ and $6$\n",
        "2. An aircraft performing  flight $2$ may perform flights $5$ and $6$\n",
        "3. An aircraft performing  flight $3$ may perform flights $5$ and $6$\n",
        "4. An aircraft performing  flight $4$ may perform flight $6$"
      ]
    },
    {
      "cell_type": "code",
      "metadata": {
        "id": "-eabGJmnTXT2"
      },
      "source": [
        "# 1\n",
        "G.add_edge ('v1','u3', lb=0, ub=1)\n",
        "G.add_edge ('v1','u5', lb=0, ub=1)\n",
        "G.add_edge ('v1','u6', lb=0, ub=1)\n",
        "\n",
        "#2 \n",
        "G.add_edge ('v2','u5', lb=0, ub=1)\n",
        "G.add_edge ('v2','u6', lb=0, ub=1)\n",
        "\n",
        "#3\n",
        "G.add_edge ('v3','u5', lb=0, ub=1)\n",
        "G.add_edge ('v3','u6', lb=0, ub=1)\n",
        "\n",
        "#4\n",
        "G.add_edge ('v4','u6', lb=0, ub=1)\n",
        "\n"
      ],
      "execution_count": null,
      "outputs": []
    },
    {
      "cell_type": "markdown",
      "metadata": {
        "id": "xpw1AlI8TXT3"
      },
      "source": [
        "Nodes $s$ and $t$ are added to G. $s$ is connected to all nodes $u$ with an arc of capacity 1.\n",
        "All $v$ nodes are connected to $t$ with an arc of capacity 1"
      ]
    },
    {
      "cell_type": "code",
      "metadata": {
        "id": "Xri6duPtTXT3"
      },
      "source": [
        "G.add_node('s')\n",
        "G.add_node('t')\n",
        "\n",
        "for i in flights:\n",
        "    G.add_edge ('s','u'+str(i), lb= 0, ub=1)\n",
        "    G.add_edge ('v'+str(i), 't', lb= 0, ub=1)"
      ],
      "execution_count": null,
      "outputs": []
    },
    {
      "cell_type": "markdown",
      "metadata": {
        "id": "u3C4WGSUTXT4"
      },
      "source": [
        "Add an arc with capacity $m$ and flow requirement $m$ from $t$ to $s$"
      ]
    },
    {
      "cell_type": "code",
      "metadata": {
        "id": "bgesor1ITXT6"
      },
      "source": [
        "G.add_edge('t','s', lb=m,ub=m)"
      ],
      "execution_count": null,
      "outputs": []
    },
    {
      "cell_type": "code",
      "metadata": {
        "id": "Kth1JhE_TXT6"
      },
      "source": [
        "count = 0\n",
        "offsetcol = 140\n",
        "\n",
        "lenghtcol = offsetcol * float(len(flights))\n",
        "\n",
        "for i in flights:\n",
        "    G.nodes['u'+str(i)]['pos'] = \"%f,%f\"%(150, offsetcol * count)\n",
        "    G.nodes['v'+str(i)]['pos'] = \"%f,%f\"%(450, offsetcol * count)\n",
        "    count += 1\n",
        "    \n",
        "G.nodes['s']['pos'] = \"%f,%f\"%(0.0, lenghtcol / 2.0)\n",
        "G.nodes['t']['pos'] = \"%f,%f\"%(600, lenghtcol /2.0)\n",
        "\n",
        "for i in G.edges():\n",
        "    if i[0][0] != 'u':\n",
        "        G[i[0]][i[1]]['xlabel'] = '[%d,%d]'%(G[i[0]][i[1]]['lb'],G[i[0]][i[1]]['ub']) \n",
        "    else:\n",
        "        G[i[0]][i[1]]['taillabel'] = '[%d,%d]'%(G[i[0]][i[1]]['lb'],G[i[0]][i[1]]['ub'])"
      ],
      "execution_count": null,
      "outputs": []
    },
    {
      "cell_type": "markdown",
      "metadata": {
        "id": "H-hvC6xUTXT7"
      },
      "source": [
        "### Notice\n",
        "\n",
        "If you experience problems with next 2 cell, you can remove them"
      ]
    },
    {
      "cell_type": "code",
      "metadata": {
        "id": "1JKvA9P7TXT7"
      },
      "source": [
        "D = nx.nx_agraph.to_agraph(G)\n",
        "D.node_attr.update (fontsize='12', width=0.4, shape='circle')\n",
        "D.edge_attr.update(fontsize='10', arrowhead='vee', penwidth=0.2)\n",
        "D.graph_attr.update(splines='true')\n",
        "D.draw ('img.svg', prog='neato', args='-n2')"
      ],
      "execution_count": null,
      "outputs": []
    },
    {
      "cell_type": "code",
      "metadata": {
        "id": "_59i30oNTXT8",
        "outputId": "43b06c98-2bc0-408f-b4aa-426d8efa29b3"
      },
      "source": [
        "from IPython.display import SVG\n",
        "\n",
        "SVG('img.svg')"
      ],
      "execution_count": null,
      "outputs": [
        {
          "output_type": "execute_result",
          "data": {
            "image/svg+xml": "<svg height=\"747pt\" viewBox=\"0.00 0.00 637.00 746.67\" width=\"637pt\" xmlns=\"http://www.w3.org/2000/svg\" xmlns:xlink=\"http://www.w3.org/1999/xlink\">\n<g class=\"graph\" id=\"graph0\" transform=\"scale(1 1) rotate(0) translate(4 742.67)\">\n<polygon fill=\"white\" points=\"-4,4 -4,-742.67 633,-742.67 633,4 -4,4\" stroke=\"transparent\"/>\n<!-- u1 -->\n<g class=\"node\" id=\"node1\">\n<title>u1</title>\n<ellipse cx=\"164.5\" cy=\"-19.33\" fill=\"none\" rx=\"19.17\" ry=\"19.17\" stroke=\"black\"/>\n<text font-family=\"Times,serif\" font-size=\"12.00\" text-anchor=\"middle\" x=\"164.5\" y=\"-15.73\">u1</text>\n</g>\n<!-- v1 -->\n<g class=\"node\" id=\"node2\">\n<title>v1</title>\n<ellipse cx=\"464.5\" cy=\"-19.33\" fill=\"none\" rx=\"19.17\" ry=\"19.17\" stroke=\"black\"/>\n<text font-family=\"Times,serif\" font-size=\"12.00\" text-anchor=\"middle\" x=\"464.5\" y=\"-15.73\">v1</text>\n</g>\n<!-- u1&#45;&gt;v1 -->\n<g class=\"edge\" id=\"edge1\">\n<title>u1-&gt;v1</title>\n<path d=\"M184.18,-19.33C235.59,-19.33 374.08,-19.33 435.03,-19.33\" fill=\"none\" stroke=\"black\" stroke-width=\"0.2\"/>\n<polygon fill=\"black\" points=\"445.13,-19.33 435.13,-23.83 440.13,-19.33 435.13,-19.33 435.13,-19.33 435.13,-19.33 440.13,-19.33 435.13,-14.83 445.13,-19.33 445.13,-19.33\" stroke=\"black\" stroke-width=\"0.2\"/>\n<text font-family=\"Times,serif\" font-size=\"10.00\" text-anchor=\"middle\" x=\"193.76\" y=\"-21.33\">[1,1]</text>\n</g>\n<!-- u3 -->\n<g class=\"node\" id=\"node5\">\n<title>u3</title>\n<ellipse cx=\"164.5\" cy=\"-299.33\" fill=\"none\" rx=\"19.17\" ry=\"19.17\" stroke=\"black\"/>\n<text font-family=\"Times,serif\" font-size=\"12.00\" text-anchor=\"middle\" x=\"164.5\" y=\"-295.73\">u3</text>\n</g>\n<!-- v1&#45;&gt;u3 -->\n<g class=\"edge\" id=\"edge7\">\n<title>v1-&gt;u3</title>\n<path d=\"M450.03,-32.84C401.52,-78.12 244.41,-224.75 186.34,-278.95\" fill=\"none\" stroke=\"black\" stroke-width=\"0.2\"/>\n<polygon fill=\"black\" points=\"178.82,-285.96 183.06,-275.85 182.48,-282.55 186.14,-279.14 186.14,-279.14 186.14,-279.14 182.48,-282.55 189.21,-282.43 178.82,-285.96 178.82,-285.96\" stroke=\"black\" stroke-width=\"0.2\"/>\n<text font-family=\"Times,serif\" font-size=\"10.00\" text-anchor=\"middle\" x=\"305.1\" y=\"-161.17\">[0,1]</text>\n</g>\n<!-- u5 -->\n<g class=\"node\" id=\"node9\">\n<title>u5</title>\n<ellipse cx=\"164.5\" cy=\"-579.33\" fill=\"none\" rx=\"19.17\" ry=\"19.17\" stroke=\"black\"/>\n<text font-family=\"Times,serif\" font-size=\"12.00\" text-anchor=\"middle\" x=\"164.5\" y=\"-575.73\">u5</text>\n</g>\n<!-- v1&#45;&gt;u5 -->\n<g class=\"edge\" id=\"edge8\">\n<title>v1-&gt;u5</title>\n<path d=\"M455.36,-36.4C412.4,-116.58 230.54,-456.06 178.48,-553.24\" fill=\"none\" stroke=\"black\" stroke-width=\"0.2\"/>\n<polygon fill=\"black\" points=\"173.72,-562.13 174.47,-551.19 176.08,-557.72 178.44,-553.31 178.44,-553.31 178.44,-553.31 176.08,-557.72 182.41,-555.44 173.72,-562.13 173.72,-562.13\" stroke=\"black\" stroke-width=\"0.2\"/>\n<text font-family=\"Times,serif\" font-size=\"10.00\" text-anchor=\"middle\" x=\"305.04\" y=\"-301.11\">[0,1]</text>\n</g>\n<!-- u6 -->\n<g class=\"node\" id=\"node11\">\n<title>u6</title>\n<ellipse cx=\"164.5\" cy=\"-719.33\" fill=\"none\" rx=\"19.17\" ry=\"19.17\" stroke=\"black\"/>\n<text font-family=\"Times,serif\" font-size=\"12.00\" text-anchor=\"middle\" x=\"164.5\" y=\"-715.73\">u6</text>\n</g>\n<!-- v1&#45;&gt;u6 -->\n<g class=\"edge\" id=\"edge9\">\n<title>v1-&gt;u6</title>\n<path d=\"M456.78,-37.34C416.01,-132.48 225.67,-576.61 176.25,-691.92\" fill=\"none\" stroke=\"black\" stroke-width=\"0.2\"/>\n<polygon fill=\"black\" points=\"172.17,-701.45 171.97,-690.48 174.14,-696.85 176.11,-692.25 176.11,-692.25 176.11,-692.25 174.14,-696.85 180.24,-694.03 172.17,-701.45 172.17,-701.45\" stroke=\"black\" stroke-width=\"0.2\"/>\n<text font-family=\"Times,serif\" font-size=\"10.00\" text-anchor=\"middle\" x=\"305\" y=\"-371.14\">[0,1]</text>\n</g>\n<!-- t -->\n<g class=\"node\" id=\"node13\">\n<title>t</title>\n<ellipse cx=\"614.5\" cy=\"-439.33\" fill=\"none\" rx=\"14.5\" ry=\"14.5\" stroke=\"black\"/>\n<text font-family=\"Times,serif\" font-size=\"12.00\" text-anchor=\"middle\" x=\"614.5\" y=\"-435.73\">t</text>\n</g>\n<!-- v1&#45;&gt;t -->\n<g class=\"edge\" id=\"edge10\">\n<title>v1-&gt;t</title>\n<path d=\"M471.04,-37.65C495.17,-105.21 579.16,-340.38 606.11,-415.84\" fill=\"none\" stroke=\"black\" stroke-width=\"0.2\"/>\n<polygon fill=\"black\" points=\"609.52,-425.39 601.92,-417.49 607.84,-420.68 606.16,-415.97 606.16,-415.97 606.16,-415.97 607.84,-420.68 610.39,-414.46 609.52,-425.39 609.52,-425.39\" stroke=\"black\" stroke-width=\"0.2\"/>\n<text font-family=\"Times,serif\" font-size=\"10.00\" text-anchor=\"middle\" x=\"530.66\" y=\"-233.42\">[0,1]</text>\n</g>\n<!-- u2 -->\n<g class=\"node\" id=\"node3\">\n<title>u2</title>\n<ellipse cx=\"164.5\" cy=\"-159.33\" fill=\"none\" rx=\"19.17\" ry=\"19.17\" stroke=\"black\"/>\n<text font-family=\"Times,serif\" font-size=\"12.00\" text-anchor=\"middle\" x=\"164.5\" y=\"-155.73\">u2</text>\n</g>\n<!-- v2 -->\n<g class=\"node\" id=\"node4\">\n<title>v2</title>\n<ellipse cx=\"464.5\" cy=\"-159.33\" fill=\"none\" rx=\"19.17\" ry=\"19.17\" stroke=\"black\"/>\n<text font-family=\"Times,serif\" font-size=\"12.00\" text-anchor=\"middle\" x=\"464.5\" y=\"-155.73\">v2</text>\n</g>\n<!-- u2&#45;&gt;v2 -->\n<g class=\"edge\" id=\"edge2\">\n<title>u2-&gt;v2</title>\n<path d=\"M184.18,-159.33C235.59,-159.33 374.08,-159.33 435.03,-159.33\" fill=\"none\" stroke=\"black\" stroke-width=\"0.2\"/>\n<polygon fill=\"black\" points=\"445.13,-159.33 435.13,-163.83 440.13,-159.33 435.13,-159.33 435.13,-159.33 435.13,-159.33 440.13,-159.33 435.13,-154.83 445.13,-159.33 445.13,-159.33\" stroke=\"black\" stroke-width=\"0.2\"/>\n<text font-family=\"Times,serif\" font-size=\"10.00\" text-anchor=\"middle\" x=\"193.76\" y=\"-161.33\">[1,1]</text>\n</g>\n<!-- v2&#45;&gt;u5 -->\n<g class=\"edge\" id=\"edge11\">\n<title>v2-&gt;u5</title>\n<path d=\"M453.11,-175.28C407.35,-239.35 236.78,-478.14 181.74,-555.2\" fill=\"none\" stroke=\"black\" stroke-width=\"0.2\"/>\n<polygon fill=\"black\" points=\"175.91,-563.37 178.06,-552.61 178.81,-559.3 181.72,-555.23 181.72,-555.23 181.72,-555.23 178.81,-559.3 185.38,-557.84 175.91,-563.37 175.91,-563.37\" stroke=\"black\" stroke-width=\"0.2\"/>\n<text font-family=\"Times,serif\" font-size=\"10.00\" text-anchor=\"middle\" x=\"305.17\" y=\"-360.98\">[0,1]</text>\n</g>\n<!-- v2&#45;&gt;u6 -->\n<g class=\"edge\" id=\"edge12\">\n<title>v2-&gt;u6</title>\n<path d=\"M455.36,-176.4C412.4,-256.58 230.54,-596.06 178.48,-693.24\" fill=\"none\" stroke=\"black\" stroke-width=\"0.2\"/>\n<polygon fill=\"black\" points=\"173.72,-702.13 174.47,-691.19 176.08,-697.72 178.44,-693.31 178.44,-693.31 178.44,-693.31 176.08,-697.72 182.41,-695.44 173.72,-702.13 173.72,-702.13\" stroke=\"black\" stroke-width=\"0.2\"/>\n<text font-family=\"Times,serif\" font-size=\"10.00\" text-anchor=\"middle\" x=\"305.04\" y=\"-441.11\">[0,1]</text>\n</g>\n<!-- v2&#45;&gt;t -->\n<g class=\"edge\" id=\"edge13\">\n<title>v2-&gt;t</title>\n<path d=\"M473.66,-176.43C499.65,-224.94 573.84,-363.44 602.76,-417.42\" fill=\"none\" stroke=\"black\" stroke-width=\"0.2\"/>\n<polygon fill=\"black\" points=\"607.61,-426.48 598.92,-419.79 605.25,-422.07 602.89,-417.66 602.89,-417.66 602.89,-417.66 605.25,-422.07 606.86,-415.54 607.61,-426.48 607.61,-426.48\" stroke=\"black\" stroke-width=\"0.2\"/>\n<text font-family=\"Times,serif\" font-size=\"10.00\" text-anchor=\"middle\" x=\"530.96\" y=\"-303.27\">[0,1]</text>\n</g>\n<!-- v3 -->\n<g class=\"node\" id=\"node6\">\n<title>v3</title>\n<ellipse cx=\"464.5\" cy=\"-299.33\" fill=\"none\" rx=\"19.17\" ry=\"19.17\" stroke=\"black\"/>\n<text font-family=\"Times,serif\" font-size=\"12.00\" text-anchor=\"middle\" x=\"464.5\" y=\"-295.73\">v3</text>\n</g>\n<!-- u3&#45;&gt;v3 -->\n<g class=\"edge\" id=\"edge3\">\n<title>u3-&gt;v3</title>\n<path d=\"M184.18,-299.33C235.59,-299.33 374.08,-299.33 435.03,-299.33\" fill=\"none\" stroke=\"black\" stroke-width=\"0.2\"/>\n<polygon fill=\"black\" points=\"445.13,-299.33 435.13,-303.83 440.13,-299.33 435.13,-299.33 435.13,-299.33 435.13,-299.33 440.13,-299.33 435.13,-294.83 445.13,-299.33 445.13,-299.33\" stroke=\"black\" stroke-width=\"0.2\"/>\n<text font-family=\"Times,serif\" font-size=\"10.00\" text-anchor=\"middle\" x=\"193.76\" y=\"-301.33\">[1,1]</text>\n</g>\n<!-- v3&#45;&gt;u5 -->\n<g class=\"edge\" id=\"edge14\">\n<title>v3-&gt;u5</title>\n<path d=\"M450.03,-312.84C401.52,-358.12 244.41,-504.75 186.34,-558.95\" fill=\"none\" stroke=\"black\" stroke-width=\"0.2\"/>\n<polygon fill=\"black\" points=\"178.82,-565.96 183.06,-555.85 182.48,-562.55 186.14,-559.14 186.14,-559.14 186.14,-559.14 182.48,-562.55 189.21,-562.43 178.82,-565.96 178.82,-565.96\" stroke=\"black\" stroke-width=\"0.2\"/>\n<text font-family=\"Times,serif\" font-size=\"10.00\" text-anchor=\"middle\" x=\"324.26\" y=\"-441.17\">[0,1]</text>\n</g>\n<!-- v3&#45;&gt;u6 -->\n<g class=\"edge\" id=\"edge15\">\n<title>v3-&gt;u6</title>\n<path d=\"M453.11,-315.28C407.35,-379.35 236.78,-618.14 181.74,-695.2\" fill=\"none\" stroke=\"black\" stroke-width=\"0.2\"/>\n<polygon fill=\"black\" points=\"175.91,-703.37 178.06,-692.61 178.81,-699.3 181.72,-695.23 181.72,-695.23 181.72,-695.23 178.81,-699.3 185.38,-697.84 175.91,-703.37 175.91,-703.37\" stroke=\"black\" stroke-width=\"0.2\"/>\n<text font-family=\"Times,serif\" font-size=\"10.00\" text-anchor=\"middle\" x=\"305.17\" y=\"-510.98\">[0,1]</text>\n</g>\n<!-- v3&#45;&gt;t -->\n<g class=\"edge\" id=\"edge16\">\n<title>v3-&gt;t</title>\n<path d=\"M478.88,-312.76C506.35,-338.39 566.2,-394.25 596.36,-422.4\" fill=\"none\" stroke=\"black\" stroke-width=\"0.2\"/>\n<polygon fill=\"black\" points=\"603.69,-429.24 593.31,-425.71 600.03,-425.83 596.38,-422.42 596.38,-422.42 596.38,-422.42 600.03,-425.83 599.45,-419.13 603.69,-429.24 603.69,-429.24\" stroke=\"black\" stroke-width=\"0.2\"/>\n<text font-family=\"Times,serif\" font-size=\"10.00\" text-anchor=\"middle\" x=\"531.71\" y=\"-373\">[0,1]</text>\n</g>\n<!-- u4 -->\n<g class=\"node\" id=\"node7\">\n<title>u4</title>\n<ellipse cx=\"164.5\" cy=\"-439.33\" fill=\"none\" rx=\"19.17\" ry=\"19.17\" stroke=\"black\"/>\n<text font-family=\"Times,serif\" font-size=\"12.00\" text-anchor=\"middle\" x=\"164.5\" y=\"-435.73\">u4</text>\n</g>\n<!-- v4 -->\n<g class=\"node\" id=\"node8\">\n<title>v4</title>\n<ellipse cx=\"464.5\" cy=\"-439.33\" fill=\"none\" rx=\"19.17\" ry=\"19.17\" stroke=\"black\"/>\n<text font-family=\"Times,serif\" font-size=\"12.00\" text-anchor=\"middle\" x=\"464.5\" y=\"-435.73\">v4</text>\n</g>\n<!-- u4&#45;&gt;v4 -->\n<g class=\"edge\" id=\"edge4\">\n<title>u4-&gt;v4</title>\n<path d=\"M184.18,-439.33C235.59,-439.33 374.08,-439.33 435.03,-439.33\" fill=\"none\" stroke=\"black\" stroke-width=\"0.2\"/>\n<polygon fill=\"black\" points=\"445.13,-439.33 435.13,-443.83 440.13,-439.33 435.13,-439.33 435.13,-439.33 435.13,-439.33 440.13,-439.33 435.13,-434.83 445.13,-439.33 445.13,-439.33\" stroke=\"black\" stroke-width=\"0.2\"/>\n<text font-family=\"Times,serif\" font-size=\"10.00\" text-anchor=\"middle\" x=\"193.76\" y=\"-441.33\">[1,1]</text>\n</g>\n<!-- v4&#45;&gt;u6 -->\n<g class=\"edge\" id=\"edge17\">\n<title>v4-&gt;u6</title>\n<path d=\"M450.03,-452.84C401.52,-498.12 244.41,-644.75 186.34,-698.95\" fill=\"none\" stroke=\"black\" stroke-width=\"0.2\"/>\n<polygon fill=\"black\" points=\"178.82,-705.96 183.06,-695.85 182.48,-702.55 186.14,-699.14 186.14,-699.14 186.14,-699.14 182.48,-702.55 189.21,-702.43 178.82,-705.96 178.82,-705.96\" stroke=\"black\" stroke-width=\"0.2\"/>\n<text font-family=\"Times,serif\" font-size=\"10.00\" text-anchor=\"middle\" x=\"305.1\" y=\"-581.17\">[0,1]</text>\n</g>\n<!-- v4&#45;&gt;t -->\n<g class=\"edge\" id=\"edge18\">\n<title>v4-&gt;t</title>\n<path d=\"M484.11,-439.33C511.15,-439.33 559.89,-439.33 589.51,-439.33\" fill=\"none\" stroke=\"black\" stroke-width=\"0.2\"/>\n<polygon fill=\"black\" points=\"599.84,-439.33 589.84,-443.83 594.84,-439.33 589.84,-439.33 589.84,-439.33 589.84,-439.33 594.84,-439.33 589.84,-434.83 599.84,-439.33 599.84,-439.33\" stroke=\"black\" stroke-width=\"0.2\"/>\n<text font-family=\"Times,serif\" font-size=\"10.00\" text-anchor=\"middle\" x=\"532.59\" y=\"-441.33\">[0,1]</text>\n</g>\n<!-- v5 -->\n<g class=\"node\" id=\"node10\">\n<title>v5</title>\n<ellipse cx=\"464.5\" cy=\"-579.33\" fill=\"none\" rx=\"19.17\" ry=\"19.17\" stroke=\"black\"/>\n<text font-family=\"Times,serif\" font-size=\"12.00\" text-anchor=\"middle\" x=\"464.5\" y=\"-575.73\">v5</text>\n</g>\n<!-- u5&#45;&gt;v5 -->\n<g class=\"edge\" id=\"edge5\">\n<title>u5-&gt;v5</title>\n<path d=\"M184.18,-579.33C235.59,-579.33 374.08,-579.33 435.03,-579.33\" fill=\"none\" stroke=\"black\" stroke-width=\"0.2\"/>\n<polygon fill=\"black\" points=\"445.13,-579.33 435.13,-583.83 440.13,-579.33 435.13,-579.33 435.13,-579.33 435.13,-579.33 440.13,-579.33 435.13,-574.83 445.13,-579.33 445.13,-579.33\" stroke=\"black\" stroke-width=\"0.2\"/>\n<text font-family=\"Times,serif\" font-size=\"10.00\" text-anchor=\"middle\" x=\"193.76\" y=\"-581.33\">[1,1]</text>\n</g>\n<!-- v5&#45;&gt;t -->\n<g class=\"edge\" id=\"edge19\">\n<title>v5-&gt;t</title>\n<path d=\"M478.88,-565.91C506.35,-540.28 566.2,-484.41 596.36,-456.26\" fill=\"none\" stroke=\"black\" stroke-width=\"0.2\"/>\n<polygon fill=\"black\" points=\"603.69,-449.42 599.45,-459.54 600.03,-452.83 596.38,-456.25 596.38,-456.25 596.38,-456.25 600.03,-452.83 593.31,-452.96 603.69,-449.42 603.69,-449.42\" stroke=\"black\" stroke-width=\"0.2\"/>\n<text font-family=\"Times,serif\" font-size=\"10.00\" text-anchor=\"middle\" x=\"531.71\" y=\"-509.66\">[0,1]</text>\n</g>\n<!-- v6 -->\n<g class=\"node\" id=\"node12\">\n<title>v6</title>\n<ellipse cx=\"464.5\" cy=\"-719.33\" fill=\"none\" rx=\"19.17\" ry=\"19.17\" stroke=\"black\"/>\n<text font-family=\"Times,serif\" font-size=\"12.00\" text-anchor=\"middle\" x=\"464.5\" y=\"-715.73\">v6</text>\n</g>\n<!-- u6&#45;&gt;v6 -->\n<g class=\"edge\" id=\"edge6\">\n<title>u6-&gt;v6</title>\n<path d=\"M184.18,-719.33C235.59,-719.33 374.08,-719.33 435.03,-719.33\" fill=\"none\" stroke=\"black\" stroke-width=\"0.2\"/>\n<polygon fill=\"black\" points=\"445.13,-719.33 435.13,-723.83 440.13,-719.33 435.13,-719.33 435.13,-719.33 435.13,-719.33 440.13,-719.33 435.13,-714.83 445.13,-719.33 445.13,-719.33\" stroke=\"black\" stroke-width=\"0.2\"/>\n<text font-family=\"Times,serif\" font-size=\"10.00\" text-anchor=\"middle\" x=\"193.76\" y=\"-721.33\">[1,1]</text>\n</g>\n<!-- v6&#45;&gt;t -->\n<g class=\"edge\" id=\"edge20\">\n<title>v6-&gt;t</title>\n<path d=\"M473.66,-702.24C499.65,-653.73 573.84,-515.22 602.76,-461.25\" fill=\"none\" stroke=\"black\" stroke-width=\"0.2\"/>\n<polygon fill=\"black\" points=\"607.61,-452.19 606.86,-463.13 605.25,-456.6 602.89,-461.01 602.89,-461.01 602.89,-461.01 605.25,-456.6 598.92,-458.88 607.61,-452.19 607.61,-452.19\" stroke=\"black\" stroke-width=\"0.2\"/>\n<text font-family=\"Times,serif\" font-size=\"10.00\" text-anchor=\"middle\" x=\"530.96\" y=\"-579.4\">[0,1]</text>\n</g>\n<!-- s -->\n<g class=\"node\" id=\"node14\">\n<title>s</title>\n<ellipse cx=\"14.5\" cy=\"-439.33\" fill=\"none\" rx=\"14.5\" ry=\"14.5\" stroke=\"black\"/>\n<text font-family=\"Times,serif\" font-size=\"12.00\" text-anchor=\"middle\" x=\"14.5\" y=\"-435.73\">s</text>\n</g>\n<!-- t&#45;&gt;s -->\n<g class=\"edge\" id=\"edge27\">\n<title>t-&gt;s</title>\n<path d=\"M600.08,-442.02C573.41,-446.85 514.52,-456.79 464.38,-460.27 331.42,-469.49 297.46,-469.5 164.5,-460.27 119.88,-457.17 68.33,-448.94 38.76,-443.77\" fill=\"none\" stroke=\"black\" stroke-width=\"0.2\"/>\n<polygon fill=\"black\" points=\"28.91,-442.02 39.54,-439.34 33.83,-442.9 38.76,-443.77 38.76,-443.77 38.76,-443.77 33.83,-442.9 37.97,-448.21 28.91,-442.02 28.91,-442.02\" stroke=\"black\" stroke-width=\"0.2\"/>\n<text font-family=\"Times,serif\" font-size=\"10.00\" text-anchor=\"middle\" x=\"305.35\" y=\"-469.19\">[3,3]</text>\n</g>\n<!-- s&#45;&gt;u1 -->\n<g class=\"edge\" id=\"edge21\">\n<title>s-&gt;u1</title>\n<path d=\"M19.49,-425.36C40.89,-365.44 125.14,-129.54 154.41,-47.58\" fill=\"none\" stroke=\"black\" stroke-width=\"0.2\"/>\n<polygon fill=\"black\" points=\"157.86,-37.93 158.73,-48.86 156.18,-42.64 154.49,-47.35 154.49,-47.35 154.49,-47.35 156.18,-42.64 150.26,-45.83 157.86,-37.93 157.86,-37.93\" stroke=\"black\" stroke-width=\"0.2\"/>\n<text font-family=\"Times,serif\" font-size=\"10.00\" text-anchor=\"middle\" x=\"79.08\" y=\"-233.68\">[0,1]</text>\n</g>\n<!-- s&#45;&gt;u2 -->\n<g class=\"edge\" id=\"edge22\">\n<title>s-&gt;u2</title>\n<path d=\"M21.53,-426.2C44.74,-382.88 119.19,-243.92 150.46,-185.54\" fill=\"none\" stroke=\"black\" stroke-width=\"0.2\"/>\n<polygon fill=\"black\" points=\"155.26,-176.58 154.51,-187.52 152.9,-180.98 150.54,-185.39 150.54,-185.39 150.54,-185.39 152.9,-180.98 146.57,-183.27 155.26,-176.58 155.26,-176.58\" stroke=\"black\" stroke-width=\"0.2\"/>\n<text font-family=\"Times,serif\" font-size=\"10.00\" text-anchor=\"middle\" x=\"78.77\" y=\"-303.49\">[0,1]</text>\n</g>\n<!-- s&#45;&gt;u3 -->\n<g class=\"edge\" id=\"edge23\">\n<title>s-&gt;u3</title>\n<path d=\"M25.29,-429.26C49.69,-406.49 109.53,-350.64 142.25,-320.1\" fill=\"none\" stroke=\"black\" stroke-width=\"0.2\"/>\n<polygon fill=\"black\" points=\"149.94,-312.92 145.7,-323.03 146.29,-316.33 142.63,-319.74 142.63,-319.74 142.63,-319.74 146.29,-316.33 139.56,-316.45 149.94,-312.92 149.94,-312.92\" stroke=\"black\" stroke-width=\"0.2\"/>\n<text font-family=\"Times,serif\" font-size=\"10.00\" text-anchor=\"middle\" x=\"77.83\" y=\"-373.29\">[0,1]</text>\n</g>\n<!-- s&#45;&gt;u4 -->\n<g class=\"edge\" id=\"edge24\">\n<title>s-&gt;u4</title>\n<path d=\"M29.16,-439.33C53.53,-439.33 102.86,-439.33 134.76,-439.33\" fill=\"none\" stroke=\"black\" stroke-width=\"0.2\"/>\n<polygon fill=\"black\" points=\"144.84,-439.33 134.84,-443.83 139.84,-439.33 134.84,-439.33 134.84,-439.33 134.84,-439.33 139.84,-439.33 134.84,-434.83 144.84,-439.33 144.84,-439.33\" stroke=\"black\" stroke-width=\"0.2\"/>\n<text font-family=\"Times,serif\" font-size=\"10.00\" text-anchor=\"middle\" x=\"77.31\" y=\"-441.33\">[0,1]</text>\n</g>\n<!-- s&#45;&gt;u5 -->\n<g class=\"edge\" id=\"edge25\">\n<title>s-&gt;u5</title>\n<path d=\"M25.29,-449.4C49.69,-472.17 109.53,-528.03 142.25,-558.56\" fill=\"none\" stroke=\"black\" stroke-width=\"0.2\"/>\n<polygon fill=\"black\" points=\"149.94,-565.75 139.56,-562.21 146.29,-562.33 142.63,-558.92 142.63,-558.92 142.63,-558.92 146.29,-562.33 145.7,-555.63 149.94,-565.75 149.94,-565.75\" stroke=\"black\" stroke-width=\"0.2\"/>\n<text font-family=\"Times,serif\" font-size=\"10.00\" text-anchor=\"middle\" x=\"77.83\" y=\"-509.38\">[0,1]</text>\n</g>\n<!-- s&#45;&gt;u6 -->\n<g class=\"edge\" id=\"edge26\">\n<title>s-&gt;u6</title>\n<path d=\"M21.53,-452.46C44.74,-495.79 119.19,-634.75 150.46,-693.12\" fill=\"none\" stroke=\"black\" stroke-width=\"0.2\"/>\n<polygon fill=\"black\" points=\"155.26,-702.09 146.57,-695.4 152.9,-697.68 150.54,-693.28 150.54,-693.28 150.54,-693.28 152.9,-697.68 154.51,-691.15 155.26,-702.09 155.26,-702.09\" stroke=\"black\" stroke-width=\"0.2\"/>\n<text font-family=\"Times,serif\" font-size=\"10.00\" text-anchor=\"middle\" x=\"78.77\" y=\"-579.18\">[0,1]</text>\n</g>\n</g>\n</svg>",
            "text/plain": [
              "<IPython.core.display.SVG object>"
            ]
          },
          "metadata": {
            "tags": []
          },
          "execution_count": 52
        }
      ]
    },
    {
      "cell_type": "markdown",
      "metadata": {
        "id": "k98G7qXITXT9"
      },
      "source": [
        "### Feasibility check\n",
        "\n",
        "If a feasible flow exists in $G$ **then** the schedule can be realized with $m$ aircraft\n",
        "\n",
        "### The Algorithm\n",
        "\n",
        "**Step 1.** Generate a copy $H$ of the graph $G$\n",
        "\n",
        "**Remember** The ``copy()`` method  makes a complete copy of the graph including all of the node or edge attributes."
      ]
    },
    {
      "cell_type": "code",
      "metadata": {
        "id": "eagSWwD-TXT-"
      },
      "source": [
        "H = G.copy()"
      ],
      "execution_count": null,
      "outputs": []
    },
    {
      "cell_type": "markdown",
      "metadata": {
        "id": "pQJWLoslTXT-"
      },
      "source": [
        "**Step 2.** Capacity scaling: capacity of each arc of $H$ is scaled  to $u_{ij} - l_{ij}$ "
      ]
    },
    {
      "cell_type": "code",
      "metadata": {
        "id": "mnzq1W0vTXT-"
      },
      "source": [
        "for i,j in H.edges():\n",
        "    H[i][j]['capacity'] =  G[i][j]['ub'] -  G[i][j]['lb']"
      ],
      "execution_count": null,
      "outputs": []
    },
    {
      "cell_type": "markdown",
      "metadata": {
        "id": "V60S3O7vTXT_"
      },
      "source": [
        "**Remark** Already exixst an arc $(t,s)$ with capacity $u_{ts} = m$"
      ]
    },
    {
      "cell_type": "markdown",
      "metadata": {
        "id": "vEnbjSngTXT_"
      },
      "source": [
        "**Step 3.** Two extra nodes $s_1$ and $t_1$ are added to $H$\n"
      ]
    },
    {
      "cell_type": "code",
      "metadata": {
        "id": "IkMeDp1HTXT_"
      },
      "source": [
        "H.add_node('s1')\n",
        "H.add_node('t1')"
      ],
      "execution_count": null,
      "outputs": []
    },
    {
      "cell_type": "markdown",
      "metadata": {
        "id": "FtlHVTeLTXUA"
      },
      "source": [
        "**Step 4.** For each node, the flow unbalance is evaluated\n",
        "\n",
        "**Remark** Flow unbalance is stored in a dictionary and is evaluated on graph $G$. By constructions, the sum of flow unbalance is equal to 0"
      ]
    },
    {
      "cell_type": "code",
      "metadata": {
        "id": "ilmuyoSyTXUA",
        "outputId": "fdf08af0-89e4-4179-e404-a2284499fd42"
      },
      "source": [
        "unbalance = {}\n",
        "\n",
        "for i in G.nodes():\n",
        "        auxunb = 0\n",
        "        for h,k in G.in_edges(i):\n",
        "            auxunb += G[h][k]['lb']\n",
        "        \n",
        "        for h,k in G.out_edges(i):\n",
        "            auxunb -= G[h][k]['lb']\n",
        "        \n",
        "        unbalance[i] = auxunb\n",
        "        \n",
        "print(unbalance)\n",
        "print('Sum of node unbalances:', sum(unbalance.values()))"
      ],
      "execution_count": null,
      "outputs": [
        {
          "output_type": "stream",
          "text": [
            "{'u1': -1, 'u2': -1, 'u3': -1, 'u4': -1, 'u5': -1, 'u6': -1, 'v1': 1, 'v2': 1, 'v3': 1, 'v4': 1, 'v5': 1, 'v6': 1, 's': 3, 't': -3}\n",
            "Sum of node unbalances: 0\n"
          ],
          "name": "stdout"
        }
      ]
    },
    {
      "cell_type": "markdown",
      "metadata": {
        "id": "XHGXMeGXTXUB"
      },
      "source": [
        "**Step 5.** Two set of arcs are added to $H$:\n",
        "1. Arcs $(s_1, i)$ if flow unbalance of $i>0$\n",
        "2. Arcs $(i, t_1)$ if flow unbalance of $i<0$"
      ]
    },
    {
      "cell_type": "code",
      "metadata": {
        "id": "La-4O8GrTXUC"
      },
      "source": [
        "for i in unbalance:\n",
        "\n",
        "    if unbalance[i] > 0:\n",
        "        H.add_edge ('s1',i,capacity = unbalance[i])\n",
        "    if unbalance[i] < 0:\n",
        "        H.add_edge (i,'t1',capacity =- unbalance[i])\n",
        "        "
      ],
      "execution_count": null,
      "outputs": []
    },
    {
      "cell_type": "markdown",
      "metadata": {
        "id": "fqNjOQdUTXUC"
      },
      "source": [
        "**Step 6.** Check if a valid circulation exists\n"
      ]
    },
    {
      "cell_type": "code",
      "metadata": {
        "id": "hOaZqGE3TXUC"
      },
      "source": [
        "value, flow = nx.maximum_flow(H,'s1','t1', 'capacity')"
      ],
      "execution_count": null,
      "outputs": []
    },
    {
      "cell_type": "code",
      "metadata": {
        "id": "2SmQi_8nTXUD",
        "outputId": "5ef6cb6e-a49e-4f3d-a87d-3c29398f1525"
      },
      "source": [
        "flow"
      ],
      "execution_count": null,
      "outputs": [
        {
          "output_type": "execute_result",
          "data": {
            "text/plain": [
              "{'u1': {'v1': 0, 't1': 1},\n",
              " 'u2': {'v2': 0, 't1': 1},\n",
              " 'u3': {'v3': 0, 't1': 1},\n",
              " 'u4': {'v4': 0, 't1': 1},\n",
              " 'u5': {'v5': 0, 't1': 1},\n",
              " 'u6': {'v6': 0, 't1': 1},\n",
              " 'v1': {'u3': 1, 'u5': 0, 'u6': 0, 't': 0},\n",
              " 'v2': {'u5': 0, 'u6': 0, 't': 1},\n",
              " 'v3': {'u5': 1, 'u6': 0, 't': 0},\n",
              " 'v4': {'u6': 1, 't': 0},\n",
              " 'v5': {'t': 1},\n",
              " 'v6': {'t': 1},\n",
              " 's': {'u1': 1, 'u2': 1, 'u3': 0, 'u4': 1, 'u5': 0, 'u6': 0},\n",
              " 't': {'s': 0, 't1': 3},\n",
              " 's1': {'v1': 1, 'v2': 1, 'v3': 1, 'v4': 1, 'v5': 1, 'v6': 1, 's': 3},\n",
              " 't1': {}}"
            ]
          },
          "metadata": {
            "tags": []
          },
          "execution_count": 59
        }
      ]
    },
    {
      "cell_type": "code",
      "metadata": {
        "id": "rxUSEHNOTXUD",
        "outputId": "731d9e1a-a155-4d59-cbbe-b6cb54d2b273"
      },
      "source": [
        "valid_circulation = True\n",
        "\n",
        "for i in H.out_edges('s1'):\n",
        "    print (\"Flow and capacity of arc (%s,%s):\" % (i[0],i[1]), H[i[0]][i[1]]['capacity'], flow[i[0]][i[1]])\n",
        "    if H[i[0]][i[1]]['capacity'] != flow[i[0]][i[1]]:\n",
        "        print \n",
        "        print (\"\\x1b[1;31mValid circulation not found\\x1b[0m\")\n",
        "        valid_circulation = False\n",
        "        break\n",
        "   "
      ],
      "execution_count": null,
      "outputs": [
        {
          "output_type": "stream",
          "text": [
            "Flow and capacity of arc (s1,v1): 1 1\n",
            "Flow and capacity of arc (s1,v2): 1 1\n",
            "Flow and capacity of arc (s1,v3): 1 1\n",
            "Flow and capacity of arc (s1,v4): 1 1\n",
            "Flow and capacity of arc (s1,v5): 1 1\n",
            "Flow and capacity of arc (s1,v6): 1 1\n",
            "Flow and capacity of arc (s1,s): 3 3\n"
          ],
          "name": "stdout"
        }
      ]
    },
    {
      "cell_type": "code",
      "metadata": {
        "id": "2SwLyGMwTXUD",
        "outputId": "c48eabea-9d6a-4e2d-c108-d5b0a8a04632"
      },
      "source": [
        "for i in G.edges ():\n",
        "    G[i[0]][i[1]]['xlabel'] = ''\n",
        "    G[i[0]][i[1]]['taillabel'] = ''\n",
        "    if flow[i[0]][i[1]] > 0 or G[i[0]][i[1]]['lb'] == 1:\n",
        "            G[i[0]][i[1]]['color'] = 'red'\n",
        "            G[i[0]][i[1]]['penwidth'] = '2'\n",
        "    else:\n",
        "        G[i[0]][i[1]]['penwidth'] = '0.2'\n",
        "\n",
        "d = nx.nx_agraph.to_agraph(G)\n",
        "d.graph_attr.update(splines='true')\n",
        "d.node_attr.update (fontsize='12', shape='circle')\n",
        "d.edge_attr.update(fontsize='10', arrowhead='vee')\n",
        "\n",
        "d.draw ('img.svg', prog='neato', args='-n2')\n",
        "\n",
        "SVG(filename='img.svg')\n",
        "\n"
      ],
      "execution_count": null,
      "outputs": [
        {
          "output_type": "execute_result",
          "data": {
            "image/svg+xml": "<svg height=\"744pt\" viewBox=\"0.00 0.00 644.00 744.00\" width=\"644pt\" xmlns=\"http://www.w3.org/2000/svg\" xmlns:xlink=\"http://www.w3.org/1999/xlink\">\n<g class=\"graph\" id=\"graph0\" transform=\"scale(1 1) rotate(0) translate(4 740)\">\n<polygon fill=\"white\" points=\"-4,4 -4,-740 640,-740 640,4 -4,4\" stroke=\"transparent\"/>\n<!-- u1 -->\n<g class=\"node\" id=\"node1\">\n<title>u1</title>\n<ellipse cx=\"168\" cy=\"-18\" fill=\"none\" rx=\"18\" ry=\"18\" stroke=\"black\"/>\n<text font-family=\"Times,serif\" font-size=\"12.00\" text-anchor=\"middle\" x=\"168\" y=\"-14.4\">u1</text>\n</g>\n<!-- v1 -->\n<g class=\"node\" id=\"node2\">\n<title>v1</title>\n<ellipse cx=\"468\" cy=\"-18\" fill=\"none\" rx=\"18\" ry=\"18\" stroke=\"black\"/>\n<text font-family=\"Times,serif\" font-size=\"12.00\" text-anchor=\"middle\" x=\"468\" y=\"-14.4\">v1</text>\n</g>\n<!-- u1&#45;&gt;v1 -->\n<g class=\"edge\" id=\"edge1\">\n<title>u1-&gt;v1</title>\n<path d=\"M186.31,-18C236.96,-18 379.14,-18 439.9,-18\" fill=\"none\" stroke=\"red\" stroke-width=\"2\"/>\n<polygon fill=\"red\" points=\"449.92,-18 439.93,-22.5 444.92,-18.5 439.92,-18.5 439.92,-18 439.92,-17.5 444.92,-17.5 439.92,-13.5 449.92,-18 449.92,-18\" stroke=\"red\" stroke-width=\"2\"/>\n</g>\n<!-- u3 -->\n<g class=\"node\" id=\"node5\">\n<title>u3</title>\n<ellipse cx=\"168\" cy=\"-298\" fill=\"none\" rx=\"18\" ry=\"18\" stroke=\"black\"/>\n<text font-family=\"Times,serif\" font-size=\"12.00\" text-anchor=\"middle\" x=\"168\" y=\"-294.4\">u3</text>\n</g>\n<!-- v1&#45;&gt;u3 -->\n<g class=\"edge\" id=\"edge7\">\n<title>v1-&gt;u3</title>\n<path d=\"M454.72,-30.39C407.39,-74.57 246.7,-224.55 188.91,-278.48\" fill=\"none\" stroke=\"red\" stroke-width=\"2\"/>\n<polygon fill=\"red\" points=\"181.46,-285.43 185.7,-275.32 184.78,-281.66 188.43,-278.24 188.78,-278.61 189.12,-278.98 185.46,-282.39 191.85,-281.9 181.46,-285.43 181.46,-285.43\" stroke=\"red\" stroke-width=\"2\"/>\n</g>\n<!-- u5 -->\n<g class=\"node\" id=\"node9\">\n<title>u5</title>\n<ellipse cx=\"168\" cy=\"-578\" fill=\"none\" rx=\"18\" ry=\"18\" stroke=\"black\"/>\n<text font-family=\"Times,serif\" font-size=\"12.00\" text-anchor=\"middle\" x=\"168\" y=\"-574.4\">u5</text>\n</g>\n<!-- v1&#45;&gt;u5 -->\n<g class=\"edge\" id=\"edge8\">\n<title>v1-&gt;u5</title>\n<path d=\"M459.35,-34.16C417.13,-112.96 232.79,-457.07 181.36,-553.06\" fill=\"none\" stroke=\"black\" stroke-width=\"0.2\"/>\n<polygon fill=\"black\" points=\"176.55,-562.05 177.3,-551.11 178.91,-557.64 181.27,-553.23 181.27,-553.23 181.27,-553.23 178.91,-557.64 185.24,-555.36 176.55,-562.05 176.55,-562.05\" stroke=\"black\" stroke-width=\"0.2\"/>\n</g>\n<!-- u6 -->\n<g class=\"node\" id=\"node11\">\n<title>u6</title>\n<ellipse cx=\"168\" cy=\"-718\" fill=\"none\" rx=\"18\" ry=\"18\" stroke=\"black\"/>\n<text font-family=\"Times,serif\" font-size=\"12.00\" text-anchor=\"middle\" x=\"168\" y=\"-714.4\">u6</text>\n</g>\n<!-- v1&#45;&gt;u6 -->\n<g class=\"edge\" id=\"edge9\">\n<title>v1-&gt;u6</title>\n<path d=\"M460.88,-34.61C421.26,-127.06 227.99,-578.03 179.2,-691.87\" fill=\"none\" stroke=\"black\" stroke-width=\"0.2\"/>\n<polygon fill=\"black\" points=\"175.19,-701.23 174.99,-690.27 177.16,-696.64 179.13,-692.04 179.13,-692.04 179.13,-692.04 177.16,-696.64 183.26,-693.81 175.19,-701.23 175.19,-701.23\" stroke=\"black\" stroke-width=\"0.2\"/>\n</g>\n<!-- t -->\n<g class=\"node\" id=\"node13\">\n<title>t</title>\n<ellipse cx=\"618\" cy=\"-438\" fill=\"none\" rx=\"18\" ry=\"18\" stroke=\"black\"/>\n<text font-family=\"Times,serif\" font-size=\"12.00\" text-anchor=\"middle\" x=\"618\" y=\"-434.4\">t</text>\n</g>\n<!-- v1&#45;&gt;t -->\n<g class=\"edge\" id=\"edge10\">\n<title>v1-&gt;t</title>\n<path d=\"M474.07,-34.98C497.2,-99.76 580,-331.59 608.38,-411.05\" fill=\"none\" stroke=\"black\" stroke-width=\"0.2\"/>\n<polygon fill=\"black\" points=\"611.86,-420.8 604.26,-412.9 610.18,-416.1 608.5,-411.39 608.5,-411.39 608.5,-411.39 610.18,-416.1 612.73,-409.87 611.86,-420.8 611.86,-420.8\" stroke=\"black\" stroke-width=\"0.2\"/>\n</g>\n<!-- u2 -->\n<g class=\"node\" id=\"node3\">\n<title>u2</title>\n<ellipse cx=\"168\" cy=\"-158\" fill=\"none\" rx=\"18\" ry=\"18\" stroke=\"black\"/>\n<text font-family=\"Times,serif\" font-size=\"12.00\" text-anchor=\"middle\" x=\"168\" y=\"-154.4\">u2</text>\n</g>\n<!-- v2 -->\n<g class=\"node\" id=\"node4\">\n<title>v2</title>\n<ellipse cx=\"468\" cy=\"-158\" fill=\"none\" rx=\"18\" ry=\"18\" stroke=\"black\"/>\n<text font-family=\"Times,serif\" font-size=\"12.00\" text-anchor=\"middle\" x=\"468\" y=\"-154.4\">v2</text>\n</g>\n<!-- u2&#45;&gt;v2 -->\n<g class=\"edge\" id=\"edge2\">\n<title>u2-&gt;v2</title>\n<path d=\"M186.31,-158C236.96,-158 379.14,-158 439.9,-158\" fill=\"none\" stroke=\"red\" stroke-width=\"2\"/>\n<polygon fill=\"red\" points=\"449.92,-158 439.93,-162.5 444.92,-158.5 439.92,-158.5 439.92,-158 439.92,-157.5 444.92,-157.5 439.92,-153.5 449.92,-158 449.92,-158\" stroke=\"red\" stroke-width=\"2\"/>\n</g>\n<!-- v2&#45;&gt;u5 -->\n<g class=\"edge\" id=\"edge11\">\n<title>v2-&gt;u5</title>\n<path d=\"M457.32,-172.95C412.49,-235.72 239.25,-478.25 184.61,-554.75\" fill=\"none\" stroke=\"black\" stroke-width=\"0.2\"/>\n<polygon fill=\"black\" points=\"178.55,-563.23 180.7,-552.48 181.46,-559.16 184.36,-555.09 184.36,-555.09 184.36,-555.09 181.46,-559.16 188.02,-557.71 178.55,-563.23 178.55,-563.23\" stroke=\"black\" stroke-width=\"0.2\"/>\n</g>\n<!-- v2&#45;&gt;u6 -->\n<g class=\"edge\" id=\"edge12\">\n<title>v2-&gt;u6</title>\n<path d=\"M459.35,-174.16C417.13,-252.96 232.79,-597.07 181.36,-693.06\" fill=\"none\" stroke=\"black\" stroke-width=\"0.2\"/>\n<polygon fill=\"black\" points=\"176.55,-702.05 177.3,-691.11 178.91,-697.64 181.27,-693.23 181.27,-693.23 181.27,-693.23 178.91,-697.64 185.24,-695.36 176.55,-702.05 176.55,-702.05\" stroke=\"black\" stroke-width=\"0.2\"/>\n</g>\n<!-- v2&#45;&gt;t -->\n<g class=\"edge\" id=\"edge13\">\n<title>v2-&gt;t</title>\n<path d=\"M476.71,-174.26C501.83,-221.16 574.53,-356.85 604.66,-413.11\" fill=\"none\" stroke=\"red\" stroke-width=\"2\"/>\n<polygon fill=\"red\" points=\"609.45,-422.04 600.76,-415.35 606.65,-417.87 604.29,-413.46 604.73,-413.22 605.17,-412.99 607.53,-417.4 608.69,-411.1 609.45,-422.04 609.45,-422.04\" stroke=\"red\" stroke-width=\"2\"/>\n</g>\n<!-- v3 -->\n<g class=\"node\" id=\"node6\">\n<title>v3</title>\n<ellipse cx=\"468\" cy=\"-298\" fill=\"none\" rx=\"18\" ry=\"18\" stroke=\"black\"/>\n<text font-family=\"Times,serif\" font-size=\"12.00\" text-anchor=\"middle\" x=\"468\" y=\"-294.4\">v3</text>\n</g>\n<!-- u3&#45;&gt;v3 -->\n<g class=\"edge\" id=\"edge3\">\n<title>u3-&gt;v3</title>\n<path d=\"M186.31,-298C236.96,-298 379.14,-298 439.9,-298\" fill=\"none\" stroke=\"red\" stroke-width=\"2\"/>\n<polygon fill=\"red\" points=\"449.92,-298 439.93,-302.5 444.92,-298.5 439.92,-298.5 439.92,-298 439.92,-297.5 444.92,-297.5 439.92,-293.5 449.92,-298 449.92,-298\" stroke=\"red\" stroke-width=\"2\"/>\n</g>\n<!-- v3&#45;&gt;u5 -->\n<g class=\"edge\" id=\"edge14\">\n<title>v3-&gt;u5</title>\n<path d=\"M454.72,-310.39C407.39,-354.57 246.7,-504.55 188.91,-558.48\" fill=\"none\" stroke=\"red\" stroke-width=\"2\"/>\n<polygon fill=\"red\" points=\"181.46,-565.43 185.7,-555.32 184.78,-561.66 188.43,-558.24 188.78,-558.61 189.12,-558.98 185.46,-562.39 191.85,-561.9 181.46,-565.43 181.46,-565.43\" stroke=\"red\" stroke-width=\"2\"/>\n</g>\n<!-- v3&#45;&gt;u6 -->\n<g class=\"edge\" id=\"edge15\">\n<title>v3-&gt;u6</title>\n<path d=\"M457.32,-312.95C412.49,-375.72 239.25,-618.25 184.61,-694.75\" fill=\"none\" stroke=\"black\" stroke-width=\"0.2\"/>\n<polygon fill=\"black\" points=\"178.55,-703.23 180.7,-692.48 181.46,-699.16 184.36,-695.09 184.36,-695.09 184.36,-695.09 181.46,-699.16 188.02,-697.71 178.55,-703.23 178.55,-703.23\" stroke=\"black\" stroke-width=\"0.2\"/>\n</g>\n<!-- v3&#45;&gt;t -->\n<g class=\"edge\" id=\"edge16\">\n<title>v3-&gt;t</title>\n<path d=\"M481.31,-310.42C507.49,-334.85 565.83,-389.3 597.16,-418.55\" fill=\"none\" stroke=\"black\" stroke-width=\"0.2\"/>\n<polygon fill=\"black\" points=\"604.5,-425.4 594.12,-421.87 600.85,-421.99 597.19,-418.58 597.19,-418.58 597.19,-418.58 600.85,-421.99 600.26,-415.29 604.5,-425.4 604.5,-425.4\" stroke=\"black\" stroke-width=\"0.2\"/>\n</g>\n<!-- u4 -->\n<g class=\"node\" id=\"node7\">\n<title>u4</title>\n<ellipse cx=\"168\" cy=\"-438\" fill=\"none\" rx=\"18\" ry=\"18\" stroke=\"black\"/>\n<text font-family=\"Times,serif\" font-size=\"12.00\" text-anchor=\"middle\" x=\"168\" y=\"-434.4\">u4</text>\n</g>\n<!-- v4 -->\n<g class=\"node\" id=\"node8\">\n<title>v4</title>\n<ellipse cx=\"468\" cy=\"-438\" fill=\"none\" rx=\"18\" ry=\"18\" stroke=\"black\"/>\n<text font-family=\"Times,serif\" font-size=\"12.00\" text-anchor=\"middle\" x=\"468\" y=\"-434.4\">v4</text>\n</g>\n<!-- u4&#45;&gt;v4 -->\n<g class=\"edge\" id=\"edge4\">\n<title>u4-&gt;v4</title>\n<path d=\"M186.31,-438C236.96,-438 379.14,-438 439.9,-438\" fill=\"none\" stroke=\"red\" stroke-width=\"2\"/>\n<polygon fill=\"red\" points=\"449.92,-438 439.93,-442.5 444.92,-438.5 439.92,-438.5 439.92,-438 439.92,-437.5 444.92,-437.5 439.92,-433.5 449.92,-438 449.92,-438\" stroke=\"red\" stroke-width=\"2\"/>\n</g>\n<!-- v4&#45;&gt;u6 -->\n<g class=\"edge\" id=\"edge17\">\n<title>v4-&gt;u6</title>\n<path d=\"M454.72,-450.39C407.39,-494.57 246.7,-644.55 188.91,-698.48\" fill=\"none\" stroke=\"red\" stroke-width=\"2\"/>\n<polygon fill=\"red\" points=\"181.46,-705.43 185.7,-695.32 184.78,-701.66 188.43,-698.24 188.78,-698.61 189.12,-698.98 185.46,-702.39 191.85,-701.9 181.46,-705.43 181.46,-705.43\" stroke=\"red\" stroke-width=\"2\"/>\n</g>\n<!-- v4&#45;&gt;t -->\n<g class=\"edge\" id=\"edge18\">\n<title>v4-&gt;t</title>\n<path d=\"M486.09,-438C511.77,-438 559.04,-438 589.46,-438\" fill=\"none\" stroke=\"black\" stroke-width=\"0.2\"/>\n<polygon fill=\"black\" points=\"599.84,-438 589.84,-442.5 594.84,-438 589.84,-438 589.84,-438 589.84,-438 594.84,-438 589.84,-433.5 599.84,-438 599.84,-438\" stroke=\"black\" stroke-width=\"0.2\"/>\n</g>\n<!-- v5 -->\n<g class=\"node\" id=\"node10\">\n<title>v5</title>\n<ellipse cx=\"468\" cy=\"-578\" fill=\"none\" rx=\"18\" ry=\"18\" stroke=\"black\"/>\n<text font-family=\"Times,serif\" font-size=\"12.00\" text-anchor=\"middle\" x=\"468\" y=\"-574.4\">v5</text>\n</g>\n<!-- u5&#45;&gt;v5 -->\n<g class=\"edge\" id=\"edge5\">\n<title>u5-&gt;v5</title>\n<path d=\"M186.31,-578C236.96,-578 379.14,-578 439.9,-578\" fill=\"none\" stroke=\"red\" stroke-width=\"2\"/>\n<polygon fill=\"red\" points=\"449.92,-578 439.93,-582.5 444.92,-578.5 439.92,-578.5 439.92,-578 439.92,-577.5 444.92,-577.5 439.92,-573.5 449.92,-578 449.92,-578\" stroke=\"red\" stroke-width=\"2\"/>\n</g>\n<!-- v5&#45;&gt;t -->\n<g class=\"edge\" id=\"edge19\">\n<title>v5-&gt;t</title>\n<path d=\"M481.31,-565.58C507.49,-541.15 565.83,-486.7 597.16,-457.45\" fill=\"none\" stroke=\"red\" stroke-width=\"2\"/>\n<polygon fill=\"red\" points=\"604.5,-450.6 600.26,-460.71 601.19,-454.37 597.53,-457.79 597.19,-457.42 596.85,-457.06 600.51,-453.64 594.12,-454.13 604.5,-450.6 604.5,-450.6\" stroke=\"red\" stroke-width=\"2\"/>\n</g>\n<!-- v6 -->\n<g class=\"node\" id=\"node12\">\n<title>v6</title>\n<ellipse cx=\"468\" cy=\"-718\" fill=\"none\" rx=\"18\" ry=\"18\" stroke=\"black\"/>\n<text font-family=\"Times,serif\" font-size=\"12.00\" text-anchor=\"middle\" x=\"468\" y=\"-714.4\">v6</text>\n</g>\n<!-- u6&#45;&gt;v6 -->\n<g class=\"edge\" id=\"edge6\">\n<title>u6-&gt;v6</title>\n<path d=\"M186.31,-718C236.96,-718 379.14,-718 439.9,-718\" fill=\"none\" stroke=\"red\" stroke-width=\"2\"/>\n<polygon fill=\"red\" points=\"449.92,-718 439.93,-722.5 444.92,-718.5 439.92,-718.5 439.92,-718 439.92,-717.5 444.92,-717.5 439.92,-713.5 449.92,-718 449.92,-718\" stroke=\"red\" stroke-width=\"2\"/>\n</g>\n<!-- v6&#45;&gt;t -->\n<g class=\"edge\" id=\"edge20\">\n<title>v6-&gt;t</title>\n<path d=\"M476.71,-701.74C501.83,-654.84 574.53,-519.15 604.66,-462.89\" fill=\"none\" stroke=\"red\" stroke-width=\"2\"/>\n<polygon fill=\"red\" points=\"609.45,-453.96 608.69,-464.9 607.53,-458.6 605.17,-463.01 604.73,-462.78 604.29,-462.54 606.65,-458.13 600.76,-460.65 609.45,-453.96 609.45,-453.96\" stroke=\"red\" stroke-width=\"2\"/>\n</g>\n<!-- s -->\n<g class=\"node\" id=\"node14\">\n<title>s</title>\n<ellipse cx=\"18\" cy=\"-438\" fill=\"none\" rx=\"18\" ry=\"18\" stroke=\"black\"/>\n<text font-family=\"Times,serif\" font-size=\"12.00\" text-anchor=\"middle\" x=\"18\" y=\"-434.4\">s</text>\n</g>\n<!-- t&#45;&gt;s -->\n<g class=\"edge\" id=\"edge27\">\n<title>t-&gt;s</title>\n<path d=\"M600.05,-441.11C571.97,-445.8 515.88,-454.48 467.89,-457.6 334.88,-466.25 301,-466.25 168,-457.6 125.28,-454.82 76.16,-447.64 46.1,-442.78\" fill=\"none\" stroke=\"black\" stroke-width=\"0.2\"/>\n<polygon fill=\"black\" points=\"35.94,-441.11 46.53,-438.29 40.87,-441.92 45.8,-442.73 45.8,-442.73 45.8,-442.73 40.87,-441.92 45.07,-447.17 35.94,-441.11 35.94,-441.11\" stroke=\"black\" stroke-width=\"0.2\"/>\n</g>\n<!-- s&#45;&gt;u1 -->\n<g class=\"edge\" id=\"edge21\">\n<title>s-&gt;u1</title>\n<path d=\"M24.07,-421.02C47.2,-356.24 130,-124.41 158.38,-44.95\" fill=\"none\" stroke=\"red\" stroke-width=\"2\"/>\n<polygon fill=\"red\" points=\"161.86,-35.2 162.73,-46.13 160.65,-40.07 158.97,-44.78 158.5,-44.61 158.02,-44.45 159.71,-39.74 154.26,-43.1 161.86,-35.2 161.86,-35.2\" stroke=\"red\" stroke-width=\"2\"/>\n</g>\n<!-- s&#45;&gt;u2 -->\n<g class=\"edge\" id=\"edge22\">\n<title>s-&gt;u2</title>\n<path d=\"M26.71,-421.74C51.83,-374.84 124.53,-239.15 154.66,-182.89\" fill=\"none\" stroke=\"red\" stroke-width=\"2\"/>\n<polygon fill=\"red\" points=\"159.45,-173.96 158.69,-184.9 157.53,-178.6 155.17,-183.01 154.73,-182.78 154.29,-182.54 156.65,-178.13 150.76,-180.65 159.45,-173.96 159.45,-173.96\" stroke=\"red\" stroke-width=\"2\"/>\n</g>\n<!-- s&#45;&gt;u3 -->\n<g class=\"edge\" id=\"edge23\">\n<title>s-&gt;u3</title>\n<path d=\"M31.31,-425.58C57.49,-401.15 115.83,-346.7 147.16,-317.45\" fill=\"none\" stroke=\"black\" stroke-width=\"0.2\"/>\n<polygon fill=\"black\" points=\"154.5,-310.6 150.26,-320.71 150.85,-314.01 147.19,-317.42 147.19,-317.42 147.19,-317.42 150.85,-314.01 144.12,-314.13 154.5,-310.6 154.5,-310.6\" stroke=\"black\" stroke-width=\"0.2\"/>\n</g>\n<!-- s&#45;&gt;u4 -->\n<g class=\"edge\" id=\"edge24\">\n<title>s-&gt;u4</title>\n<path d=\"M36.09,-438C61.77,-438 109.04,-438 139.46,-438\" fill=\"none\" stroke=\"red\" stroke-width=\"2\"/>\n<polygon fill=\"red\" points=\"149.84,-438 139.84,-442.5 144.84,-438.5 139.84,-438.5 139.84,-438 139.84,-437.5 144.84,-437.5 139.84,-433.5 149.84,-438 149.84,-438\" stroke=\"red\" stroke-width=\"2\"/>\n</g>\n<!-- s&#45;&gt;u5 -->\n<g class=\"edge\" id=\"edge25\">\n<title>s-&gt;u5</title>\n<path d=\"M31.31,-450.42C57.49,-474.85 115.83,-529.3 147.16,-558.55\" fill=\"none\" stroke=\"black\" stroke-width=\"0.2\"/>\n<polygon fill=\"black\" points=\"154.5,-565.4 144.12,-561.87 150.85,-561.99 147.19,-558.58 147.19,-558.58 147.19,-558.58 150.85,-561.99 150.26,-555.29 154.5,-565.4 154.5,-565.4\" stroke=\"black\" stroke-width=\"0.2\"/>\n</g>\n<!-- s&#45;&gt;u6 -->\n<g class=\"edge\" id=\"edge26\">\n<title>s-&gt;u6</title>\n<path d=\"M26.71,-454.26C51.83,-501.16 124.53,-636.85 154.66,-693.11\" fill=\"none\" stroke=\"black\" stroke-width=\"0.2\"/>\n<polygon fill=\"black\" points=\"159.45,-702.04 150.76,-695.35 157.09,-697.63 154.73,-693.22 154.73,-693.22 154.73,-693.22 157.09,-697.63 158.69,-691.1 159.45,-702.04 159.45,-702.04\" stroke=\"black\" stroke-width=\"0.2\"/>\n</g>\n</g>\n</svg>",
            "text/plain": [
              "<IPython.core.display.SVG object>"
            ]
          },
          "metadata": {
            "tags": []
          },
          "execution_count": 61
        }
      ]
    },
    {
      "cell_type": "code",
      "metadata": {
        "collapsed": true,
        "id": "ZummR7WOTXUD"
      },
      "source": [
        ""
      ],
      "execution_count": null,
      "outputs": []
    }
  ]
}