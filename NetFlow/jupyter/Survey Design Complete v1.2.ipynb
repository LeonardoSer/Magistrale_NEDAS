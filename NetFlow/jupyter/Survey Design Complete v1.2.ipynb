{
  "nbformat": 4,
  "nbformat_minor": 0,
  "metadata": {
    "kernelspec": {
      "display_name": "Python 3",
      "language": "python",
      "name": "python3"
    },
    "language_info": {
      "codemirror_mode": {
        "name": "ipython",
        "version": 3
      },
      "file_extension": ".py",
      "mimetype": "text/x-python",
      "name": "python",
      "nbconvert_exporter": "python",
      "pygments_lexer": "ipython3",
      "version": "3.7.10"
    },
    "colab": {
      "name": "Survey Design Complete v1.2.ipynb",
      "provenance": [],
      "include_colab_link": true
    }
  },
  "cells": [
    {
      "cell_type": "markdown",
      "metadata": {
        "id": "view-in-github",
        "colab_type": "text"
      },
      "source": [
        "<a href=\"https://colab.research.google.com/github/LeonardoSer/Univ/blob/main/NetFlow/jupyter/Survey%20Design%20Complete%20v1.2.ipynb\" target=\"_parent\"><img src=\"https://colab.research.google.com/assets/colab-badge.svg\" alt=\"Open In Colab\"/></a>"
      ]
    },
    {
      "cell_type": "markdown",
      "metadata": {
        "id": "xysJSwwvL6wV"
      },
      "source": [
        "# Survey design problem\n",
        "\n",
        "### Problem definition\n",
        "Each customer of a set $C = \\{c_1, c_2, \\ldots, c_n\\}$ of $n$ customers has purchased a subset of $m$  products  $P= \\{p_1, p_2, \\ldots, p_m\\}$. \n",
        "\n",
        "Marketing department wants to know customers opinion and design a survey with the following requirements:\n",
        "\n",
        "1. Each customer $i$ agreed to answer a number of questions about the purchased products in the range $[q^{\\min}_i, q^{\\max}_i]$ \n",
        "2. For each product $j$, the marketing department requires at least  $a^{\\min}_j$ and at most $a^{\\max}_j$ answers.\n",
        "\n",
        "**Find** an assignment of questions to clients that satisfies the above requirements.\n"
      ]
    },
    {
      "cell_type": "markdown",
      "metadata": {
        "id": "u8bsGfUhL6wf"
      },
      "source": [
        "### Instance generation\n",
        "\n",
        "The <code>random</code> package is used to generate an instance of the survey design problem.\n",
        "A real instance will read data from a file."
      ]
    },
    {
      "cell_type": "code",
      "metadata": {
        "id": "vWXxWyuFL6wg",
        "outputId": "9d7ad739-bd9f-445d-b2cc-a644514da830"
      },
      "source": [
        "import networkx as nx\n",
        "import random as rnd\n",
        "import matplotlib.pyplot as plt\n",
        "from IPython.display import SVG\n",
        "import pygraphviz as pgv\n",
        "\n",
        "rnd.seed (10)\n",
        "\n",
        "n_customers = 5\n",
        "n_products = 7\n",
        "\n",
        "# Customers list\n",
        "customers = ['c' + str(i + 1) for i in range(n_customers)]\n",
        "\n",
        "#Products list\n",
        "products = ['p' + str(i + 1) for i in range(n_products)]\n",
        "\n",
        "# Random generation of purchases\n",
        "# threshold = 0 implies that each customer purchased all products\n",
        "\n",
        "threshold = 0.3\n",
        "purchases={i:[j for j in products if rnd.random() > threshold] \\\n",
        "           for i in customers}\n",
        "\n",
        "#\n",
        "# Print the purchases of each customer\n",
        "#\n",
        "\n",
        "for i in customers:\n",
        "    print (i,\"purchases:\",)\n",
        "    for j in purchases[i]:\n",
        "        print (j,)\n",
        "    print()"
      ],
      "execution_count": null,
      "outputs": [
        {
          "output_type": "stream",
          "text": [
            "c1 purchases:\n",
            "p1\n",
            "p2\n",
            "p3\n",
            "p5\n",
            "p6\n",
            "p7\n",
            "\n",
            "c2 purchases:\n",
            "p2\n",
            "p3\n",
            "p5\n",
            "p6\n",
            "\n",
            "c3 purchases:\n",
            "p1\n",
            "p2\n",
            "p3\n",
            "p5\n",
            "p6\n",
            "p7\n",
            "\n",
            "c4 purchases:\n",
            "p1\n",
            "p3\n",
            "p4\n",
            "p5\n",
            "p6\n",
            "\n",
            "c5 purchases:\n",
            "p3\n",
            "p4\n",
            "p5\n",
            "p6\n",
            "p7\n",
            "\n"
          ],
          "name": "stdout"
        }
      ]
    },
    {
      "cell_type": "markdown",
      "metadata": {
        "id": "3gfweDgkL6wj"
      },
      "source": [
        "### Representing purchases with a graph G\n",
        "* Nodes: $C \\cup P$\n",
        "* Arcs: $(i,j)$ with $l_{ij}=0$ and $u_{ij} = 1$ if customer $c_i$ bought product $p_j$"
      ]
    },
    {
      "cell_type": "code",
      "metadata": {
        "id": "qF8NLinCL6wj",
        "outputId": "e3e58763-af44-4310-8047-ca3acd6bb032"
      },
      "source": [
        "customers"
      ],
      "execution_count": null,
      "outputs": [
        {
          "output_type": "execute_result",
          "data": {
            "text/plain": [
              "['c1', 'c2', 'c3', 'c4', 'c5']"
            ]
          },
          "metadata": {
            "tags": []
          },
          "execution_count": 2
        }
      ]
    },
    {
      "cell_type": "code",
      "metadata": {
        "id": "dw2PF7eQL6wk",
        "outputId": "dc50e560-5dcd-4b1e-8b0d-ac61c08bf65e"
      },
      "source": [
        "products"
      ],
      "execution_count": null,
      "outputs": [
        {
          "output_type": "execute_result",
          "data": {
            "text/plain": [
              "['p1', 'p2', 'p3', 'p4', 'p5', 'p6', 'p7']"
            ]
          },
          "metadata": {
            "tags": []
          },
          "execution_count": 3
        }
      ]
    },
    {
      "cell_type": "code",
      "metadata": {
        "id": "QHabXR45L6wl",
        "outputId": "6ebbd31a-7a31-4bd4-fb18-bca36e5a0fb5"
      },
      "source": [
        "purchases"
      ],
      "execution_count": null,
      "outputs": [
        {
          "output_type": "execute_result",
          "data": {
            "text/plain": [
              "{'c1': ['p1', 'p2', 'p3', 'p5', 'p6', 'p7'],\n",
              " 'c2': ['p2', 'p3', 'p5', 'p6'],\n",
              " 'c3': ['p1', 'p2', 'p3', 'p5', 'p6', 'p7'],\n",
              " 'c4': ['p1', 'p3', 'p4', 'p5', 'p6'],\n",
              " 'c5': ['p3', 'p4', 'p5', 'p6', 'p7']}"
            ]
          },
          "metadata": {
            "tags": []
          },
          "execution_count": 4
        }
      ]
    },
    {
      "cell_type": "code",
      "metadata": {
        "id": "fDp8GMl6L6wm"
      },
      "source": [
        "G = nx.DiGraph()\n",
        "\n",
        "# Set of C nodes\n",
        "G.add_nodes_from (customers)\n",
        "\n",
        "#Set of P nodes\n",
        "G.add_nodes_from (products)\n",
        "\n",
        "#Set of purchase arcs\n",
        "for i in customers:\n",
        "    for j in purchases[i]:\n",
        "        G.add_edge(i,j,lb=0,ub=1)\n"
      ],
      "execution_count": null,
      "outputs": []
    },
    {
      "cell_type": "markdown",
      "metadata": {
        "id": "RTGymEqeL6wn"
      },
      "source": [
        "### For each customer $i$ the quantities $q^\\min_i$ and $q^\\max_i$ are evaluated\n",
        "\n",
        "In this example:\n",
        "\n",
        "* The minimum number of questions per customer is equal  to $\\min\\{2, \\text{number of purchases} \\}$\n",
        "* The maximum number of questions per customer is equal to  $\\min\\{5, \\text{number of purchases} \\}$\n",
        "\n"
      ]
    },
    {
      "cell_type": "code",
      "metadata": {
        "id": "dRJHisl0L6wn"
      },
      "source": [
        "customerquestions={}\n",
        "\n",
        "for i in customers:\n",
        "    minquestion = min(2,len(purchases[i]))\n",
        "    maxquestion = min (5,len(purchases[i]))\n",
        "    customerquestions [i] = (minquestion,maxquestion)\n",
        " "
      ],
      "execution_count": null,
      "outputs": []
    },
    {
      "cell_type": "markdown",
      "metadata": {
        "id": "SOMbzdmgL6wo"
      },
      "source": [
        "### For each product the quantities $a_j^\\min$ and $a_j^\\max$ are evaluated\n",
        "\n",
        "In this example:\n",
        "\n",
        "* The minimum number of answers per product is equal to $\\min\\{3, \\text{number of  sold products}\\}$\n",
        "* The maximum number of answers per product is equal to $\\min\\{5, \\text{number of sold products}\\}$\n",
        "\n",
        "**Remark** The sold quantity of product $j$ is evaluated by accessing the indegree of  node $p_j$ in $G$"
      ]
    },
    {
      "cell_type": "code",
      "metadata": {
        "id": "H0zb5miML6wp"
      },
      "source": [
        "productanswers={}\n",
        "\n",
        "for j in products:\n",
        "    minanswer = min (3, G.in_degree(j))\n",
        "    maxanswer = min (5, G.in_degree(j))\n",
        "    productanswers [j] = (minanswer,maxanswer)"
      ],
      "execution_count": null,
      "outputs": []
    },
    {
      "cell_type": "markdown",
      "metadata": {
        "id": "EnVnpLNDL6wq"
      },
      "source": [
        "### Extending G\n",
        "\n",
        "The graph $G$ is extended by adding two nodes $s$ and $t$ and two sets of edges:\n",
        "\n",
        "1. Arc $(s,c_i)$ for all customers with $l_{si}=q^\\min_i$ and $u_{si}=q^\\max_i$\n",
        "2. Arc $(p_j,t)$ for all products with $l_{jt}=a^\\min_j$ and $u_{jt}=a^\\max_j$"
      ]
    },
    {
      "cell_type": "code",
      "metadata": {
        "id": "cCEbToygL6wq"
      },
      "source": [
        "G.add_node('s')\n",
        "\n",
        "for i in customers:\n",
        "    G.add_edge('s',i,lb=customerquestions[i][0],\\\n",
        "               ub=customerquestions[i][1])\n",
        "\n",
        "G.add_node('t')\n",
        "\n",
        "for j in products:\n",
        "    G.add_edge(j,'t',lb=productanswers[j][0],\\\n",
        "               ub=productanswers[j][1])\n"
      ],
      "execution_count": null,
      "outputs": []
    },
    {
      "cell_type": "markdown",
      "metadata": {
        "id": "yczd2UbGL6wq"
      },
      "source": [
        "### Draw the graph $G$\n",
        "_If you experience problem with the drawing functions remove this cell from your notebook_\n"
      ]
    },
    {
      "cell_type": "code",
      "metadata": {
        "id": "ELSe8xgeL6wq"
      },
      "source": [
        "offset = 0.45\n",
        "count = 0\n",
        "\n",
        "lenghtcust = 135.0 * float(len(customers))\n",
        "lenghtprod = 135.0 * float(len(products))\n",
        "lenght = max (lenghtcust, lenghtprod)\n",
        "\n",
        "offsetcust = lenght / len(customers)\n",
        "offsetprod = lenght / len(products)\n",
        "\n",
        "for i in customers:\n",
        "    G.nodes[i]['pos'] = \"%f,%f\"%(200, offsetcust * count)\n",
        "    count += 1\n",
        "\n",
        "count = 0\n",
        "\n",
        "for j in products:\n",
        "    G.nodes[j]['pos'] = \"%f,%f\"%(500, offsetprod * count)\n",
        "    count += 1\n",
        "    \n",
        "G.nodes['s']['pos'] = \"%f,%f\"%(0.0, offset * count * 300 / 2.0)\n",
        "G.nodes['t']['pos'] = \"%f,%f\"%(700, offset * count * 300 /2.0)\n",
        "\n",
        "\n"
      ],
      "execution_count": null,
      "outputs": []
    },
    {
      "cell_type": "code",
      "metadata": {
        "id": "ZBNRI3DqL6wr",
        "outputId": "8191f978-f8d9-4887-8dd7-56e2f1e3686d"
      },
      "source": [
        "for i in G.edges():\n",
        "    G[i[0]][i[1]]['xlabel'] = '%d,%d'%(G[i[0]][i[1]]['lb'],G[i[0]][i[1]]['ub'])\n",
        "\n",
        "d = nx.nx_agraph.to_agraph(G)\n",
        "\n",
        "d.node_attr.update (fontsize='10', width=0.4, shape='circle')\n",
        "\n",
        "d.edge_attr.update(fontsize='10', arrowhead='vee', penwidth=0.3)\n",
        "#d.node_attr['shape']='circle\n",
        "\n",
        "\n",
        "d.draw ('img.svg', prog='neato', args='-n2')\n",
        "\n",
        "SVG(filename='img.svg')\n",
        "#Image ('img.png')\n",
        "\n"
      ],
      "execution_count": null,
      "outputs": [
        {
          "output_type": "execute_result",
          "data": {
            "image/svg+xml": "<svg height=\"851pt\" viewBox=\"0.00 0.00 737.00 851.16\" width=\"737pt\" xmlns=\"http://www.w3.org/2000/svg\" xmlns:xlink=\"http://www.w3.org/1999/xlink\">\n<g class=\"graph\" id=\"graph0\" transform=\"scale(1 1) rotate(0) translate(4 847.16)\">\n<polygon fill=\"white\" points=\"-4,4 -4,-847.16 733,-847.16 733,4 -4,4\" stroke=\"transparent\"/>\n<!-- c1 -->\n<g class=\"node\" id=\"node1\">\n<title>c1</title>\n<ellipse cx=\"214.5\" cy=\"-16.58\" fill=\"none\" rx=\"16.45\" ry=\"16.45\" stroke=\"black\"/>\n<text font-family=\"Times,serif\" font-size=\"10.00\" text-anchor=\"middle\" x=\"214.5\" y=\"-13.58\">c1</text>\n</g>\n<!-- p1 -->\n<g class=\"node\" id=\"node2\">\n<title>p1</title>\n<ellipse cx=\"514.5\" cy=\"-16.58\" fill=\"none\" rx=\"16.66\" ry=\"16.66\" stroke=\"black\"/>\n<text font-family=\"Times,serif\" font-size=\"10.00\" text-anchor=\"middle\" x=\"514.5\" y=\"-13.58\">p1</text>\n</g>\n<!-- c1&#45;&gt;p1 -->\n<g class=\"edge\" id=\"edge1\">\n<title>c1-&gt;p1</title>\n<path d=\"M231.06,-16.58C280.32,-16.58 426.31,-16.58 487.27,-16.58\" fill=\"none\" stroke=\"black\" stroke-width=\"0.3\"/>\n<polygon fill=\"black\" points=\"497.62,-16.58 487.62,-21.08 492.62,-16.58 487.62,-16.58 487.62,-16.58 487.62,-16.58 492.62,-16.58 487.62,-12.08 497.62,-16.58 497.62,-16.58\" stroke=\"black\" stroke-width=\"0.3\"/>\n<text font-family=\"Times,serif\" font-size=\"10.00\" text-anchor=\"middle\" x=\"352.91\" y=\"-18.58\">0,1</text>\n</g>\n<!-- p2 -->\n<g class=\"node\" id=\"node3\">\n<title>p2</title>\n<ellipse cx=\"514.5\" cy=\"-151.58\" fill=\"none\" rx=\"16.66\" ry=\"16.66\" stroke=\"black\"/>\n<text font-family=\"Times,serif\" font-size=\"10.00\" text-anchor=\"middle\" x=\"514.5\" y=\"-148.58\">p2</text>\n</g>\n<!-- c1&#45;&gt;p2 -->\n<g class=\"edge\" id=\"edge2\">\n<title>c1-&gt;p2</title>\n<path d=\"M229.38,-23.28C277.55,-44.95 429.6,-113.38 489.71,-140.42\" fill=\"none\" stroke=\"black\" stroke-width=\"0.3\"/>\n<polygon fill=\"black\" points=\"499.18,-144.68 488.21,-144.68 494.62,-142.63 490.06,-140.58 490.06,-140.58 490.06,-140.58 494.62,-142.63 491.9,-136.48 499.18,-144.68 499.18,-144.68\" stroke=\"black\" stroke-width=\"0.3\"/>\n<text font-family=\"Times,serif\" font-size=\"10.00\" text-anchor=\"middle\" x=\"353.29\" y=\"-83.85\">0,1</text>\n</g>\n<!-- p3 -->\n<g class=\"node\" id=\"node4\">\n<title>p3</title>\n<ellipse cx=\"514.5\" cy=\"-286.58\" fill=\"none\" rx=\"16.66\" ry=\"16.66\" stroke=\"black\"/>\n<text font-family=\"Times,serif\" font-size=\"10.00\" text-anchor=\"middle\" x=\"514.5\" y=\"-283.58\">p3</text>\n</g>\n<!-- c1&#45;&gt;p3 -->\n<g class=\"edge\" id=\"edge3\">\n<title>c1-&gt;p3</title>\n<path d=\"M226.63,-27.5C272.6,-68.87 436.4,-216.29 494.16,-268.27\" fill=\"none\" stroke=\"black\" stroke-width=\"0.3\"/>\n<polygon fill=\"black\" points=\"501.88,-275.23 491.44,-271.88 498.17,-271.88 494.45,-268.54 494.45,-268.54 494.45,-268.54 498.17,-271.88 497.46,-265.19 501.88,-275.23 501.88,-275.23\" stroke=\"black\" stroke-width=\"0.3\"/>\n<text font-family=\"Times,serif\" font-size=\"10.00\" text-anchor=\"middle\" x=\"354.15\" y=\"-149.89\">0,1</text>\n</g>\n<!-- p5 -->\n<g class=\"node\" id=\"node5\">\n<title>p5</title>\n<ellipse cx=\"514.5\" cy=\"-556.58\" fill=\"none\" rx=\"16.66\" ry=\"16.66\" stroke=\"black\"/>\n<text font-family=\"Times,serif\" font-size=\"10.00\" text-anchor=\"middle\" x=\"514.5\" y=\"-553.58\">p5</text>\n</g>\n<!-- c1&#45;&gt;p5 -->\n<g class=\"edge\" id=\"edge4\">\n<title>c1-&gt;p5</title>\n<path d=\"M222.52,-31.02C263.56,-104.89 450.04,-440.55 501.38,-532.96\" fill=\"none\" stroke=\"black\" stroke-width=\"0.3\"/>\n<polygon fill=\"black\" points=\"506.31,-541.84 497.52,-535.28 503.88,-537.47 501.45,-533.1 501.45,-533.1 501.45,-533.1 503.88,-537.47 505.39,-530.91 506.31,-541.84 506.31,-541.84\" stroke=\"black\" stroke-width=\"0.3\"/>\n<text font-family=\"Times,serif\" font-size=\"10.00\" text-anchor=\"middle\" x=\"355.7\" y=\"-283.99\">0,1</text>\n</g>\n<!-- p6 -->\n<g class=\"node\" id=\"node6\">\n<title>p6</title>\n<ellipse cx=\"514.5\" cy=\"-691.58\" fill=\"none\" rx=\"16.66\" ry=\"16.66\" stroke=\"black\"/>\n<text font-family=\"Times,serif\" font-size=\"10.00\" text-anchor=\"middle\" x=\"514.5\" y=\"-688.58\">p6</text>\n</g>\n<!-- c1&#45;&gt;p6 -->\n<g class=\"edge\" id=\"edge5\">\n<title>c1-&gt;p6</title>\n<path d=\"M221.19,-31.63C259.88,-118.68 455.03,-557.76 503.56,-666.96\" fill=\"none\" stroke=\"black\" stroke-width=\"0.3\"/>\n<polygon fill=\"black\" points=\"507.67,-676.21 499.49,-668.9 505.64,-671.64 503.61,-667.07 503.61,-667.07 503.61,-667.07 505.64,-671.64 507.72,-665.24 507.67,-676.21 507.67,-676.21\" stroke=\"black\" stroke-width=\"0.3\"/>\n<text font-family=\"Times,serif\" font-size=\"10.00\" text-anchor=\"middle\" x=\"356.12\" y=\"-351.29\">0,1</text>\n</g>\n<!-- p7 -->\n<g class=\"node\" id=\"node7\">\n<title>p7</title>\n<ellipse cx=\"514.5\" cy=\"-826.58\" fill=\"none\" rx=\"16.66\" ry=\"16.66\" stroke=\"black\"/>\n<text font-family=\"Times,serif\" font-size=\"10.00\" text-anchor=\"middle\" x=\"514.5\" y=\"-823.58\">p7</text>\n</g>\n<!-- c1&#45;&gt;p7 -->\n<g class=\"edge\" id=\"edge6\">\n<title>c1-&gt;p7</title>\n<path d=\"M220.23,-32.04C256.94,-131.17 459.27,-677.47 505.22,-801.52\" fill=\"none\" stroke=\"black\" stroke-width=\"0.3\"/>\n<polygon fill=\"black\" points=\"508.71,-810.96 501.02,-803.15 506.98,-806.27 505.24,-801.58 505.24,-801.58 505.24,-801.58 506.98,-806.27 509.46,-800.02 508.71,-810.96 508.71,-810.96\" stroke=\"black\" stroke-width=\"0.3\"/>\n<text font-family=\"Times,serif\" font-size=\"10.00\" text-anchor=\"middle\" x=\"356.47\" y=\"-418.78\">0,1</text>\n</g>\n<!-- t -->\n<g class=\"node\" id=\"node13\">\n<title>t</title>\n<ellipse cx=\"714.5\" cy=\"-489.08\" fill=\"none\" rx=\"14.5\" ry=\"14.5\" stroke=\"black\"/>\n<text font-family=\"Times,serif\" font-size=\"10.00\" text-anchor=\"middle\" x=\"714.5\" y=\"-486.08\">t</text>\n</g>\n<!-- p1&#45;&gt;t -->\n<g class=\"edge\" id=\"edge27\">\n<title>p1-&gt;t</title>\n<path d=\"M521.04,-32.03C550.38,-101.35 669.95,-383.82 704.88,-466.34\" fill=\"none\" stroke=\"black\" stroke-width=\"0.3\"/>\n<polygon fill=\"black\" points=\"708.79,-475.59 700.75,-468.14 706.84,-470.99 704.89,-466.38 704.89,-466.38 704.89,-466.38 706.84,-470.99 709.04,-464.63 708.79,-475.59 708.79,-475.59\" stroke=\"black\" stroke-width=\"0.3\"/>\n<text font-family=\"Times,serif\" font-size=\"10.00\" text-anchor=\"middle\" x=\"606.71\" y=\"-251.19\">3,3</text>\n</g>\n<!-- p2&#45;&gt;t -->\n<g class=\"edge\" id=\"edge28\">\n<title>p2-&gt;t</title>\n<path d=\"M523.09,-166.08C554.67,-219.37 664.38,-404.51 701.85,-467.73\" fill=\"none\" stroke=\"black\" stroke-width=\"0.3\"/>\n<polygon fill=\"black\" points=\"707.02,-476.47 698.06,-470.16 704.48,-472.16 701.93,-467.86 701.93,-467.86 701.93,-467.86 704.48,-472.16 705.8,-465.57 707.02,-476.47 707.02,-476.47\" stroke=\"black\" stroke-width=\"0.3\"/>\n<text font-family=\"Times,serif\" font-size=\"10.00\" text-anchor=\"middle\" x=\"606.22\" y=\"-318.91\">3,3</text>\n</g>\n<!-- p3&#45;&gt;t -->\n<g class=\"edge\" id=\"edge29\">\n<title>p3-&gt;t</title>\n<path d=\"M526.41,-298.64C560.15,-332.81 656.53,-430.38 696.64,-471\" fill=\"none\" stroke=\"black\" stroke-width=\"0.3\"/>\n<polygon fill=\"black\" points=\"703.88,-478.33 693.65,-474.37 700.37,-474.77 696.85,-471.21 696.85,-471.21 696.85,-471.21 700.37,-474.77 700.05,-468.05 703.88,-478.33 703.88,-478.33\" stroke=\"black\" stroke-width=\"0.3\"/>\n<text font-family=\"Times,serif\" font-size=\"10.00\" text-anchor=\"middle\" x=\"605.28\" y=\"-386.82\">3,5</text>\n</g>\n<!-- p5&#45;&gt;t -->\n<g class=\"edge\" id=\"edge31\">\n<title>p5-&gt;t</title>\n<path d=\"M530.53,-551.17C565.66,-539.31 649.59,-510.99 690.82,-497.07\" fill=\"none\" stroke=\"black\" stroke-width=\"0.3\"/>\n<polygon fill=\"black\" points=\"700.56,-493.79 692.52,-501.25 695.82,-495.38 691.08,-496.98 691.08,-496.98 691.08,-496.98 695.82,-495.38 689.64,-492.72 700.56,-493.79 700.56,-493.79\" stroke=\"black\" stroke-width=\"0.3\"/>\n<text font-family=\"Times,serif\" font-size=\"10.00\" text-anchor=\"middle\" x=\"604.43\" y=\"-526.12\">3,5</text>\n</g>\n<!-- p6&#45;&gt;t -->\n<g class=\"edge\" id=\"edge32\">\n<title>p6-&gt;t</title>\n<path d=\"M526.41,-679.52C560.15,-645.35 656.53,-547.78 696.64,-507.16\" fill=\"none\" stroke=\"black\" stroke-width=\"0.3\"/>\n<polygon fill=\"black\" points=\"703.88,-499.83 700.05,-510.11 700.37,-503.39 696.85,-506.95 696.85,-506.95 696.85,-506.95 700.37,-503.39 693.65,-503.79 703.88,-499.83 703.88,-499.83\" stroke=\"black\" stroke-width=\"0.3\"/>\n<text font-family=\"Times,serif\" font-size=\"10.00\" text-anchor=\"middle\" x=\"605.28\" y=\"-595.34\">3,5</text>\n</g>\n<!-- p7&#45;&gt;t -->\n<g class=\"edge\" id=\"edge33\">\n<title>p7-&gt;t</title>\n<path d=\"M523.09,-812.08C554.67,-758.79 664.38,-573.65 701.85,-510.43\" fill=\"none\" stroke=\"black\" stroke-width=\"0.3\"/>\n<polygon fill=\"black\" points=\"707.02,-501.69 705.8,-512.59 704.48,-506 701.93,-510.3 701.93,-510.3 701.93,-510.3 704.48,-506 698.06,-508 707.02,-501.69 707.02,-501.69\" stroke=\"black\" stroke-width=\"0.3\"/>\n<text font-family=\"Times,serif\" font-size=\"10.00\" text-anchor=\"middle\" x=\"606.22\" y=\"-663.26\">3,3</text>\n</g>\n<!-- c2 -->\n<g class=\"node\" id=\"node8\">\n<title>c2</title>\n<ellipse cx=\"214.5\" cy=\"-205.58\" fill=\"none\" rx=\"16.45\" ry=\"16.45\" stroke=\"black\"/>\n<text font-family=\"Times,serif\" font-size=\"10.00\" text-anchor=\"middle\" x=\"214.5\" y=\"-202.58\">c2</text>\n</g>\n<!-- c2&#45;&gt;p2 -->\n<g class=\"edge\" id=\"edge7\">\n<title>c2-&gt;p2</title>\n<path d=\"M230.63,-202.68C279.65,-193.85 427.25,-167.29 487.97,-156.36\" fill=\"none\" stroke=\"black\" stroke-width=\"0.3\"/>\n<polygon fill=\"black\" points=\"497.92,-154.56 488.88,-160.76 493,-155.45 488.08,-156.34 488.08,-156.34 488.08,-156.34 493,-155.45 487.28,-151.91 497.92,-154.56 497.92,-154.56\" stroke=\"black\" stroke-width=\"0.3\"/>\n<text font-family=\"Times,serif\" font-size=\"10.00\" text-anchor=\"middle\" x=\"353.05\" y=\"-181.52\">0,1</text>\n</g>\n<!-- c2&#45;&gt;p3 -->\n<g class=\"edge\" id=\"edge8\">\n<title>c2-&gt;p3</title>\n<path d=\"M230.21,-209.82C278.88,-222.96 427.58,-263.11 488.28,-279.5\" fill=\"none\" stroke=\"black\" stroke-width=\"0.3\"/>\n<polygon fill=\"black\" points=\"498.22,-282.19 487.39,-283.92 493.39,-280.88 488.57,-279.58 488.57,-279.58 488.57,-279.58 493.39,-280.88 489.74,-275.23 498.22,-282.19 498.22,-282.19\" stroke=\"black\" stroke-width=\"0.3\"/>\n<text font-family=\"Times,serif\" font-size=\"10.00\" text-anchor=\"middle\" x=\"352.99\" y=\"-246.66\">0,1</text>\n</g>\n<!-- c2&#45;&gt;p5 -->\n<g class=\"edge\" id=\"edge9\">\n<title>c2-&gt;p5</title>\n<path d=\"M225.18,-218.07C269.73,-270.2 441.08,-470.68 496.85,-535.93\" fill=\"none\" stroke=\"black\" stroke-width=\"0.3\"/>\n<polygon fill=\"black\" points=\"503.64,-543.87 493.72,-539.19 500.39,-540.07 497.14,-536.27 497.14,-536.27 497.14,-536.27 500.39,-540.07 500.56,-533.35 503.64,-543.87 503.64,-543.87\" stroke=\"black\" stroke-width=\"0.3\"/>\n<text font-family=\"Times,serif\" font-size=\"10.00\" text-anchor=\"middle\" x=\"354.76\" y=\"-379\">0,1</text>\n</g>\n<!-- c2&#45;&gt;p6 -->\n<g class=\"edge\" id=\"edge10\">\n<title>c2-&gt;p6</title>\n<path d=\"M223.15,-219.6C265.1,-287.56 447.39,-582.86 500.15,-668.33\" fill=\"none\" stroke=\"black\" stroke-width=\"0.3\"/>\n<polygon fill=\"black\" points=\"505.52,-677.03 496.44,-670.89 502.89,-672.78 500.27,-668.52 500.27,-668.52 500.27,-668.52 502.89,-672.78 504.1,-666.16 505.52,-677.03 505.52,-677.03\" stroke=\"black\" stroke-width=\"0.3\"/>\n<text font-family=\"Times,serif\" font-size=\"10.00\" text-anchor=\"middle\" x=\"355.4\" y=\"-445.96\">0,1</text>\n</g>\n<!-- c3 -->\n<g class=\"node\" id=\"node9\">\n<title>c3</title>\n<ellipse cx=\"214.5\" cy=\"-394.58\" fill=\"none\" rx=\"16.45\" ry=\"16.45\" stroke=\"black\"/>\n<text font-family=\"Times,serif\" font-size=\"10.00\" text-anchor=\"middle\" x=\"214.5\" y=\"-391.58\">c3</text>\n</g>\n<!-- c3&#45;&gt;p1 -->\n<g class=\"edge\" id=\"edge11\">\n<title>c3-&gt;p1</title>\n<path d=\"M224.83,-381.57C268.99,-325.92 442.26,-107.61 497.49,-38.02\" fill=\"none\" stroke=\"black\" stroke-width=\"0.3\"/>\n<polygon fill=\"black\" points=\"503.91,-29.93 501.21,-40.56 500.8,-33.85 497.69,-37.76 497.69,-37.76 497.69,-37.76 500.8,-33.85 494.16,-34.96 503.91,-29.93 503.91,-29.93\" stroke=\"black\" stroke-width=\"0.3\"/>\n<text font-family=\"Times,serif\" font-size=\"10.00\" text-anchor=\"middle\" x=\"354.91\" y=\"-211.79\">0,1</text>\n</g>\n<!-- c3&#45;&gt;p2 -->\n<g class=\"edge\" id=\"edge12\">\n<title>c3-&gt;p2</title>\n<path d=\"M227.39,-384.14C274.21,-346.21 435.56,-215.52 493.54,-168.56\" fill=\"none\" stroke=\"black\" stroke-width=\"0.3\"/>\n<polygon fill=\"black\" points=\"501.32,-162.26 496.38,-172.05 497.43,-165.4 493.55,-168.55 493.55,-168.55 493.55,-168.55 497.43,-165.4 490.72,-165.05 501.32,-162.26 501.32,-162.26\" stroke=\"black\" stroke-width=\"0.3\"/>\n<text font-family=\"Times,serif\" font-size=\"10.00\" text-anchor=\"middle\" x=\"354.22\" y=\"-268.35\">0,1</text>\n</g>\n<!-- c3&#45;&gt;p3 -->\n<g class=\"edge\" id=\"edge13\">\n<title>c3-&gt;p3</title>\n<path d=\"M229.79,-389.08C278.32,-371.6 429.25,-317.27 489.39,-295.62\" fill=\"none\" stroke=\"black\" stroke-width=\"0.3\"/>\n<polygon fill=\"black\" points=\"498.88,-292.2 491,-299.82 494.18,-293.9 489.47,-295.59 489.47,-295.59 489.47,-295.59 494.18,-293.9 487.95,-291.36 498.88,-292.2 498.88,-292.2\" stroke=\"black\" stroke-width=\"0.3\"/>\n<text font-family=\"Times,serif\" font-size=\"10.00\" text-anchor=\"middle\" x=\"353.34\" y=\"-334.35\">0,1</text>\n</g>\n<!-- c3&#45;&gt;p5 -->\n<g class=\"edge\" id=\"edge14\">\n<title>c3-&gt;p5</title>\n<path d=\"M228.97,-402.39C276.98,-428.32 431.31,-511.66 490.8,-543.78\" fill=\"none\" stroke=\"black\" stroke-width=\"0.3\"/>\n<polygon fill=\"black\" points=\"499.82,-548.66 488.89,-547.86 495.42,-546.28 491.03,-543.9 491.03,-543.9 491.03,-543.9 495.42,-546.28 493.16,-539.94 499.82,-548.66 499.82,-548.66\" stroke=\"black\" stroke-width=\"0.3\"/>\n<text font-family=\"Times,serif\" font-size=\"10.00\" text-anchor=\"middle\" x=\"353.64\" y=\"-475.09\">0,1</text>\n</g>\n<!-- c3&#45;&gt;p6 -->\n<g class=\"edge\" id=\"edge15\">\n<title>c3-&gt;p6</title>\n<path d=\"M226.26,-406.22C271.99,-451.5 438.26,-616.1 495.21,-672.48\" fill=\"none\" stroke=\"black\" stroke-width=\"0.3\"/>\n<polygon fill=\"black\" points=\"502.49,-679.7 492.22,-675.86 498.94,-676.18 495.39,-672.66 495.39,-672.66 495.39,-672.66 498.94,-676.18 498.55,-669.46 502.49,-679.7 502.49,-679.7\" stroke=\"black\" stroke-width=\"0.3\"/>\n<text font-family=\"Times,serif\" font-size=\"10.00\" text-anchor=\"middle\" x=\"354.48\" y=\"-541.35\">0,1</text>\n</g>\n<!-- c3&#45;&gt;p7 -->\n<g class=\"edge\" id=\"edge16\">\n<title>c3-&gt;p7</title>\n<path d=\"M223.81,-407.98C266.67,-469.7 445.25,-726.85 499.08,-804.37\" fill=\"none\" stroke=\"black\" stroke-width=\"0.3\"/>\n<polygon fill=\"black\" points=\"505,-812.91 495.6,-807.26 502.15,-808.8 499.3,-804.69 499.3,-804.69 499.3,-804.69 502.15,-808.8 503,-802.13 505,-812.91 505,-812.91\" stroke=\"black\" stroke-width=\"0.3\"/>\n<text font-family=\"Times,serif\" font-size=\"10.00\" text-anchor=\"middle\" x=\"355.19\" y=\"-608.18\">0,1</text>\n</g>\n<!-- c4 -->\n<g class=\"node\" id=\"node10\">\n<title>c4</title>\n<ellipse cx=\"214.5\" cy=\"-583.58\" fill=\"none\" rx=\"16.45\" ry=\"16.45\" stroke=\"black\"/>\n<text font-family=\"Times,serif\" font-size=\"10.00\" text-anchor=\"middle\" x=\"214.5\" y=\"-580.58\">c4</text>\n</g>\n<!-- c4&#45;&gt;p1 -->\n<g class=\"edge\" id=\"edge17\">\n<title>c4-&gt;p1</title>\n<path d=\"M222.22,-568.99C262.78,-492.33 451.39,-135.86 501.98,-40.24\" fill=\"none\" stroke=\"black\" stroke-width=\"0.3\"/>\n<polygon fill=\"black\" points=\"506.7,-31.33 506,-42.27 504.36,-35.75 502.02,-40.17 502.02,-40.17 502.02,-40.17 504.36,-35.75 498.04,-38.06 506.7,-31.33 506.7,-31.33\" stroke=\"black\" stroke-width=\"0.3\"/>\n<text font-family=\"Times,serif\" font-size=\"10.00\" text-anchor=\"middle\" x=\"355.85\" y=\"-306.62\">0,1</text>\n</g>\n<!-- c4&#45;&gt;p3 -->\n<g class=\"edge\" id=\"edge18\">\n<title>c4-&gt;p3</title>\n<path d=\"M226.26,-571.94C271.99,-526.66 438.26,-362.06 495.21,-305.68\" fill=\"none\" stroke=\"black\" stroke-width=\"0.3\"/>\n<polygon fill=\"black\" points=\"502.49,-298.47 498.55,-308.7 498.94,-301.98 495.39,-305.5 495.39,-305.5 495.39,-305.5 498.94,-301.98 492.22,-302.3 502.49,-298.47 502.49,-298.47\" stroke=\"black\" stroke-width=\"0.3\"/>\n<text font-family=\"Times,serif\" font-size=\"10.00\" text-anchor=\"middle\" x=\"354.48\" y=\"-430.81\">0,1</text>\n</g>\n<!-- c4&#45;&gt;p5 -->\n<g class=\"edge\" id=\"edge20\">\n<title>c4-&gt;p5</title>\n<path d=\"M231.06,-582.09C280.42,-577.65 426.91,-564.46 487.65,-559\" fill=\"none\" stroke=\"black\" stroke-width=\"0.3\"/>\n<polygon fill=\"black\" points=\"497.62,-558.1 488.07,-563.48 492.64,-558.55 487.66,-559 487.66,-559 487.66,-559 492.64,-558.55 487.26,-554.51 497.62,-558.1 497.62,-558.1\" stroke=\"black\" stroke-width=\"0.3\"/>\n<text font-family=\"Times,serif\" font-size=\"10.00\" text-anchor=\"middle\" x=\"353.1\" y=\"-572.54\">0,1</text>\n</g>\n<!-- c4&#45;&gt;p6 -->\n<g class=\"edge\" id=\"edge21\">\n<title>c4-&gt;p6</title>\n<path d=\"M229.79,-589.08C278.32,-606.56 429.25,-660.89 489.39,-682.54\" fill=\"none\" stroke=\"black\" stroke-width=\"0.3\"/>\n<polygon fill=\"black\" points=\"498.88,-685.96 487.95,-686.8 494.18,-684.26 489.47,-682.57 489.47,-682.57 489.47,-682.57 494.18,-684.26 491,-678.34 498.88,-685.96 498.88,-685.96\" stroke=\"black\" stroke-width=\"0.3\"/>\n<text font-family=\"Times,serif\" font-size=\"10.00\" text-anchor=\"middle\" x=\"353.34\" y=\"-637.81\">0,1</text>\n</g>\n<!-- p4 -->\n<g class=\"node\" id=\"node11\">\n<title>p4</title>\n<ellipse cx=\"514.5\" cy=\"-421.58\" fill=\"none\" rx=\"16.66\" ry=\"16.66\" stroke=\"black\"/>\n<text font-family=\"Times,serif\" font-size=\"10.00\" text-anchor=\"middle\" x=\"514.5\" y=\"-418.58\">p4</text>\n</g>\n<!-- c4&#45;&gt;p4 -->\n<g class=\"edge\" id=\"edge19\">\n<title>c4-&gt;p4</title>\n<path d=\"M228.97,-575.77C276.98,-549.84 431.31,-466.5 490.8,-434.38\" fill=\"none\" stroke=\"black\" stroke-width=\"0.3\"/>\n<polygon fill=\"black\" points=\"499.82,-429.51 493.16,-438.22 495.42,-431.88 491.03,-434.26 491.03,-434.26 491.03,-434.26 495.42,-431.88 488.89,-430.3 499.82,-429.51 499.82,-429.51\" stroke=\"black\" stroke-width=\"0.3\"/>\n<text font-family=\"Times,serif\" font-size=\"10.00\" text-anchor=\"middle\" x=\"353.64\" y=\"-507.07\">0,1</text>\n</g>\n<!-- p4&#45;&gt;t -->\n<g class=\"edge\" id=\"edge30\">\n<title>p4-&gt;t</title>\n<path d=\"M530.53,-426.99C565.66,-438.85 649.59,-467.17 690.82,-481.09\" fill=\"none\" stroke=\"black\" stroke-width=\"0.3\"/>\n<polygon fill=\"black\" points=\"700.56,-484.38 689.64,-485.44 695.82,-482.78 691.08,-481.18 691.08,-481.18 691.08,-481.18 695.82,-482.78 692.52,-476.91 700.56,-484.38 700.56,-484.38\" stroke=\"black\" stroke-width=\"0.3\"/>\n<text font-family=\"Times,serif\" font-size=\"10.00\" text-anchor=\"middle\" x=\"604.43\" y=\"-456.04\">2,2</text>\n</g>\n<!-- c5 -->\n<g class=\"node\" id=\"node12\">\n<title>c5</title>\n<ellipse cx=\"214.5\" cy=\"-772.58\" fill=\"none\" rx=\"16.45\" ry=\"16.45\" stroke=\"black\"/>\n<text font-family=\"Times,serif\" font-size=\"10.00\" text-anchor=\"middle\" x=\"214.5\" y=\"-769.58\">c5</text>\n</g>\n<!-- c5&#45;&gt;p3 -->\n<g class=\"edge\" id=\"edge22\">\n<title>c5-&gt;p3</title>\n<path d=\"M223.15,-758.56C265.1,-690.6 447.39,-395.3 500.15,-309.83\" fill=\"none\" stroke=\"black\" stroke-width=\"0.3\"/>\n<polygon fill=\"black\" points=\"505.52,-301.13 504.1,-312 502.89,-305.38 500.27,-309.64 500.27,-309.64 500.27,-309.64 502.89,-305.38 496.44,-307.28 505.52,-301.13 505.52,-301.13\" stroke=\"black\" stroke-width=\"0.3\"/>\n<text font-family=\"Times,serif\" font-size=\"10.00\" text-anchor=\"middle\" x=\"355.4\" y=\"-526.2\">0,1</text>\n</g>\n<!-- c5&#45;&gt;p5 -->\n<g class=\"edge\" id=\"edge24\">\n<title>c5-&gt;p5</title>\n<path d=\"M227.78,-763.02C274.91,-729.08 434.49,-614.19 492.87,-572.15\" fill=\"none\" stroke=\"black\" stroke-width=\"0.3\"/>\n<polygon fill=\"black\" points=\"501.04,-566.28 495.55,-575.77 496.98,-569.2 492.92,-572.12 492.92,-572.12 492.92,-572.12 496.98,-569.2 490.29,-568.47 501.04,-566.28 501.04,-566.28\" stroke=\"black\" stroke-width=\"0.3\"/>\n<text font-family=\"Times,serif\" font-size=\"10.00\" text-anchor=\"middle\" x=\"354.08\" y=\"-669.59\">0,1</text>\n</g>\n<!-- c5&#45;&gt;p6 -->\n<g class=\"edge\" id=\"edge25\">\n<title>c5-&gt;p6</title>\n<path d=\"M230.21,-768.34C278.88,-755.2 427.58,-715.05 488.28,-698.66\" fill=\"none\" stroke=\"black\" stroke-width=\"0.3\"/>\n<polygon fill=\"black\" points=\"498.22,-695.98 489.74,-702.93 493.39,-697.28 488.57,-698.58 488.57,-698.58 488.57,-698.58 493.39,-697.28 487.39,-694.24 498.22,-695.98 498.22,-695.98\" stroke=\"black\" stroke-width=\"0.3\"/>\n<text font-family=\"Times,serif\" font-size=\"10.00\" text-anchor=\"middle\" x=\"352.99\" y=\"-735.5\">0,1</text>\n</g>\n<!-- c5&#45;&gt;p7 -->\n<g class=\"edge\" id=\"edge26\">\n<title>c5-&gt;p7</title>\n<path d=\"M230.63,-775.48C279.65,-784.31 427.25,-810.87 487.97,-821.8\" fill=\"none\" stroke=\"black\" stroke-width=\"0.3\"/>\n<polygon fill=\"black\" points=\"497.92,-823.6 487.28,-826.25 493,-822.71 488.08,-821.83 488.08,-821.83 488.08,-821.83 493,-822.71 488.88,-817.4 497.92,-823.6 497.92,-823.6\" stroke=\"black\" stroke-width=\"0.3\"/>\n<text font-family=\"Times,serif\" font-size=\"10.00\" text-anchor=\"middle\" x=\"353.05\" y=\"-800.64\">0,1</text>\n</g>\n<!-- c5&#45;&gt;p4 -->\n<g class=\"edge\" id=\"edge23\">\n<title>c5-&gt;p4</title>\n<path d=\"M225.18,-760.09C269.73,-707.96 441.08,-507.49 496.85,-442.24\" fill=\"none\" stroke=\"black\" stroke-width=\"0.3\"/>\n<polygon fill=\"black\" points=\"503.64,-434.29 500.56,-444.82 500.39,-438.09 497.14,-441.89 497.14,-441.89 497.14,-441.89 500.39,-438.09 493.72,-438.97 503.64,-434.29 503.64,-434.29\" stroke=\"black\" stroke-width=\"0.3\"/>\n<text font-family=\"Times,serif\" font-size=\"10.00\" text-anchor=\"middle\" x=\"354.76\" y=\"-593.16\">0,1</text>\n</g>\n<!-- s -->\n<g class=\"node\" id=\"node14\">\n<title>s</title>\n<ellipse cx=\"14.5\" cy=\"-489.08\" fill=\"none\" rx=\"14.5\" ry=\"14.5\" stroke=\"black\"/>\n<text font-family=\"Times,serif\" font-size=\"10.00\" text-anchor=\"middle\" x=\"14.5\" y=\"-486.08\">s</text>\n</g>\n<!-- s&#45;&gt;c1 -->\n<g class=\"edge\" id=\"edge34\">\n<title>s-&gt;c1</title>\n<path d=\"M20.27,-475.45C48.03,-409.87 167.96,-126.54 204.13,-41.08\" fill=\"none\" stroke=\"black\" stroke-width=\"0.3\"/>\n<polygon fill=\"black\" points=\"208.12,-31.66 208.36,-42.63 206.17,-36.27 204.22,-40.87 204.22,-40.87 204.22,-40.87 206.17,-36.27 200.07,-39.12 208.12,-31.66 208.12,-31.66\" stroke=\"black\" stroke-width=\"0.3\"/>\n<text font-family=\"Times,serif\" font-size=\"10.00\" text-anchor=\"middle\" x=\"105.95\" y=\"-260.26\">2,5</text>\n</g>\n<!-- s&#45;&gt;c2 -->\n<g class=\"edge\" id=\"edge35\">\n<title>s-&gt;c2</title>\n<path d=\"M23.09,-476.9C53.97,-433.14 159.53,-283.5 199.24,-227.22\" fill=\"none\" stroke=\"black\" stroke-width=\"0.3\"/>\n<polygon fill=\"black\" points=\"205.02,-219.02 202.93,-229.78 202.14,-223.1 199.26,-227.19 199.26,-227.19 199.26,-227.19 202.14,-223.1 195.58,-224.59 205.02,-219.02 205.02,-219.02\" stroke=\"black\" stroke-width=\"0.3\"/>\n<text font-family=\"Times,serif\" font-size=\"10.00\" text-anchor=\"middle\" x=\"104.92\" y=\"-354.06\">2,4</text>\n</g>\n<!-- s&#45;&gt;c3 -->\n<g class=\"edge\" id=\"edge36\">\n<title>s-&gt;c3</title>\n<path d=\"M27.62,-482.88C60.76,-467.22 148.19,-425.91 190.66,-405.84\" fill=\"none\" stroke=\"black\" stroke-width=\"0.3\"/>\n<polygon fill=\"black\" points=\"199.72,-401.56 192.6,-409.9 195.2,-403.7 190.68,-405.84 190.68,-405.84 190.68,-405.84 195.2,-403.7 188.76,-401.77 199.72,-401.56 199.72,-401.56\" stroke=\"black\" stroke-width=\"0.3\"/>\n<text font-family=\"Times,serif\" font-size=\"10.00\" text-anchor=\"middle\" x=\"102.89\" y=\"-446.36\">2,5</text>\n</g>\n<!-- s&#45;&gt;c4 -->\n<g class=\"edge\" id=\"edge37\">\n<title>s-&gt;c4</title>\n<path d=\"M27.62,-495.28C60.76,-510.94 148.19,-552.25 190.66,-572.32\" fill=\"none\" stroke=\"black\" stroke-width=\"0.3\"/>\n<polygon fill=\"black\" points=\"199.72,-576.6 188.76,-576.39 195.2,-574.46 190.68,-572.33 190.68,-572.33 190.68,-572.33 195.2,-574.46 192.6,-568.26 199.72,-576.6 199.72,-576.6\" stroke=\"black\" stroke-width=\"0.3\"/>\n<text font-family=\"Times,serif\" font-size=\"10.00\" text-anchor=\"middle\" x=\"102.89\" y=\"-535.8\">2,5</text>\n</g>\n<!-- s&#45;&gt;c5 -->\n<g class=\"edge\" id=\"edge38\">\n<title>s-&gt;c5</title>\n<path d=\"M23.09,-501.26C53.97,-545.02 159.53,-694.66 199.24,-750.94\" fill=\"none\" stroke=\"black\" stroke-width=\"0.3\"/>\n<polygon fill=\"black\" points=\"205.02,-759.14 195.58,-753.57 202.14,-755.06 199.26,-750.97 199.26,-750.97 199.26,-750.97 202.14,-755.06 202.93,-748.38 205.02,-759.14 205.02,-759.14\" stroke=\"black\" stroke-width=\"0.3\"/>\n<text font-family=\"Times,serif\" font-size=\"10.00\" text-anchor=\"middle\" x=\"104.92\" y=\"-628.1\">2,5</text>\n</g>\n</g>\n</svg>",
            "text/plain": [
              "<IPython.core.display.SVG object>"
            ]
          },
          "metadata": {
            "tags": []
          },
          "execution_count": 10
        }
      ]
    },
    {
      "cell_type": "markdown",
      "metadata": {
        "id": "WQhN11HsL6wr"
      },
      "source": [
        "### Finding a feasible assignment\n",
        "\n",
        "**Step 1.** Generate a copy $H$ of the graph $G$\n",
        "\n",
        "**Remember** The <code>copy()</code> method  makes a complete copy of the graph including all of the node or edge attributes."
      ]
    },
    {
      "cell_type": "code",
      "metadata": {
        "id": "3rxUPxtlL6wr"
      },
      "source": [
        "H = G.copy()"
      ],
      "execution_count": null,
      "outputs": []
    },
    {
      "cell_type": "markdown",
      "metadata": {
        "id": "hTl1I38rL6ws"
      },
      "source": [
        "**Step 2.** Capacity scaling: capacity of each arc of $H$ is scaled  to $u_{ij} - l_{ij}$ \n"
      ]
    },
    {
      "cell_type": "code",
      "metadata": {
        "id": "lZ2UsGAzL6ws"
      },
      "source": [
        "for j in H.edges():\n",
        "    H[j[0]][j[1]]['capacity'] = \\\n",
        "    H[j[0]][j[1]]['ub'] -  H[j[0]][j[1]]['lb']"
      ],
      "execution_count": null,
      "outputs": []
    },
    {
      "cell_type": "markdown",
      "metadata": {
        "id": "-r_MDaL0L6ws"
      },
      "source": [
        "**Step 3.** Add an arc between $t$ and $s$ with infinite capacity (i.e., a capacity large enough)\n",
        "\n",
        "**Remark** In this case you can assign to the arc $(t,s)$ a capacity equal to the sum of questions that can be asked to all customers: \n",
        "\n",
        "$$u_{ts} = \\sum_{i \\in C} q_i^{\\max}$$"
      ]
    },
    {
      "cell_type": "code",
      "metadata": {
        "id": "lgaxPttXL6ws"
      },
      "source": [
        "ts_cap = 0\n",
        "\n",
        "for i in customers:\n",
        "    ts_cap += H['s'][i]['ub']\n",
        "\n",
        "H.add_edge ('t','s',capacity=ts_cap)"
      ],
      "execution_count": null,
      "outputs": []
    },
    {
      "cell_type": "markdown",
      "metadata": {
        "id": "qIPXSgylL6ws"
      },
      "source": [
        "**Step 4.** Two extra nodes $s_1$ and $t_1$ are added to $H$"
      ]
    },
    {
      "cell_type": "code",
      "metadata": {
        "id": "-9PTgLBZL6wt"
      },
      "source": [
        "H.add_node('s1')\n",
        "H.add_node('t1')"
      ],
      "execution_count": null,
      "outputs": []
    },
    {
      "cell_type": "markdown",
      "metadata": {
        "id": "dE4piVb1L6wt"
      },
      "source": [
        "**Step 5.** For each node, the flow unbalance is evaluated\n",
        "\n",
        "**Remark** Flow unbalance is stored in a dictionary and is evaluated on graph $G$. By constructions, the sum of flow unbalance is equal to 0"
      ]
    },
    {
      "cell_type": "code",
      "metadata": {
        "id": "Hgo49nURL6wt"
      },
      "source": [
        "unbalance = {}\n",
        "\n",
        "for i in G.nodes():\n",
        "        auxunb = 0\n",
        "        for j in G.in_edges(i):\n",
        "            auxunb += G[j[0]][j[1]]['lb']\n",
        "        \n",
        "        for j in G.out_edges(i):\n",
        "            auxunb -= G[j[0]][j[1]]['lb']\n",
        "        \n",
        "        unbalance[i] = auxunb\n"
      ],
      "execution_count": null,
      "outputs": []
    },
    {
      "cell_type": "markdown",
      "metadata": {
        "id": "0WKw_2j9L6wt"
      },
      "source": [
        "**Step 6.** Two set of arcs are added to $H$:\n",
        "1. Arcs $(s_1, i)$ if flow unbalance of $i>0$\n",
        "2. Arcs $(i, t_1)$ if flow unbalance of $i<0$"
      ]
    },
    {
      "cell_type": "code",
      "metadata": {
        "id": "EZJOM7v_L6wu"
      },
      "source": [
        "for i in unbalance:\n",
        "\n",
        "    if unbalance[i] > 0:\n",
        "        H.add_edge ('s1',i,capacity = unbalance[i])\n",
        "    if unbalance[i] < 0:\n",
        "        H.add_edge (i,'t1',capacity =- unbalance[i])\n"
      ],
      "execution_count": null,
      "outputs": []
    },
    {
      "cell_type": "markdown",
      "metadata": {
        "id": "9HjPZAZaL6wu"
      },
      "source": [
        "### Check the graph $H$\n",
        "Print the outgoing edges from $s1$ and ingoing edges to $t1$ along with their capacity"
      ]
    },
    {
      "cell_type": "code",
      "metadata": {
        "id": "3S9JnZssL6wu",
        "outputId": "a6aa5eda-b706-49c2-fcc9-7f13b653d730"
      },
      "source": [
        "total_capacity = 0\n",
        "for i in H.out_edges('s1'):\n",
        "    print (\"Capacity of arc (%s,%s):\" % (i[0],i[1]), H[i[0]][i[1]]['capacity'])\n",
        "    total_capacity += H[i[0]][i[1]]['capacity']\n",
        "\n",
        "print (\"Cut capacity:\", total_capacity)\n",
        "print ()\n",
        "\n",
        "total_capacity = 0\n",
        "for i in H.in_edges('t1'):\n",
        "        print (\"Capacity of arc (%s,%s):\" % (i[0],i[1]), H[i[0]][i[1]]['capacity'])\n",
        "        total_capacity += H[i[0]][i[1]]['capacity']\n",
        "\n",
        "print (\"Cut capacity:\", total_capacity)\n",
        "    \n",
        "\n"
      ],
      "execution_count": null,
      "outputs": [
        {
          "output_type": "stream",
          "text": [
            "Capacity of arc (s1,c1): 2\n",
            "Capacity of arc (s1,c2): 2\n",
            "Capacity of arc (s1,c3): 2\n",
            "Capacity of arc (s1,c4): 2\n",
            "Capacity of arc (s1,c5): 2\n",
            "Capacity of arc (s1,t): 20\n",
            "Cut capacity: 30\n",
            "\n",
            "Capacity of arc (p1,t1): 3\n",
            "Capacity of arc (p2,t1): 3\n",
            "Capacity of arc (p3,t1): 3\n",
            "Capacity of arc (p4,t1): 2\n",
            "Capacity of arc (p5,t1): 3\n",
            "Capacity of arc (p6,t1): 3\n",
            "Capacity of arc (p7,t1): 3\n",
            "Capacity of arc (s,t1): 10\n",
            "Cut capacity: 30\n"
          ],
          "name": "stdout"
        }
      ]
    },
    {
      "cell_type": "markdown",
      "metadata": {
        "id": "L-ceowTCL6wu"
      },
      "source": [
        "**Step 7.** Evaluate the maximum $s_1-t_1$ flow and check if a valid circulation exists\n"
      ]
    },
    {
      "cell_type": "code",
      "metadata": {
        "id": "EKuCGI8yL6wu",
        "outputId": "a5e2c744-b0ab-48d9-aec2-8fd6fc419045"
      },
      "source": [
        "value, flow = nx.maximum_flow(H,'s1','t1', 'capacity')\n",
        "\n",
        "for i in H.out_edges('s1'):\n",
        "    print (\"Flow and capacity of arc (%s,%s):\"\\\n",
        "           % (i[0],i[1]), H[i[0]][i[1]]['capacity'], flow[i[0]][i[1]])\n",
        "    if H[i[0]][i[1]]['capacity'] != flow[i[0]][i[1]]:\n",
        "        print (\"Valid circulation not found\")\n",
        "        break\n",
        "    \n"
      ],
      "execution_count": null,
      "outputs": [
        {
          "output_type": "stream",
          "text": [
            "Flow and capacity of arc (s1,c1): 2 2\n",
            "Flow and capacity of arc (s1,c2): 2 2\n",
            "Flow and capacity of arc (s1,c3): 2 2\n",
            "Flow and capacity of arc (s1,c4): 2 2\n",
            "Flow and capacity of arc (s1,c5): 2 2\n",
            "Flow and capacity of arc (s1,t): 20 20\n"
          ],
          "name": "stdout"
        }
      ]
    },
    {
      "cell_type": "markdown",
      "metadata": {
        "id": "uxx7r53uL6wu"
      },
      "source": [
        "**Step 8.** Print the result\n",
        "\n",
        "**Remark** Note that the flows we print are the flows of the arcs $(c_i, p_j)$, that have $l_{ij} = 0$. Thus, rescaling is not needed"
      ]
    },
    {
      "cell_type": "code",
      "metadata": {
        "id": "xdJCzo5eL6wv",
        "outputId": "76ef7ca3-3033-4628-a37b-c1a52096c108"
      },
      "source": [
        "for i in customers:\n",
        "    print (\"Customer\", i, \"will asked about product(s):\",)\n",
        "    for j in flow[i]:\n",
        "        if flow[i][j] > 0:\n",
        "            print (j,)\n",
        "    print ()"
      ],
      "execution_count": null,
      "outputs": [
        {
          "output_type": "stream",
          "text": [
            "Customer c1 will asked about product(s):\n",
            "p1\n",
            "p2\n",
            "p3\n",
            "p6\n",
            "p7\n",
            "\n",
            "Customer c2 will asked about product(s):\n",
            "p2\n",
            "p3\n",
            "p5\n",
            "p6\n",
            "\n",
            "Customer c3 will asked about product(s):\n",
            "p1\n",
            "p2\n",
            "p3\n",
            "p5\n",
            "p7\n",
            "\n",
            "Customer c4 will asked about product(s):\n",
            "p1\n",
            "p4\n",
            "p5\n",
            "p6\n",
            "\n",
            "Customer c5 will asked about product(s):\n",
            "p4\n",
            "p7\n",
            "\n"
          ],
          "name": "stdout"
        }
      ]
    },
    {
      "cell_type": "code",
      "metadata": {
        "id": "zFRqGr_mL6wv"
      },
      "source": [
        "for i in customers:\n",
        "    for j in products:\n",
        "        if G.has_edge(i,j):\n",
        "            if flow[i][j] > 0:\n",
        "                G[i][j]['color'] = 'blue'\n",
        "                G[i][j]['penwidth'] = '2.0'\n",
        "            else:\n",
        "                G[i][j]['penwidth'] = '0.5'"
      ],
      "execution_count": null,
      "outputs": []
    },
    {
      "cell_type": "code",
      "metadata": {
        "id": "5vF8MO8jL6wv",
        "outputId": "ac6edd4c-307c-4db3-8370-bc47a5b36fe0"
      },
      "source": [
        "for i in G.edges():\n",
        "    G[i[0]][i[1]]['xlabel'] = ''\n",
        "\n",
        "d = nx.nx_agraph.to_agraph(G)\n",
        "d.remove_node ('s')\n",
        "d.remove_node('t')\n",
        "d.node_attr.update (fontsize='10', width=0.4, shape='circle')\n",
        "d.edge_attr.update(fontsize='10', arrowhead='vee')\n",
        "d.draw ('img.svg', prog='neato', args='-n2')\n",
        "\n",
        "SVG(filename='img.svg')"
      ],
      "execution_count": null,
      "outputs": [
        {
          "output_type": "execute_result",
          "data": {
            "image/svg+xml": "<svg height=\"851pt\" viewBox=\"0.00 0.00 340.80 851.16\" width=\"341pt\" xmlns=\"http://www.w3.org/2000/svg\" xmlns:xlink=\"http://www.w3.org/1999/xlink\">\n<g class=\"graph\" id=\"graph0\" transform=\"scale(1 1) rotate(0) translate(4 847.16)\">\n<polygon fill=\"white\" points=\"-4,4 -4,-847.16 336.8,-847.16 336.8,4 -4,4\" stroke=\"transparent\"/>\n<!-- c1 -->\n<g class=\"node\" id=\"node1\">\n<title>c1</title>\n<ellipse cx=\"16.22\" cy=\"-16.58\" fill=\"none\" rx=\"16.45\" ry=\"16.45\" stroke=\"black\"/>\n<text font-family=\"Times,serif\" font-size=\"10.00\" text-anchor=\"middle\" x=\"16.22\" y=\"-13.58\">c1</text>\n</g>\n<!-- p1 -->\n<g class=\"node\" id=\"node2\">\n<title>p1</title>\n<ellipse cx=\"316.22\" cy=\"-16.58\" fill=\"none\" rx=\"16.66\" ry=\"16.66\" stroke=\"black\"/>\n<text font-family=\"Times,serif\" font-size=\"10.00\" text-anchor=\"middle\" x=\"316.22\" y=\"-13.58\">p1</text>\n</g>\n<!-- c1&#45;&gt;p1 -->\n<g class=\"edge\" id=\"edge1\">\n<title>c1-&gt;p1</title>\n<path d=\"M32.78,-16.58C82.04,-16.58 228.03,-16.58 289,-16.58\" fill=\"none\" stroke=\"blue\" stroke-width=\"2\"/>\n<polygon fill=\"blue\" points=\"299.35,-16.58 289.35,-21.08 294.35,-17.08 289.35,-17.08 289.35,-16.58 289.35,-16.08 294.35,-16.08 289.35,-12.08 299.35,-16.58 299.35,-16.58\" stroke=\"blue\" stroke-width=\"2\"/>\n</g>\n<!-- p2 -->\n<g class=\"node\" id=\"node3\">\n<title>p2</title>\n<ellipse cx=\"316.22\" cy=\"-151.58\" fill=\"none\" rx=\"16.66\" ry=\"16.66\" stroke=\"black\"/>\n<text font-family=\"Times,serif\" font-size=\"10.00\" text-anchor=\"middle\" x=\"316.22\" y=\"-148.58\">p2</text>\n</g>\n<!-- c1&#45;&gt;p2 -->\n<g class=\"edge\" id=\"edge2\">\n<title>c1-&gt;p2</title>\n<path d=\"M31.1,-23.28C79.27,-44.95 231.33,-113.38 291.43,-140.42\" fill=\"none\" stroke=\"blue\" stroke-width=\"2\"/>\n<polygon fill=\"blue\" points=\"300.9,-144.68 289.93,-144.68 296.13,-143.09 291.57,-141.04 291.78,-140.58 291.98,-140.12 296.54,-142.18 293.63,-136.48 300.9,-144.68 300.9,-144.68\" stroke=\"blue\" stroke-width=\"2\"/>\n</g>\n<!-- p3 -->\n<g class=\"node\" id=\"node4\">\n<title>p3</title>\n<ellipse cx=\"316.22\" cy=\"-286.58\" fill=\"none\" rx=\"16.66\" ry=\"16.66\" stroke=\"black\"/>\n<text font-family=\"Times,serif\" font-size=\"10.00\" text-anchor=\"middle\" x=\"316.22\" y=\"-283.58\">p3</text>\n</g>\n<!-- c1&#45;&gt;p3 -->\n<g class=\"edge\" id=\"edge3\">\n<title>c1-&gt;p3</title>\n<path d=\"M28.35,-27.5C74.33,-68.87 238.12,-216.29 295.88,-268.27\" fill=\"none\" stroke=\"blue\" stroke-width=\"2\"/>\n<polygon fill=\"blue\" points=\"303.61,-275.23 293.16,-271.88 299.56,-272.25 295.84,-268.91 296.17,-268.54 296.51,-268.17 300.22,-271.51 299.18,-265.19 303.61,-275.23 303.61,-275.23\" stroke=\"blue\" stroke-width=\"2\"/>\n</g>\n<!-- p5 -->\n<g class=\"node\" id=\"node5\">\n<title>p5</title>\n<ellipse cx=\"316.22\" cy=\"-556.58\" fill=\"none\" rx=\"16.66\" ry=\"16.66\" stroke=\"black\"/>\n<text font-family=\"Times,serif\" font-size=\"10.00\" text-anchor=\"middle\" x=\"316.22\" y=\"-553.58\">p5</text>\n</g>\n<!-- c1&#45;&gt;p5 -->\n<g class=\"edge\" id=\"edge4\">\n<title>c1-&gt;p5</title>\n<path d=\"M24.25,-31.02C65.28,-104.89 251.76,-440.55 303.1,-532.96\" fill=\"none\" stroke=\"black\" stroke-width=\"0.5\"/>\n<polygon fill=\"black\" points=\"308.03,-541.84 299.24,-535.28 305.6,-537.47 303.18,-533.1 303.18,-533.1 303.18,-533.1 305.6,-537.47 307.11,-530.91 308.03,-541.84 308.03,-541.84\" stroke=\"black\" stroke-width=\"0.5\"/>\n</g>\n<!-- p6 -->\n<g class=\"node\" id=\"node6\">\n<title>p6</title>\n<ellipse cx=\"316.22\" cy=\"-691.58\" fill=\"none\" rx=\"16.66\" ry=\"16.66\" stroke=\"black\"/>\n<text font-family=\"Times,serif\" font-size=\"10.00\" text-anchor=\"middle\" x=\"316.22\" y=\"-688.58\">p6</text>\n</g>\n<!-- c1&#45;&gt;p6 -->\n<g class=\"edge\" id=\"edge5\">\n<title>c1-&gt;p6</title>\n<path d=\"M22.91,-31.63C61.6,-118.68 256.75,-557.76 305.28,-666.96\" fill=\"none\" stroke=\"blue\" stroke-width=\"2\"/>\n<polygon fill=\"blue\" points=\"309.39,-676.21 301.22,-668.9 306.9,-671.84 304.87,-667.27 305.33,-667.07 305.78,-666.86 307.82,-671.43 309.44,-665.24 309.39,-676.21 309.39,-676.21\" stroke=\"blue\" stroke-width=\"2\"/>\n</g>\n<!-- p7 -->\n<g class=\"node\" id=\"node7\">\n<title>p7</title>\n<ellipse cx=\"316.22\" cy=\"-826.58\" fill=\"none\" rx=\"16.66\" ry=\"16.66\" stroke=\"black\"/>\n<text font-family=\"Times,serif\" font-size=\"10.00\" text-anchor=\"middle\" x=\"316.22\" y=\"-823.58\">p7</text>\n</g>\n<!-- c1&#45;&gt;p7 -->\n<g class=\"edge\" id=\"edge6\">\n<title>c1-&gt;p7</title>\n<path d=\"M21.95,-32.04C58.66,-131.17 261,-677.47 306.94,-801.52\" fill=\"none\" stroke=\"blue\" stroke-width=\"2\"/>\n<polygon fill=\"blue\" points=\"310.44,-810.96 302.74,-803.15 308.23,-806.45 306.5,-801.76 306.96,-801.58 307.43,-801.41 309.17,-806.1 311.18,-800.02 310.44,-810.96 310.44,-810.96\" stroke=\"blue\" stroke-width=\"2\"/>\n</g>\n<!-- c2 -->\n<g class=\"node\" id=\"node8\">\n<title>c2</title>\n<ellipse cx=\"16.22\" cy=\"-205.58\" fill=\"none\" rx=\"16.45\" ry=\"16.45\" stroke=\"black\"/>\n<text font-family=\"Times,serif\" font-size=\"10.00\" text-anchor=\"middle\" x=\"16.22\" y=\"-202.58\">c2</text>\n</g>\n<!-- c2&#45;&gt;p2 -->\n<g class=\"edge\" id=\"edge7\">\n<title>c2-&gt;p2</title>\n<path d=\"M32.35,-202.68C81.38,-193.85 228.97,-167.29 289.69,-156.36\" fill=\"none\" stroke=\"blue\" stroke-width=\"2\"/>\n<polygon fill=\"blue\" points=\"299.65,-154.56 290.6,-160.76 294.81,-155.94 289.89,-156.83 289.8,-156.34 289.72,-155.84 294.64,-154.96 289.01,-151.91 299.65,-154.56 299.65,-154.56\" stroke=\"blue\" stroke-width=\"2\"/>\n</g>\n<!-- c2&#45;&gt;p3 -->\n<g class=\"edge\" id=\"edge8\">\n<title>c2-&gt;p3</title>\n<path d=\"M31.93,-209.82C80.61,-222.96 229.31,-263.11 290,-279.5\" fill=\"none\" stroke=\"blue\" stroke-width=\"2\"/>\n<polygon fill=\"blue\" points=\"299.94,-282.19 289.12,-283.92 294.99,-281.36 290.16,-280.06 290.29,-279.58 290.42,-279.1 295.25,-280.4 291.46,-275.23 299.94,-282.19 299.94,-282.19\" stroke=\"blue\" stroke-width=\"2\"/>\n</g>\n<!-- c2&#45;&gt;p5 -->\n<g class=\"edge\" id=\"edge9\">\n<title>c2-&gt;p5</title>\n<path d=\"M26.9,-218.07C71.45,-270.2 242.8,-470.68 298.57,-535.93\" fill=\"none\" stroke=\"blue\" stroke-width=\"2\"/>\n<polygon fill=\"blue\" points=\"305.36,-543.87 295.44,-539.19 301.73,-540.4 298.48,-536.59 298.86,-536.27 299.24,-535.94 302.49,-539.75 302.28,-533.35 305.36,-543.87 305.36,-543.87\" stroke=\"blue\" stroke-width=\"2\"/>\n</g>\n<!-- c2&#45;&gt;p6 -->\n<g class=\"edge\" id=\"edge10\">\n<title>c2-&gt;p6</title>\n<path d=\"M24.88,-219.6C66.82,-287.56 249.11,-582.86 301.87,-668.33\" fill=\"none\" stroke=\"blue\" stroke-width=\"2\"/>\n<polygon fill=\"blue\" points=\"307.24,-677.03 298.16,-670.89 304.19,-673.04 301.56,-668.78 301.99,-668.52 302.41,-668.26 305.04,-672.51 305.82,-666.16 307.24,-677.03 307.24,-677.03\" stroke=\"blue\" stroke-width=\"2\"/>\n</g>\n<!-- c3 -->\n<g class=\"node\" id=\"node9\">\n<title>c3</title>\n<ellipse cx=\"16.22\" cy=\"-394.58\" fill=\"none\" rx=\"16.45\" ry=\"16.45\" stroke=\"black\"/>\n<text font-family=\"Times,serif\" font-size=\"10.00\" text-anchor=\"middle\" x=\"16.22\" y=\"-391.58\">c3</text>\n</g>\n<!-- c3&#45;&gt;p1 -->\n<g class=\"edge\" id=\"edge11\">\n<title>c3-&gt;p1</title>\n<path d=\"M26.55,-381.57C70.72,-325.92 243.98,-107.61 299.21,-38.02\" fill=\"none\" stroke=\"blue\" stroke-width=\"2\"/>\n<polygon fill=\"blue\" points=\"305.63,-29.93 302.94,-40.56 302.91,-34.16 299.8,-38.07 299.41,-37.76 299.02,-37.45 302.13,-33.53 295.89,-34.96 305.63,-29.93 305.63,-29.93\" stroke=\"blue\" stroke-width=\"2\"/>\n</g>\n<!-- c3&#45;&gt;p2 -->\n<g class=\"edge\" id=\"edge12\">\n<title>c3-&gt;p2</title>\n<path d=\"M29.11,-384.14C75.93,-346.21 237.28,-215.52 295.26,-168.56\" fill=\"none\" stroke=\"blue\" stroke-width=\"2\"/>\n<polygon fill=\"blue\" points=\"303.04,-162.26 298.1,-172.05 299.47,-165.79 295.59,-168.94 295.27,-168.55 294.96,-168.16 298.84,-165.02 292.44,-165.05 303.04,-162.26 303.04,-162.26\" stroke=\"blue\" stroke-width=\"2\"/>\n</g>\n<!-- c3&#45;&gt;p3 -->\n<g class=\"edge\" id=\"edge13\">\n<title>c3-&gt;p3</title>\n<path d=\"M31.51,-389.08C80.05,-371.6 230.97,-317.27 291.11,-295.62\" fill=\"none\" stroke=\"blue\" stroke-width=\"2\"/>\n<polygon fill=\"blue\" points=\"300.6,-292.2 292.72,-299.82 296.07,-294.37 291.36,-296.06 291.2,-295.59 291.03,-295.12 295.73,-293.43 289.67,-291.36 300.6,-292.2 300.6,-292.2\" stroke=\"blue\" stroke-width=\"2\"/>\n</g>\n<!-- c3&#45;&gt;p5 -->\n<g class=\"edge\" id=\"edge14\">\n<title>c3-&gt;p5</title>\n<path d=\"M30.69,-402.39C78.7,-428.32 233.03,-511.66 292.53,-543.78\" fill=\"none\" stroke=\"blue\" stroke-width=\"2\"/>\n<polygon fill=\"blue\" points=\"301.55,-548.66 290.61,-547.86 296.91,-546.72 292.51,-544.34 292.75,-543.9 292.98,-543.46 297.38,-545.84 294.89,-539.94 301.55,-548.66 301.55,-548.66\" stroke=\"blue\" stroke-width=\"2\"/>\n</g>\n<!-- c3&#45;&gt;p6 -->\n<g class=\"edge\" id=\"edge15\">\n<title>c3-&gt;p6</title>\n<path d=\"M27.98,-406.22C73.71,-451.5 239.98,-616.1 296.93,-672.48\" fill=\"none\" stroke=\"black\" stroke-width=\"0.5\"/>\n<polygon fill=\"black\" points=\"304.22,-679.7 293.94,-675.86 300.66,-676.18 297.11,-672.66 297.11,-672.66 297.11,-672.66 300.66,-676.18 300.28,-669.46 304.22,-679.7 304.22,-679.7\" stroke=\"black\" stroke-width=\"0.5\"/>\n</g>\n<!-- c3&#45;&gt;p7 -->\n<g class=\"edge\" id=\"edge16\">\n<title>c3-&gt;p7</title>\n<path d=\"M25.53,-407.98C68.39,-469.7 246.97,-726.85 300.8,-804.37\" fill=\"none\" stroke=\"blue\" stroke-width=\"2\"/>\n<polygon fill=\"blue\" points=\"306.73,-812.91 297.33,-807.26 303.46,-809.08 300.61,-804.98 301.02,-804.69 301.43,-804.41 304.28,-808.51 304.72,-802.13 306.73,-812.91 306.73,-812.91\" stroke=\"blue\" stroke-width=\"2\"/>\n</g>\n<!-- c4 -->\n<g class=\"node\" id=\"node10\">\n<title>c4</title>\n<ellipse cx=\"16.22\" cy=\"-583.58\" fill=\"none\" rx=\"16.45\" ry=\"16.45\" stroke=\"black\"/>\n<text font-family=\"Times,serif\" font-size=\"10.00\" text-anchor=\"middle\" x=\"16.22\" y=\"-580.58\">c4</text>\n</g>\n<!-- c4&#45;&gt;p1 -->\n<g class=\"edge\" id=\"edge17\">\n<title>c4-&gt;p1</title>\n<path d=\"M23.94,-568.99C64.51,-492.33 253.11,-135.86 303.71,-40.24\" fill=\"none\" stroke=\"blue\" stroke-width=\"2\"/>\n<polygon fill=\"blue\" points=\"308.42,-31.33 307.72,-42.27 306.52,-35.98 304.18,-40.4 303.74,-40.17 303.3,-39.94 305.64,-35.52 299.76,-38.06 308.42,-31.33 308.42,-31.33\" stroke=\"blue\" stroke-width=\"2\"/>\n</g>\n<!-- c4&#45;&gt;p3 -->\n<g class=\"edge\" id=\"edge18\">\n<title>c4-&gt;p3</title>\n<path d=\"M27.98,-571.94C73.71,-526.66 239.98,-362.06 296.93,-305.68\" fill=\"none\" stroke=\"black\" stroke-width=\"0.5\"/>\n<polygon fill=\"black\" points=\"304.22,-298.47 300.28,-308.7 300.66,-301.98 297.11,-305.5 297.11,-305.5 297.11,-305.5 300.66,-301.98 293.94,-302.3 304.22,-298.47 304.22,-298.47\" stroke=\"black\" stroke-width=\"0.5\"/>\n</g>\n<!-- c4&#45;&gt;p5 -->\n<g class=\"edge\" id=\"edge20\">\n<title>c4-&gt;p5</title>\n<path d=\"M32.78,-582.09C82.14,-577.65 228.64,-564.46 289.37,-559\" fill=\"none\" stroke=\"blue\" stroke-width=\"2\"/>\n<polygon fill=\"blue\" points=\"299.35,-558.1 289.79,-563.48 294.41,-559.05 289.43,-559.49 289.39,-559 289.34,-558.5 294.32,-558.05 288.98,-554.51 299.35,-558.1 299.35,-558.1\" stroke=\"blue\" stroke-width=\"2\"/>\n</g>\n<!-- c4&#45;&gt;p6 -->\n<g class=\"edge\" id=\"edge21\">\n<title>c4-&gt;p6</title>\n<path d=\"M31.51,-589.08C80.05,-606.56 230.97,-660.89 291.11,-682.54\" fill=\"none\" stroke=\"blue\" stroke-width=\"2\"/>\n<polygon fill=\"blue\" points=\"300.6,-685.96 289.67,-686.8 295.73,-684.73 291.03,-683.04 291.2,-682.57 291.36,-682.1 296.07,-683.79 292.72,-678.34 300.6,-685.96 300.6,-685.96\" stroke=\"blue\" stroke-width=\"2\"/>\n</g>\n<!-- p4 -->\n<g class=\"node\" id=\"node11\">\n<title>p4</title>\n<ellipse cx=\"316.22\" cy=\"-421.58\" fill=\"none\" rx=\"16.66\" ry=\"16.66\" stroke=\"black\"/>\n<text font-family=\"Times,serif\" font-size=\"10.00\" text-anchor=\"middle\" x=\"316.22\" y=\"-418.58\">p4</text>\n</g>\n<!-- c4&#45;&gt;p4 -->\n<g class=\"edge\" id=\"edge19\">\n<title>c4-&gt;p4</title>\n<path d=\"M30.69,-575.77C78.7,-549.84 233.03,-466.5 292.53,-434.38\" fill=\"none\" stroke=\"blue\" stroke-width=\"2\"/>\n<polygon fill=\"blue\" points=\"301.55,-429.51 294.89,-438.22 297.38,-432.32 292.98,-434.7 292.75,-434.26 292.51,-433.82 296.91,-431.44 290.61,-430.3 301.55,-429.51 301.55,-429.51\" stroke=\"blue\" stroke-width=\"2\"/>\n</g>\n<!-- c5 -->\n<g class=\"node\" id=\"node12\">\n<title>c5</title>\n<ellipse cx=\"16.22\" cy=\"-772.58\" fill=\"none\" rx=\"16.45\" ry=\"16.45\" stroke=\"black\"/>\n<text font-family=\"Times,serif\" font-size=\"10.00\" text-anchor=\"middle\" x=\"16.22\" y=\"-769.58\">c5</text>\n</g>\n<!-- c5&#45;&gt;p3 -->\n<g class=\"edge\" id=\"edge22\">\n<title>c5-&gt;p3</title>\n<path d=\"M24.88,-758.56C66.82,-690.6 249.11,-395.3 301.87,-309.83\" fill=\"none\" stroke=\"black\" stroke-width=\"0.5\"/>\n<polygon fill=\"black\" points=\"307.24,-301.13 305.82,-312 304.62,-305.38 301.99,-309.64 301.99,-309.64 301.99,-309.64 304.62,-305.38 298.16,-307.28 307.24,-301.13 307.24,-301.13\" stroke=\"black\" stroke-width=\"0.5\"/>\n</g>\n<!-- c5&#45;&gt;p5 -->\n<g class=\"edge\" id=\"edge24\">\n<title>c5-&gt;p5</title>\n<path d=\"M29.5,-763.02C76.63,-729.08 236.21,-614.19 294.6,-572.15\" fill=\"none\" stroke=\"black\" stroke-width=\"0.5\"/>\n<polygon fill=\"black\" points=\"302.76,-566.28 297.27,-575.77 298.7,-569.2 294.64,-572.12 294.64,-572.12 294.64,-572.12 298.7,-569.2 292.01,-568.47 302.76,-566.28 302.76,-566.28\" stroke=\"black\" stroke-width=\"0.5\"/>\n</g>\n<!-- c5&#45;&gt;p6 -->\n<g class=\"edge\" id=\"edge25\">\n<title>c5-&gt;p6</title>\n<path d=\"M31.93,-768.34C80.61,-755.2 229.31,-715.05 290,-698.66\" fill=\"none\" stroke=\"black\" stroke-width=\"0.5\"/>\n<polygon fill=\"black\" points=\"299.94,-695.98 291.46,-702.93 295.12,-697.28 290.29,-698.58 290.29,-698.58 290.29,-698.58 295.12,-697.28 289.12,-694.24 299.94,-695.98 299.94,-695.98\" stroke=\"black\" stroke-width=\"0.5\"/>\n</g>\n<!-- c5&#45;&gt;p7 -->\n<g class=\"edge\" id=\"edge26\">\n<title>c5-&gt;p7</title>\n<path d=\"M32.35,-775.48C81.38,-784.31 228.97,-810.87 289.69,-821.8\" fill=\"none\" stroke=\"blue\" stroke-width=\"2\"/>\n<polygon fill=\"blue\" points=\"299.65,-823.6 289.01,-826.25 294.64,-823.2 289.72,-822.32 289.8,-821.83 289.89,-821.33 294.81,-822.22 290.6,-817.4 299.65,-823.6 299.65,-823.6\" stroke=\"blue\" stroke-width=\"2\"/>\n</g>\n<!-- c5&#45;&gt;p4 -->\n<g class=\"edge\" id=\"edge23\">\n<title>c5-&gt;p4</title>\n<path d=\"M26.9,-760.09C71.45,-707.96 242.8,-507.49 298.57,-442.24\" fill=\"none\" stroke=\"blue\" stroke-width=\"2\"/>\n<polygon fill=\"blue\" points=\"305.36,-434.29 302.28,-444.82 302.49,-438.42 299.24,-442.22 298.86,-441.89 298.48,-441.57 301.73,-437.77 295.44,-438.97 305.36,-434.29 305.36,-434.29\" stroke=\"blue\" stroke-width=\"2\"/>\n</g>\n</g>\n</svg>",
            "text/plain": [
              "<IPython.core.display.SVG object>"
            ]
          },
          "metadata": {
            "tags": []
          },
          "execution_count": 21
        }
      ]
    },
    {
      "cell_type": "code",
      "metadata": {
        "collapsed": true,
        "id": "TeXmpTQZL6wv"
      },
      "source": [
        ""
      ],
      "execution_count": null,
      "outputs": []
    },
    {
      "cell_type": "code",
      "metadata": {
        "collapsed": true,
        "id": "OddwQal3L6ww"
      },
      "source": [
        ""
      ],
      "execution_count": null,
      "outputs": []
    }
  ]
}